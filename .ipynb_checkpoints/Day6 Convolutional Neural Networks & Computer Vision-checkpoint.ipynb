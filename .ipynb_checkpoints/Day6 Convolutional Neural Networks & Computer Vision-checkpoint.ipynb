{
 "cells": [
  {
   "cell_type": "markdown",
   "id": "53c6e7a7",
   "metadata": {},
   "source": [
    "# Introduction to Convolutional Neural Netwroks and Computer Vision with TensorFlow"
   ]
  },
  {
   "cell_type": "markdown",
   "id": "aa74d7cd",
   "metadata": {},
   "source": [
    "computer vision is the practice of writing algoriths which can discover patterns in visual data. Such as the camera of a self-driving car recognizing the car in front"
   ]
  },
  {
   "cell_type": "markdown",
   "id": "95035b73",
   "metadata": {},
   "source": [
    "## Get the data\n",
    "\n",
    "\n",
    "The images will be Food101 dataset\n",
    "(101 different classes of food)\n",
    "\n",
    "However  we've modified it to only use two classes (pizza & steak)\n",
    "\n",
    "\n",
    "using the image data modification notebook:\n",
    "\n",
    "\n",
    ">**Note:** Starting with a smaller dataset so we can experiment quickly and figure what works(or better yet what doesn't work)\n",
    "before scaling up\n",
    "\n"
   ]
  },
  {
   "cell_type": "code",
   "execution_count": 3,
   "id": "b2dd3011",
   "metadata": {},
   "outputs": [],
   "source": [
    "import zipfile"
   ]
  },
  {
   "cell_type": "code",
   "execution_count": 7,
   "id": "ab129580",
   "metadata": {},
   "outputs": [],
   "source": [
    "zip_ref = zipfile.ZipFile(\"./pizza_steak.zip\")\n",
    "zip_ref.extractall()\n",
    "zip_ref.close()"
   ]
  },
  {
   "cell_type": "markdown",
   "id": "d8ff4e26",
   "metadata": {},
   "source": [
    "## Inspect the data (become one with it)\n",
    "\n",
    "\n",
    "A very crucial step at the beginning of any machine learning project is becoming one with the data.\n",
    "\n",
    "For a computer vision project,, this usually means visualizing many samples of our data\n"
   ]
  },
  {
   "cell_type": "code",
   "execution_count": 13,
   "id": "a5761658",
   "metadata": {},
   "outputs": [
    {
     "name": "stderr",
     "output_type": "stream",
     "text": [
      "'ls'은(는) 내부 또는 외부 명령, 실행할 수 있는 프로그램, 또는\n",
      "배치 파일이 아닙니다.\n"
     ]
    }
   ],
   "source": [
    "!ls pizza_steak"
   ]
  },
  {
   "cell_type": "code",
   "execution_count": 14,
   "id": "1f75f848",
   "metadata": {},
   "outputs": [
    {
     "name": "stderr",
     "output_type": "stream",
     "text": [
      "'ls'은(는) 내부 또는 외부 명령, 실행할 수 있는 프로그램, 또는\n",
      "배치 파일이 아닙니다.\n"
     ]
    }
   ],
   "source": [
    "!ls pizz_steak/train"
   ]
  },
  {
   "cell_type": "code",
   "execution_count": 11,
   "id": "5a1aa7c5",
   "metadata": {},
   "outputs": [
    {
     "ename": "SyntaxError",
     "evalue": "EOL while scanning string literal (Temp/ipykernel_9556/3560634095.py, line 6)",
     "output_type": "error",
     "traceback": [
      "\u001b[1;36m  File \u001b[1;32m\"C:\\Users\\Younghun\\AppData\\Local\\Temp/ipykernel_9556/3560634095.py\"\u001b[1;36m, line \u001b[1;32m6\u001b[0m\n\u001b[1;33m    print(f\"There are {len(dirnames)} directories and {len(filenames)} images in '{dirpath}'.\"\")\u001b[0m\n\u001b[1;37m                                                                                                ^\u001b[0m\n\u001b[1;31mSyntaxError\u001b[0m\u001b[1;31m:\u001b[0m EOL while scanning string literal\n"
     ]
    }
   ],
   "source": [
    "import os\n",
    "\n",
    "# walk through pizza_steak directory and list number of files\n",
    "\n",
    "for dirpath, dirnames, filenames in os.walk(\"pizza_steak\"):\n",
    "    print(f\"There are {len(dirnames)} directories and {len(filenames)} images in '{dirpath}'.\"\")"
   ]
  },
  {
   "cell_type": "code",
   "execution_count": null,
   "id": "6235c5d1",
   "metadata": {},
   "outputs": [],
   "source": []
  }
 ],
 "metadata": {
  "kernelspec": {
   "display_name": "Python 3 (ipykernel)",
   "language": "python",
   "name": "python3"
  },
  "language_info": {
   "codemirror_mode": {
    "name": "ipython",
    "version": 3
   },
   "file_extension": ".py",
   "mimetype": "text/x-python",
   "name": "python",
   "nbconvert_exporter": "python",
   "pygments_lexer": "ipython3",
   "version": "3.9.7"
  }
 },
 "nbformat": 4,
 "nbformat_minor": 5
}
