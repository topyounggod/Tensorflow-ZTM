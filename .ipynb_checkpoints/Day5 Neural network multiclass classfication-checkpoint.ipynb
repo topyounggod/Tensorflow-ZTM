{
 "cells": [
  {
   "cell_type": "markdown",
   "id": "2d672cb0",
   "metadata": {},
   "source": [
    "# Introduction to neural network classification with TensorFlow\n",
    "\n",
    "\n",
    "Learn how to write neural networks for classification\n",
    "\n",
    "\n",
    "\n",
    "A classification is where try to classify something as one thing or another.\n",
    "\n",
    "Types of classificaiton problems:\n",
    " - Binary classification\n",
    " - Multiclass classification\n",
    " - Multilabel classification\n",
    " "
   ]
  },
  {
   "cell_type": "markdown",
   "id": "e4de208c",
   "metadata": {},
   "source": [
    "# Creating data to view and fit\n",
    "\n"
   ]
  },
  {
   "cell_type": "code",
   "execution_count": 1,
   "id": "a8c591ef",
   "metadata": {},
   "outputs": [],
   "source": [
    "from sklearn.datasets import make_circles\n",
    "\n",
    "# Make 1000 examples\n",
    "\n",
    "n_samples = 1000\n",
    "\n",
    "# Create circles\n",
    "\n",
    "X, y = make_circles(n_samples, \n",
    "                   noise = 0.03,\n",
    "                   random_state = 42)"
   ]
  },
  {
   "cell_type": "code",
   "execution_count": 2,
   "id": "c9515e39",
   "metadata": {},
   "outputs": [
    {
     "data": {
      "text/plain": [
       "array([[ 0.75424625,  0.23148074],\n",
       "       [-0.75615888,  0.15325888],\n",
       "       [-0.81539193,  0.17328203],\n",
       "       ...,\n",
       "       [-0.13690036, -0.81001183],\n",
       "       [ 0.67036156, -0.76750154],\n",
       "       [ 0.28105665,  0.96382443]])"
      ]
     },
     "execution_count": 2,
     "metadata": {},
     "output_type": "execute_result"
    }
   ],
   "source": [
    "# Check out features\n",
    "\n",
    "X"
   ]
  },
  {
   "cell_type": "code",
   "execution_count": 3,
   "id": "81f89521",
   "metadata": {},
   "outputs": [
    {
     "data": {
      "text/plain": [
       "array([1, 1, 1, 1, 0, 1, 1, 1, 1, 0], dtype=int64)"
      ]
     },
     "execution_count": 3,
     "metadata": {},
     "output_type": "execute_result"
    }
   ],
   "source": [
    "# Check the labels\n",
    "\n",
    "y[:10]"
   ]
  },
  {
   "cell_type": "markdown",
   "id": "3a19384a",
   "metadata": {},
   "source": [
    "\n",
    "# Visualize!!!!!!!!!"
   ]
  },
  {
   "cell_type": "markdown",
   "id": "04267ef1",
   "metadata": {},
   "source": [
    "# data looks hard to understand visualize"
   ]
  },
  {
   "cell_type": "code",
   "execution_count": 4,
   "id": "f9339d4a",
   "metadata": {
    "scrolled": true
   },
   "outputs": [
    {
     "data": {
      "text/html": [
       "<div>\n",
       "<style scoped>\n",
       "    .dataframe tbody tr th:only-of-type {\n",
       "        vertical-align: middle;\n",
       "    }\n",
       "\n",
       "    .dataframe tbody tr th {\n",
       "        vertical-align: top;\n",
       "    }\n",
       "\n",
       "    .dataframe thead th {\n",
       "        text-align: right;\n",
       "    }\n",
       "</style>\n",
       "<table border=\"1\" class=\"dataframe\">\n",
       "  <thead>\n",
       "    <tr style=\"text-align: right;\">\n",
       "      <th></th>\n",
       "      <th>X0</th>\n",
       "      <th>X1</th>\n",
       "      <th>label</th>\n",
       "    </tr>\n",
       "  </thead>\n",
       "  <tbody>\n",
       "    <tr>\n",
       "      <th>0</th>\n",
       "      <td>0.754246</td>\n",
       "      <td>0.231481</td>\n",
       "      <td>1</td>\n",
       "    </tr>\n",
       "    <tr>\n",
       "      <th>1</th>\n",
       "      <td>-0.756159</td>\n",
       "      <td>0.153259</td>\n",
       "      <td>1</td>\n",
       "    </tr>\n",
       "    <tr>\n",
       "      <th>2</th>\n",
       "      <td>-0.815392</td>\n",
       "      <td>0.173282</td>\n",
       "      <td>1</td>\n",
       "    </tr>\n",
       "    <tr>\n",
       "      <th>3</th>\n",
       "      <td>-0.393731</td>\n",
       "      <td>0.692883</td>\n",
       "      <td>1</td>\n",
       "    </tr>\n",
       "    <tr>\n",
       "      <th>4</th>\n",
       "      <td>0.442208</td>\n",
       "      <td>-0.896723</td>\n",
       "      <td>0</td>\n",
       "    </tr>\n",
       "    <tr>\n",
       "      <th>...</th>\n",
       "      <td>...</td>\n",
       "      <td>...</td>\n",
       "      <td>...</td>\n",
       "    </tr>\n",
       "    <tr>\n",
       "      <th>995</th>\n",
       "      <td>0.244054</td>\n",
       "      <td>0.944125</td>\n",
       "      <td>0</td>\n",
       "    </tr>\n",
       "    <tr>\n",
       "      <th>996</th>\n",
       "      <td>-0.978655</td>\n",
       "      <td>-0.272373</td>\n",
       "      <td>0</td>\n",
       "    </tr>\n",
       "    <tr>\n",
       "      <th>997</th>\n",
       "      <td>-0.136900</td>\n",
       "      <td>-0.810012</td>\n",
       "      <td>1</td>\n",
       "    </tr>\n",
       "    <tr>\n",
       "      <th>998</th>\n",
       "      <td>0.670362</td>\n",
       "      <td>-0.767502</td>\n",
       "      <td>0</td>\n",
       "    </tr>\n",
       "    <tr>\n",
       "      <th>999</th>\n",
       "      <td>0.281057</td>\n",
       "      <td>0.963824</td>\n",
       "      <td>0</td>\n",
       "    </tr>\n",
       "  </tbody>\n",
       "</table>\n",
       "<p>1000 rows × 3 columns</p>\n",
       "</div>"
      ],
      "text/plain": [
       "           X0        X1  label\n",
       "0    0.754246  0.231481      1\n",
       "1   -0.756159  0.153259      1\n",
       "2   -0.815392  0.173282      1\n",
       "3   -0.393731  0.692883      1\n",
       "4    0.442208 -0.896723      0\n",
       "..        ...       ...    ...\n",
       "995  0.244054  0.944125      0\n",
       "996 -0.978655 -0.272373      0\n",
       "997 -0.136900 -0.810012      1\n",
       "998  0.670362 -0.767502      0\n",
       "999  0.281057  0.963824      0\n",
       "\n",
       "[1000 rows x 3 columns]"
      ]
     },
     "execution_count": 4,
     "metadata": {},
     "output_type": "execute_result"
    }
   ],
   "source": [
    "\n",
    "import pandas as pd\n",
    "\n",
    "circles = pd.DataFrame({\"X0\":X[:,0], \"X1\":X[:,1],\"label\":y})\n",
    "circles"
   ]
  },
  {
   "cell_type": "code",
   "execution_count": 5,
   "id": "02bf8ed6",
   "metadata": {},
   "outputs": [
    {
     "data": {
      "text/plain": [
       "1    500\n",
       "0    500\n",
       "Name: label, dtype: int64"
      ]
     },
     "execution_count": 5,
     "metadata": {},
     "output_type": "execute_result"
    }
   ],
   "source": [
    "circles[\"label\"].value_counts()"
   ]
  },
  {
   "cell_type": "code",
   "execution_count": 6,
   "id": "fe6b5342",
   "metadata": {},
   "outputs": [
    {
     "data": {
      "text/plain": [
       "<matplotlib.collections.PathCollection at 0x1c8cb81d970>"
      ]
     },
     "execution_count": 6,
     "metadata": {},
     "output_type": "execute_result"
    },
    {
     "data": {
      "image/png": "[encoded data removed]",
      "text/plain": [
       "<Figure size 432x288 with 1 Axes>"
      ]
     },
     "metadata": {
      "needs_background": "light"
     },
     "output_type": "display_data"
    }
   ],
   "source": [
    "import matplotlib.pyplot as plt\n",
    "plt.scatter(X[:,0],X[:,1],c = y,cmap = plt.cm.RdYlBu)"
   ]
  },
  {
   "cell_type": "markdown",
   "id": "1a7b1a07",
   "metadata": {},
   "source": [
    "# Input and Output shapes\n",
    "\n"
   ]
  },
  {
   "cell_type": "code",
   "execution_count": 7,
   "id": "3911da2f",
   "metadata": {},
   "outputs": [
    {
     "data": {
      "text/plain": [
       "((1000, 2), (1000,))"
      ]
     },
     "execution_count": 7,
     "metadata": {},
     "output_type": "execute_result"
    }
   ],
   "source": [
    "# Check the shapes of our festures and labels\n",
    "\n",
    "X.shape, y.shape\n"
   ]
  },
  {
   "cell_type": "code",
   "execution_count": 8,
   "id": "ee5a2546",
   "metadata": {},
   "outputs": [
    {
     "data": {
      "text/plain": [
       "(1000, 1000)"
      ]
     },
     "execution_count": 8,
     "metadata": {},
     "output_type": "execute_result"
    }
   ],
   "source": [
    "# How many samples we're working\n",
    "\n",
    "len(X), len(y)"
   ]
  },
  {
   "cell_type": "code",
   "execution_count": 9,
   "id": "5ab86e37",
   "metadata": {},
   "outputs": [
    {
     "data": {
      "text/plain": [
       "(array([-0.47964637,  0.67643477]), 1)"
      ]
     },
     "execution_count": 9,
     "metadata": {},
     "output_type": "execute_result"
    }
   ],
   "source": [
    "# View the first example of features and labels\n",
    "\n",
    "\n",
    "X[5],y[5]"
   ]
  },
  {
   "cell_type": "markdown",
   "id": "e4ef79b8",
   "metadata": {},
   "source": [
    "# Steps in Modeling\n",
    "\n",
    "\n",
    "The steps in modeling with TensorFlow are typically:\n",
    "\n",
    "1. Create or import a model\n",
    "2. Compile the model\n",
    "3. Fit the model\n",
    "4. Evaluate the model\n",
    "5. Tweak \n",
    "6. Evaluate\n",
    "..."
   ]
  },
  {
   "cell_type": "code",
   "execution_count": 10,
   "id": "f39ecc89",
   "metadata": {},
   "outputs": [],
   "source": [
    "import tensorflow as tf"
   ]
  },
  {
   "cell_type": "code",
   "execution_count": 11,
   "id": "720a746e",
   "metadata": {},
   "outputs": [
    {
     "name": "stdout",
     "output_type": "stream",
     "text": [
      "Epoch 1/5\n",
      "32/32 [==============================] - 0s 807us/step - loss: 2.8544 - accuracy: 0.4600\n",
      "Epoch 2/5\n",
      "32/32 [==============================] - 0s 710us/step - loss: 0.7131 - accuracy: 0.5430\n",
      "Epoch 3/5\n",
      "32/32 [==============================] - 0s 807us/step - loss: 0.6973 - accuracy: 0.5090\n",
      "Epoch 4/5\n",
      "32/32 [==============================] - 0s 710us/step - loss: 0.6950 - accuracy: 0.5010\n",
      "Epoch 5/5\n",
      "32/32 [==============================] - 0s 903us/step - loss: 0.6942 - accuracy: 0.4820\n"
     ]
    },
    {
     "data": {
      "text/plain": [
       "<keras.callbacks.History at 0x1c8d2a378e0>"
      ]
     },
     "execution_count": 11,
     "metadata": {},
     "output_type": "execute_result"
    }
   ],
   "source": [
    "\n",
    "# Set the random seed\n",
    "\n",
    "tf.random.set_seed(42)\n",
    "\n",
    "# 1. Create the model using the Seqeuntial API\n",
    "\n",
    "model_1 = tf.keras.Sequential([\n",
    "    tf.keras.layers.Dense(1)\n",
    "])\n",
    "\n",
    "# 2. Compile the model\n",
    "\n",
    "model_1.compile(loss = tf.keras.losses.BinaryCrossentropy(),\n",
    "                optimizer = tf.keras.optimizers.SGD(),\n",
    "               metrics = [\"accuracy\"])\n",
    "\n",
    "# 3. Fit the model\n",
    "\n",
    "model_1.fit(X,y,epochs=5)"
   ]
  },
  {
   "cell_type": "code",
   "execution_count": 12,
   "id": "b569b1d1",
   "metadata": {},
   "outputs": [
    {
     "name": "stdout",
     "output_type": "stream",
     "text": [
      "32/32 [==============================] - 0s 516us/step - loss: 0.6938 - accuracy: 0.5000\n"
     ]
    },
    {
     "data": {
      "text/plain": [
       "[0.6937651038169861, 0.5]"
      ]
     },
     "execution_count": 12,
     "metadata": {},
     "output_type": "execute_result"
    }
   ],
   "source": [
    "# Try to improve our model by training longer\n",
    "\n",
    "model_1.fit(X,y,epochs=2,verbose = 0)\n",
    "model_1.evaluate(X,y)"
   ]
  },
  {
   "cell_type": "markdown",
   "id": "fc8e37df",
   "metadata": {},
   "source": [
    "Since on a binary classification problem the model is getting around ~50%  accuracy\n",
    "\n",
    "Step things up a notch and add an extra layer"
   ]
  },
  {
   "cell_type": "code",
   "execution_count": 13,
   "id": "0fa44435",
   "metadata": {},
   "outputs": [
    {
     "data": {
      "text/plain": [
       "<keras.callbacks.History at 0x1c8dafafd60>"
      ]
     },
     "execution_count": 13,
     "metadata": {},
     "output_type": "execute_result"
    }
   ],
   "source": [
    "# Set the random seed\n",
    "tf.random.set_seed(42)\n",
    "\n",
    "model_2 = tf.keras.Sequential([\n",
    "    tf.keras.layers.Dense(1),\n",
    "    tf.keras.layers.Dense(1)\n",
    "])\n",
    "\n",
    "\n",
    "model_2.compile(loss=tf.keras.losses.BinaryCrossentropy(),\n",
    "               optimizer =tf.keras.optimizers.SGD(),\n",
    "               metrics = ['accuracy'])\n",
    "\n",
    "model_2.fit(X,y,epochs=100,verbose=0)"
   ]
  },
  {
   "cell_type": "code",
   "execution_count": 14,
   "id": "4491c97d",
   "metadata": {},
   "outputs": [
    {
     "name": "stdout",
     "output_type": "stream",
     "text": [
      "32/32 [==============================] - 0s 549us/step - loss: 0.6933 - accuracy: 0.5000\n"
     ]
    },
    {
     "data": {
      "text/plain": [
       "[0.6933314204216003, 0.5]"
      ]
     },
     "execution_count": 14,
     "metadata": {},
     "output_type": "execute_result"
    }
   ],
   "source": [
    "model_2.evaluate(X,y)"
   ]
  },
  {
   "cell_type": "markdown",
   "id": "bd12f9cb",
   "metadata": {},
   "source": [
    "# Improving model\n",
    "\n",
    "1. Create model - add more layers, increase the number of hidden units within a layer.\n",
    "2. Compile a model - Change the opitmizer, Change the learning rate\n",
    "3. Fit the model - Fit the model with more epochs (longer learning time)"
   ]
  },
  {
   "cell_type": "code",
   "execution_count": 15,
   "id": "c966edfe",
   "metadata": {},
   "outputs": [
    {
     "data": {
      "text/plain": [
       "<keras.callbacks.History at 0x1c8db0593d0>"
      ]
     },
     "execution_count": 15,
     "metadata": {},
     "output_type": "execute_result"
    }
   ],
   "source": [
    "tf.random.set_seed(42)\n",
    "\n",
    "\n",
    "model_3  = tf.keras.Sequential([\n",
    "    tf.keras.layers.Dense(100),\n",
    "    tf.keras.layers.Dense(10),\n",
    "    tf.keras.layers.Dense(1)\n",
    "])\n",
    "\n",
    "model_3.compile(loss = tf.keras.losses.BinaryCrossentropy(),\n",
    "               optimizer = tf.keras.optimizers.Adam(),\n",
    "               metrics = ['accuracy'])\n",
    "\n",
    "model_3.fit(X,y,epochs= 100,verbose= 0)"
   ]
  },
  {
   "cell_type": "code",
   "execution_count": 16,
   "id": "b0f2cd6d",
   "metadata": {},
   "outputs": [
    {
     "name": "stdout",
     "output_type": "stream",
     "text": [
      "32/32 [==============================] - 0s 549us/step - loss: 0.6980 - accuracy: 0.5080\n"
     ]
    },
    {
     "data": {
      "text/plain": [
       "[0.6980255842208862, 0.5080000162124634]"
      ]
     },
     "execution_count": 16,
     "metadata": {},
     "output_type": "execute_result"
    }
   ],
   "source": [
    "model_3.evaluate(X,y)"
   ]
  },
  {
   "cell_type": "markdown",
   "id": "bceee7d2",
   "metadata": {},
   "source": [
    "### To visualize model's prediction, create a function \n",
    "\n",
    "`plot_decision_boundary()`\n",
    "\n",
    "* Take in a trained model, features(X) and labels (y)\n",
    "* Create a meshgrid of the different X values\n",
    "* Make predictions across the meshgrid\n",
    "* Plot the predictions as well as a line between zones (where ach unique class falls)\n"
   ]
  },
  {
   "cell_type": "code",
   "execution_count": 17,
   "id": "53da04b8",
   "metadata": {},
   "outputs": [],
   "source": [
    "import numpy as np"
   ]
  },
  {
   "cell_type": "code",
   "execution_count": 18,
   "id": "03a5a2f2",
   "metadata": {},
   "outputs": [],
   "source": [
    "\n",
    "def plot_decision_boundary(model,X,y):\n",
    "    \"\"\"\n",
    "    Plots the decision boudnary created by a model predicting on X.\n",
    "    Inspired by two resources\n",
    "    \"\"\"\n",
    "    \n",
    "    # Define the axis boundaries of the plot and create a mesh grid\n",
    "    \n",
    "    x_min, x_max = X[:,0].min() - 0.1, X[:,0].max() + 0.1\n",
    "    y_min, y_max = X[:,1].min() - 0.1, X[:,1].max() + 0.1\n",
    "    xx, yy = np.meshgrid(np.linspace(x_min,x_max,100),\n",
    "                        np.linspace(y_min,y_max,100))\n",
    "    \n",
    "    \n",
    "    # Create X value (going to make predictions on these)\n",
    "    \n",
    "    x_in = np.c_[xx.ravel(),yy.ravel()]# stack 2D arrays together\n",
    "    \n",
    "    # Make Predictions\n",
    "    y_pred = model.predict(x_in)\n",
    "    \n",
    "    \n",
    "    # Check for multi-class\n",
    "    \n",
    "    if len(y_pred[0]) > 1 :\n",
    "        print(\"Doing multiclass classification\")\n",
    "        # We have to reshape the prediction to get them ready for plotting\n",
    "        y_pred = np.argmax(y_pred,axis=1).reshape(xx.shape)\n",
    "        \n",
    "    else:\n",
    "        print(\"Doing binary classification\")\n",
    "        y_pred = np.round(y_pred).reshape(xx.shape)\n",
    "        \n",
    "    # Plot the decision boundary\n",
    "    plt.contourf(xx,yy,y_pred,cmap = plt.cm.RdYlBu,alpha = 0.7)\n",
    "    plt.scatter(X[:,0],X[:,1],c =y , s =40, cmap = plt.cm.RdYlBu)\n",
    "    plt.xlim(xx.min(),xx.max())\n",
    "    plt.ylim(yy.min(),yy.max())\n",
    "    "
   ]
  },
  {
   "cell_type": "code",
   "execution_count": 19,
   "id": "63d25b6a",
   "metadata": {
    "scrolled": true
   },
   "outputs": [
    {
     "name": "stdout",
     "output_type": "stream",
     "text": [
      "Doing binary classification\n"
     ]
    },
    {
     "data": {
      "image/png": "[encoded data removed]",
      "text/plain": [
       "<Figure size 432x288 with 1 Axes>"
      ]
     },
     "metadata": {
      "needs_background": "light"
     },
     "output_type": "display_data"
    }
   ],
   "source": [
    "# Check out the predictions boundary\n",
    "plot_decision_boundary(model = model_3,X=X,y=y)"
   ]
  },
  {
   "cell_type": "markdown",
   "id": "6518448e",
   "metadata": {},
   "source": [
    "# We compiled model for a binary classification problem.\n",
    "\n",
    "But we're now working on a regression problem, Change it!!"
   ]
  },
  {
   "cell_type": "code",
   "execution_count": 20,
   "id": "3bbe32db",
   "metadata": {},
   "outputs": [
    {
     "ename": "NameError",
     "evalue": "name 'X_reg_train' is not defined",
     "output_type": "error",
     "traceback": [
      "\u001b[1;31m---------------------------------------------------------------------------\u001b[0m",
      "\u001b[1;31mNameError\u001b[0m                                 Traceback (most recent call last)",
      "\u001b[1;32m~\\AppData\\Local\\Temp/ipykernel_7832/407867351.py\u001b[0m in \u001b[0;36m<module>\u001b[1;34m\u001b[0m\n\u001b[0;32m     12\u001b[0m                metrics = ['mae'])\n\u001b[0;32m     13\u001b[0m \u001b[1;33m\u001b[0m\u001b[0m\n\u001b[1;32m---> 14\u001b[1;33m \u001b[0mmodel_3\u001b[0m\u001b[1;33m.\u001b[0m\u001b[0mfit\u001b[0m\u001b[1;33m(\u001b[0m\u001b[0mX_reg_train\u001b[0m\u001b[1;33m,\u001b[0m\u001b[0my_reg_rain\u001b[0m\u001b[1;33m,\u001b[0m\u001b[0mepochs\u001b[0m\u001b[1;33m=\u001b[0m \u001b[1;36m100\u001b[0m\u001b[1;33m,\u001b[0m\u001b[0mverbose\u001b[0m\u001b[1;33m=\u001b[0m \u001b[1;36m0\u001b[0m\u001b[1;33m)\u001b[0m\u001b[1;33m\u001b[0m\u001b[1;33m\u001b[0m\u001b[0m\n\u001b[0m",
      "\u001b[1;31mNameError\u001b[0m: name 'X_reg_train' is not defined"
     ]
    }
   ],
   "source": [
    "tf.random.set_seed(42)\n",
    "\n",
    "\n",
    "model_3  = tf.keras.Sequential([\n",
    "    tf.keras.layers.Dense(100,input_shape=(None,11)),\n",
    "    tf.keras.layers.Dense(10),\n",
    "    tf.keras.layers.Dense(1)\n",
    "])\n",
    "\n",
    "model_3.compile(loss = tf.keras.losses.mae,\n",
    "               optimizer = tf.keras.optimizers.Adam(),\n",
    "               metrics = ['mae'])\n",
    "\n",
    "model_3.fit(X_reg_train,y_reg_rain,epochs= 100,verbose= 0)"
   ]
  },
  {
   "cell_type": "code",
   "execution_count": 21,
   "id": "c89b41aa",
   "metadata": {},
   "outputs": [],
   "source": [
    "    x_min, x_max = X[:,0].min() - 0.1, X[:,0].max() + 0.1\n",
    "    y_min, y_max = X[:,1].min() - 0.1, X[:,1].max() + 0.1"
   ]
  },
  {
   "cell_type": "code",
   "execution_count": 22,
   "id": "5a56ff1e",
   "metadata": {},
   "outputs": [
    {
     "data": {
      "text/plain": [
       "(array([[-1.15950246, -1.13633868, -1.1131749 , ...,  1.08738419,\n",
       "          1.11054797,  1.13371175],\n",
       "        [-1.15950246, -1.13633868, -1.1131749 , ...,  1.08738419,\n",
       "          1.11054797,  1.13371175],\n",
       "        [-1.15950246, -1.13633868, -1.1131749 , ...,  1.08738419,\n",
       "          1.11054797,  1.13371175],\n",
       "        ...,\n",
       "        [-1.15950246, -1.13633868, -1.1131749 , ...,  1.08738419,\n",
       "          1.11054797,  1.13371175],\n",
       "        [-1.15950246, -1.13633868, -1.1131749 , ...,  1.08738419,\n",
       "          1.11054797,  1.13371175],\n",
       "        [-1.15950246, -1.13633868, -1.1131749 , ...,  1.08738419,\n",
       "          1.11054797,  1.13371175]]),\n",
       " array([[-1.16776832, -1.16776832, -1.16776832, ..., -1.16776832,\n",
       "         -1.16776832, -1.16776832],\n",
       "        [-1.14449789, -1.14449789, -1.14449789, ..., -1.14449789,\n",
       "         -1.14449789, -1.14449789],\n",
       "        [-1.12122747, -1.12122747, -1.12122747, ..., -1.12122747,\n",
       "         -1.12122747, -1.12122747],\n",
       "        ...,\n",
       "        [ 1.08946283,  1.08946283,  1.08946283, ...,  1.08946283,\n",
       "          1.08946283,  1.08946283],\n",
       "        [ 1.11273325,  1.11273325,  1.11273325, ...,  1.11273325,\n",
       "          1.11273325,  1.11273325],\n",
       "        [ 1.13600368,  1.13600368,  1.13600368, ...,  1.13600368,\n",
       "          1.13600368,  1.13600368]]))"
      ]
     },
     "execution_count": 22,
     "metadata": {},
     "output_type": "execute_result"
    }
   ],
   "source": [
    "    xx, yy = np.meshgrid(np.linspace(x_min,x_max,100),\n",
    "                        np.linspace(y_min,y_max,100))\n",
    "    xx,yy"
   ]
  },
  {
   "cell_type": "markdown",
   "id": "953e3231",
   "metadata": {},
   "source": [
    "# Check whether the model can be used for a regression problem"
   ]
  },
  {
   "cell_type": "code",
   "execution_count": 23,
   "id": "96f6112b",
   "metadata": {
    "scrolled": true
   },
   "outputs": [],
   "source": [
    "tf.random.set_seed(42)\n",
    "\n",
    "# Create some regrssion data\n",
    "\n",
    "X_regression = tf.range(0,1000,5)\n",
    "\n",
    "y_regression = tf.range(100,1100,5)\n",
    "\n",
    "X_regression,y_regression\n",
    "\n",
    "# Split our data into training and test sets\n",
    "\n",
    "X_reg_train  = X_regression[:150]\n",
    "X_reg_test = X_regression[150:]\n",
    "y_reg_train  = y_regression[:150]\n",
    "y_reg_test = y_regression[150:]\n",
    "\n",
    "\n",
    "\n"
   ]
  },
  {
   "cell_type": "code",
   "execution_count": 24,
   "id": "3178a22c",
   "metadata": {},
   "outputs": [
    {
     "name": "stdout",
     "output_type": "stream",
     "text": [
      "Epoch 1/100\n",
      "5/5 [==============================] - 0s 1ms/step - loss: 248.2155 - mae: 248.2155\n",
      "Epoch 2/100\n",
      "5/5 [==============================] - 0s 750us/step - loss: 138.9005 - mae: 138.9005\n",
      "Epoch 3/100\n",
      "5/5 [==============================] - 0s 750us/step - loss: 53.1039 - mae: 53.1039\n",
      "Epoch 4/100\n",
      "5/5 [==============================] - 0s 750us/step - loss: 73.5170 - mae: 73.5170\n",
      "Epoch 5/100\n",
      "5/5 [==============================] - 0s 1ms/step - loss: 71.2358 - mae: 71.2358\n",
      "Epoch 6/100\n",
      "5/5 [==============================] - 0s 750us/step - loss: 47.0040 - mae: 47.0040\n",
      "Epoch 7/100\n",
      "5/5 [==============================] - 0s 750us/step - loss: 45.9386 - mae: 45.9386\n",
      "Epoch 8/100\n",
      "5/5 [==============================] - 0s 750us/step - loss: 42.3638 - mae: 42.3638\n",
      "Epoch 9/100\n",
      "5/5 [==============================] - 0s 1ms/step - loss: 43.6831 - mae: 43.6831\n",
      "Epoch 10/100\n",
      "5/5 [==============================] - 0s 750us/step - loss: 42.6198 - mae: 42.6198\n",
      "Epoch 11/100\n",
      "5/5 [==============================] - 0s 1ms/step - loss: 42.4797 - mae: 42.4797\n",
      "Epoch 12/100\n",
      "5/5 [==============================] - 0s 750us/step - loss: 41.5537 - mae: 41.5537\n",
      "Epoch 13/100\n",
      "5/5 [==============================] - 0s 750us/step - loss: 42.0972 - mae: 42.0972\n",
      "Epoch 14/100\n",
      "5/5 [==============================] - 0s 1ms/step - loss: 41.8647 - mae: 41.8647\n",
      "Epoch 15/100\n",
      "5/5 [==============================] - 0s 750us/step - loss: 41.5342 - mae: 41.5342\n",
      "Epoch 16/100\n",
      "5/5 [==============================] - 0s 500us/step - loss: 41.4028 - mae: 41.4028\n",
      "Epoch 17/100\n",
      "5/5 [==============================] - 0s 1ms/step - loss: 41.6887 - mae: 41.6887\n",
      "Epoch 18/100\n",
      "5/5 [==============================] - 0s 750us/step - loss: 41.6137 - mae: 41.6137\n",
      "Epoch 19/100\n",
      "5/5 [==============================] - 0s 750us/step - loss: 41.2796 - mae: 41.2796\n",
      "Epoch 20/100\n",
      "5/5 [==============================] - 0s 1ms/step - loss: 41.1947 - mae: 41.1947\n",
      "Epoch 21/100\n",
      "5/5 [==============================] - 0s 1ms/step - loss: 41.2130 - mae: 41.2130\n",
      "Epoch 22/100\n",
      "5/5 [==============================] - 0s 750us/step - loss: 41.0893 - mae: 41.0893\n",
      "Epoch 23/100\n",
      "5/5 [==============================] - 0s 750us/step - loss: 41.2019 - mae: 41.2019\n",
      "Epoch 24/100\n",
      "5/5 [==============================] - 0s 750us/step - loss: 40.9989 - mae: 40.9989\n",
      "Epoch 25/100\n",
      "5/5 [==============================] - 0s 959us/step - loss: 41.0131 - mae: 41.0131\n",
      "Epoch 26/100\n",
      "5/5 [==============================] - 0s 750us/step - loss: 41.0654 - mae: 41.0654\n",
      "Epoch 27/100\n",
      "5/5 [==============================] - 0s 750us/step - loss: 40.8764 - mae: 40.8764\n",
      "Epoch 28/100\n",
      "5/5 [==============================] - 0s 1ms/step - loss: 41.0545 - mae: 41.0545\n",
      "Epoch 29/100\n",
      "5/5 [==============================] - 0s 1ms/step - loss: 41.0480 - mae: 41.0480\n",
      "Epoch 30/100\n",
      "5/5 [==============================] - 0s 750us/step - loss: 40.8807 - mae: 40.8807\n",
      "Epoch 31/100\n",
      "5/5 [==============================] - 0s 1ms/step - loss: 41.2695 - mae: 41.2695\n",
      "Epoch 32/100\n",
      "5/5 [==============================] - 0s 750us/step - loss: 40.9949 - mae: 40.9949\n",
      "Epoch 33/100\n",
      "5/5 [==============================] - 0s 750us/step - loss: 41.0760 - mae: 41.0760\n",
      "Epoch 34/100\n",
      "5/5 [==============================] - 0s 1ms/step - loss: 41.2471 - mae: 41.2471\n",
      "Epoch 35/100\n",
      "5/5 [==============================] - 0s 903us/step - loss: 40.6102 - mae: 40.6102\n",
      "Epoch 36/100\n",
      "5/5 [==============================] - 0s 750us/step - loss: 41.1093 - mae: 41.1093\n",
      "Epoch 37/100\n",
      "5/5 [==============================] - 0s 1ms/step - loss: 40.8191 - mae: 40.8191\n",
      "Epoch 38/100\n",
      "5/5 [==============================] - 0s 987us/step - loss: 40.2485 - mae: 40.2485\n",
      "Epoch 39/100\n",
      "5/5 [==============================] - 0s 750us/step - loss: 41.0625 - mae: 41.0625\n",
      "Epoch 40/100\n",
      "5/5 [==============================] - 0s 750us/step - loss: 40.5311 - mae: 40.5311\n",
      "Epoch 41/100\n",
      "5/5 [==============================] - 0s 1ms/step - loss: 40.5497 - mae: 40.5497\n",
      "Epoch 42/100\n",
      "5/5 [==============================] - 0s 750us/step - loss: 40.4322 - mae: 40.4322\n",
      "Epoch 43/100\n",
      "5/5 [==============================] - 0s 750us/step - loss: 40.5367 - mae: 40.5367\n",
      "Epoch 44/100\n",
      "5/5 [==============================] - 0s 1ms/step - loss: 40.2487 - mae: 40.2487\n",
      "Epoch 45/100\n",
      "5/5 [==============================] - 0s 750us/step - loss: 40.5152 - mae: 40.5152\n",
      "Epoch 46/100\n",
      "5/5 [==============================] - 0s 750us/step - loss: 40.3702 - mae: 40.3702\n",
      "Epoch 47/100\n",
      "5/5 [==============================] - 0s 1000us/step - loss: 40.4769 - mae: 40.4769\n",
      "Epoch 48/100\n",
      "5/5 [==============================] - 0s 847us/step - loss: 40.1532 - mae: 40.1532\n",
      "Epoch 49/100\n",
      "5/5 [==============================] - 0s 1ms/step - loss: 40.7291 - mae: 40.7291\n",
      "Epoch 50/100\n",
      "5/5 [==============================] - 0s 1ms/step - loss: 40.1536 - mae: 40.1536\n",
      "Epoch 51/100\n",
      "5/5 [==============================] - 0s 750us/step - loss: 40.2711 - mae: 40.2711\n",
      "Epoch 52/100\n",
      "5/5 [==============================] - 0s 1ms/step - loss: 40.6572 - mae: 40.6572\n",
      "Epoch 53/100\n",
      "5/5 [==============================] - 0s 750us/step - loss: 40.6573 - mae: 40.6573\n",
      "Epoch 54/100\n",
      "5/5 [==============================] - 0s 1ms/step - loss: 40.6894 - mae: 40.6894\n",
      "Epoch 55/100\n",
      "5/5 [==============================] - 0s 1ms/step - loss: 41.2771 - mae: 41.2771\n",
      "Epoch 56/100\n",
      "5/5 [==============================] - 0s 1ms/step - loss: 41.8519 - mae: 41.8519\n",
      "Epoch 57/100\n",
      "5/5 [==============================] - 0s 1ms/step - loss: 40.7903 - mae: 40.7903\n",
      "Epoch 58/100\n",
      "5/5 [==============================] - 0s 1ms/step - loss: 40.3128 - mae: 40.3128\n",
      "Epoch 59/100\n",
      "5/5 [==============================] - 0s 1ms/step - loss: 40.7198 - mae: 40.7198\n",
      "Epoch 60/100\n",
      "5/5 [==============================] - 0s 1ms/step - loss: 40.1478 - mae: 40.1478\n",
      "Epoch 61/100\n",
      "5/5 [==============================] - 0s 1ms/step - loss: 40.1116 - mae: 40.1116\n",
      "Epoch 62/100\n",
      "5/5 [==============================] - 0s 1ms/step - loss: 40.7800 - mae: 40.7800\n",
      "Epoch 63/100\n",
      "5/5 [==============================] - 0s 1ms/step - loss: 39.7242 - mae: 39.7242\n",
      "Epoch 64/100\n",
      "5/5 [==============================] - 0s 1ms/step - loss: 40.1465 - mae: 40.1465\n",
      "Epoch 65/100\n",
      "5/5 [==============================] - 0s 1ms/step - loss: 39.6887 - mae: 39.6887\n",
      "Epoch 66/100\n",
      "5/5 [==============================] - 0s 1ms/step - loss: 40.2840 - mae: 40.2840\n",
      "Epoch 67/100\n",
      "5/5 [==============================] - 0s 1ms/step - loss: 39.5541 - mae: 39.5541\n",
      "Epoch 68/100\n",
      "5/5 [==============================] - 0s 1ms/step - loss: 39.7378 - mae: 39.7378\n",
      "Epoch 69/100\n",
      "5/5 [==============================] - 0s 1ms/step - loss: 39.9784 - mae: 39.9784\n",
      "Epoch 70/100\n",
      "5/5 [==============================] - 0s 750us/step - loss: 40.0016 - mae: 40.0016\n",
      "Epoch 71/100\n",
      "5/5 [==============================] - 0s 1ms/step - loss: 40.0913 - mae: 40.0913\n",
      "Epoch 72/100\n",
      "5/5 [==============================] - 0s 1ms/step - loss: 39.2547 - mae: 39.2547\n",
      "Epoch 73/100\n",
      "5/5 [==============================] - 0s 1ms/step - loss: 39.6828 - mae: 39.6828\n",
      "Epoch 74/100\n",
      "5/5 [==============================] - 0s 750us/step - loss: 39.5373 - mae: 39.5373\n",
      "Epoch 75/100\n",
      "5/5 [==============================] - 0s 1ms/step - loss: 39.6265 - mae: 39.6265\n",
      "Epoch 76/100\n",
      "5/5 [==============================] - 0s 1ms/step - loss: 39.3110 - mae: 39.3110\n",
      "Epoch 77/100\n",
      "5/5 [==============================] - 0s 1ms/step - loss: 39.1599 - mae: 39.1599\n",
      "Epoch 78/100\n",
      "5/5 [==============================] - 0s 1ms/step - loss: 39.7550 - mae: 39.7550\n",
      "Epoch 79/100\n",
      "5/5 [==============================] - 0s 1ms/step - loss: 39.2542 - mae: 39.2542\n",
      "Epoch 80/100\n",
      "5/5 [==============================] - 0s 1ms/step - loss: 38.6968 - mae: 38.6968\n",
      "Epoch 81/100\n",
      "5/5 [==============================] - 0s 1ms/step - loss: 39.5442 - mae: 39.5442\n",
      "Epoch 82/100\n",
      "5/5 [==============================] - 0s 1ms/step - loss: 39.8686 - mae: 39.8686\n",
      "Epoch 83/100\n",
      "5/5 [==============================] - 0s 750us/step - loss: 39.1693 - mae: 39.1693\n",
      "Epoch 84/100\n",
      "5/5 [==============================] - 0s 750us/step - loss: 38.8840 - mae: 38.8840\n",
      "Epoch 85/100\n",
      "5/5 [==============================] - 0s 750us/step - loss: 38.8887 - mae: 38.8887\n",
      "Epoch 86/100\n",
      "5/5 [==============================] - 0s 1ms/step - loss: 38.6614 - mae: 38.6614\n",
      "Epoch 87/100\n",
      "5/5 [==============================] - 0s 750us/step - loss: 38.8399 - mae: 38.8399\n",
      "Epoch 88/100\n",
      "5/5 [==============================] - 0s 1ms/step - loss: 38.6604 - mae: 38.6604\n",
      "Epoch 89/100\n",
      "5/5 [==============================] - 0s 1ms/step - loss: 38.7559 - mae: 38.7559\n",
      "Epoch 90/100\n",
      "5/5 [==============================] - 0s 750us/step - loss: 38.5442 - mae: 38.5442\n",
      "Epoch 91/100\n",
      "5/5 [==============================] - 0s 1ms/step - loss: 38.3247 - mae: 38.3247\n",
      "Epoch 92/100\n",
      "5/5 [==============================] - 0s 750us/step - loss: 38.8431 - mae: 38.8431\n",
      "Epoch 93/100\n",
      "5/5 [==============================] - 0s 750us/step - loss: 39.1137 - mae: 39.1137\n",
      "Epoch 94/100\n",
      "5/5 [==============================] - 0s 750us/step - loss: 38.1463 - mae: 38.1463\n",
      "Epoch 95/100\n",
      "5/5 [==============================] - 0s 1000us/step - loss: 38.3998 - mae: 38.3998\n",
      "Epoch 96/100\n",
      "5/5 [==============================] - 0s 750us/step - loss: 38.5599 - mae: 38.5599\n",
      "Epoch 97/100\n",
      "5/5 [==============================] - 0s 1ms/step - loss: 38.1038 - mae: 38.1038\n",
      "Epoch 98/100\n",
      "5/5 [==============================] - 0s 1ms/step - loss: 39.0081 - mae: 39.0081\n",
      "Epoch 99/100\n",
      "5/5 [==============================] - 0s 750us/step - loss: 38.3056 - mae: 38.3056\n",
      "Epoch 100/100\n",
      "5/5 [==============================] - 0s 750us/step - loss: 37.9976 - mae: 37.9976\n"
     ]
    },
    {
     "data": {
      "text/plain": [
       "<keras.callbacks.History at 0x1c8dc23b8b0>"
      ]
     },
     "execution_count": 24,
     "metadata": {},
     "output_type": "execute_result"
    }
   ],
   "source": [
    "# Setup random seed\n",
    "tf.random.set_seed(42)\n",
    "\n",
    "# Recreate the model\n",
    "model_3 = tf.keras.Sequential([\n",
    "  tf.keras.layers.Dense(100),\n",
    "  tf.keras.layers.Dense(10),\n",
    "  tf.keras.layers.Dense(1)\n",
    "])\n",
    "\n",
    "# Change the loss and metrics of our compiled model\n",
    "model_3.compile(loss=tf.keras.losses.mae, # change the loss function to be regression-specific\n",
    "                optimizer=tf.keras.optimizers.Adam(),\n",
    "                metrics=['mae']) # change the metric to be regression-specific\n",
    "\n",
    "# Fit the recompiled model\n",
    "model_3.fit(tf.expand_dims(X_reg_train, axis=-1), \n",
    "            y_reg_train, \n",
    "            epochs=100)"
   ]
  },
  {
   "cell_type": "code",
   "execution_count": 25,
   "id": "287a9ec3",
   "metadata": {},
   "outputs": [
    {
     "data": {
      "text/plain": [
       "<matplotlib.legend.Legend at 0x1c8dc58abe0>"
      ]
     },
     "execution_count": 25,
     "metadata": {},
     "output_type": "execute_result"
    },
    {
     "data": {
      "image/png": "[encoded data removed]",
      "text/plain": [
       "<Figure size 720x504 with 1 Axes>"
      ]
     },
     "metadata": {
      "needs_background": "light"
     },
     "output_type": "display_data"
    }
   ],
   "source": [
    "# Make predictions with our trained model\n",
    "\n",
    "y_reg_preds = model_3.predict(y_reg_test)\n",
    "\n",
    "# Plot the model's predictions against the regression data\n",
    "\n",
    "plt.figure(figsize=(10,7))\n",
    "plt.scatter(X_reg_train,y_reg_train, c = \"b\", label = \"Trained data\")\n",
    "plt.scatter(X_reg_test,y_reg_test,c= 'g',label =\"Test data\")\n",
    "plt.scatter(X_reg_test,y_reg_preds,c=\"r\",label = \"Predictions\")\n",
    "plt.legend()"
   ]
  },
  {
   "cell_type": "markdown",
   "id": "e1f05a3e",
   "metadata": {},
   "source": [
    "# The missing piece: None-linearity"
   ]
  },
  {
   "cell_type": "code",
   "execution_count": 26,
   "id": "59195ed8",
   "metadata": {},
   "outputs": [
    {
     "name": "stderr",
     "output_type": "stream",
     "text": [
      "C:\\Users\\Younghun\\anaconda3\\lib\\site-packages\\keras\\optimizer_v2\\adam.py:105: UserWarning: The `lr` argument is deprecated, use `learning_rate` instead.\n",
      "  super(Adam, self).__init__(name, **kwargs)\n"
     ]
    },
    {
     "name": "stdout",
     "output_type": "stream",
     "text": [
      "Epoch 1/100\n",
      "32/32 [==============================] - 0s 613us/step - loss: 4.2979 - accuracy: 0.4670\n",
      "Epoch 2/100\n",
      "32/32 [==============================] - 0s 613us/step - loss: 4.2317 - accuracy: 0.4400\n",
      "Epoch 3/100\n",
      "32/32 [==============================] - 0s 581us/step - loss: 4.1610 - accuracy: 0.4310\n",
      "Epoch 4/100\n",
      "32/32 [==============================] - 0s 581us/step - loss: 4.1183 - accuracy: 0.4270\n",
      "Epoch 5/100\n",
      "32/32 [==============================] - 0s 710us/step - loss: 4.0784 - accuracy: 0.4240\n",
      "Epoch 6/100\n",
      "32/32 [==============================] - 0s 645us/step - loss: 3.9642 - accuracy: 0.4180\n",
      "Epoch 7/100\n",
      "32/32 [==============================] - 0s 581us/step - loss: 3.8626 - accuracy: 0.4100\n",
      "Epoch 8/100\n",
      "32/32 [==============================] - 0s 581us/step - loss: 3.8123 - accuracy: 0.4160\n",
      "Epoch 9/100\n",
      "32/32 [==============================] - 0s 613us/step - loss: 3.7802 - accuracy: 0.4170\n",
      "Epoch 10/100\n",
      "32/32 [==============================] - 0s 581us/step - loss: 3.7419 - accuracy: 0.4220\n",
      "Epoch 11/100\n",
      "32/32 [==============================] - 0s 581us/step - loss: 3.6170 - accuracy: 0.4290\n",
      "Epoch 12/100\n",
      "32/32 [==============================] - 0s 613us/step - loss: 3.5541 - accuracy: 0.4370\n",
      "Epoch 13/100\n",
      "32/32 [==============================] - 0s 613us/step - loss: 3.4093 - accuracy: 0.4510\n",
      "Epoch 14/100\n",
      "32/32 [==============================] - 0s 581us/step - loss: 3.3404 - accuracy: 0.4540\n",
      "Epoch 15/100\n",
      "32/32 [==============================] - 0s 549us/step - loss: 3.2935 - accuracy: 0.4560\n",
      "Epoch 16/100\n",
      "32/32 [==============================] - 0s 581us/step - loss: 3.2422 - accuracy: 0.4570\n",
      "Epoch 17/100\n",
      "32/32 [==============================] - 0s 549us/step - loss: 3.1401 - accuracy: 0.4570\n",
      "Epoch 18/100\n",
      "32/32 [==============================] - 0s 540us/step - loss: 2.9440 - accuracy: 0.4570\n",
      "Epoch 19/100\n",
      "32/32 [==============================] - 0s 581us/step - loss: 2.6136 - accuracy: 0.4550\n",
      "Epoch 20/100\n",
      "32/32 [==============================] - 0s 581us/step - loss: 2.1777 - accuracy: 0.4570\n",
      "Epoch 21/100\n",
      "32/32 [==============================] - 0s 581us/step - loss: 1.6341 - accuracy: 0.4610\n",
      "Epoch 22/100\n",
      "32/32 [==============================] - 0s 581us/step - loss: 1.0707 - accuracy: 0.4670\n",
      "Epoch 23/100\n",
      "32/32 [==============================] - 0s 678us/step - loss: 0.9544 - accuracy: 0.4680\n",
      "Epoch 24/100\n",
      "32/32 [==============================] - 0s 613us/step - loss: 0.9346 - accuracy: 0.4690\n",
      "Epoch 25/100\n",
      "32/32 [==============================] - 0s 613us/step - loss: 0.9199 - accuracy: 0.4670\n",
      "Epoch 26/100\n",
      "32/32 [==============================] - 0s 549us/step - loss: 0.9073 - accuracy: 0.4670\n",
      "Epoch 27/100\n",
      "32/32 [==============================] - 0s 581us/step - loss: 0.8967 - accuracy: 0.4670\n",
      "Epoch 28/100\n",
      "32/32 [==============================] - 0s 581us/step - loss: 0.8873 - accuracy: 0.4680\n",
      "Epoch 29/100\n",
      "32/32 [==============================] - 0s 613us/step - loss: 0.8786 - accuracy: 0.4700\n",
      "Epoch 30/100\n",
      "32/32 [==============================] - 0s 581us/step - loss: 0.8708 - accuracy: 0.4700\n",
      "Epoch 31/100\n",
      "32/32 [==============================] - 0s 581us/step - loss: 0.8637 - accuracy: 0.4670\n",
      "Epoch 32/100\n",
      "32/32 [==============================] - 0s 581us/step - loss: 0.8567 - accuracy: 0.4680\n",
      "Epoch 33/100\n",
      "32/32 [==============================] - 0s 549us/step - loss: 0.8506 - accuracy: 0.4680\n",
      "Epoch 34/100\n",
      "32/32 [==============================] - 0s 581us/step - loss: 0.8448 - accuracy: 0.4690\n",
      "Epoch 35/100\n",
      "32/32 [==============================] - ETA: 0s - loss: 0.8947 - accuracy: 0.43 - 0s 613us/step - loss: 0.8392 - accuracy: 0.4690\n",
      "Epoch 36/100\n",
      "32/32 [==============================] - 0s 516us/step - loss: 0.8339 - accuracy: 0.4690\n",
      "Epoch 37/100\n",
      "32/32 [==============================] - 0s 613us/step - loss: 0.8290 - accuracy: 0.4700\n",
      "Epoch 38/100\n",
      "32/32 [==============================] - 0s 645us/step - loss: 0.8244 - accuracy: 0.4670\n",
      "Epoch 39/100\n",
      "32/32 [==============================] - 0s 581us/step - loss: 0.8199 - accuracy: 0.4660\n",
      "Epoch 40/100\n",
      "32/32 [==============================] - 0s 581us/step - loss: 0.8156 - accuracy: 0.4670\n",
      "Epoch 41/100\n",
      "32/32 [==============================] - 0s 581us/step - loss: 0.8115 - accuracy: 0.4660\n",
      "Epoch 42/100\n",
      "32/32 [==============================] - 0s 548us/step - loss: 0.8075 - accuracy: 0.4670\n",
      "Epoch 43/100\n",
      "32/32 [==============================] - 0s 549us/step - loss: 0.8035 - accuracy: 0.4680\n",
      "Epoch 44/100\n",
      "32/32 [==============================] - 0s 613us/step - loss: 0.7999 - accuracy: 0.4670\n",
      "Epoch 45/100\n",
      "32/32 [==============================] - 0s 613us/step - loss: 0.7964 - accuracy: 0.4690\n",
      "Epoch 46/100\n",
      "32/32 [==============================] - 0s 555us/step - loss: 0.7930 - accuracy: 0.4680\n",
      "Epoch 47/100\n",
      "32/32 [==============================] - 0s 581us/step - loss: 0.7898 - accuracy: 0.4680\n",
      "Epoch 48/100\n",
      "32/32 [==============================] - 0s 516us/step - loss: 0.7866 - accuracy: 0.4680\n",
      "Epoch 49/100\n",
      "32/32 [==============================] - 0s 613us/step - loss: 0.7836 - accuracy: 0.4710\n",
      "Epoch 50/100\n",
      "32/32 [==============================] - 0s 613us/step - loss: 0.7806 - accuracy: 0.4720\n",
      "Epoch 51/100\n",
      "32/32 [==============================] - 0s 581us/step - loss: 0.7777 - accuracy: 0.4720\n",
      "Epoch 52/100\n",
      "32/32 [==============================] - 0s 581us/step - loss: 0.7751 - accuracy: 0.4710\n",
      "Epoch 53/100\n",
      "32/32 [==============================] - 0s 678us/step - loss: 0.7724 - accuracy: 0.4710\n",
      "Epoch 54/100\n",
      "32/32 [==============================] - 0s 581us/step - loss: 0.7698 - accuracy: 0.4720\n",
      "Epoch 55/100\n",
      "32/32 [==============================] - 0s 581us/step - loss: 0.7673 - accuracy: 0.4740\n",
      "Epoch 56/100\n",
      "32/32 [==============================] - 0s 581us/step - loss: 0.7649 - accuracy: 0.4740\n",
      "Epoch 57/100\n",
      "32/32 [==============================] - 0s 613us/step - loss: 0.7625 - accuracy: 0.4750\n",
      "Epoch 58/100\n",
      "32/32 [==============================] - 0s 581us/step - loss: 0.7602 - accuracy: 0.4740\n",
      "Epoch 59/100\n",
      "32/32 [==============================] - 0s 613us/step - loss: 0.7580 - accuracy: 0.4760\n",
      "Epoch 60/100\n",
      "32/32 [==============================] - 0s 548us/step - loss: 0.7559 - accuracy: 0.4750\n",
      "Epoch 61/100\n",
      "32/32 [==============================] - 0s 581us/step - loss: 0.7539 - accuracy: 0.4770\n",
      "Epoch 62/100\n",
      "32/32 [==============================] - 0s 549us/step - loss: 0.7519 - accuracy: 0.4760\n",
      "Epoch 63/100\n",
      "32/32 [==============================] - 0s 549us/step - loss: 0.7499 - accuracy: 0.4770\n",
      "Epoch 64/100\n",
      "32/32 [==============================] - 0s 581us/step - loss: 0.7481 - accuracy: 0.4780\n",
      "Epoch 65/100\n",
      "32/32 [==============================] - 0s 581us/step - loss: 0.7463 - accuracy: 0.4770\n",
      "Epoch 66/100\n",
      "32/32 [==============================] - 0s 548us/step - loss: 0.7444 - accuracy: 0.4780\n",
      "Epoch 67/100\n",
      "32/32 [==============================] - 0s 645us/step - loss: 0.7427 - accuracy: 0.4780\n",
      "Epoch 68/100\n",
      "32/32 [==============================] - 0s 516us/step - loss: 0.7410 - accuracy: 0.4760\n",
      "Epoch 69/100\n",
      "32/32 [==============================] - 0s 581us/step - loss: 0.7393 - accuracy: 0.4750\n",
      "Epoch 70/100\n",
      "32/32 [==============================] - 0s 581us/step - loss: 0.7377 - accuracy: 0.4780\n",
      "Epoch 71/100\n",
      "32/32 [==============================] - 0s 581us/step - loss: 0.7361 - accuracy: 0.4780\n",
      "Epoch 72/100\n",
      "32/32 [==============================] - 0s 548us/step - loss: 0.7346 - accuracy: 0.4780\n",
      "Epoch 73/100\n",
      "32/32 [==============================] - 0s 516us/step - loss: 0.7331 - accuracy: 0.4770\n",
      "Epoch 74/100\n",
      "32/32 [==============================] - 0s 581us/step - loss: 0.7316 - accuracy: 0.4780\n",
      "Epoch 75/100\n",
      "32/32 [==============================] - 0s 548us/step - loss: 0.7302 - accuracy: 0.4790\n",
      "Epoch 76/100\n",
      "32/32 [==============================] - 0s 581us/step - loss: 0.7288 - accuracy: 0.4800\n",
      "Epoch 77/100\n",
      "32/32 [==============================] - 0s 678us/step - loss: 0.7275 - accuracy: 0.4810\n",
      "Epoch 78/100\n",
      "32/32 [==============================] - 0s 645us/step - loss: 0.7262 - accuracy: 0.4790\n",
      "Epoch 79/100\n",
      "32/32 [==============================] - 0s 613us/step - loss: 0.7250 - accuracy: 0.4790\n",
      "Epoch 80/100\n",
      "32/32 [==============================] - 0s 549us/step - loss: 0.7238 - accuracy: 0.4830\n"
     ]
    },
    {
     "name": "stdout",
     "output_type": "stream",
     "text": [
      "Epoch 81/100\n",
      "32/32 [==============================] - 0s 581us/step - loss: 0.7226 - accuracy: 0.4830\n",
      "Epoch 82/100\n",
      "32/32 [==============================] - 0s 613us/step - loss: 0.7214 - accuracy: 0.4830\n",
      "Epoch 83/100\n",
      "32/32 [==============================] - 0s 549us/step - loss: 0.7204 - accuracy: 0.4840\n",
      "Epoch 84/100\n",
      "32/32 [==============================] - 0s 549us/step - loss: 0.7193 - accuracy: 0.4840\n",
      "Epoch 85/100\n",
      "32/32 [==============================] - 0s 549us/step - loss: 0.7182 - accuracy: 0.4860\n",
      "Epoch 86/100\n",
      "32/32 [==============================] - 0s 581us/step - loss: 0.7173 - accuracy: 0.4880\n",
      "Epoch 87/100\n",
      "32/32 [==============================] - 0s 581us/step - loss: 0.7163 - accuracy: 0.4880\n",
      "Epoch 88/100\n",
      "32/32 [==============================] - 0s 581us/step - loss: 0.7154 - accuracy: 0.4880\n",
      "Epoch 89/100\n",
      "32/32 [==============================] - 0s 581us/step - loss: 0.7145 - accuracy: 0.4880\n",
      "Epoch 90/100\n",
      "32/32 [==============================] - 0s 516us/step - loss: 0.7136 - accuracy: 0.4880\n",
      "Epoch 91/100\n",
      "32/32 [==============================] - 0s 549us/step - loss: 0.7128 - accuracy: 0.4910\n",
      "Epoch 92/100\n",
      "32/32 [==============================] - 0s 581us/step - loss: 0.7120 - accuracy: 0.4900\n",
      "Epoch 93/100\n",
      "32/32 [==============================] - 0s 581us/step - loss: 0.7112 - accuracy: 0.4900\n",
      "Epoch 94/100\n",
      "32/32 [==============================] - 0s 581us/step - loss: 0.7104 - accuracy: 0.4910\n",
      "Epoch 95/100\n",
      "32/32 [==============================] - 0s 581us/step - loss: 0.7097 - accuracy: 0.4890\n",
      "Epoch 96/100\n",
      "32/32 [==============================] - 0s 549us/step - loss: 0.7090 - accuracy: 0.4890\n",
      "Epoch 97/100\n",
      "32/32 [==============================] - 0s 613us/step - loss: 0.7083 - accuracy: 0.4890\n",
      "Epoch 98/100\n",
      "32/32 [==============================] - 0s 549us/step - loss: 0.7076 - accuracy: 0.4880\n",
      "Epoch 99/100\n",
      "32/32 [==============================] - 0s 548us/step - loss: 0.7069 - accuracy: 0.4870\n",
      "Epoch 100/100\n",
      "32/32 [==============================] - 0s 549us/step - loss: 0.7062 - accuracy: 0.4850\n"
     ]
    }
   ],
   "source": [
    "\n",
    "tf.random.set_seed(42)\n",
    "\n",
    "model_4 = tf.keras.Sequential([\n",
    "    tf.keras.layers.Dense(1,activation = \"linear\")\n",
    "])\n",
    "\n",
    "model_4.compile(loss = tf.keras.losses.BinaryCrossentropy(),\n",
    "               optimizer = tf.keras.optimizers.Adam(lr = 0.001),\n",
    "               metrics = [\"accuracy\"])\n",
    "history = model_4.fit(X,y,epochs = 100)"
   ]
  },
  {
   "cell_type": "code",
   "execution_count": 27,
   "id": "05b7e900",
   "metadata": {},
   "outputs": [
    {
     "name": "stdout",
     "output_type": "stream",
     "text": [
      "Doing binary classification\n"
     ]
    },
    {
     "data": {
      "image/png": "[encoded data removed]",
      "text/plain": [
       "<Figure size 432x288 with 1 Axes>"
      ]
     },
     "metadata": {
      "needs_background": "light"
     },
     "output_type": "display_data"
    }
   ],
   "source": [
    "# Check the decsion boundary for latest model\n",
    "\n",
    "plot_decision_boundary(model =model_4,\n",
    "                      X = X,\n",
    "                      y = y)"
   ]
  },
  {
   "cell_type": "code",
   "execution_count": 28,
   "id": "0ad8aa97",
   "metadata": {},
   "outputs": [
    {
     "name": "stdout",
     "output_type": "stream",
     "text": [
      "Epoch 1/100\n",
      "32/32 [==============================] - 0s 613us/step - loss: 4.2979 - accuracy: 0.4670\n",
      "Epoch 2/100\n",
      "32/32 [==============================] - 0s 547us/step - loss: 4.2317 - accuracy: 0.4400\n",
      "Epoch 3/100\n",
      "32/32 [==============================] - 0s 613us/step - loss: 4.1610 - accuracy: 0.4310\n",
      "Epoch 4/100\n",
      "32/32 [==============================] - 0s 581us/step - loss: 4.1183 - accuracy: 0.4270\n",
      "Epoch 5/100\n",
      "32/32 [==============================] - 0s 613us/step - loss: 4.0784 - accuracy: 0.4240\n",
      "Epoch 6/100\n",
      "32/32 [==============================] - 0s 581us/step - loss: 3.9642 - accuracy: 0.4180\n",
      "Epoch 7/100\n",
      "32/32 [==============================] - 0s 645us/step - loss: 3.8626 - accuracy: 0.4100\n",
      "Epoch 8/100\n",
      "32/32 [==============================] - 0s 549us/step - loss: 3.8123 - accuracy: 0.4160\n",
      "Epoch 9/100\n",
      "32/32 [==============================] - 0s 807us/step - loss: 3.7802 - accuracy: 0.4170\n",
      "Epoch 10/100\n",
      "32/32 [==============================] - 0s 581us/step - loss: 3.7419 - accuracy: 0.4220\n",
      "Epoch 11/100\n",
      "32/32 [==============================] - 0s 710us/step - loss: 3.6170 - accuracy: 0.4290\n",
      "Epoch 12/100\n",
      "32/32 [==============================] - 0s 548us/step - loss: 3.5541 - accuracy: 0.4370\n",
      "Epoch 13/100\n",
      "32/32 [==============================] - 0s 613us/step - loss: 3.4093 - accuracy: 0.4510\n",
      "Epoch 14/100\n",
      "32/32 [==============================] - 0s 581us/step - loss: 3.3404 - accuracy: 0.4540\n",
      "Epoch 15/100\n",
      "32/32 [==============================] - 0s 549us/step - loss: 3.2935 - accuracy: 0.4560\n",
      "Epoch 16/100\n",
      "32/32 [==============================] - 0s 613us/step - loss: 3.2422 - accuracy: 0.4570\n",
      "Epoch 17/100\n",
      "32/32 [==============================] - 0s 581us/step - loss: 3.1401 - accuracy: 0.4570\n",
      "Epoch 18/100\n",
      "32/32 [==============================] - 0s 645us/step - loss: 2.9440 - accuracy: 0.4570\n",
      "Epoch 19/100\n",
      "32/32 [==============================] - 0s 549us/step - loss: 2.6136 - accuracy: 0.4550\n",
      "Epoch 20/100\n",
      "32/32 [==============================] - 0s 581us/step - loss: 2.1777 - accuracy: 0.4570\n",
      "Epoch 21/100\n",
      "32/32 [==============================] - 0s 613us/step - loss: 1.6341 - accuracy: 0.4610\n",
      "Epoch 22/100\n",
      "32/32 [==============================] - 0s 645us/step - loss: 1.0707 - accuracy: 0.4670\n",
      "Epoch 23/100\n",
      "32/32 [==============================] - 0s 613us/step - loss: 0.9544 - accuracy: 0.4680\n",
      "Epoch 24/100\n",
      "32/32 [==============================] - 0s 549us/step - loss: 0.9346 - accuracy: 0.4690\n",
      "Epoch 25/100\n",
      "32/32 [==============================] - 0s 645us/step - loss: 0.9199 - accuracy: 0.4670\n",
      "Epoch 26/100\n",
      "32/32 [==============================] - 0s 613us/step - loss: 0.9073 - accuracy: 0.4670\n",
      "Epoch 27/100\n",
      "32/32 [==============================] - 0s 548us/step - loss: 0.8967 - accuracy: 0.4670\n",
      "Epoch 28/100\n",
      "32/32 [==============================] - 0s 549us/step - loss: 0.8873 - accuracy: 0.4680\n",
      "Epoch 29/100\n",
      "32/32 [==============================] - 0s 581us/step - loss: 0.8786 - accuracy: 0.4700\n",
      "Epoch 30/100\n",
      "32/32 [==============================] - 0s 613us/step - loss: 0.8708 - accuracy: 0.4700\n",
      "Epoch 31/100\n",
      "32/32 [==============================] - 0s 581us/step - loss: 0.8637 - accuracy: 0.4670\n",
      "Epoch 32/100\n",
      "32/32 [==============================] - 0s 613us/step - loss: 0.8567 - accuracy: 0.4680\n",
      "Epoch 33/100\n",
      "32/32 [==============================] - 0s 613us/step - loss: 0.8506 - accuracy: 0.4680\n",
      "Epoch 34/100\n",
      "32/32 [==============================] - 0s 613us/step - loss: 0.8448 - accuracy: 0.4690\n",
      "Epoch 35/100\n",
      "32/32 [==============================] - 0s 613us/step - loss: 0.8392 - accuracy: 0.4690\n",
      "Epoch 36/100\n",
      "32/32 [==============================] - 0s 549us/step - loss: 0.8339 - accuracy: 0.4690\n",
      "Epoch 37/100\n",
      "32/32 [==============================] - 0s 581us/step - loss: 0.8290 - accuracy: 0.4700\n",
      "Epoch 38/100\n",
      "32/32 [==============================] - 0s 581us/step - loss: 0.8244 - accuracy: 0.4670\n",
      "Epoch 39/100\n",
      "32/32 [==============================] - 0s 581us/step - loss: 0.8199 - accuracy: 0.4660\n",
      "Epoch 40/100\n",
      "32/32 [==============================] - 0s 549us/step - loss: 0.8156 - accuracy: 0.4670\n",
      "Epoch 41/100\n",
      "32/32 [==============================] - 0s 549us/step - loss: 0.8115 - accuracy: 0.4660\n",
      "Epoch 42/100\n",
      "32/32 [==============================] - 0s 549us/step - loss: 0.8075 - accuracy: 0.4670\n",
      "Epoch 43/100\n",
      "32/32 [==============================] - 0s 613us/step - loss: 0.8035 - accuracy: 0.4680\n",
      "Epoch 44/100\n",
      "32/32 [==============================] - 0s 581us/step - loss: 0.7999 - accuracy: 0.4670\n",
      "Epoch 45/100\n",
      "32/32 [==============================] - 0s 581us/step - loss: 0.7964 - accuracy: 0.4690\n",
      "Epoch 46/100\n",
      "32/32 [==============================] - 0s 581us/step - loss: 0.7930 - accuracy: 0.4680\n",
      "Epoch 47/100\n",
      "32/32 [==============================] - 0s 581us/step - loss: 0.7898 - accuracy: 0.4680\n",
      "Epoch 48/100\n",
      "32/32 [==============================] - 0s 613us/step - loss: 0.7866 - accuracy: 0.4680\n",
      "Epoch 49/100\n",
      "32/32 [==============================] - 0s 581us/step - loss: 0.7836 - accuracy: 0.4710\n",
      "Epoch 50/100\n",
      "32/32 [==============================] - 0s 549us/step - loss: 0.7806 - accuracy: 0.4720\n",
      "Epoch 51/100\n",
      "32/32 [==============================] - 0s 613us/step - loss: 0.7777 - accuracy: 0.4720\n",
      "Epoch 52/100\n",
      "32/32 [==============================] - 0s 613us/step - loss: 0.7751 - accuracy: 0.4710\n",
      "Epoch 53/100\n",
      "32/32 [==============================] - 0s 581us/step - loss: 0.7724 - accuracy: 0.4710\n",
      "Epoch 54/100\n",
      "32/32 [==============================] - 0s 581us/step - loss: 0.7698 - accuracy: 0.4720\n",
      "Epoch 55/100\n",
      "32/32 [==============================] - 0s 613us/step - loss: 0.7673 - accuracy: 0.4740\n",
      "Epoch 56/100\n",
      "32/32 [==============================] - 0s 516us/step - loss: 0.7649 - accuracy: 0.4740\n",
      "Epoch 57/100\n",
      "32/32 [==============================] - 0s 581us/step - loss: 0.7625 - accuracy: 0.4750\n",
      "Epoch 58/100\n",
      "32/32 [==============================] - 0s 581us/step - loss: 0.7602 - accuracy: 0.4740\n",
      "Epoch 59/100\n",
      "32/32 [==============================] - 0s 613us/step - loss: 0.7580 - accuracy: 0.4760\n",
      "Epoch 60/100\n",
      "32/32 [==============================] - 0s 581us/step - loss: 0.7559 - accuracy: 0.4750\n",
      "Epoch 61/100\n",
      "32/32 [==============================] - 0s 581us/step - loss: 0.7539 - accuracy: 0.4770\n",
      "Epoch 62/100\n",
      "32/32 [==============================] - 0s 581us/step - loss: 0.7519 - accuracy: 0.4760\n",
      "Epoch 63/100\n",
      "32/32 [==============================] - 0s 548us/step - loss: 0.7499 - accuracy: 0.4770\n",
      "Epoch 64/100\n",
      "32/32 [==============================] - 0s 613us/step - loss: 0.7481 - accuracy: 0.4780\n",
      "Epoch 65/100\n",
      "32/32 [==============================] - 0s 549us/step - loss: 0.7463 - accuracy: 0.4770\n",
      "Epoch 66/100\n",
      "32/32 [==============================] - 0s 549us/step - loss: 0.7444 - accuracy: 0.4780\n",
      "Epoch 67/100\n",
      "32/32 [==============================] - 0s 549us/step - loss: 0.7427 - accuracy: 0.4780\n",
      "Epoch 68/100\n",
      "32/32 [==============================] - 0s 613us/step - loss: 0.7410 - accuracy: 0.4760\n",
      "Epoch 69/100\n",
      "32/32 [==============================] - 0s 549us/step - loss: 0.7393 - accuracy: 0.4750\n",
      "Epoch 70/100\n",
      "32/32 [==============================] - 0s 613us/step - loss: 0.7377 - accuracy: 0.4780\n",
      "Epoch 71/100\n",
      "32/32 [==============================] - 0s 516us/step - loss: 0.7361 - accuracy: 0.4780\n",
      "Epoch 72/100\n",
      "32/32 [==============================] - 0s 549us/step - loss: 0.7346 - accuracy: 0.4780\n",
      "Epoch 73/100\n",
      "32/32 [==============================] - 0s 549us/step - loss: 0.7331 - accuracy: 0.4770\n",
      "Epoch 74/100\n",
      "32/32 [==============================] - 0s 549us/step - loss: 0.7316 - accuracy: 0.4780\n",
      "Epoch 75/100\n",
      "32/32 [==============================] - 0s 581us/step - loss: 0.7302 - accuracy: 0.4790\n",
      "Epoch 76/100\n",
      "32/32 [==============================] - 0s 581us/step - loss: 0.7288 - accuracy: 0.4800\n",
      "Epoch 77/100\n",
      "32/32 [==============================] - 0s 613us/step - loss: 0.7275 - accuracy: 0.4810\n",
      "Epoch 78/100\n",
      "32/32 [==============================] - 0s 581us/step - loss: 0.7262 - accuracy: 0.4790\n",
      "Epoch 79/100\n",
      "32/32 [==============================] - 0s 549us/step - loss: 0.7250 - accuracy: 0.4790\n",
      "Epoch 80/100\n",
      "32/32 [==============================] - 0s 581us/step - loss: 0.7238 - accuracy: 0.4830\n",
      "Epoch 81/100\n",
      "32/32 [==============================] - 0s 581us/step - loss: 0.7226 - accuracy: 0.4830\n",
      "Epoch 82/100\n",
      "32/32 [==============================] - 0s 581us/step - loss: 0.7214 - accuracy: 0.4830\n",
      "Epoch 83/100\n",
      "32/32 [==============================] - 0s 581us/step - loss: 0.7204 - accuracy: 0.4840\n",
      "Epoch 84/100\n",
      "32/32 [==============================] - 0s 581us/step - loss: 0.7193 - accuracy: 0.4840\n",
      "Epoch 85/100\n",
      "32/32 [==============================] - 0s 549us/step - loss: 0.7182 - accuracy: 0.4860\n",
      "Epoch 86/100\n",
      "32/32 [==============================] - 0s 548us/step - loss: 0.7173 - accuracy: 0.4880\n",
      "Epoch 87/100\n",
      "32/32 [==============================] - 0s 581us/step - loss: 0.7163 - accuracy: 0.4880\n",
      "Epoch 88/100\n",
      "32/32 [==============================] - 0s 613us/step - loss: 0.7154 - accuracy: 0.4880\n",
      "Epoch 89/100\n",
      "32/32 [==============================] - 0s 581us/step - loss: 0.7145 - accuracy: 0.4880\n",
      "Epoch 90/100\n",
      "32/32 [==============================] - 0s 613us/step - loss: 0.7136 - accuracy: 0.4880\n",
      "Epoch 91/100\n",
      "32/32 [==============================] - 0s 613us/step - loss: 0.7128 - accuracy: 0.4910\n",
      "Epoch 92/100\n",
      "32/32 [==============================] - 0s 549us/step - loss: 0.7120 - accuracy: 0.4900\n",
      "Epoch 93/100\n",
      "32/32 [==============================] - 0s 516us/step - loss: 0.7112 - accuracy: 0.4900\n",
      "Epoch 94/100\n",
      "32/32 [==============================] - 0s 645us/step - loss: 0.7104 - accuracy: 0.4910\n",
      "Epoch 95/100\n",
      "32/32 [==============================] - 0s 581us/step - loss: 0.7097 - accuracy: 0.4890\n",
      "Epoch 96/100\n",
      "32/32 [==============================] - 0s 581us/step - loss: 0.7090 - accuracy: 0.4890\n",
      "Epoch 97/100\n",
      "32/32 [==============================] - 0s 581us/step - loss: 0.7083 - accuracy: 0.4890\n",
      "Epoch 98/100\n",
      "32/32 [==============================] - 0s 548us/step - loss: 0.7076 - accuracy: 0.4880\n",
      "Epoch 99/100\n",
      "32/32 [==============================] - 0s 549us/step - loss: 0.7069 - accuracy: 0.4870\n",
      "Epoch 100/100\n",
      "32/32 [==============================] - 0s 581us/step - loss: 0.7062 - accuracy: 0.4850\n"
     ]
    }
   ],
   "source": [
    "# Set random seed\n",
    "\n",
    "tf.random.set_seed(42)\n",
    "\n",
    "# 1. Create a  model\n",
    "\n",
    "model_5 = tf.keras.Sequential([\n",
    "    tf.keras.layers.Dense(1,activation =\"relu\")\n",
    "\n",
    "])\n",
    "\n",
    "model_5.compile(loss = \"binary_crossentropy\",\n",
    "               optimizer = tf.keras.optimizers.Adam(lr = 0.001),\n",
    "               metrics = ['accuracy'])\n",
    "\n",
    "history = model_5.fit(X,y,epochs =100)"
   ]
  },
  {
   "cell_type": "code",
   "execution_count": 29,
   "id": "76785907",
   "metadata": {},
   "outputs": [
    {
     "name": "stdout",
     "output_type": "stream",
     "text": [
      "Epoch 1/200\n",
      "32/32 [==============================] - 0s 678us/step - loss: 7.7125 - accuracy: 0.5000\n",
      "Epoch 2/200\n",
      "32/32 [==============================] - 0s 581us/step - loss: 7.7125 - accuracy: 0.5000\n",
      "Epoch 3/200\n",
      "32/32 [==============================] - 0s 645us/step - loss: 7.7125 - accuracy: 0.5000\n",
      "Epoch 4/200\n",
      "32/32 [==============================] - 0s 645us/step - loss: 7.7125 - accuracy: 0.5000\n",
      "Epoch 5/200\n",
      "32/32 [==============================] - 0s 613us/step - loss: 7.7125 - accuracy: 0.5000\n",
      "Epoch 6/200\n",
      "32/32 [==============================] - 0s 645us/step - loss: 7.7125 - accuracy: 0.5000\n",
      "Epoch 7/200\n",
      "32/32 [==============================] - 0s 613us/step - loss: 7.7125 - accuracy: 0.5000\n",
      "Epoch 8/200\n",
      "32/32 [==============================] - 0s 678us/step - loss: 7.7125 - accuracy: 0.5000\n",
      "Epoch 9/200\n",
      "32/32 [==============================] - 0s 613us/step - loss: 7.7125 - accuracy: 0.5000\n",
      "Epoch 10/200\n",
      "32/32 [==============================] - 0s 678us/step - loss: 7.7125 - accuracy: 0.5000\n",
      "Epoch 11/200\n",
      "32/32 [==============================] - 0s 613us/step - loss: 7.7125 - accuracy: 0.5000\n",
      "Epoch 12/200\n",
      "32/32 [==============================] - 0s 645us/step - loss: 7.7125 - accuracy: 0.5000\n",
      "Epoch 13/200\n",
      "32/32 [==============================] - 0s 645us/step - loss: 7.7125 - accuracy: 0.5000\n",
      "Epoch 14/200\n",
      "32/32 [==============================] - 0s 645us/step - loss: 7.7125 - accuracy: 0.5000\n",
      "Epoch 15/200\n",
      "32/32 [==============================] - 0s 678us/step - loss: 7.7125 - accuracy: 0.5000\n",
      "Epoch 16/200\n",
      "32/32 [==============================] - 0s 613us/step - loss: 7.7125 - accuracy: 0.5000\n",
      "Epoch 17/200\n",
      "32/32 [==============================] - 0s 613us/step - loss: 7.7125 - accuracy: 0.5000\n",
      "Epoch 18/200\n",
      "32/32 [==============================] - 0s 645us/step - loss: 7.7125 - accuracy: 0.5000\n",
      "Epoch 19/200\n",
      "32/32 [==============================] - 0s 581us/step - loss: 7.7125 - accuracy: 0.5000\n",
      "Epoch 20/200\n",
      "32/32 [==============================] - 0s 613us/step - loss: 7.7125 - accuracy: 0.5000\n",
      "Epoch 21/200\n",
      "32/32 [==============================] - 0s 613us/step - loss: 7.7125 - accuracy: 0.5000\n",
      "Epoch 22/200\n",
      "32/32 [==============================] - 0s 645us/step - loss: 7.7125 - accuracy: 0.5000\n",
      "Epoch 23/200\n",
      "32/32 [==============================] - 0s 613us/step - loss: 7.7125 - accuracy: 0.5000\n",
      "Epoch 24/200\n",
      "32/32 [==============================] - 0s 678us/step - loss: 7.7125 - accuracy: 0.5000\n",
      "Epoch 25/200\n",
      "32/32 [==============================] - 0s 645us/step - loss: 7.7125 - accuracy: 0.5000\n",
      "Epoch 26/200\n",
      "32/32 [==============================] - 0s 645us/step - loss: 7.7125 - accuracy: 0.5000\n",
      "Epoch 27/200\n",
      "32/32 [==============================] - 0s 613us/step - loss: 7.7125 - accuracy: 0.5000\n",
      "Epoch 28/200\n",
      "32/32 [==============================] - 0s 613us/step - loss: 7.7125 - accuracy: 0.5000\n",
      "Epoch 29/200\n",
      "32/32 [==============================] - 0s 678us/step - loss: 7.7125 - accuracy: 0.5000\n",
      "Epoch 30/200\n",
      "32/32 [==============================] - 0s 645us/step - loss: 7.7125 - accuracy: 0.5000\n",
      "Epoch 31/200\n",
      "32/32 [==============================] - 0s 645us/step - loss: 7.7125 - accuracy: 0.5000\n",
      "Epoch 32/200\n",
      "32/32 [==============================] - 0s 613us/step - loss: 7.7125 - accuracy: 0.5000\n",
      "Epoch 33/200\n",
      "32/32 [==============================] - 0s 581us/step - loss: 7.7125 - accuracy: 0.5000\n",
      "Epoch 34/200\n",
      "32/32 [==============================] - 0s 678us/step - loss: 7.7125 - accuracy: 0.5000\n",
      "Epoch 35/200\n",
      "32/32 [==============================] - 0s 645us/step - loss: 7.7125 - accuracy: 0.5000\n",
      "Epoch 36/200\n",
      "32/32 [==============================] - 0s 613us/step - loss: 7.7125 - accuracy: 0.5000\n",
      "Epoch 37/200\n",
      "32/32 [==============================] - 0s 613us/step - loss: 7.7125 - accuracy: 0.5000\n",
      "Epoch 38/200\n",
      "32/32 [==============================] - 0s 645us/step - loss: 7.7125 - accuracy: 0.5000\n",
      "Epoch 39/200\n",
      "32/32 [==============================] - 0s 613us/step - loss: 7.7125 - accuracy: 0.5000\n",
      "Epoch 40/200\n",
      "32/32 [==============================] - 0s 613us/step - loss: 7.7125 - accuracy: 0.5000\n",
      "Epoch 41/200\n",
      "32/32 [==============================] - 0s 678us/step - loss: 7.7125 - accuracy: 0.5000\n",
      "Epoch 42/200\n",
      "32/32 [==============================] - 0s 613us/step - loss: 7.7125 - accuracy: 0.5000\n",
      "Epoch 43/200\n",
      "32/32 [==============================] - 0s 613us/step - loss: 7.7125 - accuracy: 0.5000\n",
      "Epoch 44/200\n",
      "32/32 [==============================] - 0s 613us/step - loss: 7.7125 - accuracy: 0.5000\n",
      "Epoch 45/200\n",
      "32/32 [==============================] - 0s 678us/step - loss: 7.7125 - accuracy: 0.5000\n",
      "Epoch 46/200\n",
      "32/32 [==============================] - 0s 742us/step - loss: 7.7125 - accuracy: 0.5000\n",
      "Epoch 47/200\n",
      "32/32 [==============================] - 0s 742us/step - loss: 7.7125 - accuracy: 0.5000\n",
      "Epoch 48/200\n",
      "32/32 [==============================] - 0s 710us/step - loss: 7.7125 - accuracy: 0.5000\n",
      "Epoch 49/200\n",
      "32/32 [==============================] - 0s 678us/step - loss: 7.7125 - accuracy: 0.5000\n",
      "Epoch 50/200\n",
      "32/32 [==============================] - 0s 774us/step - loss: 7.7125 - accuracy: 0.5000\n",
      "Epoch 51/200\n",
      "32/32 [==============================] - 0s 678us/step - loss: 7.7125 - accuracy: 0.5000\n",
      "Epoch 52/200\n",
      "32/32 [==============================] - 0s 613us/step - loss: 7.7125 - accuracy: 0.5000\n",
      "Epoch 53/200\n",
      "32/32 [==============================] - 0s 710us/step - loss: 7.7125 - accuracy: 0.5000\n",
      "Epoch 54/200\n",
      "32/32 [==============================] - 0s 645us/step - loss: 7.7125 - accuracy: 0.5000\n",
      "Epoch 55/200\n",
      "32/32 [==============================] - 0s 645us/step - loss: 7.7125 - accuracy: 0.5000\n",
      "Epoch 56/200\n",
      "32/32 [==============================] - 0s 581us/step - loss: 7.7125 - accuracy: 0.5000\n",
      "Epoch 57/200\n",
      "32/32 [==============================] - 0s 645us/step - loss: 7.7125 - accuracy: 0.5000\n",
      "Epoch 58/200\n",
      "32/32 [==============================] - 0s 645us/step - loss: 7.7125 - accuracy: 0.5000\n",
      "Epoch 59/200\n",
      "32/32 [==============================] - 0s 645us/step - loss: 7.7125 - accuracy: 0.5000\n",
      "Epoch 60/200\n",
      "32/32 [==============================] - 0s 710us/step - loss: 7.7125 - accuracy: 0.5000\n",
      "Epoch 61/200\n",
      "32/32 [==============================] - 0s 645us/step - loss: 7.7125 - accuracy: 0.5000\n",
      "Epoch 62/200\n",
      "32/32 [==============================] - 0s 645us/step - loss: 7.7125 - accuracy: 0.5000\n",
      "Epoch 63/200\n",
      "32/32 [==============================] - 0s 613us/step - loss: 7.7125 - accuracy: 0.5000\n",
      "Epoch 64/200\n",
      "32/32 [==============================] - 0s 645us/step - loss: 7.7125 - accuracy: 0.5000\n",
      "Epoch 65/200\n",
      "32/32 [==============================] - 0s 774us/step - loss: 7.7125 - accuracy: 0.5000\n",
      "Epoch 66/200\n",
      "32/32 [==============================] - 0s 645us/step - loss: 7.7125 - accuracy: 0.5000\n",
      "Epoch 67/200\n",
      "32/32 [==============================] - 0s 645us/step - loss: 7.7125 - accuracy: 0.5000\n",
      "Epoch 68/200\n",
      "32/32 [==============================] - 0s 645us/step - loss: 7.7125 - accuracy: 0.5000\n",
      "Epoch 69/200\n",
      "32/32 [==============================] - 0s 613us/step - loss: 7.7125 - accuracy: 0.5000\n",
      "Epoch 70/200\n",
      "32/32 [==============================] - 0s 645us/step - loss: 7.7125 - accuracy: 0.5000\n",
      "Epoch 71/200\n",
      "32/32 [==============================] - 0s 613us/step - loss: 7.7125 - accuracy: 0.5000\n",
      "Epoch 72/200\n",
      "32/32 [==============================] - 0s 678us/step - loss: 7.7125 - accuracy: 0.5000\n",
      "Epoch 73/200\n",
      "32/32 [==============================] - 0s 613us/step - loss: 7.7125 - accuracy: 0.5000\n",
      "Epoch 74/200\n",
      "32/32 [==============================] - 0s 678us/step - loss: 7.7125 - accuracy: 0.5000\n",
      "Epoch 75/200\n",
      "32/32 [==============================] - 0s 645us/step - loss: 7.7125 - accuracy: 0.5000\n",
      "Epoch 76/200\n",
      "32/32 [==============================] - 0s 613us/step - loss: 7.7125 - accuracy: 0.5000\n",
      "Epoch 77/200\n",
      "32/32 [==============================] - 0s 710us/step - loss: 7.7125 - accuracy: 0.5000\n",
      "Epoch 78/200\n",
      "32/32 [==============================] - 0s 678us/step - loss: 7.7125 - accuracy: 0.5000\n",
      "Epoch 79/200\n",
      "32/32 [==============================] - 0s 613us/step - loss: 7.7125 - accuracy: 0.5000\n",
      "Epoch 80/200\n",
      "32/32 [==============================] - 0s 645us/step - loss: 7.7125 - accuracy: 0.5000\n",
      "Epoch 81/200\n",
      "32/32 [==============================] - 0s 613us/step - loss: 7.7125 - accuracy: 0.5000\n",
      "Epoch 82/200\n",
      "32/32 [==============================] - 0s 613us/step - loss: 7.7125 - accuracy: 0.5000\n",
      "Epoch 83/200\n",
      "32/32 [==============================] - 0s 645us/step - loss: 7.7125 - accuracy: 0.5000\n",
      "Epoch 84/200\n",
      "32/32 [==============================] - 0s 613us/step - loss: 7.7125 - accuracy: 0.5000\n",
      "Epoch 85/200\n",
      "32/32 [==============================] - 0s 645us/step - loss: 7.7125 - accuracy: 0.5000\n",
      "Epoch 86/200\n",
      "32/32 [==============================] - 0s 678us/step - loss: 7.7125 - accuracy: 0.5000\n",
      "Epoch 87/200\n",
      "32/32 [==============================] - 0s 613us/step - loss: 7.7125 - accuracy: 0.5000\n",
      "Epoch 88/200\n",
      "32/32 [==============================] - 0s 581us/step - loss: 7.7125 - accuracy: 0.5000\n",
      "Epoch 89/200\n",
      "32/32 [==============================] - 0s 613us/step - loss: 7.7125 - accuracy: 0.5000\n",
      "Epoch 90/200\n",
      "32/32 [==============================] - 0s 645us/step - loss: 7.7125 - accuracy: 0.5000\n",
      "Epoch 91/200\n",
      "32/32 [==============================] - 0s 678us/step - loss: 7.7125 - accuracy: 0.5000\n",
      "Epoch 92/200\n",
      "32/32 [==============================] - 0s 645us/step - loss: 7.7125 - accuracy: 0.5000\n",
      "Epoch 93/200\n",
      "32/32 [==============================] - 0s 645us/step - loss: 7.7125 - accuracy: 0.5000\n",
      "Epoch 94/200\n",
      "32/32 [==============================] - 0s 645us/step - loss: 7.7125 - accuracy: 0.5000\n",
      "Epoch 95/200\n",
      "32/32 [==============================] - 0s 645us/step - loss: 7.7125 - accuracy: 0.5000\n",
      "Epoch 96/200\n",
      "32/32 [==============================] - 0s 645us/step - loss: 7.7125 - accuracy: 0.5000\n",
      "Epoch 97/200\n",
      "32/32 [==============================] - 0s 645us/step - loss: 7.7125 - accuracy: 0.5000\n",
      "Epoch 98/200\n",
      "32/32 [==============================] - 0s 613us/step - loss: 7.7125 - accuracy: 0.5000\n",
      "Epoch 99/200\n",
      "32/32 [==============================] - 0s 613us/step - loss: 7.7125 - accuracy: 0.5000\n",
      "Epoch 100/200\n",
      "32/32 [==============================] - 0s 678us/step - loss: 7.7125 - accuracy: 0.5000\n",
      "Epoch 101/200\n",
      "32/32 [==============================] - 0s 678us/step - loss: 7.7125 - accuracy: 0.5000\n",
      "Epoch 102/200\n",
      "32/32 [==============================] - 0s 710us/step - loss: 7.7125 - accuracy: 0.5000\n",
      "Epoch 103/200\n",
      "32/32 [==============================] - 0s 742us/step - loss: 7.7125 - accuracy: 0.5000\n",
      "Epoch 104/200\n",
      "32/32 [==============================] - 0s 678us/step - loss: 7.7125 - accuracy: 0.5000\n",
      "Epoch 105/200\n",
      "32/32 [==============================] - 0s 645us/step - loss: 7.7125 - accuracy: 0.5000\n",
      "Epoch 106/200\n",
      "32/32 [==============================] - 0s 871us/step - loss: 7.7125 - accuracy: 0.5000\n",
      "Epoch 107/200\n",
      "32/32 [==============================] - 0s 697us/step - loss: 7.7125 - accuracy: 0.5000\n",
      "Epoch 108/200\n",
      "32/32 [==============================] - 0s 678us/step - loss: 7.7125 - accuracy: 0.5000\n",
      "Epoch 109/200\n",
      "32/32 [==============================] - 0s 742us/step - loss: 7.7125 - accuracy: 0.5000\n",
      "Epoch 110/200\n",
      "32/32 [==============================] - 0s 742us/step - loss: 7.7125 - accuracy: 0.5000\n",
      "Epoch 111/200\n",
      "32/32 [==============================] - 0s 774us/step - loss: 7.7125 - accuracy: 0.5000\n",
      "Epoch 112/200\n",
      "32/32 [==============================] - 0s 710us/step - loss: 7.7125 - accuracy: 0.5000\n",
      "Epoch 113/200\n",
      "32/32 [==============================] - 0s 678us/step - loss: 7.7125 - accuracy: 0.5000\n",
      "Epoch 114/200\n",
      "32/32 [==============================] - 0s 613us/step - loss: 7.7125 - accuracy: 0.5000\n",
      "Epoch 115/200\n",
      "32/32 [==============================] - 0s 645us/step - loss: 7.7125 - accuracy: 0.5000\n",
      "Epoch 116/200\n",
      "32/32 [==============================] - 0s 613us/step - loss: 7.7125 - accuracy: 0.5000\n",
      "Epoch 117/200\n",
      "32/32 [==============================] - 0s 645us/step - loss: 7.7125 - accuracy: 0.5000\n",
      "Epoch 118/200\n",
      "32/32 [==============================] - 0s 613us/step - loss: 7.7125 - accuracy: 0.5000\n",
      "Epoch 119/200\n",
      "32/32 [==============================] - 0s 742us/step - loss: 7.7125 - accuracy: 0.5000\n",
      "Epoch 120/200\n",
      "32/32 [==============================] - 0s 613us/step - loss: 7.7125 - accuracy: 0.5000\n",
      "Epoch 121/200\n",
      "32/32 [==============================] - 0s 645us/step - loss: 7.7125 - accuracy: 0.5000\n",
      "Epoch 122/200\n",
      "32/32 [==============================] - 0s 710us/step - loss: 7.7125 - accuracy: 0.5000\n",
      "Epoch 123/200\n",
      "32/32 [==============================] - 0s 678us/step - loss: 7.7125 - accuracy: 0.5000\n",
      "Epoch 124/200\n",
      "32/32 [==============================] - 0s 678us/step - loss: 7.7125 - accuracy: 0.5000\n",
      "Epoch 125/200\n",
      "32/32 [==============================] - 0s 742us/step - loss: 7.7125 - accuracy: 0.5000\n",
      "Epoch 126/200\n",
      "32/32 [==============================] - 0s 710us/step - loss: 7.7125 - accuracy: 0.5000\n",
      "Epoch 127/200\n",
      "32/32 [==============================] - 0s 710us/step - loss: 7.7125 - accuracy: 0.5000\n",
      "Epoch 128/200\n",
      "32/32 [==============================] - 0s 742us/step - loss: 7.7125 - accuracy: 0.5000\n",
      "Epoch 129/200\n",
      "32/32 [==============================] - 0s 742us/step - loss: 7.7125 - accuracy: 0.5000\n",
      "Epoch 130/200\n",
      "32/32 [==============================] - 0s 645us/step - loss: 7.7125 - accuracy: 0.5000\n",
      "Epoch 131/200\n",
      "32/32 [==============================] - 0s 807us/step - loss: 7.7125 - accuracy: 0.5000\n",
      "Epoch 132/200\n",
      "32/32 [==============================] - 0s 710us/step - loss: 7.7125 - accuracy: 0.5000\n",
      "Epoch 133/200\n",
      "32/32 [==============================] - 0s 710us/step - loss: 7.7125 - accuracy: 0.5000\n",
      "Epoch 134/200\n",
      "32/32 [==============================] - 0s 742us/step - loss: 7.7125 - accuracy: 0.5000\n",
      "Epoch 135/200\n",
      "32/32 [==============================] - 0s 774us/step - loss: 7.7125 - accuracy: 0.5000\n",
      "Epoch 136/200\n",
      "32/32 [==============================] - 0s 678us/step - loss: 7.7125 - accuracy: 0.5000\n",
      "Epoch 137/200\n",
      "32/32 [==============================] - 0s 710us/step - loss: 7.7125 - accuracy: 0.5000\n",
      "Epoch 138/200\n",
      "32/32 [==============================] - 0s 710us/step - loss: 7.7125 - accuracy: 0.5000\n",
      "Epoch 139/200\n",
      "32/32 [==============================] - 0s 807us/step - loss: 7.7125 - accuracy: 0.5000\n",
      "Epoch 140/200\n",
      "32/32 [==============================] - 0s 839us/step - loss: 7.7125 - accuracy: 0.5000\n",
      "Epoch 141/200\n",
      "32/32 [==============================] - 0s 742us/step - loss: 7.7125 - accuracy: 0.5000\n",
      "Epoch 142/200\n",
      "32/32 [==============================] - 0s 710us/step - loss: 7.7125 - accuracy: 0.5000\n",
      "Epoch 143/200\n",
      "32/32 [==============================] - 0s 613us/step - loss: 7.7125 - accuracy: 0.5000\n",
      "Epoch 144/200\n",
      "32/32 [==============================] - 0s 678us/step - loss: 7.7125 - accuracy: 0.5000\n",
      "Epoch 145/200\n",
      "32/32 [==============================] - 0s 678us/step - loss: 7.7125 - accuracy: 0.5000\n",
      "Epoch 146/200\n",
      "32/32 [==============================] - 0s 710us/step - loss: 7.7125 - accuracy: 0.5000\n",
      "Epoch 147/200\n",
      "32/32 [==============================] - 0s 645us/step - loss: 7.7125 - accuracy: 0.5000\n",
      "Epoch 148/200\n",
      "32/32 [==============================] - 0s 645us/step - loss: 7.7125 - accuracy: 0.5000\n",
      "Epoch 149/200\n",
      "32/32 [==============================] - 0s 678us/step - loss: 7.7125 - accuracy: 0.5000\n",
      "Epoch 150/200\n",
      "32/32 [==============================] - 0s 678us/step - loss: 7.7125 - accuracy: 0.5000\n",
      "Epoch 151/200\n",
      "32/32 [==============================] - 0s 645us/step - loss: 7.7125 - accuracy: 0.5000\n",
      "Epoch 152/200\n",
      "32/32 [==============================] - 0s 678us/step - loss: 7.7125 - accuracy: 0.5000\n",
      "Epoch 153/200\n",
      "32/32 [==============================] - 0s 678us/step - loss: 7.7125 - accuracy: 0.5000\n",
      "Epoch 154/200\n",
      "32/32 [==============================] - 0s 678us/step - loss: 7.7125 - accuracy: 0.5000\n",
      "Epoch 155/200\n",
      "32/32 [==============================] - 0s 613us/step - loss: 7.7125 - accuracy: 0.5000\n",
      "Epoch 156/200\n",
      "32/32 [==============================] - 0s 678us/step - loss: 7.7125 - accuracy: 0.5000\n",
      "Epoch 157/200\n",
      "32/32 [==============================] - 0s 613us/step - loss: 7.7125 - accuracy: 0.5000\n",
      "Epoch 158/200\n",
      "32/32 [==============================] - 0s 645us/step - loss: 7.7125 - accuracy: 0.5000\n",
      "Epoch 159/200\n",
      "32/32 [==============================] - 0s 613us/step - loss: 7.7125 - accuracy: 0.5000\n",
      "Epoch 160/200\n"
     ]
    },
    {
     "name": "stdout",
     "output_type": "stream",
     "text": [
      "32/32 [==============================] - 0s 645us/step - loss: 7.7125 - accuracy: 0.5000\n",
      "Epoch 161/200\n",
      "32/32 [==============================] - 0s 645us/step - loss: 7.7125 - accuracy: 0.5000\n",
      "Epoch 162/200\n",
      "32/32 [==============================] - 0s 645us/step - loss: 7.7125 - accuracy: 0.5000\n",
      "Epoch 163/200\n",
      "32/32 [==============================] - 0s 581us/step - loss: 7.7125 - accuracy: 0.5000\n",
      "Epoch 164/200\n",
      "32/32 [==============================] - 0s 678us/step - loss: 7.7125 - accuracy: 0.5000\n",
      "Epoch 165/200\n",
      "32/32 [==============================] - 0s 742us/step - loss: 7.7125 - accuracy: 0.5000\n",
      "Epoch 166/200\n",
      "32/32 [==============================] - 0s 645us/step - loss: 7.7125 - accuracy: 0.5000\n",
      "Epoch 167/200\n",
      "32/32 [==============================] - 0s 710us/step - loss: 7.7125 - accuracy: 0.5000\n",
      "Epoch 168/200\n",
      "32/32 [==============================] - 0s 645us/step - loss: 7.7125 - accuracy: 0.5000\n",
      "Epoch 169/200\n",
      "32/32 [==============================] - 0s 613us/step - loss: 7.7125 - accuracy: 0.5000\n",
      "Epoch 170/200\n",
      "32/32 [==============================] - 0s 645us/step - loss: 7.7125 - accuracy: 0.5000\n",
      "Epoch 171/200\n",
      "32/32 [==============================] - 0s 645us/step - loss: 7.7125 - accuracy: 0.5000\n",
      "Epoch 172/200\n",
      "32/32 [==============================] - 0s 645us/step - loss: 7.7125 - accuracy: 0.5000\n",
      "Epoch 173/200\n",
      "32/32 [==============================] - 0s 581us/step - loss: 7.7125 - accuracy: 0.5000\n",
      "Epoch 174/200\n",
      "32/32 [==============================] - 0s 710us/step - loss: 7.7125 - accuracy: 0.5000\n",
      "Epoch 175/200\n",
      "32/32 [==============================] - 0s 678us/step - loss: 7.7125 - accuracy: 0.5000\n",
      "Epoch 176/200\n",
      "32/32 [==============================] - 0s 581us/step - loss: 7.7125 - accuracy: 0.5000\n",
      "Epoch 177/200\n",
      "32/32 [==============================] - 0s 645us/step - loss: 7.7125 - accuracy: 0.5000\n",
      "Epoch 178/200\n",
      "32/32 [==============================] - 0s 645us/step - loss: 7.7125 - accuracy: 0.5000\n",
      "Epoch 179/200\n",
      "32/32 [==============================] - 0s 613us/step - loss: 7.7125 - accuracy: 0.5000\n",
      "Epoch 180/200\n",
      "32/32 [==============================] - 0s 645us/step - loss: 7.7125 - accuracy: 0.5000\n",
      "Epoch 181/200\n",
      "32/32 [==============================] - 0s 613us/step - loss: 7.7125 - accuracy: 0.5000\n",
      "Epoch 182/200\n",
      "32/32 [==============================] - 0s 599us/step - loss: 7.7125 - accuracy: 0.5000\n",
      "Epoch 183/200\n",
      "32/32 [==============================] - 0s 645us/step - loss: 7.7125 - accuracy: 0.5000\n",
      "Epoch 184/200\n",
      "32/32 [==============================] - 0s 645us/step - loss: 7.7125 - accuracy: 0.5000\n",
      "Epoch 185/200\n",
      "32/32 [==============================] - 0s 645us/step - loss: 7.7125 - accuracy: 0.5000\n",
      "Epoch 186/200\n",
      "32/32 [==============================] - 0s 645us/step - loss: 7.7125 - accuracy: 0.5000\n",
      "Epoch 187/200\n",
      "32/32 [==============================] - 0s 678us/step - loss: 7.7125 - accuracy: 0.5000\n",
      "Epoch 188/200\n",
      "32/32 [==============================] - 0s 613us/step - loss: 7.7125 - accuracy: 0.5000\n",
      "Epoch 189/200\n",
      "32/32 [==============================] - 0s 613us/step - loss: 7.7125 - accuracy: 0.5000\n",
      "Epoch 190/200\n",
      "32/32 [==============================] - 0s 645us/step - loss: 7.7125 - accuracy: 0.5000\n",
      "Epoch 191/200\n",
      "32/32 [==============================] - 0s 677us/step - loss: 7.7125 - accuracy: 0.5000\n",
      "Epoch 192/200\n",
      "32/32 [==============================] - 0s 613us/step - loss: 7.7125 - accuracy: 0.5000\n",
      "Epoch 193/200\n",
      "32/32 [==============================] - 0s 645us/step - loss: 7.7125 - accuracy: 0.5000\n",
      "Epoch 194/200\n",
      "32/32 [==============================] - 0s 613us/step - loss: 7.7125 - accuracy: 0.5000\n",
      "Epoch 195/200\n",
      "32/32 [==============================] - 0s 645us/step - loss: 7.7125 - accuracy: 0.5000\n",
      "Epoch 196/200\n",
      "32/32 [==============================] - 0s 645us/step - loss: 7.7125 - accuracy: 0.5000\n",
      "Epoch 197/200\n",
      "32/32 [==============================] - 0s 645us/step - loss: 7.7125 - accuracy: 0.5000\n",
      "Epoch 198/200\n",
      "32/32 [==============================] - 0s 645us/step - loss: 7.7125 - accuracy: 0.5000\n",
      "Epoch 199/200\n",
      "32/32 [==============================] - 0s 613us/step - loss: 7.7125 - accuracy: 0.5000\n",
      "Epoch 200/200\n",
      "32/32 [==============================] - 0s 678us/step - loss: 7.7125 - accuracy: 0.5000\n"
     ]
    },
    {
     "data": {
      "text/plain": [
       "<keras.callbacks.History at 0x1c8dd73b310>"
      ]
     },
     "execution_count": 29,
     "metadata": {},
     "output_type": "execute_result"
    }
   ],
   "source": [
    "# Time to replicate from the exercise\n",
    "\n",
    "tf.random.set_seed(42)\n",
    "\n",
    "model_6 = tf.keras.Sequential([\n",
    "    tf.keras.layers.Dense(4,activation = \"relu\"),\n",
    "    tf.keras.layers.Dense(4,activation = \"relu\"),\n",
    "    tf.keras.layers.Dense(1)\n",
    "])\n",
    "\n",
    "model_6.compile(loss = \"binary_crossentropy\",\n",
    "               optimizer = tf.keras.optimizers.Adam(lr = 0.001),\n",
    "               metrics = ['accuracy'])\n",
    "\n",
    "model_6.fit(X,y,epochs =200)"
   ]
  },
  {
   "cell_type": "code",
   "execution_count": 30,
   "id": "ace534e2",
   "metadata": {},
   "outputs": [
    {
     "name": "stdout",
     "output_type": "stream",
     "text": [
      "32/32 [==============================] - 0s 581us/step - loss: 7.7125 - accuracy: 0.5000\n"
     ]
    },
    {
     "data": {
      "text/plain": [
       "[7.712474346160889, 0.5]"
      ]
     },
     "execution_count": 30,
     "metadata": {},
     "output_type": "execute_result"
    }
   ],
   "source": [
    "model_6.evaluate(X,y)"
   ]
  },
  {
   "cell_type": "code",
   "execution_count": 31,
   "id": "544dddb4",
   "metadata": {},
   "outputs": [
    {
     "name": "stdout",
     "output_type": "stream",
     "text": [
      "Doing binary classification\n"
     ]
    },
    {
     "data": {
      "image/png": "[encoded data removed]",
      "text/plain": [
       "<Figure size 432x288 with 1 Axes>"
      ]
     },
     "metadata": {
      "needs_background": "light"
     },
     "output_type": "display_data"
    }
   ],
   "source": [
    "# How do the model prediction look?\n",
    "\n",
    "plot_decision_boundary(model_6,X,y)"
   ]
  },
  {
   "cell_type": "code",
   "execution_count": 32,
   "id": "4416efe9",
   "metadata": {},
   "outputs": [
    {
     "name": "stdout",
     "output_type": "stream",
     "text": [
      "Epoch 1/100\n",
      "32/32 [==============================] - 0s 678us/step - loss: 0.6891 - accuracy: 0.5020\n",
      "Epoch 2/100\n",
      "32/32 [==============================] - 0s 613us/step - loss: 0.6848 - accuracy: 0.5170\n",
      "Epoch 3/100\n",
      "32/32 [==============================] - 0s 645us/step - loss: 0.6824 - accuracy: 0.5160\n",
      "Epoch 4/100\n",
      "32/32 [==============================] - 0s 613us/step - loss: 0.6813 - accuracy: 0.5300\n",
      "Epoch 5/100\n",
      "32/32 [==============================] - 0s 655us/step - loss: 0.6802 - accuracy: 0.5390\n",
      "Epoch 6/100\n",
      "32/32 [==============================] - 0s 645us/step - loss: 0.6794 - accuracy: 0.5380\n",
      "Epoch 7/100\n",
      "32/32 [==============================] - 0s 678us/step - loss: 0.6785 - accuracy: 0.5500\n",
      "Epoch 8/100\n",
      "32/32 [==============================] - 0s 645us/step - loss: 0.6778 - accuracy: 0.5480\n",
      "Epoch 9/100\n",
      "32/32 [==============================] - 0s 613us/step - loss: 0.6772 - accuracy: 0.5530\n",
      "Epoch 10/100\n",
      "32/32 [==============================] - 0s 678us/step - loss: 0.6766 - accuracy: 0.5510\n",
      "Epoch 11/100\n",
      "32/32 [==============================] - 0s 613us/step - loss: 0.6760 - accuracy: 0.5500\n",
      "Epoch 12/100\n",
      "32/32 [==============================] - ETA: 0s - loss: 0.6966 - accuracy: 0.40 - 0s 613us/step - loss: 0.6754 - accuracy: 0.5550\n",
      "Epoch 13/100\n",
      "32/32 [==============================] - 0s 645us/step - loss: 0.6747 - accuracy: 0.5560\n",
      "Epoch 14/100\n",
      "32/32 [==============================] - 0s 613us/step - loss: 0.6741 - accuracy: 0.5540\n",
      "Epoch 15/100\n",
      "32/32 [==============================] - 0s 678us/step - loss: 0.6734 - accuracy: 0.5580\n",
      "Epoch 16/100\n",
      "32/32 [==============================] - 0s 645us/step - loss: 0.6727 - accuracy: 0.5550\n",
      "Epoch 17/100\n",
      "32/32 [==============================] - 0s 645us/step - loss: 0.6722 - accuracy: 0.5550\n",
      "Epoch 18/100\n",
      "32/32 [==============================] - 0s 645us/step - loss: 0.6716 - accuracy: 0.5550\n",
      "Epoch 19/100\n",
      "32/32 [==============================] - 0s 645us/step - loss: 0.6710 - accuracy: 0.5590\n",
      "Epoch 20/100\n",
      "32/32 [==============================] - 0s 678us/step - loss: 0.6702 - accuracy: 0.5600\n",
      "Epoch 21/100\n",
      "32/32 [==============================] - 0s 645us/step - loss: 0.6696 - accuracy: 0.5640\n",
      "Epoch 22/100\n",
      "32/32 [==============================] - 0s 645us/step - loss: 0.6688 - accuracy: 0.5600\n",
      "Epoch 23/100\n",
      "32/32 [==============================] - 0s 613us/step - loss: 0.6682 - accuracy: 0.5700\n",
      "Epoch 24/100\n",
      "32/32 [==============================] - 0s 613us/step - loss: 0.6679 - accuracy: 0.5570\n",
      "Epoch 25/100\n",
      "32/32 [==============================] - 0s 645us/step - loss: 0.6671 - accuracy: 0.5670\n",
      "Epoch 26/100\n",
      "32/32 [==============================] - 0s 645us/step - loss: 0.6662 - accuracy: 0.5750\n",
      "Epoch 27/100\n",
      "32/32 [==============================] - 0s 613us/step - loss: 0.6657 - accuracy: 0.5810\n",
      "Epoch 28/100\n",
      "32/32 [==============================] - 0s 678us/step - loss: 0.6645 - accuracy: 0.5700\n",
      "Epoch 29/100\n",
      "32/32 [==============================] - 0s 645us/step - loss: 0.6642 - accuracy: 0.5700\n",
      "Epoch 30/100\n",
      "32/32 [==============================] - 0s 678us/step - loss: 0.6634 - accuracy: 0.5790\n",
      "Epoch 31/100\n",
      "32/32 [==============================] - 0s 774us/step - loss: 0.6627 - accuracy: 0.5760\n",
      "Epoch 32/100\n",
      "32/32 [==============================] - 0s 807us/step - loss: 0.6619 - accuracy: 0.5760\n",
      "Epoch 33/100\n",
      "32/32 [==============================] - 0s 774us/step - loss: 0.6610 - accuracy: 0.5760\n",
      "Epoch 34/100\n",
      "32/32 [==============================] - 0s 774us/step - loss: 0.6606 - accuracy: 0.5760\n",
      "Epoch 35/100\n",
      "32/32 [==============================] - 0s 678us/step - loss: 0.6597 - accuracy: 0.5790\n",
      "Epoch 36/100\n",
      "32/32 [==============================] - 0s 710us/step - loss: 0.6586 - accuracy: 0.5780\n",
      "Epoch 37/100\n",
      "32/32 [==============================] - 0s 742us/step - loss: 0.6580 - accuracy: 0.5780\n",
      "Epoch 38/100\n",
      "32/32 [==============================] - 0s 678us/step - loss: 0.6573 - accuracy: 0.5790\n",
      "Epoch 39/100\n",
      "32/32 [==============================] - 0s 678us/step - loss: 0.6564 - accuracy: 0.5790\n",
      "Epoch 40/100\n",
      "32/32 [==============================] - 0s 678us/step - loss: 0.6556 - accuracy: 0.5760\n",
      "Epoch 41/100\n",
      "32/32 [==============================] - 0s 685us/step - loss: 0.6548 - accuracy: 0.5780\n",
      "Epoch 42/100\n",
      "32/32 [==============================] - 0s 581us/step - loss: 0.6540 - accuracy: 0.5750\n",
      "Epoch 43/100\n",
      "32/32 [==============================] - 0s 710us/step - loss: 0.6530 - accuracy: 0.5780\n",
      "Epoch 44/100\n",
      "32/32 [==============================] - 0s 645us/step - loss: 0.6521 - accuracy: 0.5810\n",
      "Epoch 45/100\n",
      "32/32 [==============================] - 0s 710us/step - loss: 0.6496 - accuracy: 0.5810\n",
      "Epoch 46/100\n",
      "32/32 [==============================] - 0s 613us/step - loss: 0.6481 - accuracy: 0.5830\n",
      "Epoch 47/100\n",
      "32/32 [==============================] - 0s 678us/step - loss: 0.6472 - accuracy: 0.5850\n",
      "Epoch 48/100\n",
      "32/32 [==============================] - 0s 678us/step - loss: 0.6451 - accuracy: 0.5880\n",
      "Epoch 49/100\n",
      "32/32 [==============================] - 0s 742us/step - loss: 0.6426 - accuracy: 0.5880\n",
      "Epoch 50/100\n",
      "32/32 [==============================] - 0s 710us/step - loss: 0.6404 - accuracy: 0.5940\n",
      "Epoch 51/100\n",
      "32/32 [==============================] - 0s 742us/step - loss: 0.6384 - accuracy: 0.6010\n",
      "Epoch 52/100\n",
      "32/32 [==============================] - 0s 710us/step - loss: 0.6364 - accuracy: 0.6130\n",
      "Epoch 53/100\n",
      "32/32 [==============================] - 0s 742us/step - loss: 0.6344 - accuracy: 0.6110\n",
      "Epoch 54/100\n",
      "32/32 [==============================] - 0s 742us/step - loss: 0.6312 - accuracy: 0.6280\n",
      "Epoch 55/100\n",
      "32/32 [==============================] - 0s 613us/step - loss: 0.6287 - accuracy: 0.6380\n",
      "Epoch 56/100\n",
      "32/32 [==============================] - 0s 710us/step - loss: 0.6259 - accuracy: 0.6840\n",
      "Epoch 57/100\n",
      "32/32 [==============================] - 0s 678us/step - loss: 0.6227 - accuracy: 0.6950\n",
      "Epoch 58/100\n",
      "32/32 [==============================] - 0s 645us/step - loss: 0.6200 - accuracy: 0.6990\n",
      "Epoch 59/100\n",
      "32/32 [==============================] - 0s 678us/step - loss: 0.6168 - accuracy: 0.6950\n",
      "Epoch 60/100\n",
      "32/32 [==============================] - 0s 645us/step - loss: 0.6133 - accuracy: 0.7240\n",
      "Epoch 61/100\n",
      "32/32 [==============================] - 0s 613us/step - loss: 0.6101 - accuracy: 0.7200\n",
      "Epoch 62/100\n",
      "32/32 [==============================] - 0s 613us/step - loss: 0.6059 - accuracy: 0.7330\n",
      "Epoch 63/100\n",
      "32/32 [==============================] - 0s 645us/step - loss: 0.6014 - accuracy: 0.7400\n",
      "Epoch 64/100\n",
      "32/32 [==============================] - 0s 678us/step - loss: 0.5966 - accuracy: 0.7460\n",
      "Epoch 65/100\n",
      "32/32 [==============================] - 0s 678us/step - loss: 0.5905 - accuracy: 0.7440\n",
      "Epoch 66/100\n",
      "32/32 [==============================] - 0s 678us/step - loss: 0.5830 - accuracy: 0.7450\n",
      "Epoch 67/100\n",
      "32/32 [==============================] - 0s 645us/step - loss: 0.5757 - accuracy: 0.7460\n",
      "Epoch 68/100\n",
      "32/32 [==============================] - 0s 613us/step - loss: 0.5683 - accuracy: 0.7800\n",
      "Epoch 69/100\n",
      "32/32 [==============================] - 0s 678us/step - loss: 0.5614 - accuracy: 0.8010\n",
      "Epoch 70/100\n",
      "32/32 [==============================] - 0s 645us/step - loss: 0.5548 - accuracy: 0.8010\n",
      "Epoch 71/100\n",
      "32/32 [==============================] - 0s 645us/step - loss: 0.5474 - accuracy: 0.8240\n",
      "Epoch 72/100\n",
      "32/32 [==============================] - 0s 581us/step - loss: 0.5406 - accuracy: 0.8460\n",
      "Epoch 73/100\n",
      "32/32 [==============================] - 0s 613us/step - loss: 0.5327 - accuracy: 0.8470\n",
      "Epoch 74/100\n",
      "32/32 [==============================] - 0s 613us/step - loss: 0.5243 - accuracy: 0.8620\n",
      "Epoch 75/100\n",
      "32/32 [==============================] - 0s 613us/step - loss: 0.5148 - accuracy: 0.8870\n",
      "Epoch 76/100\n",
      "32/32 [==============================] - 0s 710us/step - loss: 0.5042 - accuracy: 0.8820\n",
      "Epoch 77/100\n",
      "32/32 [==============================] - 0s 650us/step - loss: 0.4927 - accuracy: 0.9300\n",
      "Epoch 78/100\n",
      "32/32 [==============================] - 0s 678us/step - loss: 0.4824 - accuracy: 0.9090\n",
      "Epoch 79/100\n",
      "32/32 [==============================] - 0s 678us/step - loss: 0.4733 - accuracy: 0.9460\n",
      "Epoch 80/100\n",
      "32/32 [==============================] - 0s 710us/step - loss: 0.4632 - accuracy: 0.9600\n"
     ]
    },
    {
     "name": "stdout",
     "output_type": "stream",
     "text": [
      "Epoch 81/100\n",
      "32/32 [==============================] - 0s 678us/step - loss: 0.4546 - accuracy: 0.9600\n",
      "Epoch 82/100\n",
      "32/32 [==============================] - 0s 678us/step - loss: 0.4456 - accuracy: 0.9580\n",
      "Epoch 83/100\n",
      "32/32 [==============================] - 0s 678us/step - loss: 0.4360 - accuracy: 0.9630\n",
      "Epoch 84/100\n",
      "32/32 [==============================] - 0s 613us/step - loss: 0.4260 - accuracy: 0.9690\n",
      "Epoch 85/100\n",
      "32/32 [==============================] - 0s 645us/step - loss: 0.4145 - accuracy: 0.9700\n",
      "Epoch 86/100\n",
      "32/32 [==============================] - 0s 678us/step - loss: 0.4059 - accuracy: 0.9740\n",
      "Epoch 87/100\n",
      "32/32 [==============================] - 0s 613us/step - loss: 0.3962 - accuracy: 0.9750\n",
      "Epoch 88/100\n",
      "32/32 [==============================] - 0s 613us/step - loss: 0.3873 - accuracy: 0.9720\n",
      "Epoch 89/100\n",
      "32/32 [==============================] - 0s 613us/step - loss: 0.3795 - accuracy: 0.9750\n",
      "Epoch 90/100\n",
      "32/32 [==============================] - 0s 613us/step - loss: 0.3716 - accuracy: 0.9750\n",
      "Epoch 91/100\n",
      "32/32 [==============================] - 0s 581us/step - loss: 0.3635 - accuracy: 0.9840\n",
      "Epoch 92/100\n",
      "32/32 [==============================] - 0s 549us/step - loss: 0.3554 - accuracy: 0.9830\n",
      "Epoch 93/100\n",
      "32/32 [==============================] - 0s 871us/step - loss: 0.3482 - accuracy: 0.9800\n",
      "Epoch 94/100\n",
      "32/32 [==============================] - 0s 645us/step - loss: 0.3404 - accuracy: 0.9820\n",
      "Epoch 95/100\n",
      "32/32 [==============================] - 0s 613us/step - loss: 0.3329 - accuracy: 0.9880\n",
      "Epoch 96/100\n",
      "32/32 [==============================] - 0s 645us/step - loss: 0.3268 - accuracy: 0.9870\n",
      "Epoch 97/100\n",
      "32/32 [==============================] - 0s 645us/step - loss: 0.3190 - accuracy: 0.9870\n",
      "Epoch 98/100\n",
      "32/32 [==============================] - 0s 613us/step - loss: 0.3122 - accuracy: 0.9890\n",
      "Epoch 99/100\n",
      "32/32 [==============================] - 0s 581us/step - loss: 0.3059 - accuracy: 0.9880\n",
      "Epoch 100/100\n",
      "32/32 [==============================] - 0s 613us/step - loss: 0.2993 - accuracy: 0.9890\n"
     ]
    },
    {
     "data": {
      "text/plain": [
       "<keras.callbacks.History at 0x1c8de94e9d0>"
      ]
     },
     "execution_count": 32,
     "metadata": {},
     "output_type": "execute_result"
    }
   ],
   "source": [
    "tf.random.set_seed(42)\n",
    "\n",
    "model_7 = tf.keras.Sequential([\n",
    "    tf.keras.layers.Dense(4,activation =\"relu\"),\n",
    "    tf.keras.layers.Dense(4,activation = \"relu\"),\n",
    "    tf.keras.layers.Dense(1,activation = \"sigmoid\")\n",
    "])\n",
    "\n",
    "model_7.compile(loss = \"binary_crossentropy\",\n",
    "               optimizer =tf.keras.optimizers.Adam(lr = 0.001),\n",
    "               metrics = [\"accuracy\"])\n",
    "\n",
    "model_7.fit(X,y,epochs =100)"
   ]
  },
  {
   "cell_type": "code",
   "execution_count": 33,
   "id": "8a21310e",
   "metadata": {},
   "outputs": [
    {
     "name": "stdout",
     "output_type": "stream",
     "text": [
      "32/32 [==============================] - 0s 484us/step - loss: 0.2948 - accuracy: 0.9910\n"
     ]
    },
    {
     "data": {
      "text/plain": [
       "[0.29480040073394775, 0.9909999966621399]"
      ]
     },
     "execution_count": 33,
     "metadata": {},
     "output_type": "execute_result"
    }
   ],
   "source": [
    "model_7.evaluate(X,y)"
   ]
  },
  {
   "cell_type": "code",
   "execution_count": 34,
   "id": "b7454587",
   "metadata": {},
   "outputs": [
    {
     "name": "stdout",
     "output_type": "stream",
     "text": [
      "Doing binary classification\n"
     ]
    },
    {
     "data": {
      "image/png": "[encoded data removed]",
      "text/plain": [
       "<Figure size 432x288 with 1 Axes>"
      ]
     },
     "metadata": {
      "needs_background": "light"
     },
     "output_type": "display_data"
    }
   ],
   "source": [
    "plot_decision_boundary(model_7,X,y)"
   ]
  },
  {
   "cell_type": "markdown",
   "id": "380be9d4",
   "metadata": {},
   "source": [
    "**Question:** What's wrong the predictions we've made????\n",
    "    \n",
    "    Are we really evaluating our model correctly? Hint : What data did the model learn on and what data did we predict on?"
   ]
  },
  {
   "cell_type": "markdown",
   "id": "d53ed5a4",
   "metadata": {},
   "source": [
    "**Note:** The combination of **linear(straight lines) and non-linear (non-straight lines) functions** is one of the key fundamentals of neural networks"
   ]
  },
  {
   "cell_type": "markdown",
   "id": "cf93bedd",
   "metadata": {},
   "source": [
    "# Create a toy tensor (Similar to the data passed into the models)"
   ]
  },
  {
   "cell_type": "code",
   "execution_count": 35,
   "id": "7c227b57",
   "metadata": {},
   "outputs": [],
   "source": [
    "A = tf.cast(tf.range(-10,10),tf.float32)"
   ]
  },
  {
   "cell_type": "code",
   "execution_count": 36,
   "id": "1119bbeb",
   "metadata": {},
   "outputs": [
    {
     "data": {
      "text/plain": [
       "[<matplotlib.lines.Line2D at 0x1c8dc20e4c0>]"
      ]
     },
     "execution_count": 36,
     "metadata": {},
     "output_type": "execute_result"
    },
    {
     "data": {
      "image/png": "[encoded data removed]",
      "text/plain": [
       "<Figure size 432x288 with 1 Axes>"
      ]
     },
     "metadata": {
      "needs_background": "light"
     },
     "output_type": "display_data"
    }
   ],
   "source": [
    "# Visualize our toy tensor\n",
    "plt.plot(A)"
   ]
  },
  {
   "cell_type": "code",
   "execution_count": 37,
   "id": "58573387",
   "metadata": {},
   "outputs": [
    {
     "data": {
      "text/plain": [
       "<tf.Tensor: shape=(20,), dtype=float32, numpy=\n",
       "array([4.5397872e-05, 1.2339458e-04, 3.3535014e-04, 9.1105117e-04,\n",
       "       2.4726233e-03, 6.6928510e-03, 1.7986210e-02, 4.7425874e-02,\n",
       "       1.1920292e-01, 2.6894143e-01, 5.0000000e-01, 7.3105860e-01,\n",
       "       8.8079703e-01, 9.5257413e-01, 9.8201376e-01, 9.9330717e-01,\n",
       "       9.9752742e-01, 9.9908900e-01, 9.9966466e-01, 9.9987662e-01],\n",
       "      dtype=float32)>"
      ]
     },
     "execution_count": 37,
     "metadata": {},
     "output_type": "execute_result"
    }
   ],
   "source": [
    "# Start by replication sigmoid => sigmoid(x)  = 1 / (1 + exp(-x))\n",
    "\n",
    "def sigmoid(x):\n",
    "    return 1 / (1+tf.exp(-x))\n",
    "\n",
    "# Use the sigmoid function on our toy tensor\n",
    "\n",
    "sigmoid(A)"
   ]
  },
  {
   "cell_type": "code",
   "execution_count": 38,
   "id": "e6d863fd",
   "metadata": {},
   "outputs": [
    {
     "data": {
      "text/plain": [
       "[<matplotlib.lines.Line2D at 0x1c8dec17d90>]"
      ]
     },
     "execution_count": 38,
     "metadata": {},
     "output_type": "execute_result"
    },
    {
     "data": {
      "image/png": "[encoded data removed]",
      "text/plain": [
       "<Figure size 432x288 with 1 Axes>"
      ]
     },
     "metadata": {
      "needs_background": "light"
     },
     "output_type": "display_data"
    }
   ],
   "source": [
    "plt.plot(sigmoid(A))"
   ]
  },
  {
   "cell_type": "code",
   "execution_count": 39,
   "id": "5e9d469e",
   "metadata": {},
   "outputs": [
    {
     "data": {
      "text/plain": [
       "<tf.Tensor: shape=(20,), dtype=float32, numpy=\n",
       "array([0., 0., 0., 0., 0., 0., 0., 0., 0., 0., 0., 1., 2., 3., 4., 5., 6.,\n",
       "       7., 8., 9.], dtype=float32)>"
      ]
     },
     "execution_count": 39,
     "metadata": {},
     "output_type": "execute_result"
    }
   ],
   "source": [
    "# Recreate the relu function\n",
    "def relu(x):\n",
    "    return tf.maximum(0,x)\n",
    "\n",
    "# Pass our toy tensor to relu function\n",
    "\n",
    "relu(A)"
   ]
  },
  {
   "cell_type": "code",
   "execution_count": 40,
   "id": "de31869e",
   "metadata": {},
   "outputs": [
    {
     "data": {
      "text/plain": [
       "[<matplotlib.lines.Line2D at 0x1c8dec88760>]"
      ]
     },
     "execution_count": 40,
     "metadata": {},
     "output_type": "execute_result"
    },
    {
     "data": {
      "image/png": "[encoded data removed]",
      "text/plain": [
       "<Figure size 432x288 with 1 Axes>"
      ]
     },
     "metadata": {
      "needs_background": "light"
     },
     "output_type": "display_data"
    }
   ],
   "source": [
    "plt.plot(relu(A))"
   ]
  },
  {
   "cell_type": "code",
   "execution_count": 41,
   "id": "6c59437a",
   "metadata": {},
   "outputs": [
    {
     "data": {
      "text/plain": [
       "<tf.Tensor: shape=(20,), dtype=float32, numpy=\n",
       "array([-10.,  -9.,  -8.,  -7.,  -6.,  -5.,  -4.,  -3.,  -2.,  -1.,   0.,\n",
       "         1.,   2.,   3.,   4.,   5.,   6.,   7.,   8.,   9.],\n",
       "      dtype=float32)>"
      ]
     },
     "execution_count": 41,
     "metadata": {},
     "output_type": "execute_result"
    }
   ],
   "source": [
    "# Linear tensorflow\n",
    "\n",
    "tf.keras.activations.linear(A)"
   ]
  },
  {
   "cell_type": "code",
   "execution_count": 42,
   "id": "e7a6cc47",
   "metadata": {},
   "outputs": [
    {
     "data": {
      "text/plain": [
       "[<matplotlib.lines.Line2D at 0x1c8decee970>]"
      ]
     },
     "execution_count": 42,
     "metadata": {},
     "output_type": "execute_result"
    },
    {
     "data": {
      "image/png": "[encoded data removed]",
      "text/plain": [
       "<Figure size 432x288 with 1 Axes>"
      ]
     },
     "metadata": {
      "needs_background": "light"
     },
     "output_type": "display_data"
    }
   ],
   "source": [
    "# Does the linear activation function change anything?\n",
    "plt.plot(tf.keras.activations.linear(A))"
   ]
  },
  {
   "cell_type": "markdown",
   "id": "b243d164",
   "metadata": {},
   "source": [
    "# Evaluating and improving our classification\n",
    "\n",
    "So far been training and testing on the same dataset...\n",
    "\n",
    "However, in ML this is basically a sin\n",
    "Create a training and test set\n"
   ]
  },
  {
   "cell_type": "code",
   "execution_count": 43,
   "id": "a1c07326",
   "metadata": {},
   "outputs": [
    {
     "data": {
      "text/plain": [
       "1000"
      ]
     },
     "execution_count": 43,
     "metadata": {},
     "output_type": "execute_result"
    }
   ],
   "source": [
    "# Check how many examples we have\n",
    "\n",
    "len(X)"
   ]
  },
  {
   "cell_type": "code",
   "execution_count": 44,
   "id": "de7eda4a",
   "metadata": {},
   "outputs": [
    {
     "data": {
      "text/plain": [
       "(array([[ 0.75424625,  0.23148074],\n",
       "        [-0.75615888,  0.15325888],\n",
       "        [-0.81539193,  0.17328203],\n",
       "        ...,\n",
       "        [-0.13690036, -0.81001183],\n",
       "        [ 0.67036156, -0.76750154],\n",
       "        [ 0.28105665,  0.96382443]]),\n",
       " array([1, 1, 1, 1, 0, 1, 1, 1, 1, 0, 1, 0, 1, 1, 1, 1, 0, 1, 1, 0, 1, 0,\n",
       "        0, 1, 0, 0, 0, 1, 1, 1, 0, 0, 1, 0, 0, 0, 1, 1, 1, 0, 0, 0, 0, 1,\n",
       "        0, 0, 1, 1, 0, 1, 1, 1, 0, 1, 0, 0, 1, 0, 0, 1, 0, 0, 1, 0, 1, 1,\n",
       "        1, 1, 0, 1, 0, 0, 1, 1, 0, 0, 1, 0, 1, 0, 1, 0, 0, 0, 0, 1, 1, 1,\n",
       "        1, 0, 0, 0, 1, 0, 1, 0, 1, 0, 0, 1, 1, 0, 1, 0, 1, 1, 1, 1, 0, 1,\n",
       "        1, 1, 1, 1, 0, 0, 0, 1, 1, 0, 1, 0, 1, 0, 0, 1, 1, 0, 1, 1, 1, 1,\n",
       "        0, 1, 1, 0, 0, 0, 0, 0, 0, 0, 1, 0, 1, 1, 1, 0, 1, 0, 1, 0, 1, 0,\n",
       "        1, 0, 0, 1, 0, 1, 1, 1, 1, 1, 1, 1, 0, 1, 0, 0, 0, 0, 0, 1, 0, 0,\n",
       "        0, 0, 1, 1, 0, 1, 0, 1, 1, 0, 0, 0, 1, 1, 1, 1, 1, 0, 0, 0, 0, 0,\n",
       "        1, 0, 0, 1, 1, 1, 1, 1, 0, 1, 0, 1, 0, 0, 1, 1, 1, 0, 1, 0, 1, 1,\n",
       "        0, 1, 1, 0, 1, 0, 1, 0, 1, 1, 0, 1, 0, 1, 0, 0, 0, 1, 0, 0, 0, 0,\n",
       "        1, 1, 0, 0, 0, 0, 0, 0, 0, 1, 1, 1, 0, 0, 1, 1, 1, 0, 1, 0, 0, 0,\n",
       "        0, 1, 1, 0, 1, 0, 0, 0, 1, 0, 1, 0, 0, 1, 0, 1, 1, 1, 0, 0, 0, 1,\n",
       "        0, 0, 0, 1, 1, 1, 1, 0, 0, 0, 1, 0, 0, 0, 1, 0, 0, 0, 1, 1, 0, 1,\n",
       "        1, 1, 1, 1, 1, 1, 0, 0, 0, 0, 1, 0, 0, 0, 0, 1, 1, 1, 0, 0, 1, 0,\n",
       "        1, 0, 1, 1, 0, 0, 1, 1, 1, 1, 0, 0, 0, 0, 0, 0, 1, 1, 0, 1, 0, 0,\n",
       "        1, 0, 0, 0, 0, 0, 0, 0, 0, 1, 0, 0, 0, 0, 1, 0, 0, 1, 0, 1, 0, 0,\n",
       "        0, 1, 0, 0, 1, 1, 0, 0, 1, 0, 0, 1, 1, 0, 1, 1, 0, 0, 1, 0, 1, 0,\n",
       "        0, 0, 1, 1, 0, 0, 1, 1, 1, 1, 1, 0, 0, 1, 1, 1, 1, 0, 1, 1, 1, 1,\n",
       "        1, 0, 0, 1, 0, 1, 0, 0, 0, 0, 1, 0, 0, 0, 0, 0, 0, 0, 0, 0, 1, 1,\n",
       "        0, 1, 1, 1, 1, 1, 1, 0, 1, 1, 1, 1, 0, 0, 0, 1, 1, 1, 0, 0, 0, 0,\n",
       "        1, 1, 0, 0, 0, 0, 1, 0, 0, 0, 1, 0, 0, 1, 1, 1, 1, 1, 1, 0, 0, 0,\n",
       "        1, 0, 0, 0, 0, 0, 1, 1, 1, 0, 0, 0, 0, 0, 1, 1, 1, 0, 0, 1, 1, 1,\n",
       "        1, 0, 1, 1, 0, 1, 0, 0, 0, 1, 0, 0, 1, 0, 0, 1, 1, 0, 0, 1, 1, 0,\n",
       "        1, 0, 1, 0, 1, 0, 1, 0, 0, 0, 1, 0, 0, 0, 0, 0, 0, 1, 1, 1, 1, 0,\n",
       "        0, 0, 1, 0, 1, 1, 0, 0, 0, 0, 0, 1, 1, 1, 0, 0, 1, 0, 0, 1, 0, 0,\n",
       "        1, 0, 0, 1, 0, 0, 0, 1, 0, 0, 1, 1, 1, 0, 1, 1, 0, 0, 0, 1, 1, 1,\n",
       "        1, 0, 0, 1, 1, 1, 0, 0, 0, 0, 1, 1, 0, 0, 1, 1, 0, 0, 1, 1, 1, 1,\n",
       "        1, 1, 1, 0, 1, 0, 1, 0, 0, 1, 0, 1, 1, 1, 1, 0, 0, 1, 1, 0, 0, 1,\n",
       "        0, 1, 0, 0, 0, 1, 0, 0, 1, 1, 1, 1, 0, 1, 1, 1, 1, 1, 1, 1, 0, 1,\n",
       "        0, 1, 1, 1, 0, 0, 1, 0, 0, 0, 1, 1, 1, 1, 0, 0, 0, 0, 1, 0, 1, 1,\n",
       "        1, 0, 1, 0, 0, 1, 0, 0, 1, 1, 1, 1, 1, 0, 1, 0, 0, 0, 1, 1, 1, 1,\n",
       "        1, 0, 0, 0, 1, 1, 1, 1, 0, 0, 0, 0, 0, 1, 1, 0, 1, 0, 1, 0, 0, 0,\n",
       "        0, 0, 0, 0, 0, 0, 1, 1, 1, 1, 1, 0, 1, 0, 1, 1, 1, 1, 0, 1, 1, 1,\n",
       "        1, 1, 1, 1, 1, 0, 1, 1, 0, 1, 0, 0, 0, 1, 0, 1, 1, 1, 0, 1, 1, 0,\n",
       "        1, 1, 0, 1, 0, 1, 1, 0, 0, 1, 1, 1, 0, 0, 0, 0, 1, 1, 0, 0, 1, 1,\n",
       "        1, 1, 1, 1, 1, 1, 1, 1, 1, 1, 1, 1, 0, 0, 1, 0, 1, 0, 1, 0, 1, 1,\n",
       "        1, 1, 1, 1, 0, 1, 0, 1, 1, 1, 0, 1, 1, 0, 0, 1, 0, 1, 1, 0, 0, 1,\n",
       "        1, 1, 1, 1, 1, 1, 1, 0, 1, 1, 1, 0, 1, 0, 0, 1, 1, 0, 0, 0, 1, 0,\n",
       "        0, 1, 0, 0, 0, 1, 0, 1, 0, 0, 0, 0, 1, 0, 1, 1, 1, 1, 0, 1, 0, 0,\n",
       "        0, 0, 0, 0, 1, 0, 1, 0, 1, 0, 1, 1, 1, 0, 1, 0, 1, 0, 0, 1, 1, 1,\n",
       "        0, 0, 0, 1, 1, 0, 1, 0, 1, 1, 0, 1, 0, 0, 1, 1, 1, 0, 0, 0, 1, 1,\n",
       "        0, 0, 0, 0, 0, 1, 1, 0, 1, 0, 0, 0, 1, 0, 0, 0, 1, 1, 1, 1, 0, 1,\n",
       "        1, 1, 0, 1, 1, 1, 1, 0, 1, 1, 0, 1, 1, 0, 0, 1, 1, 1, 0, 0, 0, 0,\n",
       "        0, 0, 1, 0, 0, 1, 0, 0, 0, 1, 0, 1, 0, 1, 1, 0, 0, 0, 0, 0, 0, 0,\n",
       "        0, 1, 0, 1, 0, 0, 0, 1, 0, 0], dtype=int64))"
      ]
     },
     "execution_count": 44,
     "metadata": {},
     "output_type": "execute_result"
    }
   ],
   "source": [
    "X,y"
   ]
  },
  {
   "cell_type": "code",
   "execution_count": 45,
   "id": "9f00f3fb",
   "metadata": {},
   "outputs": [
    {
     "data": {
      "text/plain": [
       "((800, 2), (200, 2), (800,), (200,))"
      ]
     },
     "execution_count": 45,
     "metadata": {},
     "output_type": "execute_result"
    }
   ],
   "source": [
    "# Split into train and test sets\n",
    "X_train, y_train = X[:800], y[:800]\n",
    "\n",
    "X_test, y_test = X[800:], y[800:]\n",
    "\n",
    "X_train.shape, X_test.shape, y_train.shape, y_test.shape"
   ]
  },
  {
   "cell_type": "code",
   "execution_count": 46,
   "id": "7c3ee6ff",
   "metadata": {},
   "outputs": [
    {
     "name": "stderr",
     "output_type": "stream",
     "text": [
      "C:\\Users\\Younghun\\anaconda3\\lib\\site-packages\\keras\\optimizer_v2\\adam.py:105: UserWarning: The `lr` argument is deprecated, use `learning_rate` instead.\n",
      "  super(Adam, self).__init__(name, **kwargs)\n"
     ]
    },
    {
     "name": "stdout",
     "output_type": "stream",
     "text": [
      "Epoch 1/25\n",
      "25/25 [==============================] - 0s 750us/step - loss: 0.6847 - accuracy: 0.5425\n",
      "Epoch 2/25\n",
      "25/25 [==============================] - 0s 750us/step - loss: 0.6777 - accuracy: 0.5525\n",
      "Epoch 3/25\n",
      "25/25 [==============================] - 0s 667us/step - loss: 0.6736 - accuracy: 0.5512\n",
      "Epoch 4/25\n",
      "25/25 [==============================] - 0s 667us/step - loss: 0.6681 - accuracy: 0.5775\n",
      "Epoch 5/25\n",
      "25/25 [==============================] - 0s 667us/step - loss: 0.6633 - accuracy: 0.5850\n",
      "Epoch 6/25\n",
      "25/25 [==============================] - 0s 1ms/step - loss: 0.6546 - accuracy: 0.5838\n",
      "Epoch 7/25\n",
      "25/25 [==============================] - 0s 542us/step - loss: 0.6413 - accuracy: 0.6750\n",
      "Epoch 8/25\n",
      "25/25 [==============================] - 0s 583us/step - loss: 0.6264 - accuracy: 0.7013\n",
      "Epoch 9/25\n",
      "25/25 [==============================] - 0s 667us/step - loss: 0.6038 - accuracy: 0.7487\n",
      "Epoch 10/25\n",
      "25/25 [==============================] - 0s 667us/step - loss: 0.5714 - accuracy: 0.7738\n",
      "Epoch 11/25\n",
      "25/25 [==============================] - 0s 625us/step - loss: 0.5404 - accuracy: 0.7650\n",
      "Epoch 12/25\n",
      "25/25 [==============================] - 0s 667us/step - loss: 0.5015 - accuracy: 0.7837\n",
      "Epoch 13/25\n",
      "25/25 [==============================] - 0s 583us/step - loss: 0.4683 - accuracy: 0.7975\n",
      "Epoch 14/25\n",
      "25/25 [==============================] - 0s 583us/step - loss: 0.4113 - accuracy: 0.8450\n",
      "Epoch 15/25\n",
      "25/25 [==============================] - 0s 583us/step - loss: 0.3625 - accuracy: 0.9125\n",
      "Epoch 16/25\n",
      "25/25 [==============================] - 0s 709us/step - loss: 0.3209 - accuracy: 0.9312\n",
      "Epoch 17/25\n",
      "25/25 [==============================] - 0s 625us/step - loss: 0.2847 - accuracy: 0.9488\n",
      "Epoch 18/25\n",
      "25/25 [==============================] - 0s 667us/step - loss: 0.2597 - accuracy: 0.9525\n",
      "Epoch 19/25\n",
      "25/25 [==============================] - 0s 584us/step - loss: 0.2375 - accuracy: 0.9563\n",
      "Epoch 20/25\n",
      "25/25 [==============================] - 0s 583us/step - loss: 0.2135 - accuracy: 0.9663\n",
      "Epoch 21/25\n",
      "25/25 [==============================] - 0s 583us/step - loss: 0.1938 - accuracy: 0.9775\n",
      "Epoch 22/25\n",
      "25/25 [==============================] - 0s 583us/step - loss: 0.1752 - accuracy: 0.9737\n",
      "Epoch 23/25\n",
      "25/25 [==============================] - 0s 667us/step - loss: 0.1619 - accuracy: 0.9787\n",
      "Epoch 24/25\n",
      "25/25 [==============================] - 0s 625us/step - loss: 0.1550 - accuracy: 0.9775\n",
      "Epoch 25/25\n",
      "25/25 [==============================] - 0s 583us/step - loss: 0.1490 - accuracy: 0.9762\n"
     ]
    }
   ],
   "source": [
    "# Recreate a model to fit on the training data and evaluate on the test data\n",
    "\n",
    "tf.random.set_seed(42)\n",
    "\n",
    "\n",
    "# Same model as model_7\n",
    "model_8 = tf.keras.Sequential([\n",
    "    tf.keras.layers.Dense(4,activation = \"relu\"),\n",
    "    tf.keras.layers.Dense(4,activation = \"relu\"),\n",
    "    tf.keras.layers.Dense(1,activation =\"sigmoid\")\n",
    "])\n",
    "\n",
    "model_8.compile(loss = \"binary_crossentropy\",\n",
    "               optimizer = tf.keras.optimizers.Adam(lr = 0.01),\n",
    "               metrics = [\"accuracy\"])\n",
    "\n",
    "history = model_8.fit(X_train,y_train,epochs = 25 )"
   ]
  },
  {
   "cell_type": "code",
   "execution_count": 47,
   "id": "7e88b0ab",
   "metadata": {},
   "outputs": [
    {
     "name": "stdout",
     "output_type": "stream",
     "text": [
      "7/7 [==============================] - 0s 667us/step - loss: 0.1247 - accuracy: 1.0000\n"
     ]
    },
    {
     "data": {
      "text/plain": [
       "[0.1246885135769844, 1.0]"
      ]
     },
     "execution_count": 47,
     "metadata": {},
     "output_type": "execute_result"
    }
   ],
   "source": [
    "model_8.evaluate(X_test,y_test)"
   ]
  },
  {
   "cell_type": "code",
   "execution_count": 48,
   "id": "f4941d37",
   "metadata": {},
   "outputs": [
    {
     "name": "stdout",
     "output_type": "stream",
     "text": [
      "Doing binary classification\n",
      "Doing binary classification\n"
     ]
    },
    {
     "data": {
      "image/png": "[encoded data removed]",
      "text/plain": [
       "<Figure size 864x432 with 2 Axes>"
      ]
     },
     "metadata": {
      "needs_background": "light"
     },
     "output_type": "display_data"
    }
   ],
   "source": [
    "plt.figure(figsize=(12,6))\n",
    "plt.subplot(1,2,1)\n",
    "plt.title(\"train\")\n",
    "plot_decision_boundary(model_8,X=X_train,y=y_train)\n",
    "plt.subplot(1,2,2)\n",
    "plt.title(\"test\")\n",
    "plot_decision_boundary(model_8,X=X_test,y=y_test)"
   ]
  },
  {
   "cell_type": "markdown",
   "id": "0f0d0351",
   "metadata": {},
   "source": [
    "# Finding the best learning rate\n",
    "\n",
    "To find the ideal learning rate ( the learning rate where the loss decreases the most during training) \n",
    "\n",
    "* A learning rate **callback** - Think of a callback as an extra piece of funtionality, we can add to model **while** training\n",
    "* Another model (Use the same one as above, but we're going to practicing build \n",
    "* A modified loss curves plot"
   ]
  },
  {
   "cell_type": "code",
   "execution_count": 49,
   "id": "528d5a1d",
   "metadata": {},
   "outputs": [
    {
     "name": "stdout",
     "output_type": "stream",
     "text": [
      "Epoch 1/100\n",
      "25/25 [==============================] - 0s 667us/step - loss: 0.6945 - accuracy: 0.4988 - lr: 1.0000e-04\n",
      "Epoch 2/100\n",
      "25/25 [==============================] - 0s 583us/step - loss: 0.6938 - accuracy: 0.4975 - lr: 1.1220e-04\n",
      "Epoch 3/100\n",
      "25/25 [==============================] - 0s 583us/step - loss: 0.6930 - accuracy: 0.4963 - lr: 1.2589e-04\n",
      "Epoch 4/100\n",
      "25/25 [==============================] - 0s 750us/step - loss: 0.6922 - accuracy: 0.4975 - lr: 1.4125e-04\n",
      "Epoch 5/100\n",
      "25/25 [==============================] - 0s 583us/step - loss: 0.6914 - accuracy: 0.5063 - lr: 1.5849e-04\n",
      "Epoch 6/100\n",
      "25/25 [==============================] - 0s 583us/step - loss: 0.6906 - accuracy: 0.5013 - lr: 1.7783e-04\n",
      "Epoch 7/100\n",
      "25/25 [==============================] - 0s 625us/step - loss: 0.6898 - accuracy: 0.4950 - lr: 1.9953e-04\n",
      "Epoch 8/100\n",
      "25/25 [==============================] - 0s 625us/step - loss: 0.6889 - accuracy: 0.5038 - lr: 2.2387e-04\n",
      "Epoch 9/100\n",
      "25/25 [==============================] - 0s 583us/step - loss: 0.6880 - accuracy: 0.5013 - lr: 2.5119e-04\n",
      "Epoch 10/100\n",
      "25/25 [==============================] - 0s 542us/step - loss: 0.6871 - accuracy: 0.5050 - lr: 2.8184e-04\n",
      "Epoch 11/100\n",
      "25/25 [==============================] - 0s 583us/step - loss: 0.6863 - accuracy: 0.5200 - lr: 3.1623e-04\n",
      "Epoch 12/100\n",
      "25/25 [==============================] - 0s 583us/step - loss: 0.6856 - accuracy: 0.5163 - lr: 3.5481e-04\n",
      "Epoch 13/100\n",
      "25/25 [==============================] - 0s 625us/step - loss: 0.6847 - accuracy: 0.5175 - lr: 3.9811e-04\n",
      "Epoch 14/100\n",
      "25/25 [==============================] - 0s 625us/step - loss: 0.6842 - accuracy: 0.5200 - lr: 4.4668e-04\n",
      "Epoch 15/100\n",
      "25/25 [==============================] - 0s 625us/step - loss: 0.6835 - accuracy: 0.5213 - lr: 5.0119e-04\n",
      "Epoch 16/100\n",
      "25/25 [==============================] - 0s 583us/step - loss: 0.6829 - accuracy: 0.5213 - lr: 5.6234e-04\n",
      "Epoch 17/100\n",
      "25/25 [==============================] - 0s 583us/step - loss: 0.6826 - accuracy: 0.5225 - lr: 6.3096e-04\n",
      "Epoch 18/100\n",
      "25/25 [==============================] - 0s 542us/step - loss: 0.6819 - accuracy: 0.5300 - lr: 7.0795e-04\n",
      "Epoch 19/100\n",
      "25/25 [==============================] - 0s 583us/step - loss: 0.6816 - accuracy: 0.5312 - lr: 7.9433e-04\n",
      "Epoch 20/100\n",
      "25/25 [==============================] - 0s 625us/step - loss: 0.6811 - accuracy: 0.5387 - lr: 8.9125e-04\n",
      "Epoch 21/100\n",
      "25/25 [==============================] - 0s 667us/step - loss: 0.6806 - accuracy: 0.5400 - lr: 0.0010\n",
      "Epoch 22/100\n",
      "25/25 [==============================] - 0s 667us/step - loss: 0.6801 - accuracy: 0.5412 - lr: 0.0011\n",
      "Epoch 23/100\n",
      "25/25 [==============================] - 0s 667us/step - loss: 0.6796 - accuracy: 0.5400 - lr: 0.0013\n",
      "Epoch 24/100\n",
      "25/25 [==============================] - 0s 667us/step - loss: 0.6790 - accuracy: 0.5425 - lr: 0.0014\n",
      "Epoch 25/100\n",
      "25/25 [==============================] - 0s 708us/step - loss: 0.6784 - accuracy: 0.5450 - lr: 0.0016\n",
      "Epoch 26/100\n",
      "25/25 [==============================] - 0s 667us/step - loss: 0.6778 - accuracy: 0.5387 - lr: 0.0018\n",
      "Epoch 27/100\n",
      "25/25 [==============================] - 0s 667us/step - loss: 0.6770 - accuracy: 0.5425 - lr: 0.0020\n",
      "Epoch 28/100\n",
      "25/25 [==============================] - 0s 792us/step - loss: 0.6760 - accuracy: 0.5537 - lr: 0.0022\n",
      "Epoch 29/100\n",
      "25/25 [==============================] - 0s 667us/step - loss: 0.6754 - accuracy: 0.5512 - lr: 0.0025\n",
      "Epoch 30/100\n",
      "25/25 [==============================] - 0s 625us/step - loss: 0.6739 - accuracy: 0.5575 - lr: 0.0028\n",
      "Epoch 31/100\n",
      "25/25 [==============================] - 0s 550us/step - loss: 0.6726 - accuracy: 0.5500 - lr: 0.0032\n",
      "Epoch 32/100\n",
      "25/25 [==============================] - 0s 625us/step - loss: 0.6711 - accuracy: 0.5512 - lr: 0.0035\n",
      "Epoch 33/100\n",
      "25/25 [==============================] - 0s 625us/step - loss: 0.6688 - accuracy: 0.5562 - lr: 0.0040\n",
      "Epoch 34/100\n",
      "25/25 [==============================] - 0s 583us/step - loss: 0.6672 - accuracy: 0.5612 - lr: 0.0045\n",
      "Epoch 35/100\n",
      "25/25 [==============================] - 0s 625us/step - loss: 0.6660 - accuracy: 0.5888 - lr: 0.0050\n",
      "Epoch 36/100\n",
      "25/25 [==============================] - 0s 583us/step - loss: 0.6625 - accuracy: 0.5625 - lr: 0.0056\n",
      "Epoch 37/100\n",
      "25/25 [==============================] - 0s 583us/step - loss: 0.6560 - accuracy: 0.5813 - lr: 0.0063\n",
      "Epoch 38/100\n",
      "25/25 [==============================] - 0s 625us/step - loss: 0.6521 - accuracy: 0.6025 - lr: 0.0071\n",
      "Epoch 39/100\n",
      "25/25 [==============================] - 0s 625us/step - loss: 0.6415 - accuracy: 0.7088 - lr: 0.0079\n",
      "Epoch 40/100\n",
      "25/25 [==============================] - 0s 625us/step - loss: 0.6210 - accuracy: 0.7113 - lr: 0.0089\n",
      "Epoch 41/100\n",
      "25/25 [==============================] - 0s 625us/step - loss: 0.5904 - accuracy: 0.7487 - lr: 0.0100\n",
      "Epoch 42/100\n",
      "25/25 [==============================] - 0s 625us/step - loss: 0.5688 - accuracy: 0.7312 - lr: 0.0112\n",
      "Epoch 43/100\n",
      "25/25 [==============================] - 0s 583us/step - loss: 0.5346 - accuracy: 0.7563 - lr: 0.0126\n",
      "Epoch 44/100\n",
      "25/25 [==============================] - 0s 625us/step - loss: 0.4533 - accuracy: 0.8150 - lr: 0.0141\n",
      "Epoch 45/100\n",
      "25/25 [==============================] - 0s 625us/step - loss: 0.3455 - accuracy: 0.9112 - lr: 0.0158\n",
      "Epoch 46/100\n",
      "25/25 [==============================] - 0s 625us/step - loss: 0.2570 - accuracy: 0.9463 - lr: 0.0178\n",
      "Epoch 47/100\n",
      "25/25 [==============================] - 0s 583us/step - loss: 0.1968 - accuracy: 0.9575 - lr: 0.0200\n",
      "Epoch 48/100\n",
      "25/25 [==============================] - 0s 542us/step - loss: 0.1336 - accuracy: 0.9700 - lr: 0.0224\n",
      "Epoch 49/100\n",
      "25/25 [==============================] - 0s 583us/step - loss: 0.1310 - accuracy: 0.9613 - lr: 0.0251\n",
      "Epoch 50/100\n",
      "25/25 [==============================] - 0s 542us/step - loss: 0.1002 - accuracy: 0.9700 - lr: 0.0282\n",
      "Epoch 51/100\n",
      "25/25 [==============================] - 0s 542us/step - loss: 0.1166 - accuracy: 0.9638 - lr: 0.0316\n",
      "Epoch 52/100\n",
      "25/25 [==============================] - 0s 625us/step - loss: 0.1368 - accuracy: 0.9513 - lr: 0.0355\n",
      "Epoch 53/100\n",
      "25/25 [==============================] - 0s 583us/step - loss: 0.0879 - accuracy: 0.9787 - lr: 0.0398\n",
      "Epoch 54/100\n",
      "25/25 [==============================] - 0s 542us/step - loss: 0.1187 - accuracy: 0.9588 - lr: 0.0447\n",
      "Epoch 55/100\n",
      "25/25 [==============================] - 0s 625us/step - loss: 0.0733 - accuracy: 0.9712 - lr: 0.0501\n",
      "Epoch 56/100\n",
      "25/25 [==============================] - 0s 625us/step - loss: 0.1132 - accuracy: 0.9550 - lr: 0.0562\n",
      "Epoch 57/100\n",
      "25/25 [==============================] - 0s 583us/step - loss: 0.1057 - accuracy: 0.9613 - lr: 0.0631\n",
      "Epoch 58/100\n",
      "25/25 [==============================] - 0s 583us/step - loss: 0.0665 - accuracy: 0.9750 - lr: 0.0708\n",
      "Epoch 59/100\n",
      "25/25 [==============================] - 0s 625us/step - loss: 0.1912 - accuracy: 0.9275 - lr: 0.0794\n",
      "Epoch 60/100\n",
      "25/25 [==============================] - 0s 583us/step - loss: 0.1892 - accuracy: 0.9312 - lr: 0.0891\n",
      "Epoch 61/100\n",
      "25/25 [==============================] - 0s 631us/step - loss: 0.4019 - accuracy: 0.8612 - lr: 0.1000\n",
      "Epoch 62/100\n",
      "25/25 [==============================] - 0s 583us/step - loss: 0.1663 - accuracy: 0.9725 - lr: 0.1122\n",
      "Epoch 63/100\n",
      "25/25 [==============================] - 0s 583us/step - loss: 0.0595 - accuracy: 0.9912 - lr: 0.1259\n",
      "Epoch 64/100\n",
      "25/25 [==============================] - 0s 625us/step - loss: 0.0980 - accuracy: 0.9663 - lr: 0.1413\n",
      "Epoch 65/100\n",
      "25/25 [==============================] - 0s 625us/step - loss: 0.1007 - accuracy: 0.9588 - lr: 0.1585\n",
      "Epoch 66/100\n",
      "25/25 [==============================] - 0s 625us/step - loss: 0.2189 - accuracy: 0.9325 - lr: 0.1778\n",
      "Epoch 67/100\n",
      "25/25 [==============================] - 0s 583us/step - loss: 0.4272 - accuracy: 0.8625 - lr: 0.1995\n",
      "Epoch 68/100\n",
      "25/25 [==============================] - 0s 667us/step - loss: 0.1285 - accuracy: 0.9600 - lr: 0.2239\n",
      "Epoch 69/100\n",
      "25/25 [==============================] - 0s 583us/step - loss: 0.0607 - accuracy: 0.9800 - lr: 0.2512\n",
      "Epoch 70/100\n",
      "25/25 [==============================] - 0s 583us/step - loss: 0.1153 - accuracy: 0.9600 - lr: 0.2818\n",
      "Epoch 71/100\n",
      "25/25 [==============================] - 0s 583us/step - loss: 0.0784 - accuracy: 0.9675 - lr: 0.3162\n",
      "Epoch 72/100\n",
      "25/25 [==============================] - 0s 667us/step - loss: 0.5116 - accuracy: 0.8313 - lr: 0.3548\n",
      "Epoch 73/100\n",
      "25/25 [==============================] - 0s 583us/step - loss: 0.4051 - accuracy: 0.8313 - lr: 0.3981\n",
      "Epoch 74/100\n",
      "25/25 [==============================] - 0s 583us/step - loss: 0.1330 - accuracy: 0.9575 - lr: 0.4467\n",
      "Epoch 75/100\n",
      "25/25 [==============================] - 0s 583us/step - loss: 0.0806 - accuracy: 0.9700 - lr: 0.5012\n",
      "Epoch 76/100\n",
      "25/25 [==============================] - 0s 583us/step - loss: 0.3365 - accuracy: 0.8687 - lr: 0.5623\n",
      "Epoch 77/100\n",
      "25/25 [==============================] - 0s 583us/step - loss: 0.1935 - accuracy: 0.9325 - lr: 0.6310\n",
      "Epoch 78/100\n",
      "25/25 [==============================] - 0s 583us/step - loss: 0.3352 - accuracy: 0.8662 - lr: 0.7079\n",
      "Epoch 79/100\n",
      "25/25 [==============================] - 0s 583us/step - loss: 0.2375 - accuracy: 0.9112 - lr: 0.7943\n",
      "Epoch 80/100\n",
      "25/25 [==============================] - 0s 583us/step - loss: 0.1000 - accuracy: 0.9638 - lr: 0.8913\n",
      "Epoch 81/100\n",
      "25/25 [==============================] - 0s 709us/step - loss: 0.2456 - accuracy: 0.9112 - lr: 1.0000\n",
      "Epoch 82/100\n",
      "25/25 [==============================] - 0s 653us/step - loss: 0.8091 - accuracy: 0.6587 - lr: 1.1220\n",
      "Epoch 83/100\n",
      "25/25 [==============================] - 0s 542us/step - loss: 0.6672 - accuracy: 0.5400 - lr: 1.2589\n",
      "Epoch 84/100\n",
      "25/25 [==============================] - 0s 583us/step - loss: 0.6597 - accuracy: 0.5425 - lr: 1.4125\n",
      "Epoch 85/100\n",
      "25/25 [==============================] - 0s 542us/step - loss: 0.7383 - accuracy: 0.5362 - lr: 1.5849\n",
      "Epoch 86/100\n",
      "25/25 [==============================] - 0s 583us/step - loss: 0.7637 - accuracy: 0.5188 - lr: 1.7783\n",
      "Epoch 87/100\n",
      "25/25 [==============================] - 0s 583us/step - loss: 0.7581 - accuracy: 0.5163 - lr: 1.9953\n",
      "Epoch 88/100\n",
      "25/25 [==============================] - 0s 542us/step - loss: 0.7538 - accuracy: 0.4762 - lr: 2.2387\n",
      "Epoch 89/100\n",
      "25/25 [==============================] - 0s 583us/step - loss: 0.7476 - accuracy: 0.4938 - lr: 2.5119\n",
      "Epoch 90/100\n",
      "25/25 [==============================] - 0s 583us/step - loss: 0.7729 - accuracy: 0.5163 - lr: 2.8184\n",
      "Epoch 91/100\n",
      "25/25 [==============================] - 0s 583us/step - loss: 0.8197 - accuracy: 0.5238 - lr: 3.1623\n",
      "Epoch 92/100\n",
      "25/25 [==============================] - 0s 583us/step - loss: 0.7332 - accuracy: 0.4837 - lr: 3.5481\n",
      "Epoch 93/100\n",
      "25/25 [==============================] - 0s 625us/step - loss: 0.7473 - accuracy: 0.4988 - lr: 3.9811\n",
      "Epoch 94/100\n",
      "25/25 [==============================] - 0s 583us/step - loss: 0.7630 - accuracy: 0.5063 - lr: 4.4668\n",
      "Epoch 95/100\n",
      "25/25 [==============================] - 0s 583us/step - loss: 0.8318 - accuracy: 0.4863 - lr: 5.0119\n",
      "Epoch 96/100\n",
      "25/25 [==============================] - 0s 583us/step - loss: 0.7964 - accuracy: 0.4762 - lr: 5.6234\n",
      "Epoch 97/100\n",
      "25/25 [==============================] - 0s 584us/step - loss: 0.8100 - accuracy: 0.5013 - lr: 6.3096\n",
      "Epoch 98/100\n",
      "25/25 [==============================] - 0s 625us/step - loss: 0.9639 - accuracy: 0.4963 - lr: 7.0795\n",
      "Epoch 99/100\n",
      "25/25 [==============================] - 0s 583us/step - loss: 1.0018 - accuracy: 0.4913 - lr: 7.9433\n",
      "Epoch 100/100\n",
      "25/25 [==============================] - 0s 598us/step - loss: 0.8575 - accuracy: 0.4512 - lr: 8.9125\n"
     ]
    }
   ],
   "source": [
    "tf.random.set_seed(42)\n",
    "\n",
    "model_9 = tf.keras.Sequential([\n",
    "    tf.keras.layers.Dense(4,activation = \"relu\"),\n",
    "    tf.keras.layers.Dense(4,activation = \"relu\"),\n",
    "    tf.keras.layers.Dense(1,activation = \"sigmoid\")\n",
    "])\n",
    "\n",
    "model_9.compile(loss = \"binary_crossentropy\",\n",
    "               optimizer = \"Adam\",\n",
    "               metrics = [\"accuracy\"])\n",
    "# Create a learning rate callback\n",
    "lr_scheduler = tf.keras.callbacks.LearningRateScheduler(lambda epoch: 1e-4*10**(epoch/20))\n",
    "\n",
    "# Fit the model (passing lr_scheduler)\n",
    "history_9 = model_9.fit(X_train,\n",
    "                       y_train,\n",
    "                       epochs = 100,\n",
    "                       callbacks = [lr_scheduler])"
   ]
  },
  {
   "cell_type": "code",
   "execution_count": 50,
   "id": "3088a2d6",
   "metadata": {},
   "outputs": [
    {
     "data": {
      "text/plain": [
       "<AxesSubplot:xlabel='epochs'>"
      ]
     },
     "execution_count": 50,
     "metadata": {},
     "output_type": "execute_result"
    },
    {
     "data": {
      "image/png": "[encoded data removed]",
      "text/plain": [
       "<Figure size 432x288 with 1 Axes>"
      ]
     },
     "metadata": {
      "needs_background": "light"
     },
     "output_type": "display_data"
    }
   ],
   "source": [
    "# Checkout the history\n",
    "\n",
    "pd.DataFrame(history_9.history).plot(xlabel = \"epochs\")"
   ]
  },
  {
   "cell_type": "code",
   "execution_count": 51,
   "id": "2423118d",
   "metadata": {},
   "outputs": [],
   "source": [
    "# Plot the learning rate vs the loss\n",
    "\n",
    "lrs = 1e-4 * (10**(tf.range(100)/20))\n"
   ]
  },
  {
   "cell_type": "code",
   "execution_count": 52,
   "id": "f44aae3a",
   "metadata": {},
   "outputs": [
    {
     "data": {
      "text/plain": [
       "100"
      ]
     },
     "execution_count": 52,
     "metadata": {},
     "output_type": "execute_result"
    }
   ],
   "source": [
    "len(lrs)"
   ]
  },
  {
   "cell_type": "code",
   "execution_count": 53,
   "id": "64f67f09",
   "metadata": {},
   "outputs": [
    {
     "data": {
      "text/plain": [
       "Text(0.5, 1.0, 'Learning Rate vs Loss')"
      ]
     },
     "execution_count": 53,
     "metadata": {},
     "output_type": "execute_result"
    },
    {
     "data": {
      "image/png": "[encoded data removed]",
      "text/plain": [
       "<Figure size 720x504 with 1 Axes>"
      ]
     },
     "metadata": {
      "needs_background": "light"
     },
     "output_type": "display_data"
    }
   ],
   "source": [
    "plt.figure(figsize=(10,7))\n",
    "plt.semilogx(lrs,history_9.history[\"loss\"])\n",
    "plt.xlabel(\"Learning Rate\")\n",
    "plt.ylabel(\"Loss\")\n",
    "plt.title(\"Learning Rate vs Loss\")"
   ]
  },
  {
   "cell_type": "code",
   "execution_count": 54,
   "id": "12189c84",
   "metadata": {
    "scrolled": true
   },
   "outputs": [
    {
     "data": {
      "text/plain": [
       "(1, 0.1, 0.01, 0.001, 0.0001)"
      ]
     },
     "execution_count": 54,
     "metadata": {},
     "output_type": "execute_result"
    }
   ],
   "source": [
    "# Example of other typical learning rates values:\n",
    "10**0, 10**-1, 10**-2, 10**-3 ,1e-4"
   ]
  },
  {
   "cell_type": "code",
   "execution_count": 58,
   "id": "50d4f680",
   "metadata": {},
   "outputs": [
    {
     "data": {
      "text/plain": [
       "0.02"
      ]
     },
     "execution_count": 58,
     "metadata": {},
     "output_type": "execute_result"
    }
   ],
   "source": [
    "# Learning rate gonna used for\n",
    "\n",
    "2*10**-2\n"
   ]
  },
  {
   "cell_type": "code",
   "execution_count": 59,
   "id": "50284577",
   "metadata": {},
   "outputs": [
    {
     "name": "stderr",
     "output_type": "stream",
     "text": [
      "C:\\Users\\Younghun\\anaconda3\\lib\\site-packages\\keras\\optimizer_v2\\adam.py:105: UserWarning: The `lr` argument is deprecated, use `learning_rate` instead.\n",
      "  super(Adam, self).__init__(name, **kwargs)\n"
     ]
    },
    {
     "name": "stdout",
     "output_type": "stream",
     "text": [
      "Epoch 1/20\n",
      "25/25 [==============================] - 0s 625us/step - loss: 0.6837 - accuracy: 0.5600\n",
      "Epoch 2/20\n",
      "25/25 [==============================] - 0s 667us/step - loss: 0.6744 - accuracy: 0.5750\n",
      "Epoch 3/20\n",
      "25/25 [==============================] - 0s 625us/step - loss: 0.6626 - accuracy: 0.5875\n",
      "Epoch 4/20\n",
      "25/25 [==============================] - 0s 667us/step - loss: 0.6332 - accuracy: 0.6388\n",
      "Epoch 5/20\n",
      "25/25 [==============================] - 0s 667us/step - loss: 0.5830 - accuracy: 0.7563\n",
      "Epoch 6/20\n",
      "25/25 [==============================] - 0s 625us/step - loss: 0.4907 - accuracy: 0.8313\n",
      "Epoch 7/20\n",
      "25/25 [==============================] - 0s 667us/step - loss: 0.4251 - accuracy: 0.8450\n",
      "Epoch 8/20\n",
      "25/25 [==============================] - 0s 625us/step - loss: 0.3596 - accuracy: 0.8875\n",
      "Epoch 9/20\n",
      "25/25 [==============================] - 0s 667us/step - loss: 0.3152 - accuracy: 0.9100\n",
      "Epoch 10/20\n",
      "25/25 [==============================] - 0s 667us/step - loss: 0.2512 - accuracy: 0.9500\n",
      "Epoch 11/20\n",
      "25/25 [==============================] - 0s 625us/step - loss: 0.2152 - accuracy: 0.9500\n",
      "Epoch 12/20\n",
      "25/25 [==============================] - 0s 625us/step - loss: 0.1721 - accuracy: 0.9750\n",
      "Epoch 13/20\n",
      "25/25 [==============================] - 0s 625us/step - loss: 0.1443 - accuracy: 0.9837\n",
      "Epoch 14/20\n",
      "25/25 [==============================] - 0s 667us/step - loss: 0.1232 - accuracy: 0.9862\n",
      "Epoch 15/20\n",
      "25/25 [==============================] - 0s 583us/step - loss: 0.1085 - accuracy: 0.9850\n",
      "Epoch 16/20\n",
      "25/25 [==============================] - 0s 709us/step - loss: 0.0940 - accuracy: 0.9937\n",
      "Epoch 17/20\n",
      "25/25 [==============================] - 0s 708us/step - loss: 0.0827 - accuracy: 0.9962\n",
      "Epoch 18/20\n",
      "25/25 [==============================] - 0s 667us/step - loss: 0.0798 - accuracy: 0.9937\n",
      "Epoch 19/20\n",
      "25/25 [==============================] - 0s 750us/step - loss: 0.0845 - accuracy: 0.9875\n",
      "Epoch 20/20\n",
      "25/25 [==============================] - 0s 667us/step - loss: 0.0790 - accuracy: 0.9887\n"
     ]
    }
   ],
   "source": [
    "# Try using a higher *ideal* learning rate with the same model\n",
    "\n",
    "tf.random.set_seed(42)\n",
    "\n",
    "model_10 = tf.keras.Sequential([\n",
    "    tf.keras.layers.Dense(4,activation =\"relu\"),\n",
    "    tf.keras.layers.Dense(4,activation = \"relu\"),\n",
    "    tf.keras.layers.Dense(1,activation = \"sigmoid\")\n",
    "])\n",
    "\n",
    "model_10.compile(loss =\"binary_crossentropy\",\n",
    "                optimizer = tf.keras.optimizers.Adam(lr=0.02),\n",
    "                metrics = [\"accuracy\"])\n",
    "\n",
    "history10 = model_10.fit(X_train,y_train,epochs = 20)\n"
   ]
  },
  {
   "cell_type": "code",
   "execution_count": 61,
   "id": "cf4d6051",
   "metadata": {},
   "outputs": [
    {
     "name": "stdout",
     "output_type": "stream",
     "text": [
      "7/7 [==============================] - 0s 667us/step - loss: 0.0574 - accuracy: 0.9900\n"
     ]
    },
    {
     "data": {
      "text/plain": [
       "[0.05740177631378174, 0.9900000095367432]"
      ]
     },
     "execution_count": 61,
     "metadata": {},
     "output_type": "execute_result"
    }
   ],
   "source": [
    "# Evaluate model 10 on the test dataset\n",
    "\n",
    "model_10.evaluate(X_test,y_test)"
   ]
  },
  {
   "cell_type": "code",
   "execution_count": 62,
   "id": "c9485094",
   "metadata": {},
   "outputs": [
    {
     "name": "stdout",
     "output_type": "stream",
     "text": [
      "7/7 [==============================] - 0s 667us/step - loss: 0.1247 - accuracy: 1.0000\n"
     ]
    },
    {
     "data": {
      "text/plain": [
       "[0.1246885135769844, 1.0]"
      ]
     },
     "execution_count": 62,
     "metadata": {},
     "output_type": "execute_result"
    }
   ],
   "source": [
    "# Evaluate model 8 on the test dataset\n",
    "\n",
    "model_8.evaluate(X_test,y_test)"
   ]
  },
  {
   "cell_type": "code",
   "execution_count": 63,
   "id": "d269d6ee",
   "metadata": {},
   "outputs": [
    {
     "name": "stdout",
     "output_type": "stream",
     "text": [
      "Doing binary classification\n",
      "Doing binary classification\n"
     ]
    },
    {
     "data": {
      "image/png": "[encoded data removed]",
      "text/plain": [
       "<Figure size 864x432 with 2 Axes>"
      ]
     },
     "metadata": {
      "needs_background": "light"
     },
     "output_type": "display_data"
    }
   ],
   "source": [
    "# Plot the decision boundaries for the training and test sets\n",
    "\n",
    "plt.figure(figsize=(12,6))\n",
    "\n",
    "plt.subplot(1,2,1)\n",
    "plt.title(\"Train\")\n",
    "plot_decision_boundary(model_10,X=X_train,y=y_train)\n",
    "plt.subplot(1,2,2)\n",
    "plt.title(\"Test\")\n",
    "plot_decision_boundary(model_10,X=X_test,y=y_test)\n",
    "plt.show()"
   ]
  },
  {
   "cell_type": "markdown",
   "id": "0e11a1ed",
   "metadata": {},
   "source": [
    "## More classification models one methods\n",
    "\n",
    "\n",
    "Alongisde visualizing our models results as much as possible, there are a handful of other classification evlautaion methods & metrics you should be familiar with:\n",
    "\n",
    "* Accuracy\n",
    "* Precision\n",
    "* Recall\n",
    "* F1-Score\n",
    "* Confusion matrix\n",
    "* Classificaiton report (scikit-learn)"
   ]
  },
  {
   "cell_type": "code",
   "execution_count": 65,
   "id": "0d6d5ebe",
   "metadata": {},
   "outputs": [
    {
     "name": "stdout",
     "output_type": "stream",
     "text": [
      "7/7 [==============================] - 0s 834us/step - loss: 0.0574 - accuracy: 0.9900\n",
      "Model loss on the test set : 0.05740177631378174\n",
      "Model accuracy on the test set: 99.00%\n"
     ]
    }
   ],
   "source": [
    "# Check the accuracy of our model\n",
    "\n",
    "loss, accuracy = model_10.evaluate(X_test,y_test)\n",
    "\n",
    "print(f\"Model loss on the test set : {loss}\")\n",
    "print(f\"Model accuracy on the test set: {(accuracy*100):.2f}%\")"
   ]
  },
  {
   "cell_type": "markdown",
   "id": "ec139382",
   "metadata": {},
   "source": [
    "# How about confusion matrix?"
   ]
  },
  {
   "cell_type": "code",
   "execution_count": 66,
   "id": "e6a90ead",
   "metadata": {},
   "outputs": [
    {
     "ename": "ValueError",
     "evalue": "Classification metrics can't handle a mix of binary and continuous targets",
     "output_type": "error",
     "traceback": [
      "\u001b[1;31m---------------------------------------------------------------------------\u001b[0m",
      "\u001b[1;31mValueError\u001b[0m                                Traceback (most recent call last)",
      "\u001b[1;32m~\\AppData\\Local\\Temp/ipykernel_7832/1758001843.py\u001b[0m in \u001b[0;36m<module>\u001b[1;34m\u001b[0m\n\u001b[0;32m      9\u001b[0m \u001b[1;31m# Create confusion matrix\u001b[0m\u001b[1;33m\u001b[0m\u001b[1;33m\u001b[0m\u001b[0m\n\u001b[0;32m     10\u001b[0m \u001b[1;33m\u001b[0m\u001b[0m\n\u001b[1;32m---> 11\u001b[1;33m \u001b[0mconfusion_matrix\u001b[0m\u001b[1;33m(\u001b[0m\u001b[0my_test\u001b[0m\u001b[1;33m,\u001b[0m\u001b[0my_preds\u001b[0m\u001b[1;33m)\u001b[0m\u001b[1;33m\u001b[0m\u001b[1;33m\u001b[0m\u001b[0m\n\u001b[0m",
      "\u001b[1;32m~\\anaconda3\\lib\\site-packages\\sklearn\\utils\\validation.py\u001b[0m in \u001b[0;36minner_f\u001b[1;34m(*args, **kwargs)\u001b[0m\n\u001b[0;32m     61\u001b[0m             \u001b[0mextra_args\u001b[0m \u001b[1;33m=\u001b[0m \u001b[0mlen\u001b[0m\u001b[1;33m(\u001b[0m\u001b[0margs\u001b[0m\u001b[1;33m)\u001b[0m \u001b[1;33m-\u001b[0m \u001b[0mlen\u001b[0m\u001b[1;33m(\u001b[0m\u001b[0mall_args\u001b[0m\u001b[1;33m)\u001b[0m\u001b[1;33m\u001b[0m\u001b[1;33m\u001b[0m\u001b[0m\n\u001b[0;32m     62\u001b[0m             \u001b[1;32mif\u001b[0m \u001b[0mextra_args\u001b[0m \u001b[1;33m<=\u001b[0m \u001b[1;36m0\u001b[0m\u001b[1;33m:\u001b[0m\u001b[1;33m\u001b[0m\u001b[1;33m\u001b[0m\u001b[0m\n\u001b[1;32m---> 63\u001b[1;33m                 \u001b[1;32mreturn\u001b[0m \u001b[0mf\u001b[0m\u001b[1;33m(\u001b[0m\u001b[1;33m*\u001b[0m\u001b[0margs\u001b[0m\u001b[1;33m,\u001b[0m \u001b[1;33m**\u001b[0m\u001b[0mkwargs\u001b[0m\u001b[1;33m)\u001b[0m\u001b[1;33m\u001b[0m\u001b[1;33m\u001b[0m\u001b[0m\n\u001b[0m\u001b[0;32m     64\u001b[0m \u001b[1;33m\u001b[0m\u001b[0m\n\u001b[0;32m     65\u001b[0m             \u001b[1;31m# extra_args > 0\u001b[0m\u001b[1;33m\u001b[0m\u001b[1;33m\u001b[0m\u001b[0m\n",
      "\u001b[1;32m~\\anaconda3\\lib\\site-packages\\sklearn\\metrics\\_classification.py\u001b[0m in \u001b[0;36mconfusion_matrix\u001b[1;34m(y_true, y_pred, labels, sample_weight, normalize)\u001b[0m\n\u001b[0;32m    297\u001b[0m \u001b[1;33m\u001b[0m\u001b[0m\n\u001b[0;32m    298\u001b[0m     \"\"\"\n\u001b[1;32m--> 299\u001b[1;33m     \u001b[0my_type\u001b[0m\u001b[1;33m,\u001b[0m \u001b[0my_true\u001b[0m\u001b[1;33m,\u001b[0m \u001b[0my_pred\u001b[0m \u001b[1;33m=\u001b[0m \u001b[0m_check_targets\u001b[0m\u001b[1;33m(\u001b[0m\u001b[0my_true\u001b[0m\u001b[1;33m,\u001b[0m \u001b[0my_pred\u001b[0m\u001b[1;33m)\u001b[0m\u001b[1;33m\u001b[0m\u001b[1;33m\u001b[0m\u001b[0m\n\u001b[0m\u001b[0;32m    300\u001b[0m     \u001b[1;32mif\u001b[0m \u001b[0my_type\u001b[0m \u001b[1;32mnot\u001b[0m \u001b[1;32min\u001b[0m \u001b[1;33m(\u001b[0m\u001b[1;34m\"binary\"\u001b[0m\u001b[1;33m,\u001b[0m \u001b[1;34m\"multiclass\"\u001b[0m\u001b[1;33m)\u001b[0m\u001b[1;33m:\u001b[0m\u001b[1;33m\u001b[0m\u001b[1;33m\u001b[0m\u001b[0m\n\u001b[0;32m    301\u001b[0m         \u001b[1;32mraise\u001b[0m \u001b[0mValueError\u001b[0m\u001b[1;33m(\u001b[0m\u001b[1;34m\"%s is not supported\"\u001b[0m \u001b[1;33m%\u001b[0m \u001b[0my_type\u001b[0m\u001b[1;33m)\u001b[0m\u001b[1;33m\u001b[0m\u001b[1;33m\u001b[0m\u001b[0m\n",
      "\u001b[1;32m~\\anaconda3\\lib\\site-packages\\sklearn\\metrics\\_classification.py\u001b[0m in \u001b[0;36m_check_targets\u001b[1;34m(y_true, y_pred)\u001b[0m\n\u001b[0;32m     90\u001b[0m \u001b[1;33m\u001b[0m\u001b[0m\n\u001b[0;32m     91\u001b[0m     \u001b[1;32mif\u001b[0m \u001b[0mlen\u001b[0m\u001b[1;33m(\u001b[0m\u001b[0my_type\u001b[0m\u001b[1;33m)\u001b[0m \u001b[1;33m>\u001b[0m \u001b[1;36m1\u001b[0m\u001b[1;33m:\u001b[0m\u001b[1;33m\u001b[0m\u001b[1;33m\u001b[0m\u001b[0m\n\u001b[1;32m---> 92\u001b[1;33m         raise ValueError(\"Classification metrics can't handle a mix of {0} \"\n\u001b[0m\u001b[0;32m     93\u001b[0m                          \"and {1} targets\".format(type_true, type_pred))\n\u001b[0;32m     94\u001b[0m \u001b[1;33m\u001b[0m\u001b[0m\n",
      "\u001b[1;31mValueError\u001b[0m: Classification metrics can't handle a mix of binary and continuous targets"
     ]
    }
   ],
   "source": [
    "# Create a confusion matrix\n",
    "\n",
    "from sklearn.metrics import confusion_matrix\n",
    "\n",
    "# Make Predictions\n",
    "\n",
    "y_preds = model_10.predict(X_test)\n",
    "\n",
    "# Create confusion matrix\n",
    "\n",
    "confusion_matrix(y_test,y_preds)"
   ]
  },
  {
   "cell_type": "code",
   "execution_count": 67,
   "id": "b2f18001",
   "metadata": {},
   "outputs": [
    {
     "data": {
      "text/plain": [
       "(array([1, 1, 1, 1, 0, 0, 1, 0, 1, 0, 1, 0, 1, 1, 1, 1, 1, 1, 0, 1, 0, 1,\n",
       "        1, 1, 0, 1, 1, 0, 0, 1, 0, 1, 1, 0, 0, 1, 1, 1, 1, 1, 1, 1, 1, 0,\n",
       "        1, 1, 1, 0, 1, 0, 0, 1, 1, 0, 0, 0, 1, 0, 0, 1, 0, 0, 0, 1, 0, 1,\n",
       "        0, 0, 0, 0, 1, 0, 1, 1, 1, 1, 0, 1, 0, 0, 0, 0, 0, 0, 1, 0, 1, 0,\n",
       "        1, 0, 1, 1, 1, 0, 1, 0, 1, 0, 0, 1, 1, 1, 0, 0, 0, 1, 1, 0, 1, 0,\n",
       "        1, 1, 0, 1, 0, 0, 1, 1, 1, 0, 0, 0, 1, 1, 0, 0, 0, 0, 0, 1, 1, 0,\n",
       "        1, 0, 0, 0, 1, 0, 0, 0, 1, 1, 1, 1, 0, 1, 1, 1, 0, 1, 1, 1, 1, 0,\n",
       "        1, 1, 0, 1, 1, 0, 0, 1, 1, 1, 0, 0, 0, 0, 0, 0, 1, 0, 0, 1, 0, 0,\n",
       "        0, 1, 0, 1, 0, 1, 1, 0, 0, 0, 0, 0, 0, 0, 0, 1, 0, 1, 0, 0, 0, 1,\n",
       "        0, 0], dtype=int64),\n",
       " array([[9.85265374e-01],\n",
       "        [9.99237895e-01],\n",
       "        [9.90323424e-01],\n",
       "        [9.97069418e-01],\n",
       "        [3.96228999e-01],\n",
       "        [1.81268752e-02],\n",
       "        [9.68290448e-01],\n",
       "        [1.97466314e-02],\n",
       "        [9.99671698e-01],\n",
       "        [5.64545393e-04],\n",
       "        [9.72873509e-01],\n",
       "        [2.71521270e-01],\n",
       "        [9.92272019e-01],\n",
       "        [9.27265644e-01],\n",
       "        [9.98101592e-01],\n",
       "        [9.91818786e-01],\n",
       "        [9.91739750e-01],\n",
       "        [9.33626831e-01],\n",
       "        [4.25937772e-02],\n",
       "        [9.91493464e-01],\n",
       "        [1.49990916e-02],\n",
       "        [9.32794988e-01],\n",
       "        [9.92896259e-01],\n",
       "        [9.73198414e-01],\n",
       "        [4.26527040e-05],\n",
       "        [9.21439648e-01],\n",
       "        [9.65749145e-01],\n",
       "        [2.41606832e-01],\n",
       "        [1.93991363e-02],\n",
       "        [9.98130977e-01],\n",
       "        [1.44242346e-02],\n",
       "        [9.44148779e-01],\n",
       "        [9.86896753e-01],\n",
       "        [1.23807937e-01],\n",
       "        [2.88015902e-02],\n",
       "        [9.63382125e-01],\n",
       "        [9.98146236e-01],\n",
       "        [9.63414848e-01],\n",
       "        [9.95050430e-01],\n",
       "        [9.88492191e-01],\n",
       "        [9.97049570e-01],\n",
       "        [9.32708621e-01],\n",
       "        [9.76667762e-01],\n",
       "        [9.27734375e-03],\n",
       "        [9.99066114e-01],\n",
       "        [9.61072683e-01],\n",
       "        [9.96635556e-01],\n",
       "        [1.02142990e-02],\n",
       "        [9.99359012e-01],\n",
       "        [3.07321548e-04],\n",
       "        [3.47036123e-03],\n",
       "        [9.74120080e-01],\n",
       "        [9.88394260e-01],\n",
       "        [8.70070159e-02],\n",
       "        [1.88688695e-01],\n",
       "        [9.95191658e-05],\n",
       "        [9.94503379e-01],\n",
       "        [4.52136993e-02],\n",
       "        [2.88987160e-03],\n",
       "        [9.80903506e-01],\n",
       "        [8.84045660e-02],\n",
       "        [7.83564448e-02],\n",
       "        [5.05688787e-02],\n",
       "        [9.01162386e-01],\n",
       "        [2.15362310e-02],\n",
       "        [9.57937062e-01],\n",
       "        [6.47488236e-03],\n",
       "        [7.94453621e-01],\n",
       "        [8.27878714e-04],\n",
       "        [1.45462427e-05],\n",
       "        [9.99163210e-01],\n",
       "        [1.42277509e-01],\n",
       "        [9.99482632e-01],\n",
       "        [9.90508735e-01],\n",
       "        [9.40230489e-01],\n",
       "        [9.99421120e-01],\n",
       "        [4.85876917e-05],\n",
       "        [9.86136019e-01],\n",
       "        [2.30431557e-04],\n",
       "        [1.96248591e-02],\n",
       "        [2.43782997e-04],\n",
       "        [3.13845575e-02],\n",
       "        [2.12577283e-01],\n",
       "        [1.25015080e-02],\n",
       "        [5.30756295e-01],\n",
       "        [4.01511967e-01],\n",
       "        [9.93256330e-01],\n",
       "        [1.04149076e-04],\n",
       "        [9.70202327e-01],\n",
       "        [5.06452322e-02],\n",
       "        [9.89271045e-01],\n",
       "        [9.92339849e-01],\n",
       "        [9.91254508e-01],\n",
       "        [5.80730140e-02],\n",
       "        [9.89033163e-01],\n",
       "        [1.37410164e-02],\n",
       "        [9.70293105e-01],\n",
       "        [1.32828951e-04],\n",
       "        [1.20589888e-04],\n",
       "        [9.99783158e-01],\n",
       "        [9.50982094e-01],\n",
       "        [9.96350527e-01],\n",
       "        [8.47950578e-03],\n",
       "        [6.44195080e-03],\n",
       "        [1.72308117e-01],\n",
       "        [9.94098186e-01],\n",
       "        [9.87757742e-01],\n",
       "        [4.52792645e-02],\n",
       "        [9.56778407e-01],\n",
       "        [1.86411944e-05],\n",
       "        [9.32023287e-01],\n",
       "        [9.30726528e-01],\n",
       "        [5.22508025e-02],\n",
       "        [9.71138716e-01],\n",
       "        [2.53470659e-01],\n",
       "        [2.03958452e-02],\n",
       "        [9.92558002e-01],\n",
       "        [9.99580860e-01],\n",
       "        [9.90526080e-01],\n",
       "        [1.57393813e-02],\n",
       "        [3.70686948e-02],\n",
       "        [6.21140003e-04],\n",
       "        [9.94643688e-01],\n",
       "        [9.86936092e-01],\n",
       "        [2.76437789e-01],\n",
       "        [2.27221772e-05],\n",
       "        [6.01141214e-01],\n",
       "        [1.80982351e-02],\n",
       "        [4.11797762e-02],\n",
       "        [9.53140914e-01],\n",
       "        [9.99358535e-01],\n",
       "        [3.99773717e-02],\n",
       "        [9.63670015e-01],\n",
       "        [5.21323085e-03],\n",
       "        [1.08972192e-03],\n",
       "        [2.55337358e-03],\n",
       "        [9.76243615e-01],\n",
       "        [5.58071136e-02],\n",
       "        [1.35066599e-01],\n",
       "        [6.68312907e-02],\n",
       "        [9.90237832e-01],\n",
       "        [9.99417603e-01],\n",
       "        [9.99269366e-01],\n",
       "        [9.96144235e-01],\n",
       "        [1.04406476e-03],\n",
       "        [9.99343753e-01],\n",
       "        [9.80513215e-01],\n",
       "        [9.94254351e-01],\n",
       "        [9.35018063e-03],\n",
       "        [9.87102628e-01],\n",
       "        [9.96918559e-01],\n",
       "        [9.79749441e-01],\n",
       "        [9.76329625e-01],\n",
       "        [9.37540233e-02],\n",
       "        [9.94555056e-01],\n",
       "        [9.92427528e-01],\n",
       "        [1.55776739e-04],\n",
       "        [9.90727663e-01],\n",
       "        [9.99703646e-01],\n",
       "        [7.88565812e-05],\n",
       "        [1.40875578e-04],\n",
       "        [9.51246023e-01],\n",
       "        [9.90273833e-01],\n",
       "        [9.57789540e-01],\n",
       "        [1.02408528e-02],\n",
       "        [1.01272762e-02],\n",
       "        [2.31206417e-03],\n",
       "        [3.76698226e-05],\n",
       "        [3.19331884e-03],\n",
       "        [1.05945975e-01],\n",
       "        [9.97693837e-01],\n",
       "        [1.47536099e-02],\n",
       "        [5.76237142e-02],\n",
       "        [9.53175128e-01],\n",
       "        [4.92043793e-02],\n",
       "        [1.95723772e-03],\n",
       "        [2.82667875e-02],\n",
       "        [9.37708378e-01],\n",
       "        [1.47616267e-02],\n",
       "        [9.56363678e-01],\n",
       "        [1.53975040e-01],\n",
       "        [9.32425380e-01],\n",
       "        [9.97206509e-01],\n",
       "        [6.57783151e-02],\n",
       "        [1.02413058e-01],\n",
       "        [6.29434288e-02],\n",
       "        [1.48117542e-04],\n",
       "        [2.68450379e-03],\n",
       "        [1.55601531e-01],\n",
       "        [1.97130442e-02],\n",
       "        [4.01783228e-01],\n",
       "        [9.29691195e-01],\n",
       "        [5.48273325e-03],\n",
       "        [9.95398760e-01],\n",
       "        [1.24752522e-04],\n",
       "        [8.78106356e-02],\n",
       "        [1.31529868e-02],\n",
       "        [9.96485710e-01],\n",
       "        [6.41283393e-03],\n",
       "        [3.42635214e-02]], dtype=float32))"
      ]
     },
     "execution_count": 67,
     "metadata": {},
     "output_type": "execute_result"
    }
   ],
   "source": [
    "y_test, y_preds"
   ]
  },
  {
   "cell_type": "markdown",
   "id": "d923c6ea",
   "metadata": {},
   "source": [
    "## The predictions array has come out in **prediction probability** form.. the standard output from the sigmoid (of softmax) activation function."
   ]
  },
  {
   "cell_type": "code",
   "execution_count": 71,
   "id": "012f8a58",
   "metadata": {
    "scrolled": true
   },
   "outputs": [
    {
     "data": {
      "text/plain": [
       "<tf.Tensor: shape=(10, 1), dtype=float32, numpy=\n",
       "array([[1.],\n",
       "       [1.],\n",
       "       [1.],\n",
       "       [1.],\n",
       "       [0.],\n",
       "       [0.],\n",
       "       [1.],\n",
       "       [0.],\n",
       "       [1.],\n",
       "       [0.]], dtype=float32)>"
      ]
     },
     "execution_count": 71,
     "metadata": {},
     "output_type": "execute_result"
    }
   ],
   "source": [
    "# Convert prediction probabilites to binary format and view the first 10\n",
    "\n",
    "tf.round(y_preds)[:10]"
   ]
  },
  {
   "cell_type": "code",
   "execution_count": 73,
   "id": "0a58b418",
   "metadata": {},
   "outputs": [
    {
     "data": {
      "text/plain": [
       "array([[99,  2],\n",
       "       [ 0, 99]], dtype=int64)"
      ]
     },
     "execution_count": 73,
     "metadata": {},
     "output_type": "execute_result"
    }
   ],
   "source": [
    "# Create a confusion matrix\n",
    "\n",
    "confusion_matrix(y_test,tf.round(y_preds))"
   ]
  },
  {
   "cell_type": "markdown",
   "id": "6a108f0a",
   "metadata": {},
   "source": [
    "How about prettifying counfusion matrix?"
   ]
  },
  {
   "cell_type": "code",
   "execution_count": 86,
   "id": "751a606b",
   "metadata": {},
   "outputs": [
    {
     "data": {
      "image/png": "[encoded data removed]",
      "text/plain": [
       "<Figure size 720x720 with 2 Axes>"
      ]
     },
     "metadata": {
      "needs_background": "light"
     },
     "output_type": "display_data"
    }
   ],
   "source": [
    "# Note : the confusion matrix code about to write is a remix of scikit-learn's plot_confusion_matrix function\n",
    "\n",
    "import itertools\n",
    "\n",
    "figsize = (10,10)\n",
    "\n",
    "# Create the confusion matrix\n",
    "\n",
    "cm = confusion_matrix(y_test,tf.round(y_preds))\n",
    "\n",
    "\n",
    "cm_norm = cm.astype(\"float\") / cm.sum(axis=1)[:,np.newaxis] # normalize our confusion matrix\n",
    "\n",
    "n_classes = cm.shape[0]\n",
    "\n",
    "\n",
    "# Prettify it\n",
    "\n",
    "fig, ax = plt.subplots(figsize=figsize)\n",
    "\n",
    "# Create a matrix plot\n",
    "\n",
    "cax = ax.matshow(cm,cmap=plt.cm.Blues) # matplotlib matshow\n",
    "fig.colorbar(cax)\n",
    "\n",
    "# Create classes\n",
    "\n",
    "classes = False\n",
    "\n",
    "if classes:\n",
    "    labels = classes\n",
    "else:\n",
    "    labels = np.arange(cm.shape[0])\n",
    "    \n",
    "# Label the axes\n",
    "\n",
    "ax.set(title = \"Confusion matrix\",\n",
    "      xlabel = \"Predicted Label\",\n",
    "      ylabel = \"True Label\",\n",
    "      xticks = np.arange(n_classes),\n",
    "      yticks = np.arange(n_classes),\n",
    "      xticklabels = labels,\n",
    "      yticklabels = labels)\n",
    "\n",
    "# Set x-axis labels to bottom\n",
    "ax.xaxis.set_label_position(\"bottom\")\n",
    "ax.xaxis.tick_bottom()\n",
    "\n",
    "# Adjust label size\n",
    "ax.yaxis.label.set_size(20)\n",
    "ax.xaxis.label.set_size(20)\n",
    "ax.title.set_size(20)\n",
    "\n",
    "# Set the threshhold for different colors\n",
    "\n",
    "threshhold = ((cm.max()+ cm.min())/2)\n",
    "\n",
    "# Plot some tesxt on each cell\n",
    "\n",
    "for i, j in itertools.product(range(cm.shape[0]),range(cm.shape[1])):\n",
    "    plt.text(j,i,f\"{cm[i,j]} ({cm_norm[i,j]*100:.1f}%)\",\n",
    "            horizontalalignment = \"center\",\n",
    "            color = \"white\" if cm[i,j]>threshhold else \"black\",\n",
    "            size = 15)"
   ]
  },
  {
   "cell_type": "code",
   "execution_count": 78,
   "id": "5c4c61db",
   "metadata": {},
   "outputs": [
    {
     "data": {
      "text/plain": [
       "2"
      ]
     },
     "execution_count": 78,
     "metadata": {},
     "output_type": "execute_result"
    }
   ],
   "source": [
    "cm.shape[0]"
   ]
  },
  {
   "cell_type": "code",
   "execution_count": 76,
   "id": "acc9a03e",
   "metadata": {},
   "outputs": [
    {
     "data": {
      "text/plain": [
       "array([[0.98019802, 0.01980198],\n",
       "       [0.        , 1.        ]])"
      ]
     },
     "execution_count": 76,
     "metadata": {},
     "output_type": "execute_result"
    }
   ],
   "source": [
    "cm_norm"
   ]
  },
  {
   "cell_type": "code",
   "execution_count": null,
   "id": "3d16800d",
   "metadata": {},
   "outputs": [],
   "source": []
  },
  {
   "cell_type": "code",
   "execution_count": null,
   "id": "27072317",
   "metadata": {},
   "outputs": [],
   "source": []
  },
  {
   "cell_type": "code",
   "execution_count": null,
   "id": "25847315",
   "metadata": {},
   "outputs": [],
   "source": []
  },
  {
   "cell_type": "code",
   "execution_count": null,
   "id": "9fbfea6e",
   "metadata": {},
   "outputs": [],
   "source": []
  },
  {
   "cell_type": "code",
   "execution_count": null,
   "id": "115e28e9",
   "metadata": {},
   "outputs": [],
   "source": []
  },
  {
   "cell_type": "code",
   "execution_count": null,
   "id": "7b951fff",
   "metadata": {},
   "outputs": [],
   "source": []
  },
  {
   "cell_type": "code",
   "execution_count": null,
   "id": "e22a45fb",
   "metadata": {},
   "outputs": [],
   "source": []
  },
  {
   "cell_type": "code",
   "execution_count": null,
   "id": "c0e00653",
   "metadata": {},
   "outputs": [],
   "source": []
  },
  {
   "cell_type": "code",
   "execution_count": null,
   "id": "40c3a25e",
   "metadata": {},
   "outputs": [],
   "source": []
  },
  {
   "cell_type": "code",
   "execution_count": null,
   "id": "9eec737d",
   "metadata": {},
   "outputs": [],
   "source": []
  },
  {
   "cell_type": "code",
   "execution_count": null,
   "id": "dd8825ec",
   "metadata": {},
   "outputs": [],
   "source": []
  },
  {
   "cell_type": "code",
   "execution_count": null,
   "id": "9aaa98c8",
   "metadata": {},
   "outputs": [],
   "source": []
  },
  {
   "cell_type": "code",
   "execution_count": null,
   "id": "88ac99ef",
   "metadata": {},
   "outputs": [],
   "source": []
  }
 ],
 "metadata": {
  "kernelspec": {
   "display_name": "Python 3 (ipykernel)",
   "language": "python",
   "name": "python3"
  },
  "language_info": {
   "codemirror_mode": {
    "name": "ipython",
    "version": 3
   },
   "file_extension": ".py",
   "mimetype": "text/x-python",
   "name": "python",
   "nbconvert_exporter": "python",
   "pygments_lexer": "ipython3",
   "version": "3.9.7"
  }
 },
 "nbformat": 4,
 "nbformat_minor": 5
}
