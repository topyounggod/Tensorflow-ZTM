{
 "cells": [
  {
   "cell_type": "markdown",
   "id": "13698407",
   "metadata": {},
   "source": [
    "# Working with a larger example (multiclass classification)\n",
    "\n",
    "When you have more than two classes as an option, it's known as **multi-class classification\n",
    "\n",
    "* This means if you have 3 different classes, it's multi-class classification.\n",
    "* It also means if you have 100 different classes, it's multi-class classification.\n",
    "\n",
    "\n",
    "To practice multi-class classification, we're going to build a neural network to classify images of different items of clothing."
   ]
  },
  {
   "cell_type": "markdown",
   "id": "1b51f4f9",
   "metadata": {},
   "source": [
    "https://www.tensorflow.org/datasets/catalog/fashion_mnist"
   ]
  },
  {
   "cell_type": "code",
   "execution_count": 72,
   "id": "5bb31308",
   "metadata": {},
   "outputs": [],
   "source": [
    "import tensorflow as tf\n",
    "\n",
    "from tensorflow.keras.datasets import fashion_mnist\n",
    "\n",
    "# The data has already been sorted into training and test dataset\n",
    "\n",
    "(train_data, train_labels), (test_data, test_labels) = fashion_mnist.load_data()"
   ]
  },
  {
   "cell_type": "code",
   "execution_count": 73,
   "id": "f3f6d91d",
   "metadata": {},
   "outputs": [
    {
     "name": "stdout",
     "output_type": "stream",
     "text": [
      "Training sample: \n",
      "[[  0   0   0   0   0   0   0   0   0   0   0   0   0   0   0   0   0   0\n",
      "    0   0   0   0   0   0   0   0   0   0]\n",
      " [  0   0   0   0   0   0   0   0   0   0   0   0   0   0   0   0   0   0\n",
      "    0   0   0   0   0   0   0   0   0   0]\n",
      " [  0   0   0   0   0   0   0   0   0   0   0   0   0   0   0   0   0   0\n",
      "    0   0   0   0   0   0   0   0   0   0]\n",
      " [  0   0   0   0   0   0   0   0   0   0   0   0   1   0   0  13  73   0\n",
      "    0   1   4   0   0   0   0   1   1   0]\n",
      " [  0   0   0   0   0   0   0   0   0   0   0   0   3   0  36 136 127  62\n",
      "   54   0   0   0   1   3   4   0   0   3]\n",
      " [  0   0   0   0   0   0   0   0   0   0   0   0   6   0 102 204 176 134\n",
      "  144 123  23   0   0   0   0  12  10   0]\n",
      " [  0   0   0   0   0   0   0   0   0   0   0   0   0   0 155 236 207 178\n",
      "  107 156 161 109  64  23  77 130  72  15]\n",
      " [  0   0   0   0   0   0   0   0   0   0   0   1   0  69 207 223 218 216\n",
      "  216 163 127 121 122 146 141  88 172  66]\n",
      " [  0   0   0   0   0   0   0   0   0   1   1   1   0 200 232 232 233 229\n",
      "  223 223 215 213 164 127 123 196 229   0]\n",
      " [  0   0   0   0   0   0   0   0   0   0   0   0   0 183 225 216 223 228\n",
      "  235 227 224 222 224 221 223 245 173   0]\n",
      " [  0   0   0   0   0   0   0   0   0   0   0   0   0 193 228 218 213 198\n",
      "  180 212 210 211 213 223 220 243 202   0]\n",
      " [  0   0   0   0   0   0   0   0   0   1   3   0  12 219 220 212 218 192\n",
      "  169 227 208 218 224 212 226 197 209  52]\n",
      " [  0   0   0   0   0   0   0   0   0   0   6   0  99 244 222 220 218 203\n",
      "  198 221 215 213 222 220 245 119 167  56]\n",
      " [  0   0   0   0   0   0   0   0   0   4   0   0  55 236 228 230 228 240\n",
      "  232 213 218 223 234 217 217 209  92   0]\n",
      " [  0   0   1   4   6   7   2   0   0   0   0   0 237 226 217 223 222 219\n",
      "  222 221 216 223 229 215 218 255  77   0]\n",
      " [  0   3   0   0   0   0   0   0   0  62 145 204 228 207 213 221 218 208\n",
      "  211 218 224 223 219 215 224 244 159   0]\n",
      " [  0   0   0   0  18  44  82 107 189 228 220 222 217 226 200 205 211 230\n",
      "  224 234 176 188 250 248 233 238 215   0]\n",
      " [  0  57 187 208 224 221 224 208 204 214 208 209 200 159 245 193 206 223\n",
      "  255 255 221 234 221 211 220 232 246   0]\n",
      " [  3 202 228 224 221 211 211 214 205 205 205 220 240  80 150 255 229 221\n",
      "  188 154 191 210 204 209 222 228 225   0]\n",
      " [ 98 233 198 210 222 229 229 234 249 220 194 215 217 241  65  73 106 117\n",
      "  168 219 221 215 217 223 223 224 229  29]\n",
      " [ 75 204 212 204 193 205 211 225 216 185 197 206 198 213 240 195 227 245\n",
      "  239 223 218 212 209 222 220 221 230  67]\n",
      " [ 48 203 183 194 213 197 185 190 194 192 202 214 219 221 220 236 225 216\n",
      "  199 206 186 181 177 172 181 205 206 115]\n",
      " [  0 122 219 193 179 171 183 196 204 210 213 207 211 210 200 196 194 191\n",
      "  195 191 198 192 176 156 167 177 210  92]\n",
      " [  0   0  74 189 212 191 175 172 175 181 185 188 189 188 193 198 204 209\n",
      "  210 210 211 188 188 194 192 216 170   0]\n",
      " [  2   0   0   0  66 200 222 237 239 242 246 243 244 221 220 193 191 179\n",
      "  182 182 181 176 166 168  99  58   0   0]\n",
      " [  0   0   0   0   0   0   0  40  61  44  72  41  35   0   0   0   0   0\n",
      "    0   0   0   0   0   0   0   0   0   0]\n",
      " [  0   0   0   0   0   0   0   0   0   0   0   0   0   0   0   0   0   0\n",
      "    0   0   0   0   0   0   0   0   0   0]\n",
      " [  0   0   0   0   0   0   0   0   0   0   0   0   0   0   0   0   0   0\n",
      "    0   0   0   0   0   0   0   0   0   0]]\n",
      "\n",
      "Training label: \n",
      "9\n",
      "\n"
     ]
    }
   ],
   "source": [
    "# Show the first training example\n",
    "\n",
    "print(f\"Training sample: \\n{train_data[0]}\\n\")\n",
    "print(f\"Training label: \\n{train_labels[0]}\\n\")"
   ]
  },
  {
   "cell_type": "code",
   "execution_count": 74,
   "id": "53e84ee7",
   "metadata": {
    "scrolled": true
   },
   "outputs": [
    {
     "data": {
      "text/plain": [
       "((28, 28), ())"
      ]
     },
     "execution_count": 74,
     "metadata": {},
     "output_type": "execute_result"
    }
   ],
   "source": [
    "# Check the shape of single example\n",
    "\n",
    "train_data[0].shape, train_labels[0].shape\n"
   ]
  },
  {
   "cell_type": "code",
   "execution_count": 11,
   "id": "5911f94d",
   "metadata": {},
   "outputs": [
    {
     "data": {
      "text/plain": [
       "<matplotlib.image.AxesImage at 0x1912c13f1f0>"
      ]
     },
     "execution_count": 11,
     "metadata": {},
     "output_type": "execute_result"
    },
    {
     "data": {
      "image/png": "[encoded data removed]",
      "text/plain": [
       "<Figure size 432x288 with 1 Axes>"
      ]
     },
     "metadata": {
      "needs_background": "light"
     },
     "output_type": "display_data"
    }
   ],
   "source": [
    "# Plot a single sampe\n",
    "\n",
    "import matplotlib.pyplot as plt\n",
    "\n",
    "plt.imshow(train_data[7])"
   ]
  },
  {
   "cell_type": "code",
   "execution_count": 10,
   "id": "9cc2daad",
   "metadata": {},
   "outputs": [
    {
     "data": {
      "text/plain": [
       "2"
      ]
     },
     "execution_count": 10,
     "metadata": {},
     "output_type": "execute_result"
    }
   ],
   "source": [
    "# Check out samples labels\n",
    "\n",
    "train_labels[7]"
   ]
  },
  {
   "cell_type": "code",
   "execution_count": 12,
   "id": "71891206",
   "metadata": {},
   "outputs": [],
   "source": [
    "# Create a small list so we can index onto our training labels so they're human-readable \n",
    "\n",
    "class_names = [\"T-shirt/top\", \"Trouser\",\"Pullover\",\"Dress\",\"Coat\",\"Sandal\",\"Shirt\",\"Sneaker\",\"Bag\",\"Ankle boot\"]"
   ]
  },
  {
   "cell_type": "code",
   "execution_count": 14,
   "id": "d93a15ea",
   "metadata": {},
   "outputs": [
    {
     "data": {
      "text/plain": [
       "10"
      ]
     },
     "execution_count": 14,
     "metadata": {},
     "output_type": "execute_result"
    }
   ],
   "source": [
    "len(class_names)"
   ]
  },
  {
   "cell_type": "code",
   "execution_count": 34,
   "id": "5cdb19a9",
   "metadata": {},
   "outputs": [
    {
     "data": {
      "text/plain": [
       "Text(0.5, 1.0, 'Trouser')"
      ]
     },
     "execution_count": 34,
     "metadata": {},
     "output_type": "execute_result"
    },
    {
     "data": {
      "image/png": "[encoded data removed]",
      "text/plain": [
       "<Figure size 432x288 with 1 Axes>"
      ]
     },
     "metadata": {
      "needs_background": "light"
     },
     "output_type": "display_data"
    }
   ],
   "source": [
    "# Plot an example image and its label\n",
    "import numpy as np\n",
    "index_of_choice = np.random.randint(5000)\n",
    "plt.imshow(train_data[index_of_choice],cmap = plt.cm.binary)\n",
    "plt.title(class_names[train_labels[index_of_choice]])"
   ]
  },
  {
   "cell_type": "code",
   "execution_count": 36,
   "id": "dff148c8",
   "metadata": {},
   "outputs": [
    {
     "data": {
      "image/png": "[encoded data removed]",
      "text/plain": [
       "<Figure size 864x432 with 4 Axes>"
      ]
     },
     "metadata": {
      "needs_background": "light"
     },
     "output_type": "display_data"
    }
   ],
   "source": [
    "# Plot multiple random imgaes of fahsion mnist\n",
    "\n",
    "import random\n",
    "\n",
    "plt.figure(figsize=(12,6))\n",
    "for i in range(4):\n",
    "    ax = plt.subplot(2,2,i+1)\n",
    "    rand_index = random.choice(range(len(train_data)))\n",
    "    plt.imshow(train_data[rand_index],cmap= plt.cm.binary)\n",
    "    plt.title(class_names[train_labels[rand_index]])\n",
    "    plt.axis(False)"
   ]
  },
  {
   "cell_type": "markdown",
   "id": "b099f13d",
   "metadata": {},
   "source": [
    "## Building a multiclass classification model\n",
    "\n",
    "For our multiclass classificaiton model, we can use a similar architecture to our bianry classifiers, however, there are some different things\n",
    "\n",
    "* Input_shape= 28 x28 (the shape of one image)\n",
    "* Output_shape = 10 (one per class of clothing)=\n",
    "* Loss function = tf.keras.losses.CategoricalCrossentropy()\n",
    "    * If the labels are one-hot encoded, Use  tf.keras.losses.CategoricalCrossentropy()\n",
    "    * If the labels are integers form, Use  tf.keras.losses.SparseCategoricalCrossentropy()\n",
    "* Output layer activation = Softmax (not sigmoid)"
   ]
  },
  {
   "cell_type": "code",
   "execution_count": 71,
   "id": "dd111122",
   "metadata": {},
   "outputs": [
    {
     "data": {
      "text/plain": [
       "(28, 28)"
      ]
     },
     "execution_count": 71,
     "metadata": {},
     "output_type": "execute_result"
    }
   ],
   "source": [
    "train_data[0].shape"
   ]
  },
  {
   "cell_type": "code",
   "execution_count": 56,
   "id": "b4852c54",
   "metadata": {},
   "outputs": [
    {
     "data": {
      "text/plain": [
       "(None, 784)"
      ]
     },
     "execution_count": 56,
     "metadata": {},
     "output_type": "execute_result"
    }
   ],
   "source": [
    "# Our data needs to be flattened (from 28 * 28 to (None,784))\n",
    "flatten_model =tf.keras.Sequential([tf.keras.layers.Flatten(input_shape=(28,28))])\n",
    "flatten_model.output_shape"
   ]
  },
  {
   "cell_type": "code",
   "execution_count": 57,
   "id": "4e622d68",
   "metadata": {
    "scrolled": true
   },
   "outputs": [
    {
     "data": {
      "text/plain": [
       "784"
      ]
     },
     "execution_count": 57,
     "metadata": {},
     "output_type": "execute_result"
    }
   ],
   "source": [
    "28*28"
   ]
  },
  {
   "cell_type": "code",
   "execution_count": 58,
   "id": "84afbf4b",
   "metadata": {},
   "outputs": [
    {
     "data": {
      "text/plain": [
       "array([9, 0, 0, 3, 0, 2, 7, 2, 5, 5], dtype=uint8)"
      ]
     },
     "execution_count": 58,
     "metadata": {},
     "output_type": "execute_result"
    }
   ],
   "source": [
    "train_labels[:10]"
   ]
  },
  {
   "cell_type": "markdown",
   "id": "c68f43bb",
   "metadata": {},
   "source": [
    "# If you want to use integers value as loss fuction \n",
    "# Please use\n",
    "# SparseCategoricalCrossentropy()\n",
    "\n"
   ]
  },
  {
   "cell_type": "code",
   "execution_count": 59,
   "id": "1754af76",
   "metadata": {},
   "outputs": [
    {
     "name": "stdout",
     "output_type": "stream",
     "text": [
      "Epoch 1/10\n",
      "1875/1875 [==============================] - 2s 938us/step - loss: 1.0348 - accuracy: 0.6474 - val_loss: 99.9192 - val_accuracy: 0.7298\n",
      "Epoch 2/10\n",
      "1875/1875 [==============================] - 2s 923us/step - loss: 0.6376 - accuracy: 0.7757 - val_loss: 108.3327 - val_accuracy: 0.7341\n",
      "Epoch 3/10\n",
      "1875/1875 [==============================] - 2s 882us/step - loss: 0.5942 - accuracy: 0.7914 - val_loss: 102.6736 - val_accuracy: 0.7373\n",
      "Epoch 4/10\n",
      "1875/1875 [==============================] - 2s 909us/step - loss: 0.5750 - accuracy: 0.7979 - val_loss: 132.9137 - val_accuracy: 0.7042\n",
      "Epoch 5/10\n",
      "1875/1875 [==============================] - 2s 875us/step - loss: 0.5641 - accuracy: 0.8006 - val_loss: 150.7092 - val_accuracy: 0.7028\n",
      "Epoch 6/10\n",
      "1875/1875 [==============================] - 2s 890us/step - loss: 0.5544 - accuracy: 0.8043 - val_loss: 126.4341 - val_accuracy: 0.7159\n",
      "Epoch 7/10\n",
      "1875/1875 [==============================] - 2s 896us/step - loss: 0.5488 - accuracy: 0.8063 - val_loss: 118.1338 - val_accuracy: 0.7253\n",
      "Epoch 8/10\n",
      "1875/1875 [==============================] - 2s 889us/step - loss: 0.5428 - accuracy: 0.8077 - val_loss: 128.4487 - val_accuracy: 0.7156\n",
      "Epoch 9/10\n",
      "1875/1875 [==============================] - 2s 892us/step - loss: 0.5373 - accuracy: 0.8097 - val_loss: 142.0318 - val_accuracy: 0.7063\n",
      "Epoch 10/10\n",
      "1875/1875 [==============================] - 2s 883us/step - loss: 0.5360 - accuracy: 0.8124 - val_loss: 143.8324 - val_accuracy: 0.7031\n"
     ]
    }
   ],
   "source": [
    "tf.random.set_seed(42)\n",
    "\n",
    "model_1 = tf.keras.Sequential([\n",
    "    tf.keras.layers.Flatten(input_shape=(28,28)), # Hey we are gonna pass 28x28 data so it will be (None,784)\n",
    "    tf.keras.layers.Dense(4,activation=\"relu\"),\n",
    "    tf.keras.layers.Dense(4,activation = \"relu\"),\n",
    "    tf.keras.layers.Dense(10,activation = tf.keras.activations.softmax)\n",
    "])\n",
    "model_1.compile(loss =tf.keras.losses.SparseCategoricalCrossentropy(),\n",
    "               optimizer = tf.keras.optimizers.Adam(),\n",
    "               metrics = [\"accuracy\"])\n",
    "\n",
    "non_norm_history = model_1.fit(train_data,\n",
    "                              train_labels,\n",
    "                              epochs = 10,\n",
    "                              validation_data=(test_data,test_labels)) \n",
    "# fot this time we don't have the validation_data instead use test_data"
   ]
  },
  {
   "cell_type": "code",
   "execution_count": 81,
   "id": "4a4226f9",
   "metadata": {},
   "outputs": [
    {
     "name": "stdout",
     "output_type": "stream",
     "text": [
      "Epoch 1/10\n",
      "1875/1875 [==============================] - 2s 940us/step - loss: 2.1637 - accuracy: 0.1623 - val_loss: 1.7857 - val_accuracy: 0.2104\n",
      "Epoch 2/10\n",
      "1875/1875 [==============================] - 2s 861us/step - loss: 1.7077 - accuracy: 0.2546 - val_loss: 1.7519 - val_accuracy: 0.2826\n",
      "Epoch 3/10\n",
      "1875/1875 [==============================] - 2s 880us/step - loss: 1.6308 - accuracy: 0.2851 - val_loss: 1.6097 - val_accuracy: 0.2756\n",
      "Epoch 4/10\n",
      "1875/1875 [==============================] - 2s 855us/step - loss: 1.6096 - accuracy: 0.2891 - val_loss: 1.6042 - val_accuracy: 0.2933\n",
      "Epoch 5/10\n",
      "1875/1875 [==============================] - 2s 911us/step - loss: 1.5956 - accuracy: 0.3022 - val_loss: 1.5969 - val_accuracy: 0.3255\n",
      "Epoch 6/10\n",
      "1875/1875 [==============================] - 2s 880us/step - loss: 1.5877 - accuracy: 0.3145 - val_loss: 1.6069 - val_accuracy: 0.3217\n",
      "Epoch 7/10\n",
      "1875/1875 [==============================] - 2s 857us/step - loss: 1.5753 - accuracy: 0.3232 - val_loss: 1.5691 - val_accuracy: 0.3304\n",
      "Epoch 8/10\n",
      "1875/1875 [==============================] - 2s 870us/step - loss: 1.5719 - accuracy: 0.3232 - val_loss: 1.5905 - val_accuracy: 0.3336\n",
      "Epoch 9/10\n",
      "1875/1875 [==============================] - 2s 837us/step - loss: 1.5754 - accuracy: 0.3215 - val_loss: 1.5672 - val_accuracy: 0.3134\n",
      "Epoch 10/10\n",
      "1875/1875 [==============================] - 2s 848us/step - loss: 1.5690 - accuracy: 0.3233 - val_loss: 1.5552 - val_accuracy: 0.3339\n"
     ]
    }
   ],
   "source": [
    "tf.random.set_seed(42)\n",
    "\n",
    "model_1 = tf.keras.Sequential([\n",
    "    tf.keras.layers.Flatten(input_shape=(28,28)), # Hey we are gonna pass 28x28 data so it will be (None,784)\n",
    "    tf.keras.layers.Dense(4,activation=\"relu\"),\n",
    "    tf.keras.layers.Dense(4,activation = \"relu\"),\n",
    "    tf.keras.layers.Dense(10,activation = tf.keras.activations.softmax)\n",
    "])\n",
    "model_1.compile(loss =tf.keras.losses.CategoricalCrossentropy(),\n",
    "               optimizer = tf.keras.optimizers.Adam(),\n",
    "               metrics = [\"accuracy\"])\n",
    "\n",
    "non_norm_history = model_1.fit(train_data,\n",
    "                              tf.one_hot(train_labels,depth=10),\n",
    "                              epochs = 10,\n",
    "                              validation_data=(test_data,tf.one_hot(test_labels,depth=10)))\n",
    "# fot this time we don't have the validation_data instead use test_data"
   ]
  },
  {
   "cell_type": "code",
   "execution_count": 61,
   "id": "3663e56e",
   "metadata": {},
   "outputs": [
    {
     "name": "stdout",
     "output_type": "stream",
     "text": [
      "Model: \"sequential_8\"\n",
      "_________________________________________________________________\n",
      " Layer (type)                Output Shape              Param #   \n",
      "=================================================================\n",
      " flatten_7 (Flatten)         (None, 784)               0         \n",
      "                                                                 \n",
      " dense_18 (Dense)            (None, 4)                 3140      \n",
      "                                                                 \n",
      " dense_19 (Dense)            (None, 4)                 20        \n",
      "                                                                 \n",
      " dense_20 (Dense)            (None, 10)                50        \n",
      "                                                                 \n",
      "=================================================================\n",
      "Total params: 3,210\n",
      "Trainable params: 3,210\n",
      "Non-trainable params: 0\n",
      "_________________________________________________________________\n"
     ]
    }
   ],
   "source": [
    "# Check the model summary\n",
    "\n",
    "model_1.summary()"
   ]
  },
  {
   "cell_type": "code",
   "execution_count": 75,
   "id": "de61af46",
   "metadata": {},
   "outputs": [
    {
     "data": {
      "text/plain": [
       "(0, 255)"
      ]
     },
     "execution_count": 75,
     "metadata": {},
     "output_type": "execute_result"
    }
   ],
   "source": [
    "# Check the min and max values of the training data\n",
    "\n",
    "train_data.min(),train_data.max()"
   ]
  },
  {
   "cell_type": "markdown",
   "id": "5a3ae6d6",
   "metadata": {},
   "source": [
    "## Neural networks prefer data to be scaled (or normalized), this means they like to have the numbers in the tensor between 0&1"
   ]
  },
  {
   "cell_type": "code",
   "execution_count": 76,
   "id": "5bae70cd",
   "metadata": {},
   "outputs": [],
   "source": [
    "# We can get our training and testing data between 0 & 1 by dividing by the maximum\n",
    "\n",
    "train_data_norm = train_data / 255.0\n",
    "test_data_norm = test_data / 255.0"
   ]
  },
  {
   "cell_type": "code",
   "execution_count": 77,
   "id": "6c6615b9",
   "metadata": {},
   "outputs": [
    {
     "data": {
      "text/plain": [
       "(0.0, 1.0, 0.0, 1.0)"
      ]
     },
     "execution_count": 77,
     "metadata": {},
     "output_type": "execute_result"
    }
   ],
   "source": [
    "# Check the min max value of the data\n",
    "\n",
    "train_data_norm.min(),train_data_norm.max(),test_data_norm.min(),test_data_norm.max()"
   ]
  },
  {
   "cell_type": "code",
   "execution_count": 78,
   "id": "1aebad96",
   "metadata": {
    "scrolled": true
   },
   "outputs": [
    {
     "name": "stdout",
     "output_type": "stream",
     "text": [
      "Epoch 1/10\n",
      "1875/1875 [==============================] - 2s 860us/step - loss: 1.0348 - accuracy: 0.6474 - val_loss: 0.6937 - val_accuracy: 0.7617\n",
      "Epoch 2/10\n",
      "1875/1875 [==============================] - 2s 883us/step - loss: 0.6376 - accuracy: 0.7757 - val_loss: 0.6400 - val_accuracy: 0.7820\n",
      "Epoch 3/10\n",
      "1875/1875 [==============================] - 2s 840us/step - loss: 0.5942 - accuracy: 0.7914 - val_loss: 0.6247 - val_accuracy: 0.7783\n",
      "Epoch 4/10\n",
      "1875/1875 [==============================] - 2s 856us/step - loss: 0.5750 - accuracy: 0.7979 - val_loss: 0.6078 - val_accuracy: 0.7881\n",
      "Epoch 5/10\n",
      "1875/1875 [==============================] - 2s 823us/step - loss: 0.5641 - accuracy: 0.8006 - val_loss: 0.6169 - val_accuracy: 0.7881\n",
      "Epoch 6/10\n",
      "1875/1875 [==============================] - 2s 825us/step - loss: 0.5544 - accuracy: 0.8043 - val_loss: 0.5855 - val_accuracy: 0.7951\n",
      "Epoch 7/10\n",
      "1875/1875 [==============================] - 2s 876us/step - loss: 0.5488 - accuracy: 0.8063 - val_loss: 0.6097 - val_accuracy: 0.7836\n",
      "Epoch 8/10\n",
      "1875/1875 [==============================] - 2s 868us/step - loss: 0.5428 - accuracy: 0.8077 - val_loss: 0.5787 - val_accuracy: 0.7971\n",
      "Epoch 9/10\n",
      "1875/1875 [==============================] - 2s 815us/step - loss: 0.5373 - accuracy: 0.8097 - val_loss: 0.5698 - val_accuracy: 0.7977\n",
      "Epoch 10/10\n",
      "1875/1875 [==============================] - 2s 827us/step - loss: 0.5360 - accuracy: 0.8124 - val_loss: 0.5658 - val_accuracy: 0.8014\n"
     ]
    }
   ],
   "source": [
    "tf.random.set_seed(42)\n",
    "\n",
    "model_2 = tf.keras.Sequential([\n",
    "    tf.keras.layers.Flatten(input_shape = (28,28)),\n",
    "    tf.keras.layers.Dense(4,activation =\"relu\"),\n",
    "    tf.keras.layers.Dense(4,activation=\"relu\"),\n",
    "    tf.keras.layers.Dense(10,activation = \"softmax\")\n",
    "])\n",
    "\n",
    "\n",
    "model_2.compile(loss = tf.keras.losses.SparseCategoricalCrossentropy(),\n",
    "               optimizer = tf.keras.optimizers.Adam(),\n",
    "               metrics = [\"accuracy\"])\n",
    "\n",
    "norm_history = model_2.fit(train_data_norm,\n",
    "                          train_labels,\n",
    "                          epochs = 10,\n",
    "                          validation_data = (test_data_norm,test_labels))"
   ]
  },
  {
   "cell_type": "markdown",
   "id": "954ee59f",
   "metadata": {},
   "source": [
    "**Note:** Neural networks tend to prefer in numerical form as wellas scale/normalized(numbers between 0&1)"
   ]
  },
  {
   "cell_type": "code",
   "execution_count": 79,
   "id": "c66464e2",
   "metadata": {
    "scrolled": true
   },
   "outputs": [
    {
     "name": "stdout",
     "output_type": "stream",
     "text": [
      "Model: \"sequential_12\"\n",
      "_________________________________________________________________\n",
      " Layer (type)                Output Shape              Param #   \n",
      "=================================================================\n",
      " flatten_11 (Flatten)        (None, 784)               0         \n",
      "                                                                 \n",
      " dense_30 (Dense)            (None, 4)                 3140      \n",
      "                                                                 \n",
      " dense_31 (Dense)            (None, 4)                 20        \n",
      "                                                                 \n",
      " dense_32 (Dense)            (None, 10)                50        \n",
      "                                                                 \n",
      "=================================================================\n",
      "Total params: 3,210\n",
      "Trainable params: 3,210\n",
      "Non-trainable params: 0\n",
      "_________________________________________________________________\n"
     ]
    }
   ],
   "source": [
    "model_2.summary()"
   ]
  },
  {
   "cell_type": "code",
   "execution_count": 82,
   "id": "fe99b8b1",
   "metadata": {},
   "outputs": [
    {
     "data": {
      "text/plain": [
       "<AxesSubplot:title={'center':'Normalized data'}>"
      ]
     },
     "execution_count": 82,
     "metadata": {},
     "output_type": "execute_result"
    },
    {
     "data": {
      "image/png": "[encoded data removed]",
      "text/plain": [
       "<Figure size 432x288 with 1 Axes>"
      ]
     },
     "metadata": {
      "needs_background": "light"
     },
     "output_type": "display_data"
    },
    {
     "data": {
      "image/png": "[encoded data removed]",
      "text/plain": [
       "<Figure size 432x288 with 1 Axes>"
      ]
     },
     "metadata": {
      "needs_background": "light"
     },
     "output_type": "display_data"
    }
   ],
   "source": [
    "import pandas as pd\n",
    "\n",
    "# Plot non-normalized data loss curves\n",
    "\n",
    "pd.DataFrame(non_norm_history.history).plot(title = \"Non-normalized data\")\n",
    "\n",
    "# Plot normalized data loss curves\n",
    "\n",
    "pd.DataFrame(norm_history.history).plot(title = \"Normalized data\")"
   ]
  },
  {
   "cell_type": "markdown",
   "id": "9afce4fb",
   "metadata": {},
   "source": [
    "**Note:** The same model even slightly different data can produce dramatically different results . So when comparing models it's important to make sure comparing them on the same criteria (e.g. same architecture but different data or same data but different architecture)"
   ]
  },
  {
   "cell_type": "markdown",
   "id": "9171aed9",
   "metadata": {},
   "source": [
    "# Finding the ideal learning rate"
   ]
  },
  {
   "cell_type": "code",
   "execution_count": 83,
   "id": "5481d648",
   "metadata": {
    "scrolled": true
   },
   "outputs": [
    {
     "name": "stdout",
     "output_type": "stream",
     "text": [
      "Epoch 1/40\n",
      "1875/1875 [==============================] - 2s 955us/step - loss: 1.0348 - accuracy: 0.6474 - val_loss: 0.6937 - val_accuracy: 0.7617 - lr: 0.0010\n",
      "Epoch 2/40\n",
      "1875/1875 [==============================] - 2s 870us/step - loss: 0.6366 - accuracy: 0.7759 - val_loss: 0.6400 - val_accuracy: 0.7808 - lr: 0.0011\n",
      "Epoch 3/40\n",
      "1875/1875 [==============================] - 2s 881us/step - loss: 0.5934 - accuracy: 0.7911 - val_loss: 0.6278 - val_accuracy: 0.7770 - lr: 0.0013\n",
      "Epoch 4/40\n",
      "1875/1875 [==============================] - 2s 911us/step - loss: 0.5749 - accuracy: 0.7969 - val_loss: 0.6122 - val_accuracy: 0.7871 - lr: 0.0014\n",
      "Epoch 5/40\n",
      "1875/1875 [==============================] - 2s 878us/step - loss: 0.5655 - accuracy: 0.7987 - val_loss: 0.6061 - val_accuracy: 0.7913 - lr: 0.0016\n",
      "Epoch 6/40\n",
      "1875/1875 [==============================] - 2s 866us/step - loss: 0.5569 - accuracy: 0.8022 - val_loss: 0.5917 - val_accuracy: 0.7940 - lr: 0.0018\n",
      "Epoch 7/40\n",
      "1875/1875 [==============================] - 2s 870us/step - loss: 0.5542 - accuracy: 0.8036 - val_loss: 0.5898 - val_accuracy: 0.7896 - lr: 0.0020\n",
      "Epoch 8/40\n",
      "1875/1875 [==============================] - 2s 872us/step - loss: 0.5509 - accuracy: 0.8039 - val_loss: 0.5829 - val_accuracy: 0.7949 - lr: 0.0022\n",
      "Epoch 9/40\n",
      "1875/1875 [==============================] - 2s 873us/step - loss: 0.5468 - accuracy: 0.8047 - val_loss: 0.6036 - val_accuracy: 0.7833 - lr: 0.0025\n",
      "Epoch 10/40\n",
      "1875/1875 [==============================] - 2s 871us/step - loss: 0.5478 - accuracy: 0.8058 - val_loss: 0.5736 - val_accuracy: 0.7974 - lr: 0.0028\n",
      "Epoch 11/40\n",
      "1875/1875 [==============================] - 2s 893us/step - loss: 0.5446 - accuracy: 0.8059 - val_loss: 0.5672 - val_accuracy: 0.8016 - lr: 0.0032\n",
      "Epoch 12/40\n",
      "1875/1875 [==============================] - 2s 873us/step - loss: 0.5432 - accuracy: 0.8067 - val_loss: 0.5773 - val_accuracy: 0.7950 - lr: 0.0035\n",
      "Epoch 13/40\n",
      "1875/1875 [==============================] - 2s 893us/step - loss: 0.5425 - accuracy: 0.8056 - val_loss: 0.5775 - val_accuracy: 0.7992 - lr: 0.0040\n",
      "Epoch 14/40\n",
      "1875/1875 [==============================] - 2s 904us/step - loss: 0.5407 - accuracy: 0.8078 - val_loss: 0.5616 - val_accuracy: 0.8075 - lr: 0.0045\n",
      "Epoch 15/40\n",
      "1875/1875 [==============================] - 2s 891us/step - loss: 0.5408 - accuracy: 0.8052 - val_loss: 0.5773 - val_accuracy: 0.8039 - lr: 0.0050\n",
      "Epoch 16/40\n",
      "1875/1875 [==============================] - 2s 882us/step - loss: 0.5437 - accuracy: 0.8058 - val_loss: 0.5682 - val_accuracy: 0.8015 - lr: 0.0056\n",
      "Epoch 17/40\n",
      "1875/1875 [==============================] - 2s 908us/step - loss: 0.5419 - accuracy: 0.8075 - val_loss: 0.5995 - val_accuracy: 0.7964 - lr: 0.0063\n",
      "Epoch 18/40\n",
      "1875/1875 [==============================] - 2s 876us/step - loss: 0.5488 - accuracy: 0.8058 - val_loss: 0.5544 - val_accuracy: 0.8087 - lr: 0.0071\n",
      "Epoch 19/40\n",
      "1875/1875 [==============================] - 2s 884us/step - loss: 0.5506 - accuracy: 0.8042 - val_loss: 0.6068 - val_accuracy: 0.7864 - lr: 0.0079\n",
      "Epoch 20/40\n",
      "1875/1875 [==============================] - 2s 883us/step - loss: 0.5540 - accuracy: 0.8026 - val_loss: 0.5625 - val_accuracy: 0.8082 - lr: 0.0089\n",
      "Epoch 21/40\n",
      "1875/1875 [==============================] - 2s 907us/step - loss: 0.5573 - accuracy: 0.8033 - val_loss: 0.5993 - val_accuracy: 0.7935 - lr: 0.0100\n",
      "Epoch 22/40\n",
      "1875/1875 [==============================] - 2s 897us/step - loss: 0.5603 - accuracy: 0.8017 - val_loss: 0.5866 - val_accuracy: 0.8007 - lr: 0.0112\n",
      "Epoch 23/40\n",
      "1875/1875 [==============================] - 2s 912us/step - loss: 0.5667 - accuracy: 0.8011 - val_loss: 0.6679 - val_accuracy: 0.7495 - lr: 0.0126\n",
      "Epoch 24/40\n",
      "1875/1875 [==============================] - 2s 916us/step - loss: 0.5812 - accuracy: 0.7966 - val_loss: 0.6203 - val_accuracy: 0.7909 - lr: 0.0141\n",
      "Epoch 25/40\n",
      "1875/1875 [==============================] - 2s 887us/step - loss: 0.5831 - accuracy: 0.7958 - val_loss: 0.6277 - val_accuracy: 0.7924 - lr: 0.0158\n",
      "Epoch 26/40\n",
      "1875/1875 [==============================] - 2s 875us/step - loss: 0.5946 - accuracy: 0.7912 - val_loss: 0.6936 - val_accuracy: 0.7825 - lr: 0.0178\n",
      "Epoch 27/40\n",
      "1875/1875 [==============================] - 2s 881us/step - loss: 0.6107 - accuracy: 0.7871 - val_loss: 0.6150 - val_accuracy: 0.7875 - lr: 0.0200\n",
      "Epoch 28/40\n",
      "1875/1875 [==============================] - 2s 887us/step - loss: 0.6149 - accuracy: 0.7835 - val_loss: 0.6436 - val_accuracy: 0.7846 - lr: 0.0224\n",
      "Epoch 29/40\n",
      "1875/1875 [==============================] - 2s 885us/step - loss: 0.6412 - accuracy: 0.7727 - val_loss: 0.6421 - val_accuracy: 0.7617 - lr: 0.0251\n",
      "Epoch 30/40\n",
      "1875/1875 [==============================] - 2s 895us/step - loss: 0.6664 - accuracy: 0.7657 - val_loss: 0.6990 - val_accuracy: 0.7585 - lr: 0.0282\n",
      "Epoch 31/40\n",
      "1875/1875 [==============================] - 2s 893us/step - loss: 0.6840 - accuracy: 0.7607 - val_loss: 0.6967 - val_accuracy: 0.7544 - lr: 0.0316\n",
      "Epoch 32/40\n",
      "1875/1875 [==============================] - 2s 1ms/step - loss: 0.7127 - accuracy: 0.7546 - val_loss: 0.6891 - val_accuracy: 0.7797 - lr: 0.0355\n",
      "Epoch 33/40\n",
      "1875/1875 [==============================] - 2s 887us/step - loss: 0.7510 - accuracy: 0.7441 - val_loss: 1.0169 - val_accuracy: 0.7449 - lr: 0.0398\n",
      "Epoch 34/40\n",
      "1875/1875 [==============================] - 2s 907us/step - loss: 0.7623 - accuracy: 0.7438 - val_loss: 0.8940 - val_accuracy: 0.6928 - lr: 0.0447\n",
      "Epoch 35/40\n",
      "1875/1875 [==============================] - 2s 955us/step - loss: 0.8631 - accuracy: 0.7045 - val_loss: 0.7948 - val_accuracy: 0.7382 - lr: 0.0501\n",
      "Epoch 36/40\n",
      "1875/1875 [==============================] - 2s 920us/step - loss: 0.8999 - accuracy: 0.6819 - val_loss: 0.8031 - val_accuracy: 0.7157 - lr: 0.0562\n",
      "Epoch 37/40\n",
      "1875/1875 [==============================] - 2s 876us/step - loss: 1.0219 - accuracy: 0.6456 - val_loss: 0.9710 - val_accuracy: 0.6707 - lr: 0.0631\n",
      "Epoch 38/40\n",
      "1875/1875 [==============================] - 2s 876us/step - loss: 1.1558 - accuracy: 0.5529 - val_loss: 1.1710 - val_accuracy: 0.4924 - lr: 0.0708\n",
      "Epoch 39/40\n",
      "1875/1875 [==============================] - 2s 876us/step - loss: 1.2546 - accuracy: 0.4823 - val_loss: 1.2936 - val_accuracy: 0.4563 - lr: 0.0794\n",
      "Epoch 40/40\n",
      "1875/1875 [==============================] - 2s 895us/step - loss: 1.3397 - accuracy: 0.4280 - val_loss: 1.3712 - val_accuracy: 0.4286 - lr: 0.0891\n"
     ]
    }
   ],
   "source": [
    "tf.random.set_seed(42)\n",
    "\n",
    "model_3 = tf.keras.Sequential([\n",
    "    tf.keras.layers.Flatten(input_shape = (28,28)),\n",
    "    tf.keras.layers.Dense(4,activation=\"relu\"),\n",
    "    tf.keras.layers.Dense(4,activation = \"relu\"),\n",
    "    tf.keras.layers.Dense(10,activation = \"softmax\")\n",
    "])\n",
    "\n",
    "\n",
    "model_3.compile(loss = tf.keras.losses.SparseCategoricalCrossentropy(),\n",
    "               optimizer = tf.keras.optimizers.Adam(),\n",
    "               metrics = [\"accuracy\"])\n",
    "# Create the learning rate callback\n",
    "\n",
    "lr_scheduler = tf.keras.callbacks.LearningRateScheduler(lambda epoch: 1e-3 * 10 **(epoch/20))\n",
    "\n",
    "\n",
    "find_lr_history = model_3.fit(train_data_norm,\n",
    "                             train_labels,\n",
    "                             epochs = 40,\n",
    "                             validation_data = (test_data_norm,test_labels),\n",
    "                             callbacks = lr_scheduler)"
   ]
  },
  {
   "cell_type": "code",
   "execution_count": 85,
   "id": "56afb30a",
   "metadata": {
    "scrolled": false
   },
   "outputs": [
    {
     "data": {
      "text/plain": [
       "Text(0.5, 1.0, 'Finding the ideal learning rate')"
      ]
     },
     "execution_count": 85,
     "metadata": {},
     "output_type": "execute_result"
    },
    {
     "data": {
      "image/png": "[encoded data removed]",
      "text/plain": [
       "<Figure size 432x288 with 1 Axes>"
      ]
     },
     "metadata": {
      "needs_background": "light"
     },
     "output_type": "display_data"
    }
   ],
   "source": [
    "# Plot the learning rate decay curve\n",
    "\n",
    "import numpy as np\n",
    "import matplotlib.pyplot as plt\n",
    "\n",
    "lrs = 1e-3 * (10**(tf.range(40)/20))\n",
    "plt.semilogx(lrs, find_lr_history.history[\"loss\"])\n",
    "plt.xlabel(\"Learning Rate\")\n",
    "plt.ylabel(\"Loss\")\n",
    "plt.title(\"Finding the ideal learning rate\")"
   ]
  },
  {
   "cell_type": "code",
   "execution_count": null,
   "id": "a92424e8",
   "metadata": {},
   "outputs": [],
   "source": [
    "# Let's say is ideal lr\n",
    "10**-3 "
   ]
  },
  {
   "cell_type": "code",
   "execution_count": 86,
   "id": "5657c9e6",
   "metadata": {
    "scrolled": true
   },
   "outputs": [
    {
     "name": "stderr",
     "output_type": "stream",
     "text": [
      "C:\\Users\\Younghun\\anaconda3\\lib\\site-packages\\keras\\optimizer_v2\\adam.py:105: UserWarning: The `lr` argument is deprecated, use `learning_rate` instead.\n",
      "  super(Adam, self).__init__(name, **kwargs)\n"
     ]
    },
    {
     "name": "stdout",
     "output_type": "stream",
     "text": [
      "Epoch 1/20\n",
      "1875/1875 [==============================] - 2s 936us/step - loss: 1.0348 - accuracy: 0.6474 - val_loss: 0.6937 - val_accuracy: 0.7617\n",
      "Epoch 2/20\n",
      "1875/1875 [==============================] - 2s 866us/step - loss: 0.6376 - accuracy: 0.7757 - val_loss: 0.6400 - val_accuracy: 0.7820\n",
      "Epoch 3/20\n",
      "1875/1875 [==============================] - 2s 872us/step - loss: 0.5942 - accuracy: 0.7914 - val_loss: 0.6247 - val_accuracy: 0.7783\n",
      "Epoch 4/20\n",
      "1875/1875 [==============================] - 2s 906us/step - loss: 0.5750 - accuracy: 0.7979 - val_loss: 0.6078 - val_accuracy: 0.7881\n",
      "Epoch 5/20\n",
      "1875/1875 [==============================] - 2s 904us/step - loss: 0.5641 - accuracy: 0.8006 - val_loss: 0.6169 - val_accuracy: 0.7881\n",
      "Epoch 6/20\n",
      "1875/1875 [==============================] - 2s 892us/step - loss: 0.5544 - accuracy: 0.8043 - val_loss: 0.5855 - val_accuracy: 0.7951\n",
      "Epoch 7/20\n",
      "1875/1875 [==============================] - 2s 930us/step - loss: 0.5488 - accuracy: 0.8063 - val_loss: 0.6097 - val_accuracy: 0.7836\n",
      "Epoch 8/20\n",
      "1875/1875 [==============================] - 2s 933us/step - loss: 0.5428 - accuracy: 0.8077 - val_loss: 0.5787 - val_accuracy: 0.7971\n",
      "Epoch 9/20\n",
      "1875/1875 [==============================] - 2s 879us/step - loss: 0.5373 - accuracy: 0.8097 - val_loss: 0.5698 - val_accuracy: 0.7977\n",
      "Epoch 10/20\n",
      "1875/1875 [==============================] - 2s 899us/step - loss: 0.5360 - accuracy: 0.8124 - val_loss: 0.5658 - val_accuracy: 0.8014\n",
      "Epoch 11/20\n",
      "1875/1875 [==============================] - 2s 916us/step - loss: 0.5311 - accuracy: 0.8130 - val_loss: 0.5714 - val_accuracy: 0.8002\n",
      "Epoch 12/20\n",
      "1875/1875 [==============================] - 2s 919us/step - loss: 0.5284 - accuracy: 0.8132 - val_loss: 0.5626 - val_accuracy: 0.8027\n",
      "Epoch 13/20\n",
      "1875/1875 [==============================] - 2s 884us/step - loss: 0.5271 - accuracy: 0.8138 - val_loss: 0.5619 - val_accuracy: 0.8041\n",
      "Epoch 14/20\n",
      "1875/1875 [==============================] - 2s 883us/step - loss: 0.5249 - accuracy: 0.8143 - val_loss: 0.5718 - val_accuracy: 0.7991\n",
      "Epoch 15/20\n",
      "1875/1875 [==============================] - 2s 871us/step - loss: 0.5231 - accuracy: 0.8148 - val_loss: 0.5706 - val_accuracy: 0.8024\n",
      "Epoch 16/20\n",
      "1875/1875 [==============================] - 2s 871us/step - loss: 0.5203 - accuracy: 0.8162 - val_loss: 0.5731 - val_accuracy: 0.8023\n",
      "Epoch 17/20\n",
      "1875/1875 [==============================] - 2s 886us/step - loss: 0.5191 - accuracy: 0.8176 - val_loss: 0.5594 - val_accuracy: 0.8030\n",
      "Epoch 18/20\n",
      "1875/1875 [==============================] - 2s 867us/step - loss: 0.5176 - accuracy: 0.8157 - val_loss: 0.5582 - val_accuracy: 0.8053\n",
      "Epoch 19/20\n",
      "1875/1875 [==============================] - 2s 869us/step - loss: 0.5156 - accuracy: 0.8169 - val_loss: 0.5644 - val_accuracy: 0.8007\n",
      "Epoch 20/20\n",
      "1875/1875 [==============================] - 2s 870us/step - loss: 0.5146 - accuracy: 0.8177 - val_loss: 0.5660 - val_accuracy: 0.8075\n"
     ]
    }
   ],
   "source": [
    "tf.random.set_seed(42)\n",
    "\n",
    "model_4 = tf.keras.Sequential([\n",
    "    tf.keras.layers.Flatten(input_shape = (28,28)),\n",
    "    tf.keras.layers.Dense(4,activation=\"relu\"),\n",
    "    tf.keras.layers.Dense(4,activation = \"relu\"),\n",
    "    tf.keras.layers.Dense(10,activation = \"softmax\")\n",
    "])\n",
    "\n",
    "\n",
    "model_4.compile(loss = tf.keras.losses.SparseCategoricalCrossentropy(),\n",
    "               optimizer = tf.keras.optimizers.Adam(lr = 0.001),\n",
    "               metrics = [\"accuracy\"])\n",
    "\n",
    "\n",
    "history_4 = model_4.fit(train_data_norm,\n",
    "                             train_labels,\n",
    "                             epochs = 20,\n",
    "                             validation_data = (test_data_norm,test_labels))"
   ]
  },
  {
   "cell_type": "markdown",
   "id": "d0e501db",
   "metadata": {},
   "source": [
    "# Evaluating our multi-class classificatino model\n",
    "\n",
    "To evaluate our multi-class classification model we could:\n",
    "    \n",
    "* Evaluate its performance using other classification methods\n",
    "(such as a confusion matrix)\n",
    "* Asses some of its predictions (Through visulaizations)\n",
    "* Improve its results (by training it for longer or changing the architecture)\n",
    "* SAve and export it for use in an application)"
   ]
  },
  {
   "cell_type": "code",
   "execution_count": 88,
   "id": "4a99fbdf",
   "metadata": {},
   "outputs": [],
   "source": [
    "# Using top 2\n",
    "\n",
    "import itertools\n",
    "from sklearn.metrics import confusion_matrix\n",
    "\n",
    "figsize = (10,10)\n",
    "\n",
    "def make_confusion_matrix(y_true,y_pred,classes= None,figsize = (10,10),text_size = 20):\n",
    "    \n",
    "    \n",
    "    # Create the confusion matrix\n",
    "\n",
    "    cm = confusion_matrix(y_true,y_preds)\n",
    "    cm_norm = cm.astype(\"float\") / cm.sum(axis=1)[:,np.newaxis] # normalize our confusion matrix\n",
    "    n_classes = cm.shape[0]\n",
    "\n",
    "\n",
    "    # Prettify it\n",
    "\n",
    "    fig, ax = plt.subplots(figsize=figsize)\n",
    "\n",
    "    # Create a matrix plot\n",
    "\n",
    "    cax = ax.matshow(cm,cmap=plt.cm.Blues) # matplotlib matshow\n",
    "    fig.colorbar(cax)\n",
    "\n",
    "    # Set Labels to be classes\n",
    "    if classes:\n",
    "        labels = classes\n",
    "    else:\n",
    "        labels = np.arange(cm.shape[0])\n",
    "\n",
    "    # Label the axes\n",
    "\n",
    "    ax.set(title = \"Confusion matrix\",\n",
    "          xlabel = \"Predicted Label\",\n",
    "          ylabel = \"True Label\",\n",
    "          xticks = np.arange(n_classes),\n",
    "          yticks = np.arange(n_classes),\n",
    "          xticklabels = labels,\n",
    "          yticklabels = labels)\n",
    "\n",
    "    # Set x-axis labels to bottom\n",
    "    ax.xaxis.set_label_position(\"bottom\")\n",
    "    ax.xaxis.tick_bottom()\n",
    "\n",
    "    # Adjust label size\n",
    "    ax.yaxis.label.set_size(text_size)\n",
    "    ax.xaxis.label.set_size(text_size)\n",
    "    ax.title.set_size(text_size)\n",
    "\n",
    "    # Set the threshhold for different colors\n",
    "\n",
    "    threshhold = ((cm.max()+ cm.min())/2)\n",
    "\n",
    "    # Plot some tesxt on each cell\n",
    "\n",
    "    for i, j in itertools.product(range(cm.shape[0]),range(cm.shape[1])):\n",
    "        plt.text(j,i,f\"{cm[i,j]} ({cm_norm[i,j]*100:.1f}%)\",\n",
    "                horizontalalignment = \"center\",\n",
    "                color = \"white\" if cm[i,j]>threshhold else \"black\",\n",
    "                size = text_size)"
   ]
  },
  {
   "cell_type": "code",
   "execution_count": 89,
   "id": "bbb88312",
   "metadata": {
    "scrolled": false
   },
   "outputs": [
    {
     "data": {
      "text/plain": [
       "['T-shirt/top',\n",
       " 'Trouser',\n",
       " 'Pullover',\n",
       " 'Dress',\n",
       " 'Coat',\n",
       " 'Sandal',\n",
       " 'Shirt',\n",
       " 'Sneaker',\n",
       " 'Bag',\n",
       " 'Ankle boot']"
      ]
     },
     "execution_count": 89,
     "metadata": {},
     "output_type": "execute_result"
    }
   ],
   "source": [
    "class_names"
   ]
  },
  {
   "cell_type": "code",
   "execution_count": 91,
   "id": "b3b94584",
   "metadata": {},
   "outputs": [
    {
     "data": {
      "text/plain": [
       "array([[8.5629837e-11, 3.5361774e-13, 2.6633687e-05, 4.6356124e-08,\n",
       "        5.0949824e-05, 9.6118763e-02, 8.1778062e-08, 9.1869138e-02,\n",
       "        4.0605152e-03, 8.0787385e-01],\n",
       "       [3.4278617e-06, 1.2899313e-16, 9.5989138e-01, 2.0516273e-07,\n",
       "        1.5329214e-02, 2.4532568e-13, 2.4142874e-02, 1.1383534e-28,\n",
       "        6.3272309e-04, 4.4789552e-08],\n",
       "       [6.1063001e-05, 9.9657673e-01, 4.3866976e-08, 3.3405819e-03,\n",
       "        1.3249461e-05, 1.4383379e-21, 8.2790375e-06, 7.3236901e-18,\n",
       "        5.4811395e-08, 4.9225140e-14],\n",
       "       [7.5031152e-05, 9.9053699e-01, 4.2528373e-07, 9.2231436e-03,\n",
       "        1.3623080e-04, 1.8276163e-18, 2.6808120e-05, 4.8123828e-14,\n",
       "        1.4521453e-06, 2.2211379e-11],\n",
       "       [7.2190031e-02, 1.5495845e-06, 2.5566879e-01, 1.0363137e-02,\n",
       "        4.3541368e-02, 1.1069368e-13, 6.1693031e-01, 6.7543653e-23,\n",
       "        1.3049177e-03, 1.2140362e-09]], dtype=float32)"
      ]
     },
     "execution_count": 91,
     "metadata": {},
     "output_type": "execute_result"
    }
   ],
   "source": [
    "# make some predictinos\n",
    "\n",
    "y_probs = model_4.predict(test_data_norm) # probs is short for \"prediction probabilities\"\n",
    "\n",
    "# View the first 5 predictions\n",
    "\n",
    "y_probs[:5]\n"
   ]
  },
  {
   "cell_type": "markdown",
   "id": "e08eff32",
   "metadata": {},
   "source": [
    "**Note:** Remember to make predictions on the same kind of data model was trained on (e.g. if model was trained on normalized data, Have to make predictions on normalized data)"
   ]
  },
  {
   "cell_type": "code",
   "execution_count": 93,
   "id": "d7d16ab5",
   "metadata": {},
   "outputs": [
    {
     "data": {
      "text/plain": [
       "(array([8.5629837e-11, 3.5361774e-13, 2.6633687e-05, 4.6356124e-08,\n",
       "        5.0949824e-05, 9.6118763e-02, 8.1778062e-08, 9.1869138e-02,\n",
       "        4.0605152e-03, 8.0787385e-01], dtype=float32),\n",
       " <tf.Tensor: shape=(), dtype=int64, numpy=9>,\n",
       " 'Ankle boot')"
      ]
     },
     "execution_count": 93,
     "metadata": {},
     "output_type": "execute_result"
    }
   ],
   "source": [
    "y_probs[0],tf.argmax(y_probs[0]), class_names[tf.argmax(y_probs[0])]"
   ]
  },
  {
   "cell_type": "code",
   "execution_count": 94,
   "id": "07ba2364",
   "metadata": {},
   "outputs": [
    {
     "data": {
      "text/plain": [
       "array([9, 2, 1, 1, 6, 1, 4, 6, 5, 7], dtype=int64)"
      ]
     },
     "execution_count": 94,
     "metadata": {},
     "output_type": "execute_result"
    }
   ],
   "source": [
    "# Convert all of the probabilites into integers \n",
    "\n",
    "y_preds = y_probs.argmax(axis=1)\n",
    "\n",
    "# View the first 10 predictino labels\n",
    "\n",
    "y_preds[:10]"
   ]
  },
  {
   "cell_type": "code",
   "execution_count": 95,
   "id": "d5606e34",
   "metadata": {},
   "outputs": [
    {
     "data": {
      "text/plain": [
       "array([9, 2, 1, ..., 8, 1, 5], dtype=uint8)"
      ]
     },
     "execution_count": 95,
     "metadata": {},
     "output_type": "execute_result"
    }
   ],
   "source": [
    "test_labels"
   ]
  },
  {
   "cell_type": "code",
   "execution_count": 98,
   "id": "efd836fa",
   "metadata": {},
   "outputs": [
    {
     "data": {
      "text/plain": [
       "array([[696,   8,  25,  87,   9,   5, 160,   0,  10,   0],\n",
       "       [  2, 939,   2,  35,   9,   0,  13,   0,   0,   0],\n",
       "       [ 19,   2, 656,  10, 188,   0, 110,   0,  15,   0],\n",
       "       [ 39,  10,  10, 819,  55,   0,  47,   1,  19,   0],\n",
       "       [  0,   0,  95,  23, 800,   0,  73,   0,   7,   2],\n",
       "       [  0,   0,   1,   0,   0, 894,   0,  60,   7,  38],\n",
       "       [106,   4, 158,  57, 159,   1, 499,   0,  16,   0],\n",
       "       [  0,   0,   0,   0,   0,  31,   0, 936,   0,  33],\n",
       "       [  4,   1,  38,  15,   8,  12,   9,   5, 906,   2],\n",
       "       [  0,   0,   1,   0,   2,  15,   0,  51,   1, 930]], dtype=int64)"
      ]
     },
     "execution_count": 98,
     "metadata": {},
     "output_type": "execute_result"
    }
   ],
   "source": [
    "from sklearn.metrics import confusion_matrix\n",
    "\n",
    "confusion_matrix(y_true= test_labels,\n",
    "                y_pred = y_preds)"
   ]
  },
  {
   "cell_type": "code",
   "execution_count": 100,
   "id": "332d6b9e",
   "metadata": {},
   "outputs": [
    {
     "data": {
      "image/png": "[encoded data removed]",
      "text/plain": [
       "<Figure size 1080x1080 with 2 Axes>"
      ]
     },
     "metadata": {
      "needs_background": "light"
     },
     "output_type": "display_data"
    }
   ],
   "source": [
    "# Make a prettier confusion matrix\n",
    "\n",
    "make_confusion_matrix(y_true = test_labels,\n",
    "                     y_pred = y_preds,\n",
    "                     classes = class_names,\n",
    "                     figsize = (15,15),\n",
    "                     text_size = 10)"
   ]
  },
  {
   "cell_type": "markdown",
   "id": "299ce401",
   "metadata": {},
   "source": [
    "**Note:** Often when working with images and other forms of visual data, it's a good idea to visulaize as much as possible to develop a further understanding of the data and the inputs and outputs of models\n",
    "\n",
    "\n",
    "How about creating a fun little function for:\n",
    "* Plot a random image\n",
    "* Make a prediction on said imgae\n",
    "* Label the plot with the truth label  & the predicted label"
   ]
  },
  {
   "cell_type": "code",
   "execution_count": 103,
   "id": "8d171e10",
   "metadata": {},
   "outputs": [],
   "source": [
    "import random\n",
    "\n",
    "def plot_random_image(model, images, true_labels, classes):\n",
    "    \"\"\"\n",
    "    Picks a random image, plots it and labels it with a prediction and truth label.\n",
    "    \"\"\"\n",
    "    \n",
    "    # set up random integer\n",
    "    \n",
    "    i = random.randint(0, len(images))\n",
    "    \n",
    "    # Create predictions and targets\n",
    "    \n",
    "    target_image = images[i]\n",
    "    pred_probs = model.predict(target_image.reshape(1,28,28))\n",
    "    pred_label = classes[pred_probs.argmax()]\n",
    "    true_label = classes[true_labels[i]]\n",
    "    \n",
    "    # Plot the image\n",
    "    plt.imshow(target_image, cmap=plt.cm.binary)\n",
    "    \n",
    "    # Change the color of the titles depending on if the prediction is right or wrong\n",
    "    \n",
    "    if pred_label == true_label:\n",
    "        color = \"green\"\n",
    "        \n",
    "    else: \n",
    "        color = \"red\"\n",
    "        \n",
    "    # Add xlabel information (prediction / true label)\n",
    "    \n",
    "    plt.xlabel(\"Pred: {} {:2.0f}% (True: {})\".format(pred_label,\n",
    "                                                    100*tf.reduce_max(pred_probs),\n",
    "                                                    true_label),\n",
    "              color = color) # set the color to green or red based on if predictino right or worng"
   ]
  },
  {
   "cell_type": "code",
   "execution_count": 119,
   "id": "868f11fa",
   "metadata": {},
   "outputs": [
    {
     "data": {
      "image/png": "[encoded data removed]",
      "text/plain": [
       "<Figure size 432x288 with 1 Axes>"
      ]
     },
     "metadata": {
      "needs_background": "light"
     },
     "output_type": "display_data"
    }
   ],
   "source": [
    "# Check out our random image as well as its prediction\n",
    "\n",
    "plot_random_image(model = model_4,\n",
    "                 images= test_data_norm, # Always prediction on the same kinds of data the model used!!!!!\n",
    "                 true_labels = test_labels,\n",
    "                 classes = class_names)"
   ]
  },
  {
   "cell_type": "markdown",
   "id": "9d4c7b9a",
   "metadata": {},
   "source": [
    "## What patterns is our model learning?"
   ]
  },
  {
   "cell_type": "code",
   "execution_count": 120,
   "id": "68bd6811",
   "metadata": {},
   "outputs": [
    {
     "data": {
      "text/plain": [
       "[<keras.layers.core.flatten.Flatten at 0x191358a1220>,\n",
       " <keras.layers.core.dense.Dense at 0x191358a1a60>,\n",
       " <keras.layers.core.dense.Dense at 0x1913400c3a0>,\n",
       " <keras.layers.core.dense.Dense at 0x1913400c430>]"
      ]
     },
     "execution_count": 120,
     "metadata": {},
     "output_type": "execute_result"
    }
   ],
   "source": [
    "# Find the layers of our most recent model\n",
    "\n",
    "model_4.layers"
   ]
  },
  {
   "cell_type": "code",
   "execution_count": 122,
   "id": "061977df",
   "metadata": {},
   "outputs": [
    {
     "data": {
      "text/plain": [
       "<keras.layers.core.dense.Dense at 0x191358a1a60>"
      ]
     },
     "execution_count": 122,
     "metadata": {},
     "output_type": "execute_result"
    }
   ],
   "source": [
    "# Extract a particular layer\n",
    "\n",
    "model_4.layers[1]"
   ]
  },
  {
   "cell_type": "code",
   "execution_count": 123,
   "id": "1d62e11b",
   "metadata": {},
   "outputs": [
    {
     "data": {
      "text/plain": [
       "(array([[ 0.71502614, -0.06077091, -0.9976306 , -1.048431  ],\n",
       "        [ 0.27732122, -0.47155404, -0.5291647 ,  0.02329241],\n",
       "        [ 0.77524287,  0.54027605, -1.1288567 , -0.74261564],\n",
       "        ...,\n",
       "        [-0.39453438,  0.4762868 , -0.22641568,  0.2550596 ],\n",
       "        [-0.4051578 ,  0.61810076,  0.23928422, -0.50387627],\n",
       "        [ 0.23884557,  0.116069  , -0.1213137 ,  0.04352447]],\n",
       "       dtype=float32),\n",
       " (784, 4))"
      ]
     },
     "execution_count": 123,
     "metadata": {},
     "output_type": "execute_result"
    }
   ],
   "source": [
    "# Get the patterns of a layer in our network\n",
    "\n",
    "weights, biases = model_4.layers[1].get_weights()\n",
    "\n",
    "# Shapes\n",
    "\n",
    "weights, weights.shape"
   ]
  },
  {
   "cell_type": "code",
   "execution_count": 124,
   "id": "6edc55b8",
   "metadata": {},
   "outputs": [
    {
     "data": {
      "text/plain": [
       "784"
      ]
     },
     "execution_count": 124,
     "metadata": {},
     "output_type": "execute_result"
    }
   ],
   "source": [
    "28*28"
   ]
  },
  {
   "cell_type": "code",
   "execution_count": 125,
   "id": "4e695ba2",
   "metadata": {},
   "outputs": [
    {
     "name": "stdout",
     "output_type": "stream",
     "text": [
      "Model: \"sequential_15\"\n",
      "_________________________________________________________________\n",
      " Layer (type)                Output Shape              Param #   \n",
      "=================================================================\n",
      " flatten_14 (Flatten)        (None, 784)               0         \n",
      "                                                                 \n",
      " dense_39 (Dense)            (None, 4)                 3140      \n",
      "                                                                 \n",
      " dense_40 (Dense)            (None, 4)                 20        \n",
      "                                                                 \n",
      " dense_41 (Dense)            (None, 10)                50        \n",
      "                                                                 \n",
      "=================================================================\n",
      "Total params: 3,210\n",
      "Trainable params: 3,210\n",
      "Non-trainable params: 0\n",
      "_________________________________________________________________\n"
     ]
    }
   ],
   "source": [
    "model_4.summary()"
   ]
  },
  {
   "cell_type": "markdown",
   "id": "adb1850d",
   "metadata": {},
   "source": [
    "# Now let's check out the bias vector"
   ]
  },
  {
   "cell_type": "code",
   "execution_count": 127,
   "id": "6d19fffd",
   "metadata": {},
   "outputs": [
    {
     "data": {
      "text/plain": [
       "(array([ 2.4485828e-02, -6.1469642e-04, -2.7230155e-01,  8.1124896e-01],\n",
       "       dtype=float32),\n",
       " (4,))"
      ]
     },
     "execution_count": 127,
     "metadata": {},
     "output_type": "execute_result"
    }
   ],
   "source": [
    "# Bias and biases shaeps\n",
    "biases, biases.shape"
   ]
  },
  {
   "cell_type": "markdown",
   "id": "9957c3a9",
   "metadata": {},
   "source": [
    "Every neruon has a bias vector. Each of these is paired with a weights matrix.\n",
    "\n",
    "The bias vector get initialized as zeros (at least in the case of a TensorFlow dense layers).\n",
    "\n",
    "The bias vector dictates how much the patterns within the corresponding weights matrix should influence  the next layer."
   ]
  },
  {
   "cell_type": "code",
   "execution_count": 128,
   "id": "a36fc7c5",
   "metadata": {},
   "outputs": [
    {
     "name": "stdout",
     "output_type": "stream",
     "text": [
      "Model: \"sequential_15\"\n",
      "_________________________________________________________________\n",
      " Layer (type)                Output Shape              Param #   \n",
      "=================================================================\n",
      " flatten_14 (Flatten)        (None, 784)               0         \n",
      "                                                                 \n",
      " dense_39 (Dense)            (None, 4)                 3140      \n",
      "                                                                 \n",
      " dense_40 (Dense)            (None, 4)                 20        \n",
      "                                                                 \n",
      " dense_41 (Dense)            (None, 10)                50        \n",
      "                                                                 \n",
      "=================================================================\n",
      "Total params: 3,210\n",
      "Trainable params: 3,210\n",
      "Non-trainable params: 0\n",
      "_________________________________________________________________\n"
     ]
    }
   ],
   "source": [
    "model_4.summary()"
   ]
  },
  {
   "cell_type": "code",
   "execution_count": 129,
   "id": "ecad7302",
   "metadata": {},
   "outputs": [
    {
     "data": {
      "image/png": "[encoded data removed]",
      "text/plain": [
       "<IPython.core.display.Image object>"
      ]
     },
     "execution_count": 129,
     "metadata": {},
     "output_type": "execute_result"
    }
   ],
   "source": [
    "# Let's check out another way of viewing our deep learning models\n",
    "\n",
    "from tensorflow.keras.utils import plot_model\n",
    "\n",
    "# See the inputs and outputs of each layer\n",
    "\n",
    "plot_model(model_4, show_shapes = True)"
   ]
  },
  {
   "cell_type": "code",
   "execution_count": null,
   "id": "0615b94b",
   "metadata": {},
   "outputs": [],
   "source": []
  },
  {
   "cell_type": "code",
   "execution_count": null,
   "id": "ab97b825",
   "metadata": {},
   "outputs": [],
   "source": []
  },
  {
   "cell_type": "code",
   "execution_count": null,
   "id": "dc6484a4",
   "metadata": {},
   "outputs": [],
   "source": []
  },
  {
   "cell_type": "code",
   "execution_count": null,
   "id": "54a47a4f",
   "metadata": {},
   "outputs": [],
   "source": []
  },
  {
   "cell_type": "code",
   "execution_count": null,
   "id": "0330e0f6",
   "metadata": {},
   "outputs": [],
   "source": []
  },
  {
   "cell_type": "code",
   "execution_count": null,
   "id": "ef313b6d",
   "metadata": {},
   "outputs": [],
   "source": []
  },
  {
   "cell_type": "code",
   "execution_count": null,
   "id": "84f17f41",
   "metadata": {},
   "outputs": [],
   "source": []
  },
  {
   "cell_type": "code",
   "execution_count": null,
   "id": "2103c453",
   "metadata": {},
   "outputs": [],
   "source": []
  }
 ],
 "metadata": {
  "kernelspec": {
   "display_name": "Python 3 (ipykernel)",
   "language": "python",
   "name": "python3"
  },
  "language_info": {
   "codemirror_mode": {
    "name": "ipython",
    "version": 3
   },
   "file_extension": ".py",
   "mimetype": "text/x-python",
   "name": "python",
   "nbconvert_exporter": "python",
   "pygments_lexer": "ipython3",
   "version": "3.9.7"
  }
 },
 "nbformat": 4,
 "nbformat_minor": 5
}
