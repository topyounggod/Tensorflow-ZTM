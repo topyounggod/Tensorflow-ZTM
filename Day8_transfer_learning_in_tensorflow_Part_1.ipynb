{
  "nbformat": 4,
  "nbformat_minor": 0,
  "metadata": {
    "colab": {
      "name": "Day8 transfer-learning-in-tensorflow Part 1.ipynb",
      "provenance": []
    },
    "kernelspec": {
      "name": "python3",
      "display_name": "Python 3"
    },
    "language_info": {
      "name": "python"
    },
    "accelerator": "GPU"
  },
  "cells": [
    {
      "cell_type": "markdown",
      "source": [
        "## Transfer Learning with TensorFlow Part1: Feature Extraction\n",
        "\n",
        "\n",
        "Transfer learning  is leverageing a working model's exisiting architecture and learned patterns for our own problem.\n",
        "\n",
        "There are two mani benefits:\n",
        "\n",
        "1. Can leverage an exisitng neural network architecture proven to work on problems similar to our own\n",
        "\n",
        "2. Can leverage a working neural network architecture which has already on similar data to our own, then we can adapt those patterns to our own data\n",
        "\n"
      ],
      "metadata": {
        "id": "4Zy4uoXHDx6C"
      }
    },
    {
      "cell_type": "code",
      "source": [
        "# Are we using GPU?\n",
        "\n",
        "!nvidia-smi"
      ],
      "metadata": {
        "id": "yh7GiBAjEFKV",
        "colab": {
          "base_uri": "https://localhost:8080/"
        },
        "outputId": "07f0aa40-118c-4928-c032-2e2f86d3386a"
      },
      "execution_count": null,
      "outputs": [
        {
          "output_type": "stream",
          "name": "stdout",
          "text": [
            "Mon Feb 14 07:53:58 2022       \n",
            "+-----------------------------------------------------------------------------+\n",
            "| NVIDIA-SMI 460.32.03    Driver Version: 460.32.03    CUDA Version: 11.2     |\n",
            "|-------------------------------+----------------------+----------------------+\n",
            "| GPU  Name        Persistence-M| Bus-Id        Disp.A | Volatile Uncorr. ECC |\n",
            "| Fan  Temp  Perf  Pwr:Usage/Cap|         Memory-Usage | GPU-Util  Compute M. |\n",
            "|                               |                      |               MIG M. |\n",
            "|===============================+======================+======================|\n",
            "|   0  Tesla T4            Off  | 00000000:00:04.0 Off |                    0 |\n",
            "| N/A   50C    P8    11W /  70W |      0MiB / 15109MiB |      0%      Default |\n",
            "|                               |                      |                  N/A |\n",
            "+-------------------------------+----------------------+----------------------+\n",
            "                                                                               \n",
            "+-----------------------------------------------------------------------------+\n",
            "| Processes:                                                                  |\n",
            "|  GPU   GI   CI        PID   Type   Process name                  GPU Memory |\n",
            "|        ID   ID                                                   Usage      |\n",
            "|=============================================================================|\n",
            "|  No running processes found                                                 |\n",
            "+-----------------------------------------------------------------------------+\n"
          ]
        }
      ]
    },
    {
      "cell_type": "markdown",
      "source": [
        "## Download and become one with data\n",
        "\n"
      ],
      "metadata": {
        "id": "7YbcJQGLONa5"
      }
    },
    {
      "cell_type": "code",
      "source": [
        "# Get data (10% of 10 food classes from Food101)\n",
        "\n",
        "import zipfile\n",
        "\n",
        "# Download the data\n",
        "\n",
        "!wget https://storage.googleapis.com/ztm_tf_course/food_vision/10_food_classes_10_percent.zip\n",
        "\n",
        "# Unzip the downloaded file\n",
        "\n",
        "zip_ref = zipfile.ZipFile(\"10_food_classes_10_percent.zip\")\n",
        "zip_ref.extractall()\n",
        "zip_ref.close()"
      ],
      "metadata": {
        "colab": {
          "base_uri": "https://localhost:8080/"
        },
        "id": "W2ak4HROOZws",
        "outputId": "1f130918-0d63-4ff8-cfd3-2afec472e95e"
      },
      "execution_count": null,
      "outputs": [
        {
          "output_type": "stream",
          "name": "stdout",
          "text": [
            "--2022-02-14 07:55:46--  https://storage.googleapis.com/ztm_tf_course/food_vision/10_food_classes_10_percent.zip\n",
            "Resolving storage.googleapis.com (storage.googleapis.com)... 74.125.195.128, 142.250.107.128, 74.125.20.128, ...\n",
            "Connecting to storage.googleapis.com (storage.googleapis.com)|74.125.195.128|:443... connected.\n",
            "HTTP request sent, awaiting response... 200 OK\n",
            "Length: 168546183 (161M) [application/zip]\n",
            "Saving to: ‘10_food_classes_10_percent.zip.1’\n",
            "\n",
            "10_food_classes_10_ 100%[===================>] 160.74M   245MB/s    in 0.7s    \n",
            "\n",
            "2022-02-14 07:55:47 (245 MB/s) - ‘10_food_classes_10_percent.zip.1’ saved [168546183/168546183]\n",
            "\n"
          ]
        }
      ]
    },
    {
      "cell_type": "code",
      "source": [
        "# How many images in each folder?\n",
        "\n",
        "import os\n",
        "\n",
        "# Walk through 10 percent data directory and list number of files\n",
        "\n",
        "for dirpath, dirnames, filenames in os.walk(\"10_food_classes_10_percent\"):\n",
        "  print(f\"There are {len(dirnames)} directories and {len(filenames)} images in '{dirpath}' .\")"
      ],
      "metadata": {
        "colab": {
          "base_uri": "https://localhost:8080/"
        },
        "id": "UewoI8iJOobi",
        "outputId": "03a74ae4-8276-48ba-cb0d-17d2901a4107"
      },
      "execution_count": null,
      "outputs": [
        {
          "output_type": "stream",
          "name": "stdout",
          "text": [
            "There are 2 directories and 0 images in '10_food_classes_10_percent' .\n",
            "There are 10 directories and 0 images in '10_food_classes_10_percent/test' .\n",
            "There are 0 directories and 250 images in '10_food_classes_10_percent/test/chicken_wings' .\n",
            "There are 0 directories and 250 images in '10_food_classes_10_percent/test/pizza' .\n",
            "There are 0 directories and 250 images in '10_food_classes_10_percent/test/steak' .\n",
            "There are 0 directories and 250 images in '10_food_classes_10_percent/test/chicken_curry' .\n",
            "There are 0 directories and 250 images in '10_food_classes_10_percent/test/ice_cream' .\n",
            "There are 0 directories and 250 images in '10_food_classes_10_percent/test/ramen' .\n",
            "There are 0 directories and 250 images in '10_food_classes_10_percent/test/fried_rice' .\n",
            "There are 0 directories and 250 images in '10_food_classes_10_percent/test/hamburger' .\n",
            "There are 0 directories and 250 images in '10_food_classes_10_percent/test/sushi' .\n",
            "There are 0 directories and 250 images in '10_food_classes_10_percent/test/grilled_salmon' .\n",
            "There are 10 directories and 0 images in '10_food_classes_10_percent/train' .\n",
            "There are 0 directories and 75 images in '10_food_classes_10_percent/train/chicken_wings' .\n",
            "There are 0 directories and 75 images in '10_food_classes_10_percent/train/pizza' .\n",
            "There are 0 directories and 75 images in '10_food_classes_10_percent/train/steak' .\n",
            "There are 0 directories and 75 images in '10_food_classes_10_percent/train/chicken_curry' .\n",
            "There are 0 directories and 75 images in '10_food_classes_10_percent/train/ice_cream' .\n",
            "There are 0 directories and 75 images in '10_food_classes_10_percent/train/ramen' .\n",
            "There are 0 directories and 75 images in '10_food_classes_10_percent/train/fried_rice' .\n",
            "There are 0 directories and 75 images in '10_food_classes_10_percent/train/hamburger' .\n",
            "There are 0 directories and 75 images in '10_food_classes_10_percent/train/sushi' .\n",
            "There are 0 directories and 75 images in '10_food_classes_10_percent/train/grilled_salmon' .\n"
          ]
        }
      ]
    },
    {
      "cell_type": "markdown",
      "source": [
        "## Creating data loaders (perparing the data)\n",
        "\n",
        "We'll use the `ImageDataGenerator` class to load in our images in batches"
      ],
      "metadata": {
        "id": "v7XbEMnoPIH1"
      }
    },
    {
      "cell_type": "code",
      "source": [
        "# Setup data inputs\n",
        "import tensorflow as tf\n",
        "from tensorflow.keras.preprocessing.image import ImageDataGenerator\n",
        "IMAGE_SHAPE = (224,224)\n",
        "BATCH_SIZE = 32\n",
        "\n",
        "train_dir = \"10_food_classes_10_percent/train/\"\n",
        "test_dir = \"10_food_classes_10_percent/test/\"\n",
        "\n",
        "\n",
        "train_datagen = ImageDataGenerator(rescale = 1/255.)\n",
        "test_datagen = ImageDataGenerator(rescale = 1/255.)\n",
        "\n",
        "print(\"Training images:\")\n",
        "\n",
        "train_data_10_percent = train_datagen.flow_from_directory(train_dir,\n",
        "                                                          target_size = IMAGE_SHAPE,\n",
        "                                                          batch_size = BATCH_SIZE,\n",
        "                                                          class_mode = \"categorical\")\n",
        "\n",
        "print(\"Testing images:\")\n",
        "\n",
        "test_data= test_datagen.flow_from_directory(test_dir,\n",
        "                                            target_size = IMAGE_SHAPE,\n",
        "                                            batch_size = BATCH_SIZE,\n",
        "                                            class_mode = \"categorical\")"
      ],
      "metadata": {
        "colab": {
          "base_uri": "https://localhost:8080/"
        },
        "id": "ghQOMMzTPg5d",
        "outputId": "670db399-d567-4642-cf1a-f404339f79b7"
      },
      "execution_count": null,
      "outputs": [
        {
          "output_type": "stream",
          "name": "stdout",
          "text": [
            "Training images:\n",
            "Found 750 images belonging to 10 classes.\n",
            "Testing images:\n",
            "Found 2500 images belonging to 10 classes.\n"
          ]
        }
      ]
    },
    {
      "cell_type": "markdown",
      "source": [
        "## Setting up callbacks (things to run while our model trains)\n",
        "\n",
        "Callbacks are extra funtionality we can add to models to be performed during after training.\n",
        "Some of the most popular callbacks:\n",
        "\n",
        "* Tracking experiments with the TensorBoard callback\n",
        "* Model checkpoint with the ModelCheckpoint callback\n",
        "* Stopping a model from training (before it trains too long and overfits) with the EarlyStopping callback"
      ],
      "metadata": {
        "id": "z_omjhZKQYr2"
      }
    },
    {
      "cell_type": "code",
      "source": [
        "# Create TensorBoard callback (funtionized because we need to create a new one for each time)\n",
        "\n",
        "import datetime\n",
        "\n",
        "def create_tensorboard_callback(dir_name,experiment_name):\n",
        "\n",
        "  log_dir = dir_name + \"/\" + experiment_name + \"/\" + datetime.datetime.now().strftime(\"%Y%m%d-%H%M%S\")\n",
        "  tensorboard_callback = tf.keras.callbacks.TensorBoard(log_dir = log_dir)\n",
        "  print(f\"Saving TensorBoard log files to : {log_dir}\")\n",
        "\n",
        "  return tensorboard_callback\n",
        "  "
      ],
      "metadata": {
        "id": "V0PaIA_7RJED"
      },
      "execution_count": null,
      "outputs": []
    },
    {
      "cell_type": "markdown",
      "source": [
        "## Creating models using TensorFlow Hub\n",
        "\n",
        "We've used TensorFlow to create our own models layer by layer from scratch.\n",
        "\n",
        "Now we're going to do a similar process, except the majority of our model's layers are going to come from TensorFlow Hub.\n",
        "\n",
        "We can access pretrained models on : https://tfhub.dev/\n",
        "\n",
        "Browsing the TensorFlow Hub page and sorting for image classification, we found the following feature vector model link:\n",
        "\n",
        "https://tfhub.dev/tensorflow/efficientnet/b0/feature-vector/1"
      ],
      "metadata": {
        "id": "5CB4rstLT4Zn"
      }
    },
    {
      "cell_type": "code",
      "source": [
        "# Let's compare the following two models\n",
        "\n",
        "resnet_url = \"https://tfhub.dev/google/imagenet/resnet_v2_50/feature_vector/5\"\n",
        "\n",
        "efficient_url = \"https://tfhub.dev/tensorflow/efficientnet/b0/feature-vector/1\""
      ],
      "metadata": {
        "id": "4ojYZgfaUd8V"
      },
      "execution_count": null,
      "outputs": []
    },
    {
      "cell_type": "code",
      "source": [
        "# Import dependencies\n",
        "\n",
        "import tensorflow as tf\n",
        "\n",
        "import tensorflow_hub as hub\n",
        "from tensorflow.keras import layers"
      ],
      "metadata": {
        "id": "fxyCXhgeYHe6"
      },
      "execution_count": null,
      "outputs": []
    },
    {
      "cell_type": "code",
      "source": [
        "# Let's make a create_model() function to create a model from a URL\n",
        "\n",
        "def create_model(model_url, num_classes = 10):\n",
        "  \"\"\"\n",
        "  Takes a TensorFlow Hub URL and creates a Keras Sequential model with it.\n",
        "\n",
        "  Args:\n",
        "    model_url (str): A TensorFlow Hub feature extraction URL.\n",
        "    num_classes (int): Number of output neurons in the output layer,\n",
        "    should be equal to number of target classes, default 10.\n",
        "\n",
        "  Returns:\n",
        "    An uncompiled Keras Sequential model with model_url as feature extractor\n",
        "    layer and Dense output layer with num_classes output neurons.\n",
        "  \"\"\"\n",
        "\n",
        "  # Download the pretrained model and sve it as a Keras layer\n",
        "  feature_extractor_layer = hub.KerasLayer(model_url,\n",
        "                                           trainable=False,# freeze the already learned patterns\n",
        "                                           name = \"feature_extraction_layer\",\n",
        "                                           input_shape = IMAGE_SHAPE + (3,)) \n",
        "  # Create our own model\n",
        "  model = tf.keras.Sequential([\n",
        "                               feature_extractor_layer,\n",
        "                               layers.Dense(num_classes, activation = \"softmax\", name = \"output_layer\")\n",
        "  ])\n",
        "  return model"
      ],
      "metadata": {
        "id": "x-AXgRPdYQiJ"
      },
      "execution_count": null,
      "outputs": []
    },
    {
      "cell_type": "markdown",
      "source": [
        "### Creating ResNet TensorFlow Hub Feature Extraction model"
      ],
      "metadata": {
        "id": "zBifTutRZvyT"
      }
    },
    {
      "cell_type": "code",
      "source": [
        "# Create Resnet model\n",
        "resnet_model = create_model(resnet_url,\n",
        "                            num_classes = train_data_10_percent.num_classes)"
      ],
      "metadata": {
        "id": "YmCkypc-Y2t9"
      },
      "execution_count": null,
      "outputs": []
    },
    {
      "cell_type": "code",
      "source": [
        "# Compile our resnet model\n",
        "\n",
        "resnet_model.compile(loss = \"categorical_crossentropy\",\n",
        "                     optimizer = tf.keras.optimizers.Adam(),\n",
        "                     metrics = [\"accuracy\"])"
      ],
      "metadata": {
        "id": "2I-DGWS6aAHn"
      },
      "execution_count": null,
      "outputs": []
    },
    {
      "cell_type": "code",
      "source": [
        "# Let's fit our ResNet model to the data (10 percent of 10 classes)\n",
        "\n",
        "resnet_history = resnet_model.fit(train_data_10_percent,\n",
        "                                  epochs = 5,\n",
        "                                  steps_per_epoch = len(train_data_10_percent),\n",
        "                                  validation_data = test_data,\n",
        "                                  callbacks = [create_tensorboard_callback(dir_name = \"tensorflow_hub\",\n",
        "                                                                           experiment_name = \"resnet50V2\")],\n",
        "                                  validation_steps = len(test_data))"
      ],
      "metadata": {
        "colab": {
          "base_uri": "https://localhost:8080/"
        },
        "id": "WH4egDN1be63",
        "outputId": "570d0680-1ea1-4f3a-9051-7a4d427d9e16"
      },
      "execution_count": null,
      "outputs": [
        {
          "output_type": "stream",
          "name": "stdout",
          "text": [
            "Saving TensorBoard log files to : tensorflow_hub/resnet50V2/20220214-085459\n",
            "Epoch 1/5\n",
            "24/24 [==============================] - 32s 769ms/step - loss: 1.8582 - accuracy: 0.3880 - val_loss: 1.2416 - val_accuracy: 0.6028\n",
            "Epoch 2/5\n",
            "24/24 [==============================] - 16s 673ms/step - loss: 0.9000 - accuracy: 0.7227 - val_loss: 0.8537 - val_accuracy: 0.7292\n",
            "Epoch 3/5\n",
            "24/24 [==============================] - 16s 684ms/step - loss: 0.5991 - accuracy: 0.8373 - val_loss: 0.7580 - val_accuracy: 0.7568\n",
            "Epoch 4/5\n",
            "24/24 [==============================] - 16s 669ms/step - loss: 0.4579 - accuracy: 0.8907 - val_loss: 0.7049 - val_accuracy: 0.7680\n",
            "Epoch 5/5\n",
            "24/24 [==============================] - 15s 662ms/step - loss: 0.3700 - accuracy: 0.9173 - val_loss: 0.6771 - val_accuracy: 0.7756\n"
          ]
        }
      ]
    },
    {
      "cell_type": "markdown",
      "source": [
        "Our transfer learning feature extractor model out performed modles we built by hand... (substantially) and in a quicker traning time AND with only 10% of the training examples."
      ],
      "metadata": {
        "id": "rveV4BWJcMwP"
      }
    },
    {
      "cell_type": "code",
      "source": [
        "# Let's create a function to plot our loss curves\n",
        "# Tidbit : we could put a function like called helper.py \n",
        "\n",
        "import matplotlib.pyplot as plt\n",
        "\n",
        "# Plot the validation and training curves\n",
        "\n",
        "def plot_loss_curves(history):\n",
        "  \"\"\"\n",
        "  Returns separate loss curves for training and validation metrics.\n",
        "\n",
        "  Args:\n",
        "    history: TensorFlow History object.\n",
        "\n",
        "  Returns: \n",
        "    Plots of training/validation loss and accuracy metrics\n",
        "  \"\"\"\n",
        "\n",
        "  loss = history.history[\"loss\"]\n",
        "  val_loss = history.history[\"val_loss\"]\n",
        "\n",
        "  accuracy = history.history[\"accuracy\"]\n",
        "  val_accuracy = history.history[\"val_accuracy\"]\n",
        "\n",
        "  epochs = range(len(history.history[\"loss\"]))\n",
        "\n",
        "  # Plot loss\n",
        "  plt.plot(epochs, loss, label = \"training_loss\")\n",
        "  plt.plot(epochs, val_loss, label = \"val_loss\")\n",
        "  plt.title(\"Loss\")\n",
        "  plt.xlabel(\"Epochs\")\n",
        "  plt.legend()\n",
        "\n",
        "  # Plot accuracy\n",
        "  plt.figure()\n",
        "  plt.plot(epochs, accuracy, label = \"training_accuracy\")\n",
        "  plt.plot(epochs, val_accuracy,label = \"val_accuracy\")\n",
        "  plt.title(\"accuracy\")\n",
        "  plt.xlabel(\"Epochs\")\n",
        "  plt.legend()"
      ],
      "metadata": {
        "id": "t1J9fa9YdfWf"
      },
      "execution_count": null,
      "outputs": []
    },
    {
      "cell_type": "code",
      "source": [
        "plot_loss_curves(resnet_history)"
      ],
      "metadata": {
        "colab": {
          "base_uri": "https://localhost:8080/"
        },
        "id": "IwXq4bk_e1Pn",
        "outputId": "ce44fe28-ef8b-4062-ad70-e04e2c6b43ef"
      },
      "execution_count": null,
      "outputs": [
        {
          "output_type": "display_data",
          "data": {
            "image/png": "[encoded data removed]",
            "text/plain": [
              "<Figure size 432x288 with 1 Axes>"
            ]
          },
          "metadata": {
            "needs_background": "light"
          }
        },
        {
          "output_type": "display_data",
          "data": {
            "image/png": "[encoded data removed]",
            "text/plain": [
              "<Figure size 432x288 with 1 Axes>"
            ]
          },
          "metadata": {
            "needs_background": "light"
          }
        }
      ]
    },
    {
      "cell_type": "markdown",
      "source": [
        "## Creating and testing EfficientNetB0 TensorFlow Hub Feature Extraction model"
      ],
      "metadata": {
        "id": "O9FnwDWqe4Yg"
      }
    },
    {
      "cell_type": "code",
      "source": [
        "# Create EfficientNetB0 feature extractor model\n",
        "\n",
        "efficient_model = create_model(model_url = efficient_url,\n",
        "                               num_classes =train_data_10_percent.num_classes)\n",
        "\n",
        "efficient_model.compile(loss = \"categorical_crossentropy\",\n",
        "                        optimizer = tf.keras.optimizers.Adam(),\n",
        "                        metrics = [\"accuracy\"])\n",
        "\n",
        "efficient_history = efficient_model.fit(train_data_10_percent,\n",
        "                                        epochs = 5,\n",
        "                                        steps_per_epoch = len(train_data_10_percent),\n",
        "                                        validation_data = test_data,\n",
        "                                        validation_steps = len(test_data),\n",
        "                                        callbacks = [create_tensorboard_callback(dir_name=\"tensorflow_hub\",\n",
        "                                                                                 experiment_name = \"efficientnetb0\")] )\n"
      ],
      "metadata": {
        "colab": {
          "base_uri": "https://localhost:8080/"
        },
        "id": "lcxCcO49hoZB",
        "outputId": "51a7deec-3190-46fa-fd42-0d694782ff9a"
      },
      "execution_count": null,
      "outputs": [
        {
          "output_type": "stream",
          "name": "stdout",
          "text": [
            "Saving TensorBoard log files to : tensorflow_hub/efficientnetb0/20220214-092328\n",
            "Epoch 1/5\n",
            "24/24 [==============================] - 25s 708ms/step - loss: 1.8862 - accuracy: 0.4093 - val_loss: 1.3165 - val_accuracy: 0.7332\n",
            "Epoch 2/5\n",
            "24/24 [==============================] - 15s 645ms/step - loss: 1.0658 - accuracy: 0.7920 - val_loss: 0.8679 - val_accuracy: 0.8216\n",
            "Epoch 3/5\n",
            "24/24 [==============================] - 15s 644ms/step - loss: 0.7509 - accuracy: 0.8440 - val_loss: 0.6967 - val_accuracy: 0.8424\n",
            "Epoch 4/5\n",
            "24/24 [==============================] - 16s 672ms/step - loss: 0.6036 - accuracy: 0.8747 - val_loss: 0.6111 - val_accuracy: 0.8604\n",
            "Epoch 5/5\n",
            "24/24 [==============================] - 15s 643ms/step - loss: 0.5069 - accuracy: 0.9000 - val_loss: 0.5578 - val_accuracy: 0.8616\n"
          ]
        }
      ]
    },
    {
      "cell_type": "code",
      "source": [
        "plot_loss_curves(efficient_history)"
      ],
      "metadata": {
        "colab": {
          "base_uri": "https://localhost:8080/"
        },
        "id": "0mHM70M8iq69",
        "outputId": "b41afc29-a6cf-4b45-accb-69ea62d25617"
      },
      "execution_count": null,
      "outputs": [
        {
          "output_type": "display_data",
          "data": {
            "image/png": "[encoded data removed]",
            "text/plain": [
              "<Figure size 432x288 with 1 Axes>"
            ]
          },
          "metadata": {
            "needs_background": "light"
          }
        },
        {
          "output_type": "display_data",
          "data": {
            "image/png": "[encoded data removed]",
            "text/plain": [
              "<Figure size 432x288 with 1 Axes>"
            ]
          },
          "metadata": {
            "needs_background": "light"
          }
        }
      ]
    },
    {
      "cell_type": "code",
      "source": [
        "efficient_model.summary()"
      ],
      "metadata": {
        "colab": {
          "base_uri": "https://localhost:8080/"
        },
        "id": "bXlsymI_jSTU",
        "outputId": "9210829a-12c9-40eb-d0b3-29f268a1c417"
      },
      "execution_count": null,
      "outputs": [
        {
          "output_type": "stream",
          "name": "stdout",
          "text": [
            "Model: \"sequential_1\"\n",
            "_________________________________________________________________\n",
            " Layer (type)                Output Shape              Param #   \n",
            "=================================================================\n",
            " feature_extraction_layer (K  (None, 1280)             4049564   \n",
            " erasLayer)                                                      \n",
            "                                                                 \n",
            " output_layer (Dense)        (None, 10)                12810     \n",
            "                                                                 \n",
            "=================================================================\n",
            "Total params: 4,062,374\n",
            "Trainable params: 12,810\n",
            "Non-trainable params: 4,049,564\n",
            "_________________________________________________________________\n"
          ]
        }
      ]
    },
    {
      "cell_type": "code",
      "source": [
        "resnet_model.summary()"
      ],
      "metadata": {
        "colab": {
          "base_uri": "https://localhost:8080/"
        },
        "id": "G9-ZSjPcjrAy",
        "outputId": "7fc7864c-cfd3-448e-fddf-91b7caeb0569"
      },
      "execution_count": null,
      "outputs": [
        {
          "output_type": "stream",
          "name": "stdout",
          "text": [
            "Model: \"sequential\"\n",
            "_________________________________________________________________\n",
            " Layer (type)                Output Shape              Param #   \n",
            "=================================================================\n",
            " feature_extraction_layer (K  (None, 2048)             23564800  \n",
            " erasLayer)                                                      \n",
            "                                                                 \n",
            " output_layer (Dense)        (None, 10)                20490     \n",
            "                                                                 \n",
            "=================================================================\n",
            "Total params: 23,585,290\n",
            "Trainable params: 20,490\n",
            "Non-trainable params: 23,564,800\n",
            "_________________________________________________________________\n"
          ]
        }
      ]
    },
    {
      "cell_type": "code",
      "source": [
        "# How many layers does efficientb0 feature extracotr have?\n",
        "len(efficient_model.layers[0].weights)"
      ],
      "metadata": {
        "colab": {
          "base_uri": "https://localhost:8080/"
        },
        "id": "za_-aQUNkxHg",
        "outputId": "b98d7952-432b-43ec-aa86-a520167e6cc3"
      },
      "execution_count": null,
      "outputs": [
        {
          "output_type": "execute_result",
          "data": {
            "text/plain": [
              "309"
            ]
          },
          "metadata": {},
          "execution_count": 41
        }
      ]
    },
    {
      "cell_type": "markdown",
      "source": [
        "## Different types of transfer learning\n",
        "\n",
        "* \"As is\" transfer learning - using an existing model with no changes what so ever (e.g. using ImageNet model on ImageNet c )\n",
        "* \"Feature extraction\" transfer learning - use the prelearned patterns of an existing model (e.g. EfficientNetB0 trained on ImageNet) and adjust the output layer for problem (e.g. 1000 classes -> 10 classes of food)\n",
        "* \"Fine-tuning\" transfer learning - use the prelearned patterns of an existing model and \"fine-tune\" many or all of the underlying layers (including new output layers)\n",
        "\n"
      ],
      "metadata": {
        "id": "jojskyEdjyZ-"
      }
    },
    {
      "cell_type": "markdown",
      "source": [
        "## Comparing our models results using TensorBoard\n",
        "\n",
        "> **Note:** When we upload things to TensorBoard.dev, our experiments are public. So if we are running private experiments (things we don't want others to see) do not upload them to TensorBoard.dev"
      ],
      "metadata": {
        "id": "RRQAoWK6kLYc"
      }
    },
    {
      "cell_type": "code",
      "source": [
        "# Upload TensorBoard dev records\n",
        "\n",
        "!tensorboard dev upload --logdir ./tensorflow_hub/ \\\n",
        "  --name \"EfficientNetB0 vs. ResNet50V2\" \\\n",
        "  --description \"Comparing two different TF Hub feature extraction model architecture using 10% of the trainig data\" \\\n",
        "  --one_shot "
      ],
      "metadata": {
        "colab": {
          "base_uri": "https://localhost:8080/"
        },
        "id": "EO4VjnVpmzDj",
        "outputId": "a99b138d-9758-4954-a01b-65d2b706ca32"
      },
      "execution_count": null,
      "outputs": [
        {
          "output_type": "stream",
          "name": "stdout",
          "text": [
            "\n",
            "***** TensorBoard Uploader *****\n",
            "\n",
            "This will upload your TensorBoard logs to https://tensorboard.dev/ from\n",
            "the following directory:\n",
            "\n",
            "./tensorflow_hub/\n",
            "\n",
            "This TensorBoard will be visible to everyone. Do not upload sensitive\n",
            "data.\n",
            "\n",
            "Your use of this service is subject to Google's Terms of Service\n",
            "<https://policies.google.com/terms> and Privacy Policy\n",
            "<https://policies.google.com/privacy>, and TensorBoard.dev's Terms of Service\n",
            "<https://tensorboard.dev/policy/terms/>.\n",
            "\n",
            "This notice will not be shown again while you are logged into the uploader.\n",
            "To log out, run `tensorboard dev auth revoke`.\n",
            "\n",
            "Continue? (yes/NO) yes\n",
            "\n",
            "Please visit this URL to authorize this application: https://accounts.google.com/o/oauth2/auth?response_type=code&client_id=373649185512-8v619h5kft38l4456nm2dj4ubeqsrvh6.apps.googleusercontent.com&redirect_uri=urn%3Aietf%3Awg%3Aoauth%3A2.0%3Aoob&scope=openid+https%3A%2F%2Fwww.googleapis.com%2Fauth%2Fuserinfo.email&state=0VE074U8Sms5Wow7CCGjGX0M2Sbiti&prompt=consent&access_type=offline\n",
            "Enter the authorization code: 4/1AX4XfWhggwSRnl30dEEqtu4abT--Y1TZO75qzBViJkWpJnrwjrwCWE3x5S8\n",
            "\n",
            "\n",
            "New experiment created. View your TensorBoard at: https://tensorboard.dev/experiment/mhEdvYGLRKK5qz5xTlQEXA/\n",
            "\n",
            "\u001b[1m[2022-02-14T09:46:29]\u001b[0m Started scanning logdir.\n",
            "\u001b[1m[2022-02-14T09:46:31]\u001b[0m Total uploaded: 60 scalars, 0 tensors, 2 binary objects (5.5 MB)\n",
            "\u001b[1m[2022-02-14T09:46:31]\u001b[0m Done scanning logdir.\n",
            "\n",
            "\n",
            "Done. View your TensorBoard at https://tensorboard.dev/experiment/mhEdvYGLRKK5qz5xTlQEXA/\n"
          ]
        }
      ]
    },
    {
      "cell_type": "markdown",
      "source": [
        "Our TensorBoard experiments are uploaded publicaaly here https://tensorboard.dev/experiment/mhEdvYGLRKK5qz5xTlQEXA/"
      ],
      "metadata": {
        "id": "_bS3ASm-oLjO"
      }
    },
    {
      "cell_type": "code",
      "source": [
        "# Check out what TensorBoard experiments we have\n",
        "!tensorboard dev list"
      ],
      "metadata": {
        "colab": {
          "base_uri": "https://localhost:8080/"
        },
        "id": "H5Do391momTd",
        "outputId": "a24cd591-eea1-40d5-f6c5-b0eaa80a3795"
      },
      "execution_count": null,
      "outputs": [
        {
          "output_type": "stream",
          "name": "stdout",
          "text": [
            "https://tensorboard.dev/experiment/mhEdvYGLRKK5qz5xTlQEXA/\n",
            "\tName                 EfficientNetB0 vs. ResNet50V2\n",
            "\tDescription          Comparing two different TF Hub feature extraction model architecture using 10% of the trainig data\n",
            "\tId                   mhEdvYGLRKK5qz5xTlQEXA\n",
            "\tCreated              2022-02-14 09:46:29 (3 minutes ago)\n",
            "\tUpdated              2022-02-14 09:46:31 (3 minutes ago)\n",
            "\tRuns                 4\n",
            "\tTags                 5\n",
            "\tScalars              60\n",
            "\tTensor bytes         0\n",
            "\tBinary object bytes  5795363\n",
            "Total: 1 experiment(s)\n"
          ]
        }
      ]
    },
    {
      "cell_type": "markdown",
      "source": [
        "Delete an experiment   \n",
        "!tensorboard dev delete --experiment_id mhEdvYGLRKK5qz5xTlQEXA\n",
        "\n"
      ],
      "metadata": {
        "id": "djnSV8OdpAvU"
      }
    },
    {
      "cell_type": "code",
      "source": [
        ""
      ],
      "metadata": {
        "id": "AmDlQx7ZpIvk"
      },
      "execution_count": null,
      "outputs": []
    }
  ]
}