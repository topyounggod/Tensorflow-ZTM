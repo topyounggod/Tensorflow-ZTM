{
 "cells": [
  {
   "cell_type": "code",
   "execution_count": 1,
   "id": "c44b3ed5",
   "metadata": {},
   "outputs": [
    {
     "name": "stdout",
     "output_type": "stream",
     "text": [
      "2.7.0\n"
     ]
    }
   ],
   "source": [
    "import tensorflow as tf\n",
    "print(tf.__version__)"
   ]
  },
  {
   "cell_type": "code",
   "execution_count": 2,
   "id": "a7147338",
   "metadata": {},
   "outputs": [
    {
     "data": {
      "text/plain": [
       "(<tf.Tensor: shape=(2,), dtype=float32, numpy=array([1.7, 7.4], dtype=float32)>,\n",
       " tf.float32)"
      ]
     },
     "execution_count": 2,
     "metadata": {},
     "output_type": "execute_result"
    }
   ],
   "source": [
    "# Create a new tensor with default datatype (float32)\n",
    "B = tf.constant([1.7,7.4])\n",
    "B,B.dtype"
   ]
  },
  {
   "cell_type": "code",
   "execution_count": 3,
   "id": "13356d37",
   "metadata": {},
   "outputs": [
    {
     "data": {
      "text/plain": [
       "tf.int32"
      ]
     },
     "execution_count": 3,
     "metadata": {},
     "output_type": "execute_result"
    }
   ],
   "source": [
    "C =tf.constant([7,10])\n",
    "C.dtype"
   ]
  },
  {
   "cell_type": "code",
   "execution_count": 4,
   "id": "e0382162",
   "metadata": {},
   "outputs": [
    {
     "data": {
      "text/plain": [
       "(<tf.Tensor: shape=(2,), dtype=float16, numpy=array([1.7, 7.4], dtype=float16)>,\n",
       " tf.float16)"
      ]
     },
     "execution_count": 4,
     "metadata": {},
     "output_type": "execute_result"
    }
   ],
   "source": [
    "# change from float32 to float16 (reduced precision)\n",
    "D = tf.cast(B , dtype = tf.float16)\n",
    "D, D.dtype\n"
   ]
  },
  {
   "cell_type": "code",
   "execution_count": 5,
   "id": "8b7ba1ce",
   "metadata": {},
   "outputs": [
    {
     "data": {
      "text/plain": [
       "<tf.Tensor: shape=(2,), dtype=float32, numpy=array([ 7., 10.], dtype=float32)>"
      ]
     },
     "execution_count": 5,
     "metadata": {},
     "output_type": "execute_result"
    }
   ],
   "source": [
    "# Change from int32 to float32\n",
    "\n",
    "E = tf.cast(C, dtype = tf.float32)\n",
    "E"
   ]
  },
  {
   "cell_type": "code",
   "execution_count": 6,
   "id": "50586353",
   "metadata": {},
   "outputs": [
    {
     "data": {
      "text/plain": [
       "<tf.Tensor: shape=(2,), dtype=float16, numpy=array([ 7., 10.], dtype=float16)>"
      ]
     },
     "execution_count": 6,
     "metadata": {},
     "output_type": "execute_result"
    }
   ],
   "source": [
    "E_float16 = tf.cast(E, dtype = tf.float16)\n",
    "E_float16\n"
   ]
  },
  {
   "cell_type": "markdown",
   "id": "46fb2048",
   "metadata": {},
   "source": [
    "# Aggregating Tensors\n",
    "\n",
    "Aggregating tensors : condensing them for multiple values down to a smaller amount of values"
   ]
  },
  {
   "cell_type": "code",
   "execution_count": 7,
   "id": "cd449bc4",
   "metadata": {},
   "outputs": [
    {
     "data": {
      "text/plain": [
       "<tf.Tensor: shape=(2,), dtype=int32, numpy=array([ -7, -10])>"
      ]
     },
     "execution_count": 7,
     "metadata": {},
     "output_type": "execute_result"
    }
   ],
   "source": [
    "# Get the absolute values\n",
    "D = tf.constant([-7,-10])\n",
    "D"
   ]
  },
  {
   "cell_type": "code",
   "execution_count": 8,
   "id": "8fcee81c",
   "metadata": {},
   "outputs": [
    {
     "data": {
      "text/plain": [
       "<tf.Tensor: shape=(2,), dtype=int32, numpy=array([ 7, 10])>"
      ]
     },
     "execution_count": 8,
     "metadata": {},
     "output_type": "execute_result"
    }
   ],
   "source": [
    "# Get the absoulte values\n",
    "tf.abs(D)"
   ]
  },
  {
   "cell_type": "markdown",
   "id": "a2b90d64",
   "metadata": {},
   "source": [
    "## Let's go thorugh the following forms of aggregation:\n",
    "\n",
    "* Get the minimum\n",
    "* Get the maximum\n",
    "* Get the mean of a tensor\n",
    "* Get the sum of a tensor"
   ]
  },
  {
   "cell_type": "code",
   "execution_count": 9,
   "id": "2b72f4d4",
   "metadata": {},
   "outputs": [],
   "source": [
    "import numpy as np\n",
    "# Create a raondom tensor with values between 0 and 100 of size 50\n",
    "\n",
    "E = tf.constant(np.random.randint(0,100,size = 50))"
   ]
  },
  {
   "cell_type": "code",
   "execution_count": 10,
   "id": "eec8e9fc",
   "metadata": {},
   "outputs": [
    {
     "data": {
      "text/plain": [
       "(<tf.Tensor: shape=(), dtype=int32, numpy=50>, TensorShape([50]), 1)"
      ]
     },
     "execution_count": 10,
     "metadata": {},
     "output_type": "execute_result"
    }
   ],
   "source": [
    "tf.size(E), E.shape,E.ndim"
   ]
  },
  {
   "cell_type": "code",
   "execution_count": 11,
   "id": "1ebd7fb1",
   "metadata": {},
   "outputs": [
    {
     "data": {
      "text/plain": [
       "<tf.Tensor: shape=(), dtype=int32, numpy=5>"
      ]
     },
     "execution_count": 11,
     "metadata": {},
     "output_type": "execute_result"
    }
   ],
   "source": [
    "# Find the minimum\n",
    "\n",
    "tf.reduce_min(E)\n"
   ]
  },
  {
   "cell_type": "code",
   "execution_count": 12,
   "id": "d41b6c11",
   "metadata": {},
   "outputs": [
    {
     "data": {
      "text/plain": [
       "5"
      ]
     },
     "execution_count": 12,
     "metadata": {},
     "output_type": "execute_result"
    }
   ],
   "source": [
    "np.min(E)"
   ]
  },
  {
   "cell_type": "code",
   "execution_count": 13,
   "id": "e9f5c5b6",
   "metadata": {},
   "outputs": [
    {
     "data": {
      "text/plain": [
       "<tf.Tensor: shape=(), dtype=int32, numpy=98>"
      ]
     },
     "execution_count": 13,
     "metadata": {},
     "output_type": "execute_result"
    }
   ],
   "source": [
    "tf.reduce_max(E)"
   ]
  },
  {
   "cell_type": "code",
   "execution_count": 14,
   "id": "292cb303",
   "metadata": {},
   "outputs": [
    {
     "data": {
      "text/plain": [
       "<tf.Tensor: shape=(), dtype=int32, numpy=46>"
      ]
     },
     "execution_count": 14,
     "metadata": {},
     "output_type": "execute_result"
    }
   ],
   "source": [
    "# Find the mean\n",
    "tf.reduce_mean(E)"
   ]
  },
  {
   "cell_type": "code",
   "execution_count": 15,
   "id": "7abc2e6e",
   "metadata": {
    "scrolled": false
   },
   "outputs": [
    {
     "data": {
      "text/plain": [
       "<tf.Tensor: shape=(), dtype=int32, numpy=2339>"
      ]
     },
     "execution_count": 15,
     "metadata": {},
     "output_type": "execute_result"
    }
   ],
   "source": [
    "# Find the sum \n",
    "tf.reduce_sum(E)"
   ]
  },
  {
   "cell_type": "markdown",
   "id": "54ae10f8",
   "metadata": {},
   "source": [
    "**Find the variance and standard variation**"
   ]
  },
  {
   "cell_type": "code",
   "execution_count": 19,
   "id": "137fb7c7",
   "metadata": {
    "scrolled": false
   },
   "outputs": [
    {
     "data": {
      "text/plain": [
       "<tf.Tensor: shape=(), dtype=int32, numpy=752>"
      ]
     },
     "execution_count": 19,
     "metadata": {},
     "output_type": "execute_result"
    }
   ],
   "source": [
    "\n",
    "import tensorflow_probability as tfp\n",
    "tfp.stats.variance(E)"
   ]
  },
  {
   "cell_type": "code",
   "execution_count": null,
   "id": "7a1bb683",
   "metadata": {},
   "outputs": [],
   "source": [
    "# Find the variance , we need access to tensorlfow probability\n",
    "tfp.stats.variance(E)"
   ]
  },
  {
   "cell_type": "code",
   "execution_count": null,
   "id": "a9b38511",
   "metadata": {},
   "outputs": [],
   "source": [
    "# Find the standard deviation\n",
    "tf.math.reduce_std(tf.cast(E,dtype=tf.float32))"
   ]
  },
  {
   "cell_type": "code",
   "execution_count": null,
   "id": "261617f9",
   "metadata": {},
   "outputs": [],
   "source": [
    "# Find the variance of our E tensor\n",
    "\n",
    "tf.math.reduce_variance(tf.cast(E,dtype=tf.float32))"
   ]
  },
  {
   "cell_type": "markdown",
   "id": "92cd299b",
   "metadata": {},
   "source": [
    "# Find the positional maximum and minimum"
   ]
  },
  {
   "cell_type": "code",
   "execution_count": null,
   "id": "31b46020",
   "metadata": {},
   "outputs": [],
   "source": [
    "# Create a new tensor for finding positional minimum and maximum\n",
    "tf.random.set_seed(42)\n",
    "A = tf.random.uniform(shape = [50])\n",
    "A"
   ]
  },
  {
   "cell_type": "code",
   "execution_count": null,
   "id": "20ad2f2f",
   "metadata": {},
   "outputs": [],
   "source": [
    "# Find the positional maximum\n",
    "tf.argmax(A)"
   ]
  },
  {
   "cell_type": "code",
   "execution_count": null,
   "id": "a67a7c6b",
   "metadata": {},
   "outputs": [],
   "source": [
    "# Index on our largest value position\n",
    "A[tf.argmax(A)]"
   ]
  },
  {
   "cell_type": "code",
   "execution_count": null,
   "id": "4c5ba1e8",
   "metadata": {},
   "outputs": [],
   "source": [
    "# Find the max value of A\n",
    "tf.reduce_max(A)"
   ]
  },
  {
   "cell_type": "code",
   "execution_count": null,
   "id": "e5280146",
   "metadata": {},
   "outputs": [],
   "source": [
    "# Check the eqaulity\n",
    "A[tf.argmax(A)] == tf.reduce_max(A)"
   ]
  },
  {
   "cell_type": "code",
   "execution_count": null,
   "id": "496485aa",
   "metadata": {},
   "outputs": [],
   "source": [
    "# Find the minimum\n",
    "\n",
    "tf.argmin(A)"
   ]
  },
  {
   "cell_type": "code",
   "execution_count": null,
   "id": "dfb97fec",
   "metadata": {},
   "outputs": [],
   "source": [
    "# Index min\n",
    "A[tf.argmin(A)]"
   ]
  },
  {
   "cell_type": "code",
   "execution_count": null,
   "id": "19798fa1",
   "metadata": {},
   "outputs": [],
   "source": [
    "# Find the min value\n",
    "tf.reduce_min(A)"
   ]
  },
  {
   "cell_type": "code",
   "execution_count": null,
   "id": "917a3617",
   "metadata": {},
   "outputs": [],
   "source": [
    "# Equality\n",
    "\n",
    "A[tf.argmin(A)]== tf.reduce_min(A)"
   ]
  },
  {
   "cell_type": "markdown",
   "id": "6384dece",
   "metadata": {},
   "source": [
    "## Squeezing a tensor (removing all single dimensions)"
   ]
  },
  {
   "cell_type": "code",
   "execution_count": null,
   "id": "d35fd182",
   "metadata": {},
   "outputs": [],
   "source": [
    "# Create a tensor\n",
    "tf.random.set_seed(42)\n",
    "B = tf.constant(tf.random.uniform(shape = [50]),shape = (1,1,1,1,50))\n",
    "B"
   ]
  },
  {
   "cell_type": "code",
   "execution_count": null,
   "id": "11141102",
   "metadata": {},
   "outputs": [],
   "source": [
    "B.shape"
   ]
  },
  {
   "cell_type": "code",
   "execution_count": null,
   "id": "97a7def6",
   "metadata": {},
   "outputs": [],
   "source": [
    "B_squeezed = tf.squeeze(B)\n",
    "B_squeezed, B_squeezed.shape"
   ]
  },
  {
   "cell_type": "markdown",
   "id": "0c633f5a",
   "metadata": {},
   "source": [
    "## One-hot encoding tensors"
   ]
  },
  {
   "cell_type": "code",
   "execution_count": null,
   "id": "edad01bb",
   "metadata": {},
   "outputs": [],
   "source": [
    "# Create a list of indices\n",
    "list = [0,1,2,3] # could be red, green, blue, purple\n",
    "\n",
    "# One hot encode our list of indices\n",
    "\n",
    "tf.one_hot(list,depth = 4)"
   ]
  },
  {
   "cell_type": "code",
   "execution_count": null,
   "id": "ddf92fd7",
   "metadata": {},
   "outputs": [],
   "source": [
    "# Specify custom values for one hot encoding\n",
    "\n",
    "tf.one_hot(list,depth=4,on_value= \"I love deep learning\",off_value = \"I hate machine learning\")"
   ]
  },
  {
   "cell_type": "code",
   "execution_count": null,
   "id": "6b27f3df",
   "metadata": {},
   "outputs": [],
   "source": [
    "# Create a new tensor\n",
    "\n",
    "C = tf.range(1,10)"
   ]
  },
  {
   "cell_type": "code",
   "execution_count": null,
   "id": "a2fc2c33",
   "metadata": {},
   "outputs": [],
   "source": [
    "C"
   ]
  },
  {
   "cell_type": "code",
   "execution_count": null,
   "id": "b437047b",
   "metadata": {},
   "outputs": [],
   "source": [
    "# Square it\n",
    "\n",
    "tf.square(C)"
   ]
  },
  {
   "cell_type": "code",
   "execution_count": null,
   "id": "9219b4f7",
   "metadata": {},
   "outputs": [],
   "source": [
    "# # Find the squareroot\n",
    "tf.math.sqrt(tf.cast(C,dtype=tf.float32))"
   ]
  },
  {
   "cell_type": "code",
   "execution_count": null,
   "id": "5228a7ed",
   "metadata": {},
   "outputs": [],
   "source": [
    "# Find the log\n",
    "tf.math.log(tf.cast(C,dtype=tf.float32))"
   ]
  },
  {
   "cell_type": "markdown",
   "id": "0c9da97d",
   "metadata": {},
   "source": [
    "## Tensors and Numpy\n",
    "\n",
    "Tensorlfow interacts beautifully with Numpy arrays"
   ]
  },
  {
   "cell_type": "code",
   "execution_count": null,
   "id": "f9731bcc",
   "metadata": {},
   "outputs": [],
   "source": [
    "# Create a tensor directly from numpy arrays\n",
    "\n",
    "T = tf.constant(np.array([3.,7.,10.]))\n",
    "T"
   ]
  },
  {
   "cell_type": "code",
   "execution_count": null,
   "id": "e2223519",
   "metadata": {},
   "outputs": [],
   "source": [
    "# Convert our tensor back to numpy array\n",
    "\n",
    "np.array(T), type(np.array(T))"
   ]
  },
  {
   "cell_type": "code",
   "execution_count": null,
   "id": "d9b44fa3",
   "metadata": {},
   "outputs": [],
   "source": [
    "# Convert tensor T to a Numpy array\n",
    "\n",
    "T.numpy(), type(T.numpy())"
   ]
  },
  {
   "cell_type": "code",
   "execution_count": null,
   "id": "5e57a595",
   "metadata": {},
   "outputs": [],
   "source": [
    "T = tf.constant([3.])\n",
    "T.numpy()[0]"
   ]
  },
  {
   "cell_type": "code",
   "execution_count": null,
   "id": "25d1b5b0",
   "metadata": {},
   "outputs": [],
   "source": [
    "# The default types of each are slightly differnt\n",
    "\n",
    "numpy_T = tf.constant(np.array([3.,7.,10.]))\n",
    "tensor_T = tf.constant([3.,7.,10.])\n",
    "\n",
    "# Check the datatypes of each\n",
    "\n",
    "numpy_T.dtype, tensor_T.dtype"
   ]
  },
  {
   "cell_type": "markdown",
   "id": "968a0ee1",
   "metadata": {},
   "source": [
    "# One of the main differences between a TensorFlow tensor and a Numpy    \n",
    "# is that TensorFlow tensor can be used GPU"
   ]
  },
  {
   "cell_type": "markdown",
   "id": "4d840af8",
   "metadata": {},
   "source": [
    "## Finding access to GPUs"
   ]
  },
  {
   "cell_type": "code",
   "execution_count": null,
   "id": "801da1cf",
   "metadata": {},
   "outputs": [],
   "source": [
    "tf.config.list_physical_devices()\n"
   ]
  },
  {
   "cell_type": "markdown",
   "id": "d46c03bc",
   "metadata": {},
   "source": [
    "** If you have access to CUDA-enabled GPU Tensorflow will automatically using it"
   ]
  },
  {
   "cell_type": "code",
   "execution_count": null,
   "id": "de6d3fab",
   "metadata": {},
   "outputs": [],
   "source": [
    "!nvidia-smi"
   ]
  },
  {
   "cell_type": "code",
   "execution_count": null,
   "id": "2de825ad",
   "metadata": {},
   "outputs": [],
   "source": [
    "from tensorflow.python.client import device_lib\n",
    "print(device_lib.list_local_devices())"
   ]
  },
  {
   "cell_type": "code",
   "execution_count": null,
   "id": "69a68bdd",
   "metadata": {},
   "outputs": [],
   "source": []
  }
 ],
 "metadata": {
  "kernelspec": {
   "display_name": "Python 3 (ipykernel)",
   "language": "python",
   "name": "python3"
  },
  "language_info": {
   "codemirror_mode": {
    "name": "ipython",
    "version": 3
   },
   "file_extension": ".py",
   "mimetype": "text/x-python",
   "name": "python",
   "nbconvert_exporter": "python",
   "pygments_lexer": "ipython3",
   "version": "3.9.7"
  }
 },
 "nbformat": 4,
 "nbformat_minor": 5
}
