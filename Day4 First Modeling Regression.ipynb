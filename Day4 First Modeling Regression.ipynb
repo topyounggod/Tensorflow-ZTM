{
 "cells": [
  {
   "cell_type": "markdown",
   "id": "2e633ac6",
   "metadata": {},
   "source": [
    "# In troduction to Regression with Neural Networks in TensorFlow\n",
    "\n",
    "There are many definiions for a regression problem but in our case, we're going to simplify it :   \n",
    "predicting a numerical variable based on some other combination of variables, even shorter.. predicting a number"
   ]
  },
  {
   "cell_type": "code",
   "execution_count": 1,
   "id": "4ed75b80",
   "metadata": {},
   "outputs": [
    {
     "name": "stdout",
     "output_type": "stream",
     "text": [
      "2.7.0\n"
     ]
    }
   ],
   "source": [
    "# Import Tensorflow\n",
    "import tensorflow as tf\n",
    "print(tf.__version__)"
   ]
  },
  {
   "cell_type": "code",
   "execution_count": 2,
   "id": "e9d0874a",
   "metadata": {},
   "outputs": [],
   "source": [
    "import numpy as np\n",
    "import matplotlib.pyplot as plt"
   ]
  },
  {
   "cell_type": "code",
   "execution_count": 3,
   "id": "e52f16cf",
   "metadata": {},
   "outputs": [],
   "source": [
    "# Create features\n",
    "X = np.array([-7.0,-4.0,-1.0,2.0,5.0,8.0,11.0,14.0])"
   ]
  },
  {
   "cell_type": "code",
   "execution_count": 4,
   "id": "88cf1f2a",
   "metadata": {},
   "outputs": [],
   "source": [
    "# Create Labels\n",
    "\n",
    "y = np.array([3.0,6.0,9.0,12.0,15.0,18.0,21.0,24.0])"
   ]
  },
  {
   "cell_type": "code",
   "execution_count": 5,
   "id": "dcdcfb66",
   "metadata": {},
   "outputs": [
    {
     "data": {
      "text/plain": [
       "<matplotlib.collections.PathCollection at 0x1f7d303e310>"
      ]
     },
     "execution_count": 5,
     "metadata": {},
     "output_type": "execute_result"
    },
    {
     "data": {
      "image/png": "[encoded data removed]",
      "text/plain": [
       "<Figure size 432x288 with 1 Axes>"
      ]
     },
     "metadata": {
      "needs_background": "light"
     },
     "output_type": "display_data"
    }
   ],
   "source": [
    "# Visualize\n",
    "\n",
    "plt.scatter(X,y)"
   ]
  },
  {
   "cell_type": "code",
   "execution_count": 6,
   "id": "e255bc8d",
   "metadata": {},
   "outputs": [
    {
     "data": {
      "text/plain": [
       "array([ True,  True,  True,  True,  True,  True,  True,  True])"
      ]
     },
     "execution_count": 6,
     "metadata": {},
     "output_type": "execute_result"
    }
   ],
   "source": [
    "y ==  X+10"
   ]
  },
  {
   "cell_type": "markdown",
   "id": "adfe1d2a",
   "metadata": {},
   "source": [
    "## Input and Output shapes"
   ]
  },
  {
   "cell_type": "code",
   "execution_count": 7,
   "id": "4d53fc1d",
   "metadata": {},
   "outputs": [
    {
     "data": {
      "text/plain": [
       "(<tf.Tensor: shape=(3,), dtype=string, numpy=array([b'bedroom', b'bathroom', b'garage'], dtype=object)>,\n",
       " <tf.Tensor: shape=(1,), dtype=int32, numpy=array([939700])>)"
      ]
     },
     "execution_count": 7,
     "metadata": {},
     "output_type": "execute_result"
    }
   ],
   "source": [
    "# Create a demo tensor for our housing price prediction problem\n",
    "\n",
    "house_info = tf.constant([\"bedroom\",\"bathroom\",\"garage\"])\n",
    "house_price = tf.constant([939700])\n",
    "house_info, house_price"
   ]
  },
  {
   "cell_type": "code",
   "execution_count": 8,
   "id": "9db84e2a",
   "metadata": {},
   "outputs": [
    {
     "data": {
      "text/plain": [
       "(-7.0, 3.0)"
      ]
     },
     "execution_count": 8,
     "metadata": {},
     "output_type": "execute_result"
    }
   ],
   "source": [
    "X[0],y[0]"
   ]
  },
  {
   "cell_type": "code",
   "execution_count": 9,
   "id": "673584c9",
   "metadata": {},
   "outputs": [
    {
     "data": {
      "text/plain": [
       "(-4.0, 6.0)"
      ]
     },
     "execution_count": 9,
     "metadata": {},
     "output_type": "execute_result"
    }
   ],
   "source": [
    "X[1],y[1]"
   ]
  },
  {
   "cell_type": "code",
   "execution_count": 10,
   "id": "be16c769",
   "metadata": {},
   "outputs": [
    {
     "data": {
      "text/plain": [
       "((), ())"
      ]
     },
     "execution_count": 10,
     "metadata": {},
     "output_type": "execute_result"
    }
   ],
   "source": [
    "input_shape = X[0].shape\n",
    "output_shape = y[0].shape\n",
    "input_shape, output_shape"
   ]
  },
  {
   "cell_type": "markdown",
   "id": "ef6e82d7",
   "metadata": {},
   "source": [
    "### As our X and y data are scalar data so it should not have shape"
   ]
  },
  {
   "cell_type": "code",
   "execution_count": 11,
   "id": "4215c8ee",
   "metadata": {},
   "outputs": [
    {
     "data": {
      "text/plain": [
       "0"
      ]
     },
     "execution_count": 11,
     "metadata": {},
     "output_type": "execute_result"
    }
   ],
   "source": [
    "X[0].ndim"
   ]
  },
  {
   "cell_type": "code",
   "execution_count": 12,
   "id": "265734c8",
   "metadata": {},
   "outputs": [
    {
     "data": {
      "text/plain": [
       "(-7.0, 3.0)"
      ]
     },
     "execution_count": 12,
     "metadata": {},
     "output_type": "execute_result"
    }
   ],
   "source": [
    "X[0],y[0]"
   ]
  },
  {
   "cell_type": "code",
   "execution_count": 13,
   "id": "7e304b9a",
   "metadata": {},
   "outputs": [
    {
     "data": {
      "text/plain": [
       "(<tf.Tensor: shape=(8,), dtype=float32, numpy=array([-7., -4., -1.,  2.,  5.,  8., 11., 14.], dtype=float32)>,\n",
       " <tf.Tensor: shape=(8,), dtype=float32, numpy=array([ 3.,  6.,  9., 12., 15., 18., 21., 24.], dtype=float32)>)"
      ]
     },
     "execution_count": 13,
     "metadata": {},
     "output_type": "execute_result"
    }
   ],
   "source": [
    "# Turn our Numpy to tensors with dtype float32\n",
    "\n",
    "X = tf.cast(tf.constant(X),dtype = tf.float32)\n",
    "y = tf.cast(tf.constant(y),dtype = tf.float32)\n",
    "X,y"
   ]
  },
  {
   "cell_type": "code",
   "execution_count": 14,
   "id": "6335ee79",
   "metadata": {},
   "outputs": [
    {
     "data": {
      "text/plain": [
       "(TensorShape([]), TensorShape([]))"
      ]
     },
     "execution_count": 14,
     "metadata": {},
     "output_type": "execute_result"
    }
   ],
   "source": [
    "input_shape = X[0].shape\n",
    "output_shape = y[0].shape\n",
    "input_shape, output_shape"
   ]
  },
  {
   "cell_type": "code",
   "execution_count": 15,
   "id": "39158475",
   "metadata": {},
   "outputs": [
    {
     "data": {
      "text/plain": [
       "<matplotlib.collections.PathCollection at 0x1f7d3129640>"
      ]
     },
     "execution_count": 15,
     "metadata": {},
     "output_type": "execute_result"
    },
    {
     "data": {
      "image/png": "[encoded data removed]",
      "text/plain": [
       "<Figure size 432x288 with 1 Axes>"
      ]
     },
     "metadata": {
      "needs_background": "light"
     },
     "output_type": "display_data"
    }
   ],
   "source": [
    "plt.scatter(X,y)"
   ]
  },
  {
   "cell_type": "markdown",
   "id": "1481c924",
   "metadata": {},
   "source": [
    "## Steps in modeling with TensorFlow\n",
    "\n",
    "\n",
    "1. Creating a model - define the input and output layers, as well as the hidden layers of a deep learning model.\n",
    "\n",
    "2. Compiling a model - define the loss function (in others wors, the function which tells our model how wrong it is) and the optimizer (tells our model how to improve the patterns its learning) and evaluation metrics (what we can use to interpret the performance of our model.)\n",
    "\n",
    "\n",
    "3. Fitting a model - letting the model try to find patterns between X & y (features and labels)"
   ]
  },
  {
   "cell_type": "code",
   "execution_count": 16,
   "id": "76b8720e",
   "metadata": {},
   "outputs": [
    {
     "name": "stdout",
     "output_type": "stream",
     "text": [
      "Epoch 1/5\n",
      "1/1 [==============================] - 0s 244ms/step - loss: 11.5048 - mae: 11.5048\n",
      "Epoch 2/5\n",
      "1/1 [==============================] - 0s 1ms/step - loss: 11.3723 - mae: 11.3723\n",
      "Epoch 3/5\n",
      "1/1 [==============================] - 0s 2ms/step - loss: 11.2398 - mae: 11.2398\n",
      "Epoch 4/5\n",
      "1/1 [==============================] - 0s 2ms/step - loss: 11.1073 - mae: 11.1073\n",
      "Epoch 5/5\n",
      "1/1 [==============================] - 0s 1ms/step - loss: 10.9748 - mae: 10.9748\n"
     ]
    },
    {
     "data": {
      "text/plain": [
       "<keras.callbacks.History at 0x1f7d9675be0>"
      ]
     },
     "execution_count": 16,
     "metadata": {},
     "output_type": "execute_result"
    }
   ],
   "source": [
    "# Set random seed\n",
    "\n",
    "tf.random.set_seed(42)\n",
    "\n",
    "\n",
    "# 1. Create a model using the Sequential API\n",
    "\n",
    "model = tf.keras.Sequential([\n",
    "    tf.keras.layers.Dense(1),\n",
    "   #  tf.keras.layers.Dense(1)\n",
    "    \n",
    "])\n",
    "\n",
    "# 2. Complie the model\n",
    "\n",
    "model.compile(loss =tf.keras.losses.mae, # mae is mean absolute error\n",
    "             optimizer =tf.keras.optimizers.SGD(),\n",
    "             metrics = [\"mae\"])  # SGD stochastic gradient descent\n",
    "\n",
    "\n",
    "# 3. Fit the model\n",
    "\n",
    "model.fit(tf.expand_dims(X, axis=-1), y, epochs=5) \n",
    "\n"
   ]
  },
  {
   "cell_type": "code",
   "execution_count": 17,
   "id": "c31ea292",
   "metadata": {},
   "outputs": [
    {
     "data": {
      "text/plain": [
       "(<tf.Tensor: shape=(8,), dtype=float32, numpy=array([-7., -4., -1.,  2.,  5.,  8., 11., 14.], dtype=float32)>,\n",
       " <tf.Tensor: shape=(8,), dtype=float32, numpy=array([ 3.,  6.,  9., 12., 15., 18., 21., 24.], dtype=float32)>)"
      ]
     },
     "execution_count": 17,
     "metadata": {},
     "output_type": "execute_result"
    }
   ],
   "source": [
    "# Check out X an y\n",
    "X, y"
   ]
  },
  {
   "cell_type": "code",
   "execution_count": 18,
   "id": "fded90ce",
   "metadata": {},
   "outputs": [
    {
     "data": {
      "text/plain": [
       "array([[12.716021]], dtype=float32)"
      ]
     },
     "execution_count": 18,
     "metadata": {},
     "output_type": "execute_result"
    }
   ],
   "source": [
    "# Try to make a prediction\n",
    "\n",
    "y_pred = model.predict([17.0])\n",
    "y_pred"
   ]
  },
  {
   "cell_type": "code",
   "execution_count": 19,
   "id": "67d0b213",
   "metadata": {},
   "outputs": [
    {
     "data": {
      "text/plain": [
       "array([[23.71602]], dtype=float32)"
      ]
     },
     "execution_count": 19,
     "metadata": {},
     "output_type": "execute_result"
    }
   ],
   "source": [
    "y_pred + 11"
   ]
  },
  {
   "cell_type": "markdown",
   "id": "19c7a0df",
   "metadata": {},
   "source": [
    "# Improve our model"
   ]
  },
  {
   "cell_type": "markdown",
   "id": "9a229757",
   "metadata": {},
   "source": [
    "1. **Creating a model** - we might add more layers, increase the number of hidden units (all called neurons)\n",
    "    within each of the hidden layers, change the activation function of each layer.\n",
    "    \n",
    "2. **Compiling a model** - here we might change the optimization fuction or perhabs the  **learning rate** of the optimization function.\n",
    "\n",
    "3. **Fitting a model** - here we might fit a model for more **epochs** (leave it training for longer) or on more data (give the model more examples to learn from)"
   ]
  },
  {
   "cell_type": "code",
   "execution_count": 20,
   "id": "ea3eb73c",
   "metadata": {},
   "outputs": [
    {
     "name": "stdout",
     "output_type": "stream",
     "text": [
      "Epoch 1/100\n",
      "1/1 [==============================] - 0s 155ms/step - loss: 11.2219 - mae: 11.2219\n",
      "Epoch 2/100\n",
      "1/1 [==============================] - 0s 2ms/step - loss: 11.0894 - mae: 11.0894\n",
      "Epoch 3/100\n",
      "1/1 [==============================] - 0s 1ms/step - loss: 10.9569 - mae: 10.9569\n",
      "Epoch 4/100\n",
      "1/1 [==============================] - 0s 1000us/step - loss: 10.8244 - mae: 10.8244\n",
      "Epoch 5/100\n",
      "1/1 [==============================] - 0s 1000us/step - loss: 10.6919 - mae: 10.6919\n",
      "Epoch 6/100\n",
      "1/1 [==============================] - 0s 1000us/step - loss: 10.5594 - mae: 10.5594\n",
      "Epoch 7/100\n",
      "1/1 [==============================] - 0s 2ms/step - loss: 10.4269 - mae: 10.4269\n",
      "Epoch 8/100\n",
      "1/1 [==============================] - 0s 2ms/step - loss: 10.2944 - mae: 10.2944\n",
      "Epoch 9/100\n",
      "1/1 [==============================] - 0s 2ms/step - loss: 10.1619 - mae: 10.1619\n",
      "Epoch 10/100\n",
      "1/1 [==============================] - 0s 2ms/step - loss: 10.0294 - mae: 10.0294\n",
      "Epoch 11/100\n",
      "1/1 [==============================] - 0s 1ms/step - loss: 9.8969 - mae: 9.8969\n",
      "Epoch 12/100\n",
      "1/1 [==============================] - 0s 999us/step - loss: 9.7644 - mae: 9.7644\n",
      "Epoch 13/100\n",
      "1/1 [==============================] - 0s 3ms/step - loss: 9.6319 - mae: 9.6319\n",
      "Epoch 14/100\n",
      "1/1 [==============================] - 0s 2ms/step - loss: 9.4994 - mae: 9.4994\n",
      "Epoch 15/100\n",
      "1/1 [==============================] - 0s 2ms/step - loss: 9.3669 - mae: 9.3669\n",
      "Epoch 16/100\n",
      "1/1 [==============================] - 0s 1ms/step - loss: 9.2344 - mae: 9.2344\n",
      "Epoch 17/100\n",
      "1/1 [==============================] - 0s 2ms/step - loss: 9.1019 - mae: 9.1019\n",
      "Epoch 18/100\n",
      "1/1 [==============================] - 0s 2ms/step - loss: 8.9694 - mae: 8.9694\n",
      "Epoch 19/100\n",
      "1/1 [==============================] - 0s 2ms/step - loss: 8.8369 - mae: 8.8369\n",
      "Epoch 20/100\n",
      "1/1 [==============================] - 0s 2ms/step - loss: 8.7044 - mae: 8.7044\n",
      "Epoch 21/100\n",
      "1/1 [==============================] - 0s 2ms/step - loss: 8.5719 - mae: 8.5719\n",
      "Epoch 22/100\n",
      "1/1 [==============================] - 0s 1ms/step - loss: 8.4394 - mae: 8.4394\n",
      "Epoch 23/100\n",
      "1/1 [==============================] - 0s 2ms/step - loss: 8.3069 - mae: 8.3069\n",
      "Epoch 24/100\n",
      "1/1 [==============================] - 0s 1ms/step - loss: 8.1744 - mae: 8.1744\n",
      "Epoch 25/100\n",
      "1/1 [==============================] - 0s 2ms/step - loss: 8.0419 - mae: 8.0419\n",
      "Epoch 26/100\n",
      "1/1 [==============================] - 0s 2ms/step - loss: 7.9094 - mae: 7.9094\n",
      "Epoch 27/100\n",
      "1/1 [==============================] - 0s 2ms/step - loss: 7.7769 - mae: 7.7769\n",
      "Epoch 28/100\n",
      "1/1 [==============================] - 0s 2ms/step - loss: 7.6444 - mae: 7.6444\n",
      "Epoch 29/100\n",
      "1/1 [==============================] - 0s 1ms/step - loss: 7.5119 - mae: 7.5119\n",
      "Epoch 30/100\n",
      "1/1 [==============================] - 0s 999us/step - loss: 7.3794 - mae: 7.3794\n",
      "Epoch 31/100\n",
      "1/1 [==============================] - 0s 2ms/step - loss: 7.2750 - mae: 7.2750\n",
      "Epoch 32/100\n",
      "1/1 [==============================] - 0s 3ms/step - loss: 7.2694 - mae: 7.2694\n",
      "Epoch 33/100\n",
      "1/1 [==============================] - 0s 2ms/step - loss: 7.2638 - mae: 7.2638\n",
      "Epoch 34/100\n",
      "1/1 [==============================] - 0s 999us/step - loss: 7.2581 - mae: 7.2581\n",
      "Epoch 35/100\n",
      "1/1 [==============================] - 0s 1ms/step - loss: 7.2525 - mae: 7.2525\n",
      "Epoch 36/100\n",
      "1/1 [==============================] - 0s 1ms/step - loss: 7.2469 - mae: 7.2469\n",
      "Epoch 37/100\n",
      "1/1 [==============================] - 0s 1ms/step - loss: 7.2412 - mae: 7.2412\n",
      "Epoch 38/100\n",
      "1/1 [==============================] - 0s 2ms/step - loss: 7.2356 - mae: 7.2356\n",
      "Epoch 39/100\n",
      "1/1 [==============================] - 0s 2ms/step - loss: 7.2300 - mae: 7.2300\n",
      "Epoch 40/100\n",
      "1/1 [==============================] - 0s 2ms/step - loss: 7.2244 - mae: 7.2244\n",
      "Epoch 41/100\n",
      "1/1 [==============================] - 0s 1ms/step - loss: 7.2188 - mae: 7.2188\n",
      "Epoch 42/100\n",
      "1/1 [==============================] - 0s 2ms/step - loss: 7.2131 - mae: 7.2131\n",
      "Epoch 43/100\n",
      "1/1 [==============================] - 0s 2ms/step - loss: 7.2075 - mae: 7.2075\n",
      "Epoch 44/100\n",
      "1/1 [==============================] - 0s 2ms/step - loss: 7.2019 - mae: 7.2019\n",
      "Epoch 45/100\n",
      "1/1 [==============================] - 0s 1ms/step - loss: 7.1962 - mae: 7.1962\n",
      "Epoch 46/100\n",
      "1/1 [==============================] - 0s 2ms/step - loss: 7.1906 - mae: 7.1906\n",
      "Epoch 47/100\n",
      "1/1 [==============================] - 0s 1ms/step - loss: 7.1850 - mae: 7.1850\n",
      "Epoch 48/100\n",
      "1/1 [==============================] - 0s 1ms/step - loss: 7.1794 - mae: 7.1794\n",
      "Epoch 49/100\n",
      "1/1 [==============================] - 0s 2ms/step - loss: 7.1737 - mae: 7.1737\n",
      "Epoch 50/100\n",
      "1/1 [==============================] - 0s 2ms/step - loss: 7.1681 - mae: 7.1681\n",
      "Epoch 51/100\n",
      "1/1 [==============================] - 0s 2ms/step - loss: 7.1625 - mae: 7.1625\n",
      "Epoch 52/100\n",
      "1/1 [==============================] - 0s 2ms/step - loss: 7.1569 - mae: 7.1569\n",
      "Epoch 53/100\n",
      "1/1 [==============================] - 0s 1000us/step - loss: 7.1512 - mae: 7.1512\n",
      "Epoch 54/100\n",
      "1/1 [==============================] - 0s 2ms/step - loss: 7.1456 - mae: 7.1456\n",
      "Epoch 55/100\n",
      "1/1 [==============================] - 0s 999us/step - loss: 7.1400 - mae: 7.1400\n",
      "Epoch 56/100\n",
      "1/1 [==============================] - 0s 1ms/step - loss: 7.1344 - mae: 7.1344\n",
      "Epoch 57/100\n",
      "1/1 [==============================] - 0s 2ms/step - loss: 7.1287 - mae: 7.1287\n",
      "Epoch 58/100\n",
      "1/1 [==============================] - 0s 2ms/step - loss: 7.1231 - mae: 7.1231\n",
      "Epoch 59/100\n",
      "1/1 [==============================] - 0s 1ms/step - loss: 7.1175 - mae: 7.1175\n",
      "Epoch 60/100\n",
      "1/1 [==============================] - 0s 2ms/step - loss: 7.1119 - mae: 7.1119\n",
      "Epoch 61/100\n",
      "1/1 [==============================] - 0s 2ms/step - loss: 7.1062 - mae: 7.1062\n",
      "Epoch 62/100\n",
      "1/1 [==============================] - 0s 2ms/step - loss: 7.1006 - mae: 7.1006\n",
      "Epoch 63/100\n",
      "1/1 [==============================] - 0s 1000us/step - loss: 7.0950 - mae: 7.0950\n",
      "Epoch 64/100\n",
      "1/1 [==============================] - 0s 2ms/step - loss: 7.0894 - mae: 7.0894\n",
      "Epoch 65/100\n",
      "1/1 [==============================] - 0s 2ms/step - loss: 7.0838 - mae: 7.0838\n",
      "Epoch 66/100\n",
      "1/1 [==============================] - 0s 1000us/step - loss: 7.0781 - mae: 7.0781\n",
      "Epoch 67/100\n",
      "1/1 [==============================] - 0s 2ms/step - loss: 7.0725 - mae: 7.0725\n",
      "Epoch 68/100\n",
      "1/1 [==============================] - 0s 1ms/step - loss: 7.0669 - mae: 7.0669\n",
      "Epoch 69/100\n",
      "1/1 [==============================] - 0s 2ms/step - loss: 7.0613 - mae: 7.0613\n",
      "Epoch 70/100\n",
      "1/1 [==============================] - 0s 2ms/step - loss: 7.0556 - mae: 7.0556\n",
      "Epoch 71/100\n",
      "1/1 [==============================] - 0s 999us/step - loss: 7.0500 - mae: 7.0500\n",
      "Epoch 72/100\n",
      "1/1 [==============================] - 0s 1ms/step - loss: 7.0444 - mae: 7.0444\n",
      "Epoch 73/100\n",
      "1/1 [==============================] - 0s 2ms/step - loss: 7.0388 - mae: 7.0388\n",
      "Epoch 74/100\n",
      "1/1 [==============================] - 0s 2ms/step - loss: 7.0331 - mae: 7.0331\n",
      "Epoch 75/100\n",
      "1/1 [==============================] - 0s 3ms/step - loss: 7.0275 - mae: 7.0275\n",
      "Epoch 76/100\n",
      "1/1 [==============================] - 0s 2ms/step - loss: 7.0219 - mae: 7.0219\n",
      "Epoch 77/100\n",
      "1/1 [==============================] - 0s 2ms/step - loss: 7.0163 - mae: 7.0163\n",
      "Epoch 78/100\n",
      "1/1 [==============================] - 0s 2ms/step - loss: 7.0106 - mae: 7.0106\n",
      "Epoch 79/100\n",
      "1/1 [==============================] - 0s 1ms/step - loss: 7.0050 - mae: 7.0050\n",
      "Epoch 80/100\n",
      "1/1 [==============================] - 0s 2ms/step - loss: 6.9994 - mae: 6.9994\n",
      "Epoch 81/100\n",
      "1/1 [==============================] - 0s 3ms/step - loss: 6.9938 - mae: 6.9938\n",
      "Epoch 82/100\n",
      "1/1 [==============================] - 0s 2ms/step - loss: 6.9881 - mae: 6.9881\n",
      "Epoch 83/100\n",
      "1/1 [==============================] - 0s 2ms/step - loss: 6.9825 - mae: 6.9825\n",
      "Epoch 84/100\n",
      "1/1 [==============================] - 0s 1ms/step - loss: 6.9769 - mae: 6.9769\n",
      "Epoch 85/100\n",
      "1/1 [==============================] - 0s 2ms/step - loss: 6.9713 - mae: 6.9713\n",
      "Epoch 86/100\n",
      "1/1 [==============================] - 0s 3ms/step - loss: 6.9656 - mae: 6.9656\n",
      "Epoch 87/100\n",
      "1/1 [==============================] - 0s 2ms/step - loss: 6.9600 - mae: 6.9600\n",
      "Epoch 88/100\n"
     ]
    },
    {
     "name": "stdout",
     "output_type": "stream",
     "text": [
      "1/1 [==============================] - 0s 2ms/step - loss: 6.9544 - mae: 6.9544\n",
      "Epoch 89/100\n",
      "1/1 [==============================] - 0s 2ms/step - loss: 6.9488 - mae: 6.9488\n",
      "Epoch 90/100\n",
      "1/1 [==============================] - 0s 1000us/step - loss: 6.9431 - mae: 6.9431\n",
      "Epoch 91/100\n",
      "1/1 [==============================] - 0s 2ms/step - loss: 6.9375 - mae: 6.9375\n",
      "Epoch 92/100\n",
      "1/1 [==============================] - 0s 3ms/step - loss: 6.9319 - mae: 6.9319\n",
      "Epoch 93/100\n",
      "1/1 [==============================] - 0s 2ms/step - loss: 6.9263 - mae: 6.9263\n",
      "Epoch 94/100\n",
      "1/1 [==============================] - 0s 1ms/step - loss: 6.9206 - mae: 6.9206\n",
      "Epoch 95/100\n",
      "1/1 [==============================] - 0s 2ms/step - loss: 6.9150 - mae: 6.9150\n",
      "Epoch 96/100\n",
      "1/1 [==============================] - 0s 2ms/step - loss: 6.9094 - mae: 6.9094\n",
      "Epoch 97/100\n",
      "1/1 [==============================] - 0s 1ms/step - loss: 6.9038 - mae: 6.9038\n",
      "Epoch 98/100\n",
      "1/1 [==============================] - 0s 2ms/step - loss: 6.8981 - mae: 6.8981\n",
      "Epoch 99/100\n",
      "1/1 [==============================] - 0s 2ms/step - loss: 6.8925 - mae: 6.8925\n",
      "Epoch 100/100\n",
      "1/1 [==============================] - 0s 2ms/step - loss: 6.8869 - mae: 6.8869\n"
     ]
    },
    {
     "data": {
      "text/plain": [
       "<keras.callbacks.History at 0x1f7da8769a0>"
      ]
     },
     "execution_count": 20,
     "metadata": {},
     "output_type": "execute_result"
    }
   ],
   "source": [
    "# 1. Create the model\n",
    "\n",
    "model = tf.keras.Sequential([\n",
    "    tf.keras.layers.Dense(1)\n",
    "])\n",
    "\n",
    "# 2. Compile the model\n",
    "\n",
    "model.compile(loss = tf.keras.losses.mae,\n",
    "             optimizer = tf.keras.optimizers.SGD(),\n",
    "             metrics = [\"mae\"])\n",
    "\n",
    "# 3. Fit the model (this time we'll train for longer)\n",
    "\n",
    "model.fit(tf.expand_dims(X,axis=-1),y,epochs = 100)"
   ]
  },
  {
   "cell_type": "code",
   "execution_count": 21,
   "id": "69dad072",
   "metadata": {},
   "outputs": [
    {
     "data": {
      "text/plain": [
       "(<tf.Tensor: shape=(8,), dtype=float32, numpy=array([-7., -4., -1.,  2.,  5.,  8., 11., 14.], dtype=float32)>,\n",
       " <tf.Tensor: shape=(8,), dtype=float32, numpy=array([ 3.,  6.,  9., 12., 15., 18., 21., 24.], dtype=float32)>)"
      ]
     },
     "execution_count": 21,
     "metadata": {},
     "output_type": "execute_result"
    }
   ],
   "source": [
    "# Remind the data\n",
    "X,y"
   ]
  },
  {
   "cell_type": "code",
   "execution_count": 22,
   "id": "e6bd3bab",
   "metadata": {},
   "outputs": [
    {
     "data": {
      "text/plain": [
       "array([[29.739855]], dtype=float32)"
      ]
     },
     "execution_count": 22,
     "metadata": {},
     "output_type": "execute_result"
    }
   ],
   "source": [
    "# Check the improvement\n",
    "\n",
    "model.predict([17.0])"
   ]
  },
  {
   "cell_type": "code",
   "execution_count": 23,
   "id": "1b6a66b2",
   "metadata": {},
   "outputs": [
    {
     "name": "stdout",
     "output_type": "stream",
     "text": [
      "Epoch 1/100\n",
      "1/1 [==============================] - 0s 210ms/step - loss: 12.3193 - mae: 12.3193\n",
      "Epoch 2/100\n",
      "1/1 [==============================] - 0s 2ms/step - loss: 11.7804 - mae: 11.7804\n",
      "Epoch 3/100\n",
      "1/1 [==============================] - 0s 3ms/step - loss: 11.2324 - mae: 11.2324\n",
      "Epoch 4/100\n",
      "1/1 [==============================] - 0s 2ms/step - loss: 10.6601 - mae: 10.6601\n",
      "Epoch 5/100\n",
      "1/1 [==============================] - 0s 1ms/step - loss: 10.0632 - mae: 10.0632\n",
      "Epoch 6/100\n",
      "1/1 [==============================] - 0s 1ms/step - loss: 9.4503 - mae: 9.4503\n",
      "Epoch 7/100\n",
      "1/1 [==============================] - 0s 2ms/step - loss: 8.7991 - mae: 8.7991\n",
      "Epoch 8/100\n",
      "1/1 [==============================] - 0s 3ms/step - loss: 8.1072 - mae: 8.1072\n",
      "Epoch 9/100\n",
      "1/1 [==============================] - 0s 2ms/step - loss: 7.3691 - mae: 7.3691\n",
      "Epoch 10/100\n",
      "1/1 [==============================] - 0s 1ms/step - loss: 6.5758 - mae: 6.5758\n",
      "Epoch 11/100\n",
      "1/1 [==============================] - 0s 2ms/step - loss: 5.7205 - mae: 5.7205\n",
      "Epoch 12/100\n",
      "1/1 [==============================] - 0s 2ms/step - loss: 4.7947 - mae: 4.7947\n",
      "Epoch 13/100\n",
      "1/1 [==============================] - 0s 2ms/step - loss: 4.3581 - mae: 4.3581\n",
      "Epoch 14/100\n",
      "1/1 [==============================] - 0s 2ms/step - loss: 4.3134 - mae: 4.3134\n",
      "Epoch 15/100\n",
      "1/1 [==============================] - 0s 2ms/step - loss: 4.2550 - mae: 4.2550\n",
      "Epoch 16/100\n",
      "1/1 [==============================] - 0s 2ms/step - loss: 4.2442 - mae: 4.2442\n",
      "Epoch 17/100\n",
      "1/1 [==============================] - 0s 999us/step - loss: 4.1520 - mae: 4.1520\n",
      "Epoch 18/100\n",
      "1/1 [==============================] - 0s 1ms/step - loss: 4.1739 - mae: 4.1739\n",
      "Epoch 19/100\n",
      "1/1 [==============================] - 0s 2ms/step - loss: 4.0681 - mae: 4.0681\n",
      "Epoch 20/100\n",
      "1/1 [==============================] - 0s 2ms/step - loss: 4.0807 - mae: 4.0807\n",
      "Epoch 21/100\n",
      "1/1 [==============================] - 0s 2ms/step - loss: 3.9954 - mae: 3.9954\n",
      "Epoch 22/100\n",
      "1/1 [==============================] - 0s 2ms/step - loss: 3.9739 - mae: 3.9739\n",
      "Epoch 23/100\n",
      "1/1 [==============================] - 0s 1000us/step - loss: 3.9208 - mae: 3.9208\n",
      "Epoch 24/100\n",
      "1/1 [==============================] - 0s 2ms/step - loss: 3.9047 - mae: 3.9047\n",
      "Epoch 25/100\n",
      "1/1 [==============================] - 0s 1000us/step - loss: 3.9267 - mae: 3.9267\n",
      "Epoch 26/100\n",
      "1/1 [==============================] - 0s 2ms/step - loss: 3.8797 - mae: 3.8797\n",
      "Epoch 27/100\n",
      "1/1 [==============================] - 0s 1000us/step - loss: 3.9341 - mae: 3.9341\n",
      "Epoch 28/100\n",
      "1/1 [==============================] - 0s 2ms/step - loss: 3.8678 - mae: 3.8678\n",
      "Epoch 29/100\n",
      "1/1 [==============================] - 0s 2ms/step - loss: 3.9274 - mae: 3.9274\n",
      "Epoch 30/100\n",
      "1/1 [==============================] - 0s 2ms/step - loss: 3.8751 - mae: 3.8751\n",
      "Epoch 31/100\n",
      "1/1 [==============================] - 0s 2ms/step - loss: 3.9080 - mae: 3.9080\n",
      "Epoch 32/100\n",
      "1/1 [==============================] - 0s 2ms/step - loss: 3.8893 - mae: 3.8893\n",
      "Epoch 33/100\n",
      "1/1 [==============================] - 0s 2ms/step - loss: 3.8834 - mae: 3.8834\n",
      "Epoch 34/100\n",
      "1/1 [==============================] - 0s 1ms/step - loss: 3.8969 - mae: 3.8969\n",
      "Epoch 35/100\n",
      "1/1 [==============================] - 0s 2ms/step - loss: 3.8581 - mae: 3.8581\n",
      "Epoch 36/100\n",
      "1/1 [==============================] - 0s 2ms/step - loss: 3.9046 - mae: 3.9046\n",
      "Epoch 37/100\n",
      "1/1 [==============================] - 0s 2ms/step - loss: 3.8386 - mae: 3.8386\n",
      "Epoch 38/100\n",
      "1/1 [==============================] - 0s 2ms/step - loss: 3.9054 - mae: 3.9054\n",
      "Epoch 39/100\n",
      "1/1 [==============================] - 0s 1ms/step - loss: 3.8482 - mae: 3.8482\n",
      "Epoch 40/100\n",
      "1/1 [==============================] - 0s 2ms/step - loss: 3.8862 - mae: 3.8862\n",
      "Epoch 41/100\n",
      "1/1 [==============================] - 0s 2ms/step - loss: 3.8605 - mae: 3.8605\n",
      "Epoch 42/100\n",
      "1/1 [==============================] - 0s 2ms/step - loss: 3.8608 - mae: 3.8608\n",
      "Epoch 43/100\n",
      "1/1 [==============================] - 0s 2ms/step - loss: 3.8683 - mae: 3.8683\n",
      "Epoch 44/100\n",
      "1/1 [==============================] - 0s 2ms/step - loss: 3.8352 - mae: 3.8352\n",
      "Epoch 45/100\n",
      "1/1 [==============================] - 0s 2ms/step - loss: 3.8762 - mae: 3.8762\n",
      "Epoch 46/100\n",
      "1/1 [==============================] - 0s 2ms/step - loss: 3.8106 - mae: 3.8106\n",
      "Epoch 47/100\n",
      "1/1 [==============================] - 0s 2ms/step - loss: 3.8821 - mae: 3.8821\n",
      "Epoch 48/100\n",
      "1/1 [==============================] - 0s 2ms/step - loss: 3.8234 - mae: 3.8234\n",
      "Epoch 49/100\n",
      "1/1 [==============================] - 0s 2ms/step - loss: 3.8626 - mae: 3.8626\n",
      "Epoch 50/100\n",
      "1/1 [==============================] - 0s 2ms/step - loss: 3.8328 - mae: 3.8328\n",
      "Epoch 51/100\n",
      "1/1 [==============================] - 0s 1ms/step - loss: 3.8369 - mae: 3.8369\n",
      "Epoch 52/100\n",
      "1/1 [==============================] - 0s 999us/step - loss: 3.8408 - mae: 3.8408\n",
      "Epoch 53/100\n",
      "1/1 [==============================] - 0s 2ms/step - loss: 3.8111 - mae: 3.8111\n",
      "Epoch 54/100\n",
      "1/1 [==============================] - 0s 2ms/step - loss: 3.8489 - mae: 3.8489\n",
      "Epoch 55/100\n",
      "1/1 [==============================] - 0s 2ms/step - loss: 3.7850 - mae: 3.7850\n",
      "Epoch 56/100\n",
      "1/1 [==============================] - 0s 2ms/step - loss: 3.8585 - mae: 3.8585\n",
      "Epoch 57/100\n",
      "1/1 [==============================] - 0s 2ms/step - loss: 3.7982 - mae: 3.7982\n",
      "Epoch 58/100\n",
      "1/1 [==============================] - 0s 2ms/step - loss: 3.8377 - mae: 3.8377\n",
      "Epoch 59/100\n",
      "1/1 [==============================] - 0s 1000us/step - loss: 3.8062 - mae: 3.8062\n",
      "Epoch 60/100\n",
      "1/1 [==============================] - 0s 2ms/step - loss: 3.8117 - mae: 3.8117\n",
      "Epoch 61/100\n",
      "1/1 [==============================] - 0s 2ms/step - loss: 3.8144 - mae: 3.8144\n",
      "Epoch 62/100\n",
      "1/1 [==============================] - 0s 2ms/step - loss: 3.7856 - mae: 3.7856\n",
      "Epoch 63/100\n",
      "1/1 [==============================] - 0s 2ms/step - loss: 3.8227 - mae: 3.8227\n",
      "Epoch 64/100\n",
      "1/1 [==============================] - 0s 2ms/step - loss: 3.7593 - mae: 3.7593\n",
      "Epoch 65/100\n",
      "1/1 [==============================] - 0s 2ms/step - loss: 3.8352 - mae: 3.8352\n",
      "Epoch 66/100\n",
      "1/1 [==============================] - 0s 2ms/step - loss: 3.7725 - mae: 3.7725\n",
      "Epoch 67/100\n",
      "1/1 [==============================] - 0s 2ms/step - loss: 3.8115 - mae: 3.8115\n",
      "Epoch 68/100\n",
      "1/1 [==============================] - 0s 2ms/step - loss: 3.7807 - mae: 3.7807\n",
      "Epoch 69/100\n",
      "1/1 [==============================] - 0s 2ms/step - loss: 3.7853 - mae: 3.7853\n",
      "Epoch 70/100\n",
      "1/1 [==============================] - 0s 3ms/step - loss: 3.7891 - mae: 3.7891\n",
      "Epoch 71/100\n",
      "1/1 [==============================] - 0s 2ms/step - loss: 3.7588 - mae: 3.7588\n",
      "Epoch 72/100\n",
      "1/1 [==============================] - 0s 2ms/step - loss: 3.7975 - mae: 3.7975\n",
      "Epoch 73/100\n",
      "1/1 [==============================] - 0s 2ms/step - loss: 3.7337 - mae: 3.7337\n",
      "Epoch 74/100\n",
      "1/1 [==============================] - 0s 2ms/step - loss: 3.8105 - mae: 3.8105\n",
      "Epoch 75/100\n",
      "1/1 [==============================] - 0s 1ms/step - loss: 3.7478 - mae: 3.7478\n",
      "Epoch 76/100\n",
      "1/1 [==============================] - 0s 3ms/step - loss: 3.7840 - mae: 3.7840\n",
      "Epoch 77/100\n",
      "1/1 [==============================] - 0s 999us/step - loss: 3.7563 - mae: 3.7563\n",
      "Epoch 78/100\n",
      "1/1 [==============================] - 0s 2ms/step - loss: 3.7575 - mae: 3.7575\n",
      "Epoch 79/100\n",
      "1/1 [==============================] - 0s 2ms/step - loss: 3.7648 - mae: 3.7648\n",
      "Epoch 80/100\n",
      "1/1 [==============================] - 0s 1000us/step - loss: 3.7307 - mae: 3.7307\n",
      "Epoch 81/100\n",
      "1/1 [==============================] - 0s 1ms/step - loss: 3.7735 - mae: 3.7735\n",
      "Epoch 82/100\n",
      "1/1 [==============================] - 0s 2ms/step - loss: 3.7125 - mae: 3.7125\n",
      "Epoch 83/100\n",
      "1/1 [==============================] - 0s 2ms/step - loss: 3.7820 - mae: 3.7820\n",
      "Epoch 84/100\n",
      "1/1 [==============================] - 0s 1ms/step - loss: 3.7242 - mae: 3.7242\n",
      "Epoch 85/100\n",
      "1/1 [==============================] - 0s 1ms/step - loss: 3.7552 - mae: 3.7552\n",
      "Epoch 86/100\n",
      "1/1 [==============================] - 0s 2ms/step - loss: 3.7329 - mae: 3.7329\n",
      "Epoch 87/100\n",
      "1/1 [==============================] - 0s 1ms/step - loss: 3.7284 - mae: 3.7284\n",
      "Epoch 88/100\n"
     ]
    },
    {
     "name": "stdout",
     "output_type": "stream",
     "text": [
      "1/1 [==============================] - 0s 2ms/step - loss: 3.7416 - mae: 3.7416\n",
      "Epoch 89/100\n",
      "1/1 [==============================] - 0s 2ms/step - loss: 3.7013 - mae: 3.7013\n",
      "Epoch 90/100\n",
      "1/1 [==============================] - 0s 2ms/step - loss: 3.7505 - mae: 3.7505\n",
      "Epoch 91/100\n",
      "1/1 [==============================] - 0s 999us/step - loss: 3.6921 - mae: 3.6921\n",
      "Epoch 92/100\n",
      "1/1 [==============================] - 0s 2ms/step - loss: 3.7522 - mae: 3.7522\n",
      "Epoch 93/100\n",
      "1/1 [==============================] - 0s 1ms/step - loss: 3.7016 - mae: 3.7016\n",
      "Epoch 94/100\n",
      "1/1 [==============================] - 0s 2ms/step - loss: 3.7251 - mae: 3.7251\n",
      "Epoch 95/100\n",
      "1/1 [==============================] - 0s 1ms/step - loss: 3.7105 - mae: 3.7105\n",
      "Epoch 96/100\n",
      "1/1 [==============================] - 0s 2ms/step - loss: 3.6979 - mae: 3.6979\n",
      "Epoch 97/100\n",
      "1/1 [==============================] - 0s 1ms/step - loss: 3.7194 - mae: 3.7194\n",
      "Epoch 98/100\n",
      "1/1 [==============================] - 0s 2ms/step - loss: 3.6705 - mae: 3.6705\n",
      "Epoch 99/100\n",
      "1/1 [==============================] - 0s 1ms/step - loss: 3.7299 - mae: 3.7299\n",
      "Epoch 100/100\n",
      "1/1 [==============================] - 0s 3ms/step - loss: 3.6711 - mae: 3.6711\n"
     ]
    },
    {
     "data": {
      "text/plain": [
       "<keras.callbacks.History at 0x1f7da932910>"
      ]
     },
     "execution_count": 23,
     "metadata": {},
     "output_type": "execute_result"
    }
   ],
   "source": [
    "# 1. Create the model\n",
    "\n",
    "model = tf.keras.Sequential([\n",
    "    tf.keras.layers.Dense(100,activation = \"relu\"),\n",
    "    tf.keras.layers.Dense(1)\n",
    "])\n",
    "\n",
    "# 2. Compile the model\n",
    "\n",
    "model.compile(loss = tf.keras.losses.mae,\n",
    "             optimizer = tf.keras.optimizers.SGD(), # Change into Adam optimizer\n",
    "             metrics = [\"mae\"])\n",
    "\n",
    "# 3. Fit the model (this time we'll train for longer)\n",
    "\n",
    "model.fit(tf.expand_dims(X,axis=-1),y,epochs = 100)"
   ]
  },
  {
   "cell_type": "code",
   "execution_count": 24,
   "id": "68264092",
   "metadata": {},
   "outputs": [
    {
     "data": {
      "text/plain": [
       "array([[31.223137]], dtype=float32)"
      ]
     },
     "execution_count": 24,
     "metadata": {},
     "output_type": "execute_result"
    }
   ],
   "source": [
    "# Check the imrovement\n",
    "model.predict([17.0])"
   ]
  },
  {
   "cell_type": "markdown",
   "id": "1fc21931",
   "metadata": {},
   "source": [
    "**Because it overfitted itself with too small dataset we have**   \n",
    "**So when it trains with new X data it will just go back to the original dataset and relates the result with them.**"
   ]
  },
  {
   "cell_type": "markdown",
   "id": "a88ae7ed",
   "metadata": {},
   "source": [
    "# changing Learning Rate would be the most important thing to do"
   ]
  },
  {
   "cell_type": "code",
   "execution_count": 25,
   "id": "ccd6a580",
   "metadata": {},
   "outputs": [
    {
     "name": "stdout",
     "output_type": "stream",
     "text": [
      "Epoch 1/100\n"
     ]
    },
    {
     "name": "stderr",
     "output_type": "stream",
     "text": [
      "C:\\Users\\Younghun\\anaconda3\\lib\\site-packages\\keras\\optimizer_v2\\adam.py:105: UserWarning: The `lr` argument is deprecated, use `learning_rate` instead.\n",
      "  super(Adam, self).__init__(name, **kwargs)\n"
     ]
    },
    {
     "name": "stdout",
     "output_type": "stream",
     "text": [
      "1/1 [==============================] - 0s 224ms/step - loss: 12.1456 - mae: 12.1456\n",
      "Epoch 2/100\n",
      "1/1 [==============================] - 0s 2ms/step - loss: 11.5103 - mae: 11.5103\n",
      "Epoch 3/100\n",
      "1/1 [==============================] - 0s 2ms/step - loss: 10.8437 - mae: 10.8437\n",
      "Epoch 4/100\n",
      "1/1 [==============================] - 0s 2ms/step - loss: 10.1742 - mae: 10.1742\n",
      "Epoch 5/100\n",
      "1/1 [==============================] - 0s 2ms/step - loss: 9.4974 - mae: 9.4974\n",
      "Epoch 6/100\n",
      "1/1 [==============================] - 0s 2ms/step - loss: 8.8133 - mae: 8.8133\n",
      "Epoch 7/100\n",
      "1/1 [==============================] - 0s 2ms/step - loss: 8.1158 - mae: 8.1158\n",
      "Epoch 8/100\n",
      "1/1 [==============================] - 0s 1ms/step - loss: 7.5205 - mae: 7.5205\n",
      "Epoch 9/100\n",
      "1/1 [==============================] - 0s 1ms/step - loss: 6.9200 - mae: 6.9200\n",
      "Epoch 10/100\n",
      "1/1 [==============================] - 0s 2ms/step - loss: 6.3055 - mae: 6.3055\n",
      "Epoch 11/100\n",
      "1/1 [==============================] - 0s 2ms/step - loss: 5.6773 - mae: 5.6773\n",
      "Epoch 12/100\n",
      "1/1 [==============================] - 0s 1ms/step - loss: 5.0273 - mae: 5.0273\n",
      "Epoch 13/100\n",
      "1/1 [==============================] - 0s 2ms/step - loss: 4.3544 - mae: 4.3544\n",
      "Epoch 14/100\n",
      "1/1 [==============================] - 0s 2ms/step - loss: 3.9299 - mae: 3.9299\n",
      "Epoch 15/100\n",
      "1/1 [==============================] - 0s 2ms/step - loss: 3.8022 - mae: 3.8022\n",
      "Epoch 16/100\n",
      "1/1 [==============================] - 0s 2ms/step - loss: 3.9276 - mae: 3.9276\n",
      "Epoch 17/100\n",
      "1/1 [==============================] - 0s 3ms/step - loss: 4.0343 - mae: 4.0343\n",
      "Epoch 18/100\n",
      "1/1 [==============================] - 0s 2ms/step - loss: 4.2129 - mae: 4.2129\n",
      "Epoch 19/100\n",
      "1/1 [==============================] - 0s 1ms/step - loss: 4.4002 - mae: 4.4002\n",
      "Epoch 20/100\n",
      "1/1 [==============================] - 0s 2ms/step - loss: 4.5118 - mae: 4.5118\n",
      "Epoch 21/100\n",
      "1/1 [==============================] - 0s 2ms/step - loss: 4.5563 - mae: 4.5563\n",
      "Epoch 22/100\n",
      "1/1 [==============================] - 0s 4ms/step - loss: 4.5418 - mae: 4.5418\n",
      "Epoch 23/100\n",
      "1/1 [==============================] - 0s 2ms/step - loss: 4.4757 - mae: 4.4757\n",
      "Epoch 24/100\n",
      "1/1 [==============================] - 0s 1ms/step - loss: 4.3655 - mae: 4.3655\n",
      "Epoch 25/100\n",
      "1/1 [==============================] - 0s 2ms/step - loss: 4.2177 - mae: 4.2177\n",
      "Epoch 26/100\n",
      "1/1 [==============================] - 0s 2ms/step - loss: 4.0380 - mae: 4.0380\n",
      "Epoch 27/100\n",
      "1/1 [==============================] - 0s 2ms/step - loss: 3.8994 - mae: 3.8994\n",
      "Epoch 28/100\n",
      "1/1 [==============================] - 0s 2ms/step - loss: 3.8158 - mae: 3.8158\n",
      "Epoch 29/100\n",
      "1/1 [==============================] - 0s 2ms/step - loss: 3.7326 - mae: 3.7326\n",
      "Epoch 30/100\n",
      "1/1 [==============================] - 0s 2ms/step - loss: 3.6500 - mae: 3.6500\n",
      "Epoch 31/100\n",
      "1/1 [==============================] - 0s 2ms/step - loss: 3.5678 - mae: 3.5678\n",
      "Epoch 32/100\n",
      "1/1 [==============================] - 0s 2ms/step - loss: 3.5706 - mae: 3.5706\n",
      "Epoch 33/100\n",
      "1/1 [==============================] - 0s 2ms/step - loss: 3.6179 - mae: 3.6179\n",
      "Epoch 34/100\n",
      "1/1 [==============================] - 0s 999us/step - loss: 3.6426 - mae: 3.6426\n",
      "Epoch 35/100\n",
      "1/1 [==============================] - 0s 2ms/step - loss: 3.6500 - mae: 3.6500\n",
      "Epoch 36/100\n",
      "1/1 [==============================] - 0s 999us/step - loss: 3.6395 - mae: 3.6395\n",
      "Epoch 37/100\n",
      "1/1 [==============================] - 0s 2ms/step - loss: 3.6110 - mae: 3.6110\n",
      "Epoch 38/100\n",
      "1/1 [==============================] - 0s 2ms/step - loss: 3.5697 - mae: 3.5697\n",
      "Epoch 39/100\n",
      "1/1 [==============================] - 0s 2ms/step - loss: 3.5124 - mae: 3.5124\n",
      "Epoch 40/100\n",
      "1/1 [==============================] - 0s 2ms/step - loss: 3.4419 - mae: 3.4419\n",
      "Epoch 41/100\n",
      "1/1 [==============================] - 0s 2ms/step - loss: 3.3574 - mae: 3.3574\n",
      "Epoch 42/100\n",
      "1/1 [==============================] - 0s 2ms/step - loss: 3.2559 - mae: 3.2559\n",
      "Epoch 43/100\n",
      "1/1 [==============================] - 0s 2ms/step - loss: 3.2292 - mae: 3.2292\n",
      "Epoch 44/100\n",
      "1/1 [==============================] - 0s 2ms/step - loss: 3.2344 - mae: 3.2344\n",
      "Epoch 45/100\n",
      "1/1 [==============================] - 0s 2ms/step - loss: 3.2293 - mae: 3.2293\n",
      "Epoch 46/100\n",
      "1/1 [==============================] - 0s 2ms/step - loss: 3.2394 - mae: 3.2394\n",
      "Epoch 47/100\n",
      "1/1 [==============================] - 0s 2ms/step - loss: 3.2140 - mae: 3.2140\n",
      "Epoch 48/100\n",
      "1/1 [==============================] - 0s 3ms/step - loss: 3.1563 - mae: 3.1563\n",
      "Epoch 49/100\n",
      "1/1 [==============================] - 0s 2ms/step - loss: 3.1155 - mae: 3.1155\n",
      "Epoch 50/100\n",
      "1/1 [==============================] - 0s 999us/step - loss: 3.0657 - mae: 3.0657\n",
      "Epoch 51/100\n",
      "1/1 [==============================] - 0s 2ms/step - loss: 3.0079 - mae: 3.0079\n",
      "Epoch 52/100\n",
      "1/1 [==============================] - 0s 2ms/step - loss: 2.9453 - mae: 2.9453\n",
      "Epoch 53/100\n",
      "1/1 [==============================] - 0s 2ms/step - loss: 2.8760 - mae: 2.8760\n",
      "Epoch 54/100\n",
      "1/1 [==============================] - 0s 3ms/step - loss: 2.8011 - mae: 2.8011\n",
      "Epoch 55/100\n",
      "1/1 [==============================] - 0s 2ms/step - loss: 2.8138 - mae: 2.8138\n",
      "Epoch 56/100\n",
      "1/1 [==============================] - 0s 2ms/step - loss: 2.7944 - mae: 2.7944\n",
      "Epoch 57/100\n",
      "1/1 [==============================] - 0s 2ms/step - loss: 2.7430 - mae: 2.7430\n",
      "Epoch 58/100\n",
      "1/1 [==============================] - 0s 3ms/step - loss: 2.6683 - mae: 2.6683\n",
      "Epoch 59/100\n",
      "1/1 [==============================] - 0s 1ms/step - loss: 2.5714 - mae: 2.5714\n",
      "Epoch 60/100\n",
      "1/1 [==============================] - 0s 2ms/step - loss: 2.4746 - mae: 2.4746\n",
      "Epoch 61/100\n",
      "1/1 [==============================] - 0s 2ms/step - loss: 2.4257 - mae: 2.4257\n",
      "Epoch 62/100\n",
      "1/1 [==============================] - 0s 2ms/step - loss: 2.3637 - mae: 2.3637\n",
      "Epoch 63/100\n",
      "1/1 [==============================] - 0s 2ms/step - loss: 2.3362 - mae: 2.3362\n",
      "Epoch 64/100\n",
      "1/1 [==============================] - 0s 2ms/step - loss: 2.2449 - mae: 2.2449\n",
      "Epoch 65/100\n",
      "1/1 [==============================] - 0s 2ms/step - loss: 2.1554 - mae: 2.1554\n",
      "Epoch 66/100\n",
      "1/1 [==============================] - 0s 1ms/step - loss: 2.0677 - mae: 2.0677\n",
      "Epoch 67/100\n",
      "1/1 [==============================] - 0s 2ms/step - loss: 1.9795 - mae: 1.9795\n",
      "Epoch 68/100\n",
      "1/1 [==============================] - 0s 3ms/step - loss: 1.9181 - mae: 1.9181\n",
      "Epoch 69/100\n",
      "1/1 [==============================] - 0s 2ms/step - loss: 1.8179 - mae: 1.8179\n",
      "Epoch 70/100\n",
      "1/1 [==============================] - 0s 2ms/step - loss: 1.7393 - mae: 1.7393\n",
      "Epoch 71/100\n",
      "1/1 [==============================] - 0s 2ms/step - loss: 1.6645 - mae: 1.6645\n",
      "Epoch 72/100\n",
      "1/1 [==============================] - 0s 2ms/step - loss: 1.5778 - mae: 1.5778\n",
      "Epoch 73/100\n",
      "1/1 [==============================] - 0s 3ms/step - loss: 1.4771 - mae: 1.4771\n",
      "Epoch 74/100\n",
      "1/1 [==============================] - 0s 2ms/step - loss: 1.3560 - mae: 1.3560\n",
      "Epoch 75/100\n",
      "1/1 [==============================] - 0s 2ms/step - loss: 1.2160 - mae: 1.2160\n",
      "Epoch 76/100\n",
      "1/1 [==============================] - 0s 2ms/step - loss: 1.1028 - mae: 1.1028\n",
      "Epoch 77/100\n",
      "1/1 [==============================] - 0s 2ms/step - loss: 0.9780 - mae: 0.9780\n",
      "Epoch 78/100\n",
      "1/1 [==============================] - 0s 2ms/step - loss: 0.8777 - mae: 0.8777\n",
      "Epoch 79/100\n",
      "1/1 [==============================] - 0s 2ms/step - loss: 0.7661 - mae: 0.7661\n",
      "Epoch 80/100\n",
      "1/1 [==============================] - 0s 2ms/step - loss: 0.6457 - mae: 0.6457\n",
      "Epoch 81/100\n",
      "1/1 [==============================] - 0s 3ms/step - loss: 0.4930 - mae: 0.4930\n",
      "Epoch 82/100\n",
      "1/1 [==============================] - 0s 2ms/step - loss: 0.3685 - mae: 0.3685\n",
      "Epoch 83/100\n",
      "1/1 [==============================] - 0s 2ms/step - loss: 0.3118 - mae: 0.3118\n",
      "Epoch 84/100\n",
      "1/1 [==============================] - 0s 2ms/step - loss: 0.4240 - mae: 0.4240\n",
      "Epoch 85/100\n",
      "1/1 [==============================] - 0s 2ms/step - loss: 0.3943 - mae: 0.3943\n",
      "Epoch 86/100\n",
      "1/1 [==============================] - 0s 2ms/step - loss: 0.4326 - mae: 0.4326\n",
      "Epoch 87/100\n",
      "1/1 [==============================] - 0s 1ms/step - loss: 0.5062 - mae: 0.5062\n",
      "Epoch 88/100\n",
      "1/1 [==============================] - 0s 2ms/step - loss: 0.4664 - mae: 0.4664\n",
      "Epoch 89/100\n"
     ]
    },
    {
     "name": "stdout",
     "output_type": "stream",
     "text": [
      "1/1 [==============================] - 0s 2ms/step - loss: 0.4968 - mae: 0.4968\n",
      "Epoch 90/100\n",
      "1/1 [==============================] - 0s 2ms/step - loss: 0.4547 - mae: 0.4547\n",
      "Epoch 91/100\n",
      "1/1 [==============================] - 0s 2ms/step - loss: 0.4207 - mae: 0.4207\n",
      "Epoch 92/100\n",
      "1/1 [==============================] - 0s 1ms/step - loss: 0.3563 - mae: 0.3563\n",
      "Epoch 93/100\n",
      "1/1 [==============================] - 0s 2ms/step - loss: 0.3534 - mae: 0.3534\n",
      "Epoch 94/100\n",
      "1/1 [==============================] - 0s 1ms/step - loss: 0.4223 - mae: 0.4223\n",
      "Epoch 95/100\n",
      "1/1 [==============================] - 0s 1ms/step - loss: 0.3232 - mae: 0.3232\n",
      "Epoch 96/100\n",
      "1/1 [==============================] - 0s 1000us/step - loss: 0.3940 - mae: 0.3940\n",
      "Epoch 97/100\n",
      "1/1 [==============================] - 0s 1ms/step - loss: 0.3280 - mae: 0.3280\n",
      "Epoch 98/100\n",
      "1/1 [==============================] - 0s 2ms/step - loss: 0.3486 - mae: 0.3486\n",
      "Epoch 99/100\n",
      "1/1 [==============================] - 0s 2ms/step - loss: 0.2989 - mae: 0.2989\n",
      "Epoch 100/100\n",
      "1/1 [==============================] - 0s 2ms/step - loss: 0.2216 - mae: 0.2216\n"
     ]
    },
    {
     "data": {
      "text/plain": [
       "<keras.callbacks.History at 0x1f7db9e7340>"
      ]
     },
     "execution_count": 25,
     "metadata": {},
     "output_type": "execute_result"
    }
   ],
   "source": [
    "# 1. Create the model\n",
    "\n",
    "model = tf.keras.Sequential([\n",
    "    tf.keras.layers.Dense(50,activation = \"relu\"),\n",
    "    tf.keras.layers.Dense(1)\n",
    "])\n",
    "\n",
    "# 2. Compile the model\n",
    "\n",
    "model.compile(loss = tf.keras.losses.mae,\n",
    "             optimizer = tf.keras.optimizers.Adam(lr = 0.01), # Change into Adam optimizer\n",
    "             metrics = [\"mae\"])\n",
    "\n",
    "# 3. Fit the model (this time we'll train for longer)\n",
    "\n",
    "model.fit(tf.expand_dims(X,axis=-1),y,epochs = 100)"
   ]
  },
  {
   "cell_type": "code",
   "execution_count": 26,
   "id": "083643ee",
   "metadata": {},
   "outputs": [
    {
     "data": {
      "text/plain": [
       "array([[26.921333]], dtype=float32)"
      ]
     },
     "execution_count": 26,
     "metadata": {},
     "output_type": "execute_result"
    }
   ],
   "source": [
    "# Check the improvement\n",
    "\n",
    "model.predict([17.0])"
   ]
  },
  {
   "cell_type": "markdown",
   "id": "c64a4f23",
   "metadata": {},
   "source": [
    "# Evaluting a model"
   ]
  },
  {
   "cell_type": "markdown",
   "id": "8c32c266",
   "metadata": {},
   "source": [
    "In practice, a typical workflow you'll go through when building neural networks is:\n",
    "\n",
    "\n",
    "```\n",
    "Build a model -> Fit it -> evaluate it -> tweak a model -> fit it -> evaluate-> tweak it...\n",
    "```"
   ]
  },
  {
   "cell_type": "markdown",
   "id": "5a6cc0c1",
   "metadata": {},
   "source": [
    "# When it comes to evaluation There are 3 words to Memorize:\n",
    "\n",
    "#  > Visualize, Visualize, Visualize\n",
    "It's a good idea to visualize\n",
    "\n",
    " * The data - what data are we working with? What does it look like?\n",
    " \n",
    " * The model itself - What does our model look like?\n",
    " \n",
    " * The training of a model = how does a model perform while it learns?\n",
    " \n",
    " * The predictions of the model - how do the predictions of a model line up against the ground truth (the original label)?"
   ]
  },
  {
   "cell_type": "code",
   "execution_count": 27,
   "id": "103effe7",
   "metadata": {},
   "outputs": [
    {
     "data": {
      "text/plain": [
       "<tf.Tensor: shape=(50,), dtype=int32, numpy=\n",
       "array([-100,  -96,  -92,  -88,  -84,  -80,  -76,  -72,  -68,  -64,  -60,\n",
       "        -56,  -52,  -48,  -44,  -40,  -36,  -32,  -28,  -24,  -20,  -16,\n",
       "        -12,   -8,   -4,    0,    4,    8,   12,   16,   20,   24,   28,\n",
       "         32,   36,   40,   44,   48,   52,   56,   60,   64,   68,   72,\n",
       "         76,   80,   84,   88,   92,   96])>"
      ]
     },
     "execution_count": 27,
     "metadata": {},
     "output_type": "execute_result"
    }
   ],
   "source": [
    "# Make a bigger dataset\n",
    "\n",
    "X  = tf.range(-100,100,4)\n",
    "X"
   ]
  },
  {
   "cell_type": "code",
   "execution_count": 28,
   "id": "a14b7044",
   "metadata": {},
   "outputs": [
    {
     "data": {
      "text/plain": [
       "<tf.Tensor: shape=(50,), dtype=int32, numpy=\n",
       "array([-90, -86, -82, -78, -74, -70, -66, -62, -58, -54, -50, -46, -42,\n",
       "       -38, -34, -30, -26, -22, -18, -14, -10,  -6,  -2,   2,   6,  10,\n",
       "        14,  18,  22,  26,  30,  34,  38,  42,  46,  50,  54,  58,  62,\n",
       "        66,  70,  74,  78,  82,  86,  90,  94,  98, 102, 106])>"
      ]
     },
     "execution_count": 28,
     "metadata": {},
     "output_type": "execute_result"
    }
   ],
   "source": [
    "# Make labels for the dataset\n",
    "\n",
    "\n",
    "y = X +10\n",
    "y"
   ]
  },
  {
   "cell_type": "code",
   "execution_count": 29,
   "id": "56466b5b",
   "metadata": {},
   "outputs": [
    {
     "data": {
      "text/plain": [
       "<matplotlib.collections.PathCollection at 0x1f7dbacf430>"
      ]
     },
     "execution_count": 29,
     "metadata": {},
     "output_type": "execute_result"
    },
    {
     "data": {
      "image/png": "[encoded data removed]",
      "text/plain": [
       "<Figure size 432x288 with 1 Axes>"
      ]
     },
     "metadata": {
      "needs_background": "light"
     },
     "output_type": "display_data"
    }
   ],
   "source": [
    "# Visualize the data\n",
    "\n",
    "import matplotlib.pyplot as plt\n",
    "\n",
    "plt.scatter(X,y)"
   ]
  },
  {
   "cell_type": "markdown",
   "id": "8af3bd3d",
   "metadata": {},
   "source": [
    "### The 3 sets... \n",
    "\n",
    "* Training set - the model learns from this data, which is typically 70-80% total data available\n",
    "* Validation - the model gets tuned on this data, which is typically 10-15% of the data available\n",
    "* Test set - the model gets evaluate on this data to test what it has learned, this set is typically 10-15% of the total data available"
   ]
  },
  {
   "cell_type": "code",
   "execution_count": 30,
   "id": "151fe399",
   "metadata": {},
   "outputs": [
    {
     "data": {
      "text/plain": [
       "50"
      ]
     },
     "execution_count": 30,
     "metadata": {},
     "output_type": "execute_result"
    }
   ],
   "source": [
    "# Check the length of how many samples\n",
    "\n",
    "len(X)"
   ]
  },
  {
   "cell_type": "code",
   "execution_count": 31,
   "id": "4f48ac8b",
   "metadata": {},
   "outputs": [
    {
     "data": {
      "text/plain": [
       "(40, 10, 40, 10)"
      ]
     },
     "execution_count": 31,
     "metadata": {},
     "output_type": "execute_result"
    }
   ],
   "source": [
    "# Split data into train and test sets\n",
    "\n",
    "X_train = X[:40] # first 40 ar training samples ( 80%)\n",
    "y_train =y[:40]\n",
    "X_test = X[40:] # last 10 are testing samples (20%)\n",
    "y_test = y[40:]\n",
    "\n",
    "len(X_train), len(X_test), len(y_train), len(y_test)"
   ]
  },
  {
   "cell_type": "markdown",
   "id": "3f842bc6",
   "metadata": {},
   "source": [
    "# Visualize Data"
   ]
  },
  {
   "cell_type": "code",
   "execution_count": 32,
   "id": "6d624e7d",
   "metadata": {},
   "outputs": [
    {
     "data": {
      "text/plain": [
       "<matplotlib.legend.Legend at 0x1f7dcb01e50>"
      ]
     },
     "execution_count": 32,
     "metadata": {},
     "output_type": "execute_result"
    },
    {
     "data": {
      "image/png": "[encoded data removed]",
      "text/plain": [
       "<Figure size 720x504 with 1 Axes>"
      ]
     },
     "metadata": {
      "needs_background": "light"
     },
     "output_type": "display_data"
    }
   ],
   "source": [
    "plt.figure(figsize=(10, 7))\n",
    "# Plot training data in blue\n",
    "plt.scatter(X_train,y_train,c =\"b\",label = \"Training data\")\n",
    "# Plot test data in green\n",
    "\n",
    "plt.scatter(X_test,y_test,c=\"g\",label =\"Testing data\")\n",
    "\n",
    "# show a legend\n",
    "plt.legend()"
   ]
  },
  {
   "cell_type": "code",
   "execution_count": 33,
   "id": "1a3accf3",
   "metadata": {},
   "outputs": [],
   "source": [
    "# Create a model\n",
    "model = tf.keras.Sequential([\n",
    "    tf.keras.layers.Dense(1)\n",
    "])\n",
    "\n",
    "# Compile the model\n",
    "\n",
    "model.compile(loss = tf.keras.losses.mae,\n",
    "             optimizer = tf.keras.optimizers.SGD(),\n",
    "             metrics= [\"mae\"])\n",
    "\n",
    "# Fit the model\n",
    "\n",
    "# model.fit(tf.expand_dims(X_train,axis=-1),y_train,epochs =100)"
   ]
  },
  {
   "cell_type": "code",
   "execution_count": 34,
   "id": "ab9e14fa",
   "metadata": {},
   "outputs": [
    {
     "ename": "ValueError",
     "evalue": "This model has not yet been built. Build the model first by calling `build()` or by calling the model on a batch of data.",
     "output_type": "error",
     "traceback": [
      "\u001b[1;31m---------------------------------------------------------------------------\u001b[0m",
      "\u001b[1;31mValueError\u001b[0m                                Traceback (most recent call last)",
      "\u001b[1;32m~\\AppData\\Local\\Temp/ipykernel_33580/3470139634.py\u001b[0m in \u001b[0;36m<module>\u001b[1;34m\u001b[0m\n\u001b[1;32m----> 1\u001b[1;33m \u001b[0mmodel\u001b[0m\u001b[1;33m.\u001b[0m\u001b[0msummary\u001b[0m\u001b[1;33m(\u001b[0m\u001b[1;33m)\u001b[0m\u001b[1;33m\u001b[0m\u001b[1;33m\u001b[0m\u001b[0m\n\u001b[0m",
      "\u001b[1;32m~\\anaconda3\\lib\\site-packages\\keras\\engine\\training.py\u001b[0m in \u001b[0;36msummary\u001b[1;34m(self, line_length, positions, print_fn, expand_nested)\u001b[0m\n\u001b[0;32m   2577\u001b[0m     \"\"\"\n\u001b[0;32m   2578\u001b[0m     \u001b[1;32mif\u001b[0m \u001b[1;32mnot\u001b[0m \u001b[0mself\u001b[0m\u001b[1;33m.\u001b[0m\u001b[0mbuilt\u001b[0m\u001b[1;33m:\u001b[0m\u001b[1;33m\u001b[0m\u001b[1;33m\u001b[0m\u001b[0m\n\u001b[1;32m-> 2579\u001b[1;33m       raise ValueError(\n\u001b[0m\u001b[0;32m   2580\u001b[0m           \u001b[1;34m'This model has not yet been built. '\u001b[0m\u001b[1;33m\u001b[0m\u001b[1;33m\u001b[0m\u001b[0m\n\u001b[0;32m   2581\u001b[0m           \u001b[1;34m'Build the model first by calling `build()` or by calling '\u001b[0m\u001b[1;33m\u001b[0m\u001b[1;33m\u001b[0m\u001b[0m\n",
      "\u001b[1;31mValueError\u001b[0m: This model has not yet been built. Build the model first by calling `build()` or by calling the model on a batch of data."
     ]
    }
   ],
   "source": [
    "model.summary()"
   ]
  },
  {
   "cell_type": "code",
   "execution_count": 45,
   "id": "647d3761",
   "metadata": {},
   "outputs": [],
   "source": [
    "# Let's craete a model which builds automatically  by defining the input_shape arguments\n",
    "\n",
    "tf.random.set_seed(42)\n",
    "\n",
    "# Create a model\n",
    "model = tf.keras.Sequential([\n",
    "    tf.keras.layers.Dense(10,input_shape=[1],name = \"input_layer\"),\n",
    "    tf.keras.layers.Dense(1,name = \"output_layer\")\n",
    "], name = \"model1\")\n",
    "\n",
    "# Compile the model\n",
    "model.compile(loss = tf.keras.losses.mae,\n",
    "             optimizer = tf.keras.optimizers.SGD(),\n",
    "             metrics = ['mae'])\n",
    "\n"
   ]
  },
  {
   "cell_type": "code",
   "execution_count": 46,
   "id": "850a81b5",
   "metadata": {},
   "outputs": [
    {
     "name": "stdout",
     "output_type": "stream",
     "text": [
      "Model: \"model1\"\n",
      "_________________________________________________________________\n",
      " Layer (type)                Output Shape              Param #   \n",
      "=================================================================\n",
      " input_layer (Dense)         (None, 10)                20        \n",
      "                                                                 \n",
      " output_layer (Dense)        (None, 1)                 11        \n",
      "                                                                 \n",
      "=================================================================\n",
      "Total params: 31\n",
      "Trainable params: 31\n",
      "Non-trainable params: 0\n",
      "_________________________________________________________________\n"
     ]
    }
   ],
   "source": [
    "model.summary()"
   ]
  },
  {
   "cell_type": "markdown",
   "id": "bdc3f141",
   "metadata": {},
   "source": [
    "* Total params - total number of parameters in the model.\n",
    "* Trainable params - these are parameters (patterns_ the model can update as it trains\n",
    "* Non-trainable params - these parameters aren't updated during training ( this is typical when you brin in already learn patterns or parameters from other **transfer learning**."
   ]
  },
  {
   "cell_type": "markdown",
   "id": "8d7b0e95",
   "metadata": {},
   "source": [
    "**Resource** : **For a more in depth overview of the trainable parameters whihin a layer, check out MIT's introduction to deep learning video**"
   ]
  },
  {
   "cell_type": "code",
   "execution_count": 47,
   "id": "54c82c38",
   "metadata": {},
   "outputs": [
    {
     "data": {
      "text/plain": [
       "<keras.callbacks.History at 0x1f7dcee3130>"
      ]
     },
     "execution_count": 47,
     "metadata": {},
     "output_type": "execute_result"
    }
   ],
   "source": [
    "# Let's fit our model to the training data\n",
    "model.fit(tf.expand_dims(X_train,axis=-1),y_train,epochs =100,verbose = 0)"
   ]
  },
  {
   "cell_type": "code",
   "execution_count": 48,
   "id": "9d658105",
   "metadata": {},
   "outputs": [
    {
     "name": "stdout",
     "output_type": "stream",
     "text": [
      "Model: \"model1\"\n",
      "_________________________________________________________________\n",
      " Layer (type)                Output Shape              Param #   \n",
      "=================================================================\n",
      " input_layer (Dense)         (None, 10)                20        \n",
      "                                                                 \n",
      " output_layer (Dense)        (None, 1)                 11        \n",
      "                                                                 \n",
      "=================================================================\n",
      "Total params: 31\n",
      "Trainable params: 31\n",
      "Non-trainable params: 0\n",
      "_________________________________________________________________\n"
     ]
    }
   ],
   "source": [
    "# Get a summary of our model\n",
    "\n",
    "model.summary()"
   ]
  },
  {
   "cell_type": "code",
   "execution_count": 49,
   "id": "cdf2fcbf",
   "metadata": {},
   "outputs": [
    {
     "data": {
      "image/png": "[encoded data removed]",
      "text/plain": [
       "<IPython.core.display.Image object>"
      ]
     },
     "execution_count": 49,
     "metadata": {},
     "output_type": "execute_result"
    }
   ],
   "source": [
    "from tensorflow.keras.utils import plot_model\n",
    "\n",
    "plot_model(model = model,show_shapes = True)"
   ]
  },
  {
   "cell_type": "markdown",
   "id": "eb4098ed",
   "metadata": {},
   "source": [
    "## Visualizing our model's Prediction\n",
    "\n",
    "To visualize predictions , it's good idea to plot them against the ground truth labels.\n",
    "\n",
    "Often you'll see this in the form of 'y_test' or 'y_true' versus `y_pred`(ground truth versus model)"
   ]
  },
  {
   "cell_type": "code",
   "execution_count": 51,
   "id": "d9610a60",
   "metadata": {},
   "outputs": [
    {
     "data": {
      "text/plain": [
       "array([[ 70.552185],\n",
       "       [ 75.13991 ],\n",
       "       [ 79.72764 ],\n",
       "       [ 84.315346],\n",
       "       [ 88.90308 ],\n",
       "       [ 93.49081 ],\n",
       "       [ 98.07852 ],\n",
       "       [102.666245],\n",
       "       [107.253975],\n",
       "       [111.84169 ]], dtype=float32)"
      ]
     },
     "execution_count": 51,
     "metadata": {},
     "output_type": "execute_result"
    }
   ],
   "source": [
    "# MAke some predictions\n",
    "\n",
    "y_pred = model.predict(X_test)\n",
    "y_pred"
   ]
  },
  {
   "cell_type": "code",
   "execution_count": 52,
   "id": "b6b182d0",
   "metadata": {},
   "outputs": [
    {
     "data": {
      "text/plain": [
       "<tf.Tensor: shape=(10,), dtype=int32, numpy=array([ 70,  74,  78,  82,  86,  90,  94,  98, 102, 106])>"
      ]
     },
     "execution_count": 52,
     "metadata": {},
     "output_type": "execute_result"
    }
   ],
   "source": [
    "y_test"
   ]
  },
  {
   "cell_type": "markdown",
   "id": "7f07c0bb",
   "metadata": {},
   "source": [
    "**Note :** Feel like to reuse some kind of functionality in the future, it's good idea to turn into a function"
   ]
  },
  {
   "cell_type": "code",
   "execution_count": 103,
   "id": "baba4c6d",
   "metadata": {},
   "outputs": [],
   "source": [
    "# Let's create a plotting function\n",
    "\n",
    "def plot_predictions(train_data = X_train,\n",
    "                    train_labels = y_train,\n",
    "                    test_data = X_test,\n",
    "                    test_labels = y_test,\n",
    "                    predictions = y_pred):\n",
    "    \n",
    "    \"\"\"\n",
    "    Plots training data, test data and compares predictions to ground truth labels\n",
    "    \"\"\"\n",
    "    \n",
    "    plt.figure(figsize = (10,7))\n",
    "    # Plot training data in blue\n",
    "    plt.scatter(train_data, train_labels, c =\"b\",label=\"Training data\")\n",
    "    \n",
    "    # Plot testing data in green\n",
    "    plt.scatter(test_data,test_labels,c = \"g\",label = \"Testing data\")\n",
    "    \n",
    "    # Plot model's predictions in red\n",
    "    plt.scatter(test_data, predictions, c= \"r\", label = \"Predictions\")\n",
    "    \n",
    "    # Show legends\n",
    "    plt.legend()"
   ]
  },
  {
   "cell_type": "code",
   "execution_count": 104,
   "id": "cf1a5717",
   "metadata": {},
   "outputs": [
    {
     "data": {
      "image/png": "[encoded data removed]",
      "text/plain": [
       "<Figure size 720x504 with 1 Axes>"
      ]
     },
     "metadata": {
      "needs_background": "light"
     },
     "output_type": "display_data"
    }
   ],
   "source": [
    "plot_predictions(train_data = X_train,\n",
    "                    train_labels = y_train,\n",
    "                    test_data = X_test,\n",
    "                    test_labels = y_test,\n",
    "                    predictions = y_pred)"
   ]
  },
  {
   "cell_type": "markdown",
   "id": "f96379a0",
   "metadata": {},
   "source": [
    "# Evaluating our model's predictions with regression evaluation metrics\n",
    "\n",
    "Depending on the problem working on, there will be different evalutaion metrics to evalutate model's performance.\n",
    "\n",
    "\n",
    "Since working on a regression, two of the main metrics:\n",
    "\n",
    "* MAE - mean absolute error, \"on average how wrong is each of model's predictions\"\n",
    "* MSE - mean squared error, \"square the average errors\""
   ]
  },
  {
   "cell_type": "code",
   "execution_count": 105,
   "id": "a8194159",
   "metadata": {
    "scrolled": true
   },
   "outputs": [
    {
     "name": "stdout",
     "output_type": "stream",
     "text": [
      "1/1 [==============================] - 0s 34ms/step - loss: 3.1969 - mae: 3.1969\n"
     ]
    },
    {
     "data": {
      "text/plain": [
       "[3.1969382762908936, 3.1969382762908936]"
      ]
     },
     "execution_count": 105,
     "metadata": {},
     "output_type": "execute_result"
    }
   ],
   "source": [
    "# Evaluate the model on the test\n",
    "\n",
    "model.evaluate(X_test,y_test)"
   ]
  },
  {
   "cell_type": "code",
   "execution_count": 106,
   "id": "f053357a",
   "metadata": {
    "scrolled": true
   },
   "outputs": [
    {
     "data": {
      "text/plain": [
       "<tf.Tensor: shape=(10,), dtype=float32, numpy=\n",
       "array([17.558252 , 14.1160555, 11.708944 , 10.336931 , 10.       ,\n",
       "       10.698161 , 12.447113 , 15.332995 , 19.253975 , 23.84169  ],\n",
       "      dtype=float32)>"
      ]
     },
     "execution_count": 106,
     "metadata": {},
     "output_type": "execute_result"
    }
   ],
   "source": [
    "# Calculate the mean absolute error\n",
    "\n",
    "\n",
    "mae = tf.metrics.mean_absolute_error(y_true = y_test,y_pred = tf.constant(y_pred))\n",
    "mae"
   ]
  },
  {
   "cell_type": "code",
   "execution_count": 107,
   "id": "af2ba0fd",
   "metadata": {},
   "outputs": [
    {
     "data": {
      "text/plain": [
       "<tf.Tensor: shape=(10, 1), dtype=float32, numpy=\n",
       "array([[ 70.552185],\n",
       "       [ 75.13991 ],\n",
       "       [ 79.72764 ],\n",
       "       [ 84.315346],\n",
       "       [ 88.90308 ],\n",
       "       [ 93.49081 ],\n",
       "       [ 98.07852 ],\n",
       "       [102.666245],\n",
       "       [107.253975],\n",
       "       [111.84169 ]], dtype=float32)>"
      ]
     },
     "execution_count": 107,
     "metadata": {},
     "output_type": "execute_result"
    }
   ],
   "source": [
    "tf.constant(y_pred)"
   ]
  },
  {
   "cell_type": "code",
   "execution_count": 108,
   "id": "7e5c9999",
   "metadata": {},
   "outputs": [
    {
     "data": {
      "text/plain": [
       "<tf.Tensor: shape=(10,), dtype=int32, numpy=array([ 70,  74,  78,  82,  86,  90,  94,  98, 102, 106])>"
      ]
     },
     "execution_count": 108,
     "metadata": {},
     "output_type": "execute_result"
    }
   ],
   "source": [
    "y_test"
   ]
  },
  {
   "cell_type": "code",
   "execution_count": 109,
   "id": "7c3fdb4f",
   "metadata": {},
   "outputs": [
    {
     "data": {
      "text/plain": [
       "<tf.Tensor: shape=(10,), dtype=float32, numpy=\n",
       "array([ 70.552185,  75.13991 ,  79.72764 ,  84.315346,  88.90308 ,\n",
       "        93.49081 ,  98.07852 , 102.666245, 107.253975, 111.84169 ],\n",
       "      dtype=float32)>"
      ]
     },
     "execution_count": 109,
     "metadata": {},
     "output_type": "execute_result"
    }
   ],
   "source": [
    "tf.squeeze(y_pred)"
   ]
  },
  {
   "cell_type": "code",
   "execution_count": 110,
   "id": "0d82554d",
   "metadata": {},
   "outputs": [
    {
     "data": {
      "text/plain": [
       "<tf.Tensor: shape=(), dtype=float32, numpy=3.19694>"
      ]
     },
     "execution_count": 110,
     "metadata": {},
     "output_type": "execute_result"
    }
   ],
   "source": [
    "# Calculate the mean absolute error\n",
    "\n",
    "\n",
    "mae = tf.metrics.mean_absolute_error(y_true = y_test,y_pred = tf.squeeze(y_pred))\n",
    "mae"
   ]
  },
  {
   "cell_type": "code",
   "execution_count": 111,
   "id": "c0a0f92a",
   "metadata": {},
   "outputs": [
    {
     "data": {
      "text/plain": [
       "<tf.Tensor: shape=(), dtype=float32, numpy=13.070127>"
      ]
     },
     "execution_count": 111,
     "metadata": {},
     "output_type": "execute_result"
    }
   ],
   "source": [
    "# Calculate the mean squared error\n",
    "\n",
    "mse = tf.metrics.mean_squared_error(y_true = y_test,\n",
    "                                    y_pred = tf.squeeze(y_pred))\n",
    "mse"
   ]
  },
  {
   "cell_type": "code",
   "execution_count": 112,
   "id": "4f9208a7",
   "metadata": {},
   "outputs": [],
   "source": [
    "# Make some functions to reuse MAE and MSE\n",
    "\n",
    "def mae(y_true, y_pred):\n",
    "    return tf.metrics.mean_absolute_error(y_true = y_true,\n",
    "                                         y_pred = tf.squeeze(y_pred))\n",
    "\n",
    "\n",
    "def mse(y_true,y_pred):\n",
    "    return tf.metrics.mean_squared_error(y_true = y_true,\n",
    "                                        y_pred = tf.squeeze(y_pred))"
   ]
  },
  {
   "cell_type": "markdown",
   "id": "35e9f39c",
   "metadata": {},
   "source": [
    "### Running experiments to improve our model\n",
    "\n",
    "```\n",
    "Build a model -> fit it -> evaluate -> tweak ,,,,\n",
    "```\n",
    "\n",
    "\n",
    "1. Get more data - get more examples for your model to train on ( more opportunities to learn patterns or relationships between features and labels.)\n",
    "\n",
    "2. Make model larger (using a more complex model) -  might come in the form of more layers or more hidden units in each layer.\n",
    "\n",
    "3. Train for longer - more epochs, more of a chance to find patterns in data\n",
    "\n",
    "\n",
    "\n",
    " "
   ]
  },
  {
   "cell_type": "markdown",
   "id": "27d4a5c8",
   "metadata": {},
   "source": [
    "# Do 3 modelling experiments:\n",
    "\n",
    "1. `model1` - same as the original model, 1layer, trained for 100 epochs.\n",
    "\n",
    "2. `model2` - 2 lyers, trained for 100 epochs\n",
    "\n",
    "3. `model3` - 2 layers, trained for 500 epochs"
   ]
  },
  {
   "cell_type": "markdown",
   "id": "7fac14f3",
   "metadata": {},
   "source": [
    "## Build model1"
   ]
  },
  {
   "cell_type": "code",
   "execution_count": 113,
   "id": "1baf8870",
   "metadata": {
    "scrolled": true
   },
   "outputs": [],
   "source": [
    "X_train, y_train\n",
    "\n",
    "# Set random seed\n",
    "tf.random.set_seed(42)\n",
    "\n"
   ]
  },
  {
   "cell_type": "code",
   "execution_count": 114,
   "id": "381a8d74",
   "metadata": {},
   "outputs": [
    {
     "name": "stdout",
     "output_type": "stream",
     "text": [
      "Epoch 1/100\n",
      "2/2 [==============================] - 0s 2ms/step - loss: 15.9024 - mae: 15.9024\n",
      "Epoch 2/100\n",
      "2/2 [==============================] - 0s 2ms/step - loss: 11.2837 - mae: 11.2837\n",
      "Epoch 3/100\n",
      "2/2 [==============================] - 0s 2ms/step - loss: 11.1075 - mae: 11.1075\n",
      "Epoch 4/100\n",
      "2/2 [==============================] - 0s 1ms/step - loss: 9.2990 - mae: 9.2990\n",
      "Epoch 5/100\n",
      "2/2 [==============================] - 0s 2ms/step - loss: 10.1677 - mae: 10.1677\n",
      "Epoch 6/100\n",
      "2/2 [==============================] - 0s 1ms/step - loss: 9.4303 - mae: 9.4303\n",
      "Epoch 7/100\n",
      "2/2 [==============================] - 0s 1000us/step - loss: 8.5704 - mae: 8.5704\n",
      "Epoch 8/100\n",
      "2/2 [==============================] - 0s 1000us/step - loss: 9.0442 - mae: 9.0442\n",
      "Epoch 9/100\n",
      "2/2 [==============================] - 0s 1000us/step - loss: 18.7517 - mae: 18.7517\n",
      "Epoch 10/100\n",
      "2/2 [==============================] - 0s 2ms/step - loss: 10.1142 - mae: 10.1142\n",
      "Epoch 11/100\n",
      "2/2 [==============================] - 0s 1000us/step - loss: 8.3980 - mae: 8.3980\n",
      "Epoch 12/100\n",
      "2/2 [==============================] - 0s 998us/step - loss: 10.6639 - mae: 10.6639\n",
      "Epoch 13/100\n",
      "2/2 [==============================] - 0s 2ms/step - loss: 9.7977 - mae: 9.7977\n",
      "Epoch 14/100\n",
      "2/2 [==============================] - 0s 1000us/step - loss: 16.0103 - mae: 16.0103\n",
      "Epoch 15/100\n",
      "2/2 [==============================] - 0s 1ms/step - loss: 11.4068 - mae: 11.4068\n",
      "Epoch 16/100\n",
      "2/2 [==============================] - 0s 2ms/step - loss: 8.5393 - mae: 8.5393\n",
      "Epoch 17/100\n",
      "2/2 [==============================] - 0s 2ms/step - loss: 13.6348 - mae: 13.6348\n",
      "Epoch 18/100\n",
      "2/2 [==============================] - 0s 1000us/step - loss: 11.4629 - mae: 11.4629\n",
      "Epoch 19/100\n",
      "2/2 [==============================] - 0s 1ms/step - loss: 17.9148 - mae: 17.9148\n",
      "Epoch 20/100\n",
      "2/2 [==============================] - 0s 1ms/step - loss: 15.0494 - mae: 15.0494\n",
      "Epoch 21/100\n",
      "2/2 [==============================] - 0s 1ms/step - loss: 11.0216 - mae: 11.0216\n",
      "Epoch 22/100\n",
      "2/2 [==============================] - 0s 2ms/step - loss: 8.1558 - mae: 8.1558\n",
      "Epoch 23/100\n",
      "2/2 [==============================] - 0s 1ms/step - loss: 9.5138 - mae: 9.5138\n",
      "Epoch 24/100\n",
      "2/2 [==============================] - 0s 2ms/step - loss: 7.6617 - mae: 7.6617\n",
      "Epoch 25/100\n",
      "2/2 [==============================] - 0s 999us/step - loss: 13.1859 - mae: 13.1859\n",
      "Epoch 26/100\n",
      "2/2 [==============================] - 0s 999us/step - loss: 16.4211 - mae: 16.4211\n",
      "Epoch 27/100\n",
      "2/2 [==============================] - 0s 2ms/step - loss: 13.1660 - mae: 13.1660\n",
      "Epoch 28/100\n",
      "2/2 [==============================] - 0s 1ms/step - loss: 14.2559 - mae: 14.2559\n",
      "Epoch 29/100\n",
      "2/2 [==============================] - 0s 1000us/step - loss: 10.0670 - mae: 10.0670\n",
      "Epoch 30/100\n",
      "2/2 [==============================] - 0s 2ms/step - loss: 16.3409 - mae: 16.3409\n",
      "Epoch 31/100\n",
      "2/2 [==============================] - 0s 2ms/step - loss: 23.6444 - mae: 23.6444\n",
      "Epoch 32/100\n",
      "2/2 [==============================] - 0s 2ms/step - loss: 7.6215 - mae: 7.6215\n",
      "Epoch 33/100\n",
      "2/2 [==============================] - 0s 2ms/step - loss: 9.3221 - mae: 9.3221\n",
      "Epoch 34/100\n",
      "2/2 [==============================] - 0s 999us/step - loss: 13.7313 - mae: 13.7313\n",
      "Epoch 35/100\n",
      "2/2 [==============================] - 0s 2ms/step - loss: 11.1276 - mae: 11.1276\n",
      "Epoch 36/100\n",
      "2/2 [==============================] - 0s 1ms/step - loss: 13.3222 - mae: 13.3222\n",
      "Epoch 37/100\n",
      "2/2 [==============================] - 0s 1ms/step - loss: 9.4763 - mae: 9.4763\n",
      "Epoch 38/100\n",
      "2/2 [==============================] - 0s 2ms/step - loss: 10.1381 - mae: 10.1381\n",
      "Epoch 39/100\n",
      "2/2 [==============================] - 0s 1000us/step - loss: 10.1793 - mae: 10.1793\n",
      "Epoch 40/100\n",
      "2/2 [==============================] - 0s 1ms/step - loss: 10.9137 - mae: 10.9137\n",
      "Epoch 41/100\n",
      "2/2 [==============================] - 0s 2ms/step - loss: 7.9063 - mae: 7.9063\n",
      "Epoch 42/100\n",
      "2/2 [==============================] - 0s 2ms/step - loss: 10.0914 - mae: 10.0914\n",
      "Epoch 43/100\n",
      "2/2 [==============================] - 0s 999us/step - loss: 8.7006 - mae: 8.7006\n",
      "Epoch 44/100\n",
      "2/2 [==============================] - 0s 999us/step - loss: 12.2046 - mae: 12.2046\n",
      "Epoch 45/100\n",
      "2/2 [==============================] - 0s 999us/step - loss: 13.7970 - mae: 13.7970\n",
      "Epoch 46/100\n",
      "2/2 [==============================] - 0s 1ms/step - loss: 8.4687 - mae: 8.4687\n",
      "Epoch 47/100\n",
      "2/2 [==============================] - 0s 2ms/step - loss: 9.1330 - mae: 9.1330\n",
      "Epoch 48/100\n",
      "2/2 [==============================] - 0s 1000us/step - loss: 10.6190 - mae: 10.6190\n",
      "Epoch 49/100\n",
      "2/2 [==============================] - 0s 2ms/step - loss: 7.7503 - mae: 7.7503\n",
      "Epoch 50/100\n",
      "2/2 [==============================] - 0s 1000us/step - loss: 9.5407 - mae: 9.5407\n",
      "Epoch 51/100\n",
      "2/2 [==============================] - 0s 2ms/step - loss: 9.1584 - mae: 9.1584\n",
      "Epoch 52/100\n",
      "2/2 [==============================] - 0s 2ms/step - loss: 16.3630 - mae: 16.3630\n",
      "Epoch 53/100\n",
      "2/2 [==============================] - 0s 2ms/step - loss: 14.1299 - mae: 14.1299\n",
      "Epoch 54/100\n",
      "2/2 [==============================] - 0s 1ms/step - loss: 21.1247 - mae: 21.1247\n",
      "Epoch 55/100\n",
      "2/2 [==============================] - 0s 999us/step - loss: 16.3961 - mae: 16.3961\n",
      "Epoch 56/100\n",
      "2/2 [==============================] - 0s 2ms/step - loss: 9.9806 - mae: 9.9806\n",
      "Epoch 57/100\n",
      "2/2 [==============================] - 0s 1000us/step - loss: 9.9606 - mae: 9.9606\n",
      "Epoch 58/100\n",
      "2/2 [==============================] - 0s 1ms/step - loss: 9.2209 - mae: 9.2209\n",
      "Epoch 59/100\n",
      "2/2 [==============================] - 0s 1ms/step - loss: 8.4239 - mae: 8.4239\n",
      "Epoch 60/100\n",
      "2/2 [==============================] - 0s 2ms/step - loss: 9.4869 - mae: 9.4869\n",
      "Epoch 61/100\n",
      "2/2 [==============================] - 0s 2ms/step - loss: 11.4354 - mae: 11.4354\n",
      "Epoch 62/100\n",
      "2/2 [==============================] - 0s 1000us/step - loss: 11.6887 - mae: 11.6887\n",
      "Epoch 63/100\n",
      "2/2 [==============================] - 0s 999us/step - loss: 7.0838 - mae: 7.0838\n",
      "Epoch 64/100\n",
      "2/2 [==============================] - 0s 2ms/step - loss: 16.9675 - mae: 16.9675\n",
      "Epoch 65/100\n",
      "2/2 [==============================] - 0s 1000us/step - loss: 12.4599 - mae: 12.4599\n",
      "Epoch 66/100\n",
      "2/2 [==============================] - 0s 1000us/step - loss: 13.0184 - mae: 13.0184\n",
      "Epoch 67/100\n",
      "2/2 [==============================] - 0s 1ms/step - loss: 8.0600 - mae: 8.0600\n",
      "Epoch 68/100\n",
      "2/2 [==============================] - 0s 2ms/step - loss: 10.1888 - mae: 10.1888\n",
      "Epoch 69/100\n",
      "2/2 [==============================] - 0s 2ms/step - loss: 12.3633 - mae: 12.3633\n",
      "Epoch 70/100\n",
      "2/2 [==============================] - 0s 1ms/step - loss: 9.0516 - mae: 9.0516\n",
      "Epoch 71/100\n",
      "2/2 [==============================] - 0s 1ms/step - loss: 10.0378 - mae: 10.0378\n",
      "Epoch 72/100\n",
      "2/2 [==============================] - 0s 1000us/step - loss: 10.0516 - mae: 10.0516\n",
      "Epoch 73/100\n",
      "2/2 [==============================] - 0s 3ms/step - loss: 12.6151 - mae: 12.6151\n",
      "Epoch 74/100\n",
      "2/2 [==============================] - 0s 2ms/step - loss: 10.3819 - mae: 10.3819\n",
      "Epoch 75/100\n",
      "2/2 [==============================] - 0s 1ms/step - loss: 9.7229 - mae: 9.7229\n",
      "Epoch 76/100\n",
      "2/2 [==============================] - 0s 2ms/step - loss: 11.2252 - mae: 11.2252\n",
      "Epoch 77/100\n",
      "2/2 [==============================] - 0s 999us/step - loss: 8.3642 - mae: 8.3642\n",
      "Epoch 78/100\n",
      "2/2 [==============================] - 0s 1ms/step - loss: 9.1274 - mae: 9.1274\n",
      "Epoch 79/100\n",
      "2/2 [==============================] - 0s 1ms/step - loss: 19.5039 - mae: 19.5039\n",
      "Epoch 80/100\n",
      "2/2 [==============================] - 0s 1ms/step - loss: 14.8945 - mae: 14.8945\n",
      "Epoch 81/100\n",
      "2/2 [==============================] - 0s 999us/step - loss: 9.0034 - mae: 9.0034\n",
      "Epoch 82/100\n",
      "2/2 [==============================] - 0s 2ms/step - loss: 13.0206 - mae: 13.0206\n",
      "Epoch 83/100\n",
      "2/2 [==============================] - 0s 2ms/step - loss: 7.9299 - mae: 7.9299\n",
      "Epoch 84/100\n",
      "2/2 [==============================] - 0s 2ms/step - loss: 7.6872 - mae: 7.6872\n",
      "Epoch 85/100\n",
      "2/2 [==============================] - 0s 2ms/step - loss: 10.0328 - mae: 10.0328\n",
      "Epoch 86/100\n",
      "2/2 [==============================] - 0s 2ms/step - loss: 9.2433 - mae: 9.2433\n",
      "Epoch 87/100\n"
     ]
    },
    {
     "name": "stdout",
     "output_type": "stream",
     "text": [
      "2/2 [==============================] - 0s 2ms/step - loss: 12.0209 - mae: 12.0209\n",
      "Epoch 88/100\n",
      "2/2 [==============================] - 0s 2ms/step - loss: 10.6389 - mae: 10.6389\n",
      "Epoch 89/100\n",
      "2/2 [==============================] - 0s 2ms/step - loss: 7.2667 - mae: 7.2667\n",
      "Epoch 90/100\n",
      "2/2 [==============================] - 0s 2ms/step - loss: 12.7786 - mae: 12.7786\n",
      "Epoch 91/100\n",
      "2/2 [==============================] - 0s 2ms/step - loss: 7.3481 - mae: 7.3481\n",
      "Epoch 92/100\n",
      "2/2 [==============================] - 0s 2ms/step - loss: 7.7175 - mae: 7.7175\n",
      "Epoch 93/100\n",
      "2/2 [==============================] - 0s 1ms/step - loss: 7.1263 - mae: 7.1263\n",
      "Epoch 94/100\n",
      "2/2 [==============================] - 0s 2ms/step - loss: 12.6190 - mae: 12.6190\n",
      "Epoch 95/100\n",
      "2/2 [==============================] - 0s 2ms/step - loss: 10.0912 - mae: 10.0912\n",
      "Epoch 96/100\n",
      "2/2 [==============================] - 0s 1000us/step - loss: 9.3558 - mae: 9.3558\n",
      "Epoch 97/100\n",
      "2/2 [==============================] - 0s 1ms/step - loss: 12.6834 - mae: 12.6834\n",
      "Epoch 98/100\n",
      "2/2 [==============================] - 0s 999us/step - loss: 8.6762 - mae: 8.6762\n",
      "Epoch 99/100\n",
      "2/2 [==============================] - 0s 2ms/step - loss: 9.4693 - mae: 9.4693\n",
      "Epoch 100/100\n",
      "2/2 [==============================] - 0s 2ms/step - loss: 8.7067 - mae: 8.7067\n"
     ]
    },
    {
     "data": {
      "text/plain": [
       "<keras.callbacks.History at 0x1f7de507d60>"
      ]
     },
     "execution_count": 114,
     "metadata": {},
     "output_type": "execute_result"
    }
   ],
   "source": [
    "\n",
    "model_1 = tf.keras.Sequential([\n",
    "    tf.keras.layers.Dense(1)\n",
    "])\n",
    "\n",
    "model_1.compile(loss = tf.keras.losses.mae,\n",
    "              optimizer = tf.keras.optimizers.SGD(),\n",
    "              metrics = ['mae'])\n",
    "\n",
    "model_1.fit(tf.expand_dims(X_train,axis=-1),y_train,epochs=100)"
   ]
  },
  {
   "cell_type": "code",
   "execution_count": 115,
   "id": "36c4077c",
   "metadata": {},
   "outputs": [
    {
     "data": {
      "image/png": "[encoded data removed]",
      "text/plain": [
       "<Figure size 720x504 with 1 Axes>"
      ]
     },
     "metadata": {
      "needs_background": "light"
     },
     "output_type": "display_data"
    }
   ],
   "source": [
    "# Make and plot for predictions for model1\n",
    "y_pred_1 = model_1.predict(X_test)\n",
    "plot_predictions(predictions=y_pred_1)"
   ]
  },
  {
   "cell_type": "code",
   "execution_count": 116,
   "id": "f873fbb7",
   "metadata": {},
   "outputs": [
    {
     "data": {
      "text/plain": [
       "(<tf.Tensor: shape=(), dtype=float32, numpy=18.745327>,\n",
       " <tf.Tensor: shape=(), dtype=float32, numpy=353.57336>)"
      ]
     },
     "execution_count": 116,
     "metadata": {},
     "output_type": "execute_result"
    }
   ],
   "source": [
    "# Calculate model1 evaluation metrics\n",
    "\n",
    "mae_1 = mae(y_test,y_pred_1)\n",
    "mse_1 = mse(y_test,y_pred_1)\n",
    "\n",
    "mae_1, mse_1"
   ]
  },
  {
   "cell_type": "markdown",
   "id": "72dd8382",
   "metadata": {},
   "source": [
    "# Build model_2\n",
    "\n",
    "* 2 Dense layers, trained for 100 epochs"
   ]
  },
  {
   "cell_type": "code",
   "execution_count": 117,
   "id": "deb5f06d",
   "metadata": {},
   "outputs": [
    {
     "name": "stdout",
     "output_type": "stream",
     "text": [
      "Epoch 1/100\n",
      "2/2 [==============================] - 0s 2ms/step - loss: 48.4329 - mae: 48.4329\n",
      "Epoch 2/100\n",
      "2/2 [==============================] - 0s 2ms/step - loss: 31.3826 - mae: 31.3826\n",
      "Epoch 3/100\n",
      "2/2 [==============================] - 0s 1ms/step - loss: 36.2157 - mae: 36.2157\n",
      "Epoch 4/100\n",
      "2/2 [==============================] - 0s 2ms/step - loss: 28.3086 - mae: 28.3086\n",
      "Epoch 5/100\n",
      "2/2 [==============================] - 0s 1ms/step - loss: 15.3864 - mae: 15.3864\n",
      "Epoch 6/100\n",
      "2/2 [==============================] - 0s 1ms/step - loss: 12.2199 - mae: 12.2199\n",
      "Epoch 7/100\n",
      "2/2 [==============================] - 0s 2ms/step - loss: 11.5217 - mae: 11.5217\n",
      "Epoch 8/100\n",
      "2/2 [==============================] - 0s 3ms/step - loss: 11.2331 - mae: 11.2331\n",
      "Epoch 9/100\n",
      "2/2 [==============================] - 0s 1000us/step - loss: 42.0800 - mae: 42.0800\n",
      "Epoch 10/100\n",
      "2/2 [==============================] - 0s 1ms/step - loss: 29.2675 - mae: 29.2675\n",
      "Epoch 11/100\n",
      "2/2 [==============================] - 0s 1000us/step - loss: 7.6858 - mae: 7.6858\n",
      "Epoch 12/100\n",
      "2/2 [==============================] - 0s 0s/step - loss: 28.6175 - mae: 28.6175\n",
      "Epoch 13/100\n",
      "2/2 [==============================] - 0s 2ms/step - loss: 11.4798 - mae: 11.4798\n",
      "Epoch 14/100\n",
      "2/2 [==============================] - 0s 1ms/step - loss: 30.0701 - mae: 30.0701\n",
      "Epoch 15/100\n",
      "2/2 [==============================] - 0s 1ms/step - loss: 19.8766 - mae: 19.8766\n",
      "Epoch 16/100\n",
      "2/2 [==============================] - 0s 1000us/step - loss: 9.8824 - mae: 9.8824\n",
      "Epoch 17/100\n",
      "2/2 [==============================] - 0s 1ms/step - loss: 17.7578 - mae: 17.7578\n",
      "Epoch 18/100\n",
      "2/2 [==============================] - 0s 2ms/step - loss: 14.2335 - mae: 14.2335\n",
      "Epoch 19/100\n",
      "2/2 [==============================] - 0s 2ms/step - loss: 14.0768 - mae: 14.0768\n",
      "Epoch 20/100\n",
      "2/2 [==============================] - 0s 2ms/step - loss: 11.2609 - mae: 11.2609\n",
      "Epoch 21/100\n",
      "2/2 [==============================] - 0s 2ms/step - loss: 17.4079 - mae: 17.4079\n",
      "Epoch 22/100\n",
      "2/2 [==============================] - 0s 2ms/step - loss: 15.9320 - mae: 15.9320\n",
      "Epoch 23/100\n",
      "2/2 [==============================] - 0s 1000us/step - loss: 9.8475 - mae: 9.8475\n",
      "Epoch 24/100\n",
      "2/2 [==============================] - 0s 1ms/step - loss: 16.4471 - mae: 16.4471\n",
      "Epoch 25/100\n",
      "2/2 [==============================] - 0s 1000us/step - loss: 15.3786 - mae: 15.3786\n",
      "Epoch 26/100\n",
      "2/2 [==============================] - 0s 2ms/step - loss: 20.6014 - mae: 20.6014\n",
      "Epoch 27/100\n",
      "2/2 [==============================] - 0s 1000us/step - loss: 26.2924 - mae: 26.2924\n",
      "Epoch 28/100\n",
      "2/2 [==============================] - 0s 2ms/step - loss: 18.7467 - mae: 18.7467\n",
      "Epoch 29/100\n",
      "2/2 [==============================] - 0s 1000us/step - loss: 9.2507 - mae: 9.2507\n",
      "Epoch 30/100\n",
      "2/2 [==============================] - 0s 1ms/step - loss: 29.3830 - mae: 29.3830\n",
      "Epoch 31/100\n",
      "2/2 [==============================] - 0s 2ms/step - loss: 53.2515 - mae: 53.2515\n",
      "Epoch 32/100\n",
      "2/2 [==============================] - 0s 2ms/step - loss: 9.4664 - mae: 9.4664\n",
      "Epoch 33/100\n",
      "2/2 [==============================] - 0s 2ms/step - loss: 12.0405 - mae: 12.0405\n",
      "Epoch 34/100\n",
      "2/2 [==============================] - 0s 2ms/step - loss: 23.2453 - mae: 23.2453\n",
      "Epoch 35/100\n",
      "2/2 [==============================] - 0s 2ms/step - loss: 11.8478 - mae: 11.8478\n",
      "Epoch 36/100\n",
      "2/2 [==============================] - 0s 1ms/step - loss: 21.8293 - mae: 21.8293\n",
      "Epoch 37/100\n",
      "2/2 [==============================] - 0s 1ms/step - loss: 11.1256 - mae: 11.1256\n",
      "Epoch 38/100\n",
      "2/2 [==============================] - 0s 2ms/step - loss: 12.7162 - mae: 12.7162\n",
      "Epoch 39/100\n",
      "2/2 [==============================] - 0s 1ms/step - loss: 11.5918 - mae: 11.5918\n",
      "Epoch 40/100\n",
      "2/2 [==============================] - 0s 1ms/step - loss: 19.2197 - mae: 19.2197\n",
      "Epoch 41/100\n",
      "2/2 [==============================] - 0s 1ms/step - loss: 10.9543 - mae: 10.9543\n",
      "Epoch 42/100\n",
      "2/2 [==============================] - 0s 1000us/step - loss: 9.2866 - mae: 9.2866\n",
      "Epoch 43/100\n",
      "2/2 [==============================] - 0s 1ms/step - loss: 9.5921 - mae: 9.5921\n",
      "Epoch 44/100\n",
      "2/2 [==============================] - 0s 2ms/step - loss: 27.9106 - mae: 27.9106\n",
      "Epoch 45/100\n",
      "2/2 [==============================] - 0s 2ms/step - loss: 11.2681 - mae: 11.2681\n",
      "Epoch 46/100\n",
      "2/2 [==============================] - 0s 1ms/step - loss: 13.8594 - mae: 13.8594\n",
      "Epoch 47/100\n",
      "2/2 [==============================] - 0s 2ms/step - loss: 11.9248 - mae: 11.9248\n",
      "Epoch 48/100\n",
      "2/2 [==============================] - 0s 2ms/step - loss: 16.9602 - mae: 16.9602\n",
      "Epoch 49/100\n",
      "2/2 [==============================] - 0s 2ms/step - loss: 9.7767 - mae: 9.7767\n",
      "Epoch 50/100\n",
      "2/2 [==============================] - 0s 1ms/step - loss: 14.1668 - mae: 14.1668\n",
      "Epoch 51/100\n",
      "2/2 [==============================] - 0s 1000us/step - loss: 11.7390 - mae: 11.7390\n",
      "Epoch 52/100\n",
      "2/2 [==============================] - 0s 1ms/step - loss: 31.3661 - mae: 31.3661\n",
      "Epoch 53/100\n",
      "2/2 [==============================] - 0s 2ms/step - loss: 14.7180 - mae: 14.7180\n",
      "Epoch 54/100\n",
      "2/2 [==============================] - 0s 2ms/step - loss: 24.5992 - mae: 24.5992\n",
      "Epoch 55/100\n",
      "2/2 [==============================] - 0s 2ms/step - loss: 23.8819 - mae: 23.8819\n",
      "Epoch 56/100\n",
      "2/2 [==============================] - 0s 1ms/step - loss: 11.1205 - mae: 11.1205\n",
      "Epoch 57/100\n",
      "2/2 [==============================] - 0s 1000us/step - loss: 13.0567 - mae: 13.0567\n",
      "Epoch 58/100\n",
      "2/2 [==============================] - 0s 2ms/step - loss: 9.7800 - mae: 9.7800\n",
      "Epoch 59/100\n",
      "2/2 [==============================] - 0s 1ms/step - loss: 13.2316 - mae: 13.2316\n",
      "Epoch 60/100\n",
      "2/2 [==============================] - 0s 999us/step - loss: 10.8314 - mae: 10.8314\n",
      "Epoch 61/100\n",
      "2/2 [==============================] - 0s 1000us/step - loss: 13.4090 - mae: 13.4090\n",
      "Epoch 62/100\n",
      "2/2 [==============================] - 0s 2ms/step - loss: 17.3656 - mae: 17.3656\n",
      "Epoch 63/100\n",
      "2/2 [==============================] - 0s 1ms/step - loss: 9.1368 - mae: 9.1368\n",
      "Epoch 64/100\n",
      "2/2 [==============================] - 0s 2ms/step - loss: 17.9854 - mae: 17.9854\n",
      "Epoch 65/100\n",
      "2/2 [==============================] - 0s 1ms/step - loss: 10.6230 - mae: 10.6230\n",
      "Epoch 66/100\n",
      "2/2 [==============================] - 0s 1ms/step - loss: 21.5091 - mae: 21.5091\n",
      "Epoch 67/100\n",
      "2/2 [==============================] - 0s 2ms/step - loss: 10.6357 - mae: 10.6357\n",
      "Epoch 68/100\n",
      "2/2 [==============================] - 0s 1ms/step - loss: 14.8852 - mae: 14.8852\n",
      "Epoch 69/100\n",
      "2/2 [==============================] - 0s 1000us/step - loss: 10.7829 - mae: 10.7829\n",
      "Epoch 70/100\n",
      "2/2 [==============================] - 0s 2ms/step - loss: 12.8857 - mae: 12.8857\n",
      "Epoch 71/100\n",
      "2/2 [==============================] - 0s 1ms/step - loss: 13.3057 - mae: 13.3057\n",
      "Epoch 72/100\n",
      "2/2 [==============================] - 0s 1000us/step - loss: 20.1720 - mae: 20.1720\n",
      "Epoch 73/100\n",
      "2/2 [==============================] - 0s 875us/step - loss: 9.7394 - mae: 9.7394\n",
      "Epoch 74/100\n",
      "2/2 [==============================] - 0s 999us/step - loss: 27.4854 - mae: 27.4854\n",
      "Epoch 75/100\n",
      "2/2 [==============================] - 0s 1ms/step - loss: 10.0305 - mae: 10.0305\n",
      "Epoch 76/100\n",
      "2/2 [==============================] - 0s 2ms/step - loss: 12.9516 - mae: 12.9516\n",
      "Epoch 77/100\n",
      "2/2 [==============================] - 0s 1ms/step - loss: 17.9637 - mae: 17.9637\n",
      "Epoch 78/100\n",
      "2/2 [==============================] - 0s 1ms/step - loss: 8.9648 - mae: 8.9648\n",
      "Epoch 79/100\n",
      "2/2 [==============================] - 0s 2ms/step - loss: 28.8171 - mae: 28.8171\n",
      "Epoch 80/100\n",
      "2/2 [==============================] - 0s 3ms/step - loss: 31.1710 - mae: 31.1710\n",
      "Epoch 81/100\n",
      "2/2 [==============================] - 0s 1000us/step - loss: 13.5861 - mae: 13.5861\n",
      "Epoch 82/100\n",
      "2/2 [==============================] - 0s 2ms/step - loss: 15.8610 - mae: 15.8610\n",
      "Epoch 83/100\n",
      "2/2 [==============================] - 0s 1000us/step - loss: 9.1379 - mae: 9.1379\n",
      "Epoch 84/100\n",
      "2/2 [==============================] - 0s 1000us/step - loss: 8.2037 - mae: 8.2037\n",
      "Epoch 85/100\n",
      "2/2 [==============================] - 0s 2ms/step - loss: 18.8729 - mae: 18.8729\n",
      "Epoch 86/100\n",
      "2/2 [==============================] - 0s 2ms/step - loss: 21.9828 - mae: 21.9828\n",
      "Epoch 87/100\n"
     ]
    },
    {
     "name": "stdout",
     "output_type": "stream",
     "text": [
      "2/2 [==============================] - 0s 1000us/step - loss: 11.2153 - mae: 11.2153\n",
      "Epoch 88/100\n",
      "2/2 [==============================] - 0s 1ms/step - loss: 25.9418 - mae: 25.9418\n",
      "Epoch 89/100\n",
      "2/2 [==============================] - 0s 2ms/step - loss: 9.5223 - mae: 9.5223\n",
      "Epoch 90/100\n",
      "2/2 [==============================] - 0s 2ms/step - loss: 18.2501 - mae: 18.2501\n",
      "Epoch 91/100\n",
      "2/2 [==============================] - 0s 1ms/step - loss: 10.3258 - mae: 10.3258\n",
      "Epoch 92/100\n",
      "2/2 [==============================] - 0s 999us/step - loss: 17.5002 - mae: 17.5002\n",
      "Epoch 93/100\n",
      "2/2 [==============================] - 0s 1ms/step - loss: 6.8259 - mae: 6.8259\n",
      "Epoch 94/100\n",
      "2/2 [==============================] - 0s 2ms/step - loss: 17.6564 - mae: 17.6564\n",
      "Epoch 95/100\n",
      "2/2 [==============================] - 0s 1ms/step - loss: 17.3717 - mae: 17.3717\n",
      "Epoch 96/100\n",
      "2/2 [==============================] - 0s 2ms/step - loss: 11.5390 - mae: 11.5390\n",
      "Epoch 97/100\n",
      "2/2 [==============================] - 0s 1000us/step - loss: 18.3117 - mae: 18.3117\n",
      "Epoch 98/100\n",
      "2/2 [==============================] - 0s 1ms/step - loss: 9.7555 - mae: 9.7555\n",
      "Epoch 99/100\n",
      "2/2 [==============================] - 0s 2ms/step - loss: 16.9429 - mae: 16.9429\n",
      "Epoch 100/100\n",
      "2/2 [==============================] - 0s 1ms/step - loss: 17.8148 - mae: 17.8148\n"
     ]
    },
    {
     "data": {
      "text/plain": [
       "<keras.callbacks.History at 0x1f7df62a760>"
      ]
     },
     "execution_count": 117,
     "metadata": {},
     "output_type": "execute_result"
    }
   ],
   "source": [
    "model_2 = tf.keras.Sequential([\n",
    "    tf.keras.layers.Dense(100),\n",
    "    tf.keras.layers.Dense(1)\n",
    "])\n",
    "\n",
    "model_2.compile(loss = tf.keras.losses.mae,\n",
    "               optimizer = tf.keras.optimizers.SGD(),\n",
    "               metrics= [\"mae\"])\n",
    "\n",
    "model_2.fit(tf.expand_dims(X_train,axis=-1),y_train,epochs=100)"
   ]
  },
  {
   "cell_type": "code",
   "execution_count": 102,
   "id": "f02e7e1a",
   "metadata": {},
   "outputs": [
    {
     "data": {
      "image/png": "[encoded data removed]",
      "text/plain": [
       "<Figure size 720x504 with 1 Axes>"
      ]
     },
     "metadata": {
      "needs_background": "light"
     },
     "output_type": "display_data"
    }
   ],
   "source": [
    "y_pred_2 = model_2.predict(X_test)\n",
    "plot_predictions(predictions= y_pred_2)"
   ]
  },
  {
   "cell_type": "code",
   "execution_count": 118,
   "id": "42acde93",
   "metadata": {},
   "outputs": [
    {
     "data": {
      "text/plain": [
       "(<tf.Tensor: shape=(), dtype=float32, numpy=2.0013146>,\n",
       " <tf.Tensor: shape=(), dtype=float32, numpy=5.922986>)"
      ]
     },
     "execution_count": 118,
     "metadata": {},
     "output_type": "execute_result"
    }
   ],
   "source": [
    "# Calculate model_2 evaluation\n",
    "\n",
    "mae_2 = mae(y_test,y_pred_2)\n",
    "mse_2 = mse(y_test,y_pred_2)\n",
    "mae_2, mse_2"
   ]
  },
  {
   "cell_type": "markdown",
   "id": "79fca7b4",
   "metadata": {},
   "source": [
    "# Build model 3\n",
    "**Change the epochs to 500**"
   ]
  },
  {
   "cell_type": "code",
   "execution_count": 120,
   "id": "7bf2875f",
   "metadata": {},
   "outputs": [
    {
     "name": "stdout",
     "output_type": "stream",
     "text": [
      "Epoch 1/500\n",
      "2/2 [==============================] - 0s 1000us/step - loss: 40.0927 - mae: 40.0927\n",
      "Epoch 2/500\n",
      "2/2 [==============================] - 0s 1ms/step - loss: 31.0100 - mae: 31.0100\n",
      "Epoch 3/500\n",
      "2/2 [==============================] - 0s 2ms/step - loss: 28.4922 - mae: 28.4922\n",
      "Epoch 4/500\n",
      "2/2 [==============================] - 0s 1ms/step - loss: 15.8280 - mae: 15.8280\n",
      "Epoch 5/500\n",
      "2/2 [==============================] - 0s 1ms/step - loss: 21.8634 - mae: 21.8634\n",
      "Epoch 6/500\n",
      "2/2 [==============================] - 0s 1ms/step - loss: 11.2800 - mae: 11.2800\n",
      "Epoch 7/500\n",
      "2/2 [==============================] - 0s 2ms/step - loss: 12.3414 - mae: 12.3414\n",
      "Epoch 8/500\n",
      "2/2 [==============================] - 0s 2ms/step - loss: 11.0069 - mae: 11.0069\n",
      "Epoch 9/500\n",
      "2/2 [==============================] - 0s 1000us/step - loss: 38.9569 - mae: 38.9569\n",
      "Epoch 10/500\n",
      "2/2 [==============================] - 0s 1ms/step - loss: 26.5451 - mae: 26.5451\n",
      "Epoch 11/500\n",
      "2/2 [==============================] - 0s 1ms/step - loss: 11.8212 - mae: 11.8212\n",
      "Epoch 12/500\n",
      "2/2 [==============================] - 0s 1ms/step - loss: 23.6439 - mae: 23.6439\n",
      "Epoch 13/500\n",
      "2/2 [==============================] - 0s 1ms/step - loss: 21.1773 - mae: 21.1773\n",
      "Epoch 14/500\n",
      "2/2 [==============================] - 0s 1000us/step - loss: 23.6369 - mae: 23.6369\n",
      "Epoch 15/500\n",
      "2/2 [==============================] - 0s 2ms/step - loss: 15.7284 - mae: 15.7284\n",
      "Epoch 16/500\n",
      "2/2 [==============================] - 0s 999us/step - loss: 10.4255 - mae: 10.4255\n",
      "Epoch 17/500\n",
      "2/2 [==============================] - 0s 1ms/step - loss: 19.6449 - mae: 19.6449\n",
      "Epoch 18/500\n",
      "2/2 [==============================] - 0s 1ms/step - loss: 13.2832 - mae: 13.2832\n",
      "Epoch 19/500\n",
      "2/2 [==============================] - 0s 1000us/step - loss: 16.0511 - mae: 16.0511\n",
      "Epoch 20/500\n",
      "2/2 [==============================] - 0s 1000us/step - loss: 10.2038 - mae: 10.2038\n",
      "Epoch 21/500\n",
      "2/2 [==============================] - 0s 2ms/step - loss: 13.7490 - mae: 13.7490\n",
      "Epoch 22/500\n",
      "2/2 [==============================] - 0s 1000us/step - loss: 21.9606 - mae: 21.9606\n",
      "Epoch 23/500\n",
      "2/2 [==============================] - 0s 2ms/step - loss: 10.4577 - mae: 10.4577\n",
      "Epoch 24/500\n",
      "2/2 [==============================] - 0s 2ms/step - loss: 15.7476 - mae: 15.7476\n",
      "Epoch 25/500\n",
      "2/2 [==============================] - 0s 999us/step - loss: 14.9013 - mae: 14.9013\n",
      "Epoch 26/500\n",
      "2/2 [==============================] - 0s 1000us/step - loss: 19.5243 - mae: 19.5243\n",
      "Epoch 27/500\n",
      "2/2 [==============================] - 0s 2ms/step - loss: 20.5348 - mae: 20.5348\n",
      "Epoch 28/500\n",
      "2/2 [==============================] - 0s 2ms/step - loss: 14.9092 - mae: 14.9092\n",
      "Epoch 29/500\n",
      "2/2 [==============================] - 0s 2ms/step - loss: 9.2684 - mae: 9.2684\n",
      "Epoch 30/500\n",
      "2/2 [==============================] - 0s 2ms/step - loss: 30.2733 - mae: 30.2733\n",
      "Epoch 31/500\n",
      "2/2 [==============================] - 0s 999us/step - loss: 54.9989 - mae: 54.9989\n",
      "Epoch 32/500\n",
      "2/2 [==============================] - 0s 2ms/step - loss: 9.6877 - mae: 9.6877\n",
      "Epoch 33/500\n",
      "2/2 [==============================] - 0s 2ms/step - loss: 12.2952 - mae: 12.2952\n",
      "Epoch 34/500\n",
      "2/2 [==============================] - 0s 1ms/step - loss: 24.3916 - mae: 24.3916\n",
      "Epoch 35/500\n",
      "2/2 [==============================] - 0s 1ms/step - loss: 11.9711 - mae: 11.9711\n",
      "Epoch 36/500\n",
      "2/2 [==============================] - 0s 2ms/step - loss: 22.2271 - mae: 22.2271\n",
      "Epoch 37/500\n",
      "2/2 [==============================] - 0s 1ms/step - loss: 17.3621 - mae: 17.3621\n",
      "Epoch 38/500\n",
      "2/2 [==============================] - 0s 1ms/step - loss: 10.6678 - mae: 10.6678\n",
      "Epoch 39/500\n",
      "2/2 [==============================] - 0s 1ms/step - loss: 11.1832 - mae: 11.1832\n",
      "Epoch 40/500\n",
      "2/2 [==============================] - 0s 2ms/step - loss: 17.9644 - mae: 17.9644\n",
      "Epoch 41/500\n",
      "2/2 [==============================] - 0s 1ms/step - loss: 10.3982 - mae: 10.3982\n",
      "Epoch 42/500\n",
      "2/2 [==============================] - 0s 1000us/step - loss: 7.2781 - mae: 7.2781\n",
      "Epoch 43/500\n",
      "2/2 [==============================] - 0s 999us/step - loss: 18.9237 - mae: 18.9237\n",
      "Epoch 44/500\n",
      "2/2 [==============================] - 0s 2ms/step - loss: 20.0721 - mae: 20.0721\n",
      "Epoch 45/500\n",
      "2/2 [==============================] - 0s 1ms/step - loss: 10.1164 - mae: 10.1164\n",
      "Epoch 46/500\n",
      "2/2 [==============================] - 0s 1ms/step - loss: 11.3716 - mae: 11.3716\n",
      "Epoch 47/500\n",
      "2/2 [==============================] - 0s 1ms/step - loss: 9.8298 - mae: 9.8298\n",
      "Epoch 48/500\n",
      "2/2 [==============================] - 0s 1ms/step - loss: 17.6275 - mae: 17.6275\n",
      "Epoch 49/500\n",
      "2/2 [==============================] - 0s 2ms/step - loss: 9.3278 - mae: 9.3278\n",
      "Epoch 50/500\n",
      "2/2 [==============================] - 0s 2ms/step - loss: 13.3671 - mae: 13.3671\n",
      "Epoch 51/500\n",
      "2/2 [==============================] - 0s 1ms/step - loss: 11.4335 - mae: 11.4335\n",
      "Epoch 52/500\n",
      "2/2 [==============================] - 0s 8ms/step - loss: 29.3555 - mae: 29.3555\n",
      "Epoch 53/500\n",
      "2/2 [==============================] - 0s 2ms/step - loss: 16.7262 - mae: 16.7262\n",
      "Epoch 54/500\n",
      "2/2 [==============================] - 0s 1ms/step - loss: 21.6976 - mae: 21.6976\n",
      "Epoch 55/500\n",
      "2/2 [==============================] - 0s 999us/step - loss: 22.1414 - mae: 22.1414\n",
      "Epoch 56/500\n",
      "2/2 [==============================] - 0s 2ms/step - loss: 11.2358 - mae: 11.2358\n",
      "Epoch 57/500\n",
      "2/2 [==============================] - 0s 2ms/step - loss: 13.2093 - mae: 13.2093\n",
      "Epoch 58/500\n",
      "2/2 [==============================] - 0s 1ms/step - loss: 9.8678 - mae: 9.8678\n",
      "Epoch 59/500\n",
      "2/2 [==============================] - 0s 1ms/step - loss: 13.3953 - mae: 13.3953\n",
      "Epoch 60/500\n",
      "2/2 [==============================] - 0s 2ms/step - loss: 10.9307 - mae: 10.9307\n",
      "Epoch 61/500\n",
      "2/2 [==============================] - 0s 999us/step - loss: 13.5461 - mae: 13.5461\n",
      "Epoch 62/500\n",
      "2/2 [==============================] - 0s 1000us/step - loss: 17.6146 - mae: 17.6146\n",
      "Epoch 63/500\n",
      "2/2 [==============================] - 0s 2ms/step - loss: 9.1993 - mae: 9.1993\n",
      "Epoch 64/500\n",
      "2/2 [==============================] - 0s 2ms/step - loss: 18.4801 - mae: 18.4801\n",
      "Epoch 65/500\n",
      "2/2 [==============================] - 0s 1ms/step - loss: 10.1541 - mae: 10.1541\n",
      "Epoch 66/500\n",
      "2/2 [==============================] - 0s 1ms/step - loss: 24.3567 - mae: 24.3567\n",
      "Epoch 67/500\n",
      "2/2 [==============================] - 0s 1ms/step - loss: 10.9355 - mae: 10.9355\n",
      "Epoch 68/500\n",
      "2/2 [==============================] - 0s 1ms/step - loss: 10.8082 - mae: 10.8082\n",
      "Epoch 69/500\n",
      "2/2 [==============================] - 0s 2ms/step - loss: 23.3358 - mae: 23.3358\n",
      "Epoch 70/500\n",
      "2/2 [==============================] - 0s 1ms/step - loss: 8.8105 - mae: 8.8105\n",
      "Epoch 71/500\n",
      "2/2 [==============================] - 0s 2ms/step - loss: 15.9636 - mae: 15.9636\n",
      "Epoch 72/500\n",
      "2/2 [==============================] - 0s 2ms/step - loss: 8.1442 - mae: 8.1442\n",
      "Epoch 73/500\n",
      "2/2 [==============================] - 0s 1ms/step - loss: 9.4679 - mae: 9.4679\n",
      "Epoch 74/500\n",
      "2/2 [==============================] - 0s 1ms/step - loss: 28.1405 - mae: 28.1405\n",
      "Epoch 75/500\n",
      "2/2 [==============================] - 0s 1000us/step - loss: 10.2300 - mae: 10.2300\n",
      "Epoch 76/500\n",
      "2/2 [==============================] - 0s 1ms/step - loss: 13.1824 - mae: 13.1824\n",
      "Epoch 77/500\n",
      "2/2 [==============================] - 0s 1ms/step - loss: 18.4286 - mae: 18.4286\n",
      "Epoch 78/500\n",
      "2/2 [==============================] - 0s 2ms/step - loss: 9.0368 - mae: 9.0368\n",
      "Epoch 79/500\n",
      "2/2 [==============================] - 0s 1ms/step - loss: 23.4707 - mae: 23.4707\n",
      "Epoch 80/500\n",
      "2/2 [==============================] - 0s 2ms/step - loss: 26.1491 - mae: 26.1491\n",
      "Epoch 81/500\n",
      "2/2 [==============================] - 0s 1ms/step - loss: 11.4219 - mae: 11.4219\n",
      "Epoch 82/500\n",
      "2/2 [==============================] - 0s 2ms/step - loss: 12.4916 - mae: 12.4916\n",
      "Epoch 83/500\n",
      "2/2 [==============================] - 0s 3ms/step - loss: 17.1807 - mae: 17.1807\n",
      "Epoch 84/500\n",
      "2/2 [==============================] - 0s 1ms/step - loss: 6.6081 - mae: 6.6081\n",
      "Epoch 85/500\n",
      "2/2 [==============================] - 0s 1ms/step - loss: 20.3093 - mae: 20.3093\n",
      "Epoch 86/500\n",
      "2/2 [==============================] - 0s 1ms/step - loss: 10.1861 - mae: 10.1861\n",
      "Epoch 87/500\n"
     ]
    },
    {
     "name": "stdout",
     "output_type": "stream",
     "text": [
      "2/2 [==============================] - 0s 2ms/step - loss: 24.3446 - mae: 24.3446\n",
      "Epoch 88/500\n",
      "2/2 [==============================] - 0s 1ms/step - loss: 19.0090 - mae: 19.0090\n",
      "Epoch 89/500\n",
      "2/2 [==============================] - 0s 1ms/step - loss: 7.1789 - mae: 7.1789\n",
      "Epoch 90/500\n",
      "2/2 [==============================] - 0s 1ms/step - loss: 18.2665 - mae: 18.2665\n",
      "Epoch 91/500\n",
      "2/2 [==============================] - 0s 999us/step - loss: 13.3192 - mae: 13.3192\n",
      "Epoch 92/500\n",
      "2/2 [==============================] - 0s 2ms/step - loss: 8.7323 - mae: 8.7323\n",
      "Epoch 93/500\n",
      "2/2 [==============================] - 0s 1000us/step - loss: 14.1831 - mae: 14.1831\n",
      "Epoch 94/500\n",
      "2/2 [==============================] - 0s 999us/step - loss: 17.1837 - mae: 17.1837\n",
      "Epoch 95/500\n",
      "2/2 [==============================] - 0s 999us/step - loss: 16.7617 - mae: 16.7617\n",
      "Epoch 96/500\n",
      "2/2 [==============================] - 0s 3ms/step - loss: 11.1266 - mae: 11.1266\n",
      "Epoch 97/500\n",
      "2/2 [==============================] - 0s 1ms/step - loss: 21.1794 - mae: 21.1794\n",
      "Epoch 98/500\n",
      "2/2 [==============================] - 0s 999us/step - loss: 10.5072 - mae: 10.5072\n",
      "Epoch 99/500\n",
      "2/2 [==============================] - 0s 1ms/step - loss: 14.5958 - mae: 14.5958\n",
      "Epoch 100/500\n",
      "2/2 [==============================] - 0s 2ms/step - loss: 17.7630 - mae: 17.7630\n",
      "Epoch 101/500\n",
      "2/2 [==============================] - 0s 2ms/step - loss: 11.2825 - mae: 11.2825\n",
      "Epoch 102/500\n",
      "2/2 [==============================] - 0s 1ms/step - loss: 17.0249 - mae: 17.0249\n",
      "Epoch 103/500\n",
      "2/2 [==============================] - 0s 1000us/step - loss: 7.7701 - mae: 7.7701\n",
      "Epoch 104/500\n",
      "2/2 [==============================] - 0s 2ms/step - loss: 22.3293 - mae: 22.3293\n",
      "Epoch 105/500\n",
      "2/2 [==============================] - 0s 2ms/step - loss: 20.1639 - mae: 20.1639\n",
      "Epoch 106/500\n",
      "2/2 [==============================] - 0s 1ms/step - loss: 10.1038 - mae: 10.1038\n",
      "Epoch 107/500\n",
      "2/2 [==============================] - 0s 1ms/step - loss: 24.8332 - mae: 24.8332\n",
      "Epoch 108/500\n",
      "2/2 [==============================] - 0s 1ms/step - loss: 14.8147 - mae: 14.8147\n",
      "Epoch 109/500\n",
      "2/2 [==============================] - 0s 1000us/step - loss: 8.9890 - mae: 8.9890\n",
      "Epoch 110/500\n",
      "2/2 [==============================] - 0s 2ms/step - loss: 9.2426 - mae: 9.2426\n",
      "Epoch 111/500\n",
      "2/2 [==============================] - 0s 1000us/step - loss: 12.8541 - mae: 12.8541\n",
      "Epoch 112/500\n",
      "2/2 [==============================] - 0s 2ms/step - loss: 15.6739 - mae: 15.6739\n",
      "Epoch 113/500\n",
      "2/2 [==============================] - 0s 1ms/step - loss: 11.2100 - mae: 11.2100\n",
      "Epoch 114/500\n",
      "2/2 [==============================] - 0s 1ms/step - loss: 24.9002 - mae: 24.9002\n",
      "Epoch 115/500\n",
      "2/2 [==============================] - 0s 999us/step - loss: 13.5113 - mae: 13.5113\n",
      "Epoch 116/500\n",
      "2/2 [==============================] - 0s 2ms/step - loss: 14.3973 - mae: 14.3973\n",
      "Epoch 117/500\n",
      "2/2 [==============================] - 0s 1000us/step - loss: 9.9765 - mae: 9.9765\n",
      "Epoch 118/500\n",
      "2/2 [==============================] - 0s 1ms/step - loss: 11.0932 - mae: 11.0932\n",
      "Epoch 119/500\n",
      "2/2 [==============================] - 0s 2ms/step - loss: 8.1427 - mae: 8.1427\n",
      "Epoch 120/500\n",
      "2/2 [==============================] - 0s 2ms/step - loss: 30.7982 - mae: 30.7982\n",
      "Epoch 121/500\n",
      "2/2 [==============================] - 0s 2ms/step - loss: 8.1634 - mae: 8.1634\n",
      "Epoch 122/500\n",
      "2/2 [==============================] - 0s 2ms/step - loss: 29.1925 - mae: 29.1925\n",
      "Epoch 123/500\n",
      "2/2 [==============================] - 0s 2ms/step - loss: 33.9893 - mae: 33.9893\n",
      "Epoch 124/500\n",
      "2/2 [==============================] - 0s 2ms/step - loss: 20.4625 - mae: 20.4625\n",
      "Epoch 125/500\n",
      "2/2 [==============================] - 0s 1000us/step - loss: 9.1127 - mae: 9.1127\n",
      "Epoch 126/500\n",
      "2/2 [==============================] - 0s 999us/step - loss: 9.2612 - mae: 9.2612\n",
      "Epoch 127/500\n",
      "2/2 [==============================] - 0s 2ms/step - loss: 11.3145 - mae: 11.3145\n",
      "Epoch 128/500\n",
      "2/2 [==============================] - 0s 2ms/step - loss: 17.1011 - mae: 17.1011\n",
      "Epoch 129/500\n",
      "2/2 [==============================] - 0s 2ms/step - loss: 9.0009 - mae: 9.0009\n",
      "Epoch 130/500\n",
      "2/2 [==============================] - 0s 999us/step - loss: 23.7876 - mae: 23.7876\n",
      "Epoch 131/500\n",
      "2/2 [==============================] - 0s 1000us/step - loss: 9.7247 - mae: 9.7247\n",
      "Epoch 132/500\n",
      "2/2 [==============================] - 0s 2ms/step - loss: 18.0710 - mae: 18.0710\n",
      "Epoch 133/500\n",
      "2/2 [==============================] - 0s 1ms/step - loss: 6.7584 - mae: 6.7584\n",
      "Epoch 134/500\n",
      "2/2 [==============================] - 0s 1ms/step - loss: 20.2673 - mae: 20.2673\n",
      "Epoch 135/500\n",
      "2/2 [==============================] - 0s 1ms/step - loss: 10.5281 - mae: 10.5281\n",
      "Epoch 136/500\n",
      "2/2 [==============================] - 0s 2ms/step - loss: 18.1725 - mae: 18.1725\n",
      "Epoch 137/500\n",
      "2/2 [==============================] - 0s 1ms/step - loss: 23.0198 - mae: 23.0198\n",
      "Epoch 138/500\n",
      "2/2 [==============================] - 0s 2ms/step - loss: 9.1026 - mae: 9.1026\n",
      "Epoch 139/500\n",
      "2/2 [==============================] - 0s 1ms/step - loss: 8.9045 - mae: 8.9045\n",
      "Epoch 140/500\n",
      "2/2 [==============================] - 0s 2ms/step - loss: 16.3473 - mae: 16.3473\n",
      "Epoch 141/500\n",
      "2/2 [==============================] - 0s 2ms/step - loss: 8.4447 - mae: 8.4447\n",
      "Epoch 142/500\n",
      "2/2 [==============================] - 0s 2ms/step - loss: 36.6540 - mae: 36.6540\n",
      "Epoch 143/500\n",
      "2/2 [==============================] - 0s 2ms/step - loss: 25.3581 - mae: 25.3581\n",
      "Epoch 144/500\n",
      "2/2 [==============================] - 0s 2ms/step - loss: 10.4640 - mae: 10.4640\n",
      "Epoch 145/500\n",
      "2/2 [==============================] - 0s 2ms/step - loss: 25.7760 - mae: 25.7760\n",
      "Epoch 146/500\n",
      "2/2 [==============================] - 0s 1ms/step - loss: 10.0351 - mae: 10.0351\n",
      "Epoch 147/500\n",
      "2/2 [==============================] - 0s 1000us/step - loss: 14.6760 - mae: 14.6760\n",
      "Epoch 148/500\n",
      "2/2 [==============================] - 0s 2ms/step - loss: 17.7677 - mae: 17.7677\n",
      "Epoch 149/500\n",
      "2/2 [==============================] - 0s 2ms/step - loss: 8.5135 - mae: 8.5135\n",
      "Epoch 150/500\n",
      "2/2 [==============================] - 0s 2ms/step - loss: 7.6409 - mae: 7.6409\n",
      "Epoch 151/500\n",
      "2/2 [==============================] - 0s 2ms/step - loss: 19.0155 - mae: 19.0155\n",
      "Epoch 152/500\n",
      "2/2 [==============================] - 0s 2ms/step - loss: 10.5041 - mae: 10.5041\n",
      "Epoch 153/500\n",
      "2/2 [==============================] - 0s 2ms/step - loss: 30.6463 - mae: 30.6463\n",
      "Epoch 154/500\n",
      "2/2 [==============================] - 0s 1ms/step - loss: 9.9424 - mae: 9.9424\n",
      "Epoch 155/500\n",
      "2/2 [==============================] - 0s 3ms/step - loss: 15.6932 - mae: 15.6932\n",
      "Epoch 156/500\n",
      "2/2 [==============================] - 0s 2ms/step - loss: 17.5476 - mae: 17.5476\n",
      "Epoch 157/500\n",
      "2/2 [==============================] - 0s 2ms/step - loss: 31.4330 - mae: 31.4330\n",
      "Epoch 158/500\n",
      "2/2 [==============================] - 0s 2ms/step - loss: 10.3050 - mae: 10.3050\n",
      "Epoch 159/500\n",
      "2/2 [==============================] - 0s 2ms/step - loss: 8.7301 - mae: 8.7301\n",
      "Epoch 160/500\n",
      "2/2 [==============================] - 0s 2ms/step - loss: 20.9744 - mae: 20.9744\n",
      "Epoch 161/500\n",
      "2/2 [==============================] - 0s 2ms/step - loss: 12.4045 - mae: 12.4045\n",
      "Epoch 162/500\n",
      "2/2 [==============================] - 0s 2ms/step - loss: 18.9323 - mae: 18.9323\n",
      "Epoch 163/500\n",
      "2/2 [==============================] - 0s 999us/step - loss: 17.8824 - mae: 17.8824\n",
      "Epoch 164/500\n",
      "2/2 [==============================] - 0s 1000us/step - loss: 11.4541 - mae: 11.4541\n",
      "Epoch 165/500\n",
      "2/2 [==============================] - 0s 1ms/step - loss: 11.6014 - mae: 11.6014\n",
      "Epoch 166/500\n",
      "2/2 [==============================] - 0s 2ms/step - loss: 21.3333 - mae: 21.3333\n",
      "Epoch 167/500\n",
      "2/2 [==============================] - 0s 1ms/step - loss: 26.9446 - mae: 26.9446\n",
      "Epoch 168/500\n",
      "2/2 [==============================] - 0s 2ms/step - loss: 10.0215 - mae: 10.0215\n",
      "Epoch 169/500\n",
      "2/2 [==============================] - 0s 2ms/step - loss: 23.1882 - mae: 23.1882\n",
      "Epoch 170/500\n",
      "2/2 [==============================] - 0s 2ms/step - loss: 9.5867 - mae: 9.5867\n",
      "Epoch 171/500\n",
      "2/2 [==============================] - 0s 1ms/step - loss: 15.8440 - mae: 15.8440\n",
      "Epoch 172/500\n"
     ]
    },
    {
     "name": "stdout",
     "output_type": "stream",
     "text": [
      "2/2 [==============================] - 0s 1ms/step - loss: 13.8816 - mae: 13.8816\n",
      "Epoch 173/500\n",
      "2/2 [==============================] - 0s 2ms/step - loss: 22.5659 - mae: 22.5659\n",
      "Epoch 174/500\n",
      "2/2 [==============================] - 0s 1ms/step - loss: 11.3741 - mae: 11.3741\n",
      "Epoch 175/500\n",
      "2/2 [==============================] - 0s 2ms/step - loss: 20.1287 - mae: 20.1287\n",
      "Epoch 176/500\n",
      "2/2 [==============================] - 0s 2ms/step - loss: 7.4299 - mae: 7.4299\n",
      "Epoch 177/500\n",
      "2/2 [==============================] - 0s 2ms/step - loss: 8.6148 - mae: 8.6148\n",
      "Epoch 178/500\n",
      "2/2 [==============================] - 0s 2ms/step - loss: 15.5251 - mae: 15.5251\n",
      "Epoch 179/500\n",
      "2/2 [==============================] - 0s 2ms/step - loss: 9.2799 - mae: 9.2799\n",
      "Epoch 180/500\n",
      "2/2 [==============================] - 0s 1ms/step - loss: 8.1461 - mae: 8.1461\n",
      "Epoch 181/500\n",
      "2/2 [==============================] - 0s 3ms/step - loss: 18.7608 - mae: 18.7608\n",
      "Epoch 182/500\n",
      "2/2 [==============================] - 0s 2ms/step - loss: 10.8029 - mae: 10.8029\n",
      "Epoch 183/500\n",
      "2/2 [==============================] - 0s 1ms/step - loss: 10.9244 - mae: 10.9244\n",
      "Epoch 184/500\n",
      "2/2 [==============================] - 0s 2ms/step - loss: 33.7786 - mae: 33.7786\n",
      "Epoch 185/500\n",
      "2/2 [==============================] - 0s 2ms/step - loss: 7.6407 - mae: 7.6407\n",
      "Epoch 186/500\n",
      "2/2 [==============================] - 0s 1ms/step - loss: 16.8183 - mae: 16.8183\n",
      "Epoch 187/500\n",
      "2/2 [==============================] - 0s 1ms/step - loss: 10.1846 - mae: 10.1846\n",
      "Epoch 188/500\n",
      "2/2 [==============================] - 0s 2ms/step - loss: 23.0188 - mae: 23.0188\n",
      "Epoch 189/500\n",
      "2/2 [==============================] - 0s 2ms/step - loss: 9.9003 - mae: 9.9003\n",
      "Epoch 190/500\n",
      "2/2 [==============================] - 0s 1000us/step - loss: 15.3453 - mae: 15.3453\n",
      "Epoch 191/500\n",
      "2/2 [==============================] - 0s 2ms/step - loss: 9.9405 - mae: 9.9405\n",
      "Epoch 192/500\n",
      "2/2 [==============================] - 0s 2ms/step - loss: 14.9856 - mae: 14.9856\n",
      "Epoch 193/500\n",
      "2/2 [==============================] - 0s 2ms/step - loss: 29.6559 - mae: 29.6559\n",
      "Epoch 194/500\n",
      "2/2 [==============================] - 0s 2ms/step - loss: 8.3594 - mae: 8.3594\n",
      "Epoch 195/500\n",
      "2/2 [==============================] - 0s 3ms/step - loss: 12.8949 - mae: 12.8949\n",
      "Epoch 196/500\n",
      "2/2 [==============================] - 0s 1ms/step - loss: 23.9198 - mae: 23.9198\n",
      "Epoch 197/500\n",
      "2/2 [==============================] - 0s 1ms/step - loss: 16.8249 - mae: 16.8249\n",
      "Epoch 198/500\n",
      "2/2 [==============================] - 0s 999us/step - loss: 11.4946 - mae: 11.4946\n",
      "Epoch 199/500\n",
      "2/2 [==============================] - 0s 2ms/step - loss: 19.6312 - mae: 19.6312\n",
      "Epoch 200/500\n",
      "2/2 [==============================] - 0s 2ms/step - loss: 15.7997 - mae: 15.7997\n",
      "Epoch 201/500\n",
      "2/2 [==============================] - 0s 1000us/step - loss: 10.5778 - mae: 10.5778\n",
      "Epoch 202/500\n",
      "2/2 [==============================] - 0s 1000us/step - loss: 22.4123 - mae: 22.4123\n",
      "Epoch 203/500\n",
      "2/2 [==============================] - 0s 2ms/step - loss: 21.7394 - mae: 21.7394\n",
      "Epoch 204/500\n",
      "2/2 [==============================] - 0s 1ms/step - loss: 17.3482 - mae: 17.3482\n",
      "Epoch 205/500\n",
      "2/2 [==============================] - 0s 1ms/step - loss: 9.5124 - mae: 9.5124\n",
      "Epoch 206/500\n",
      "2/2 [==============================] - 0s 1ms/step - loss: 11.1492 - mae: 11.1492\n",
      "Epoch 207/500\n",
      "2/2 [==============================] - 0s 646us/step - loss: 17.6778 - mae: 17.6778\n",
      "Epoch 208/500\n",
      "2/2 [==============================] - 0s 2ms/step - loss: 14.3864 - mae: 14.3864\n",
      "Epoch 209/500\n",
      "2/2 [==============================] - 0s 2ms/step - loss: 16.7066 - mae: 16.7066\n",
      "Epoch 210/500\n",
      "2/2 [==============================] - 0s 1ms/step - loss: 18.2209 - mae: 18.2209\n",
      "Epoch 211/500\n",
      "2/2 [==============================] - 0s 2ms/step - loss: 9.9599 - mae: 9.9599\n",
      "Epoch 212/500\n",
      "2/2 [==============================] - 0s 2ms/step - loss: 18.6980 - mae: 18.6980\n",
      "Epoch 213/500\n",
      "2/2 [==============================] - 0s 2ms/step - loss: 14.9537 - mae: 14.9537\n",
      "Epoch 214/500\n",
      "2/2 [==============================] - 0s 2ms/step - loss: 14.5356 - mae: 14.5356\n",
      "Epoch 215/500\n",
      "2/2 [==============================] - 0s 1000us/step - loss: 23.1854 - mae: 23.1854\n",
      "Epoch 216/500\n",
      "2/2 [==============================] - 0s 2ms/step - loss: 13.5728 - mae: 13.5728\n",
      "Epoch 217/500\n",
      "2/2 [==============================] - 0s 2ms/step - loss: 10.0436 - mae: 10.0436\n",
      "Epoch 218/500\n",
      "2/2 [==============================] - 0s 1ms/step - loss: 12.4334 - mae: 12.4334\n",
      "Epoch 219/500\n",
      "2/2 [==============================] - 0s 2ms/step - loss: 5.8603 - mae: 5.8603\n",
      "Epoch 220/500\n",
      "2/2 [==============================] - 0s 2ms/step - loss: 10.1918 - mae: 10.1918\n",
      "Epoch 221/500\n",
      "2/2 [==============================] - 0s 2ms/step - loss: 28.8476 - mae: 28.8476\n",
      "Epoch 222/500\n",
      "2/2 [==============================] - 0s 2ms/step - loss: 28.0290 - mae: 28.0290\n",
      "Epoch 223/500\n",
      "2/2 [==============================] - 0s 1ms/step - loss: 10.0856 - mae: 10.0856\n",
      "Epoch 224/500\n",
      "2/2 [==============================] - 0s 2ms/step - loss: 14.6339 - mae: 14.6339\n",
      "Epoch 225/500\n",
      "2/2 [==============================] - 0s 1ms/step - loss: 16.6505 - mae: 16.6505\n",
      "Epoch 226/500\n",
      "2/2 [==============================] - 0s 1ms/step - loss: 15.8713 - mae: 15.8713\n",
      "Epoch 227/500\n",
      "2/2 [==============================] - 0s 2ms/step - loss: 16.0908 - mae: 16.0908\n",
      "Epoch 228/500\n",
      "2/2 [==============================] - 0s 2ms/step - loss: 13.8690 - mae: 13.8690\n",
      "Epoch 229/500\n",
      "2/2 [==============================] - 0s 2ms/step - loss: 17.9881 - mae: 17.9881\n",
      "Epoch 230/500\n",
      "2/2 [==============================] - 0s 2ms/step - loss: 15.5795 - mae: 15.5795\n",
      "Epoch 231/500\n",
      "2/2 [==============================] - 0s 2ms/step - loss: 21.1075 - mae: 21.1075\n",
      "Epoch 232/500\n",
      "2/2 [==============================] - 0s 3ms/step - loss: 25.4915 - mae: 25.4915\n",
      "Epoch 233/500\n",
      "2/2 [==============================] - 0s 2ms/step - loss: 16.4951 - mae: 16.4951\n",
      "Epoch 234/500\n",
      "2/2 [==============================] - 0s 1ms/step - loss: 7.3542 - mae: 7.3542\n",
      "Epoch 235/500\n",
      "2/2 [==============================] - 0s 2ms/step - loss: 17.1363 - mae: 17.1363\n",
      "Epoch 236/500\n",
      "2/2 [==============================] - 0s 2ms/step - loss: 7.2139 - mae: 7.2139\n",
      "Epoch 237/500\n",
      "2/2 [==============================] - 0s 1ms/step - loss: 9.3117 - mae: 9.3117\n",
      "Epoch 238/500\n",
      "2/2 [==============================] - 0s 2ms/step - loss: 8.1710 - mae: 8.1710\n",
      "Epoch 239/500\n",
      "2/2 [==============================] - 0s 2ms/step - loss: 17.1620 - mae: 17.1620\n",
      "Epoch 240/500\n",
      "2/2 [==============================] - 0s 2ms/step - loss: 8.9430 - mae: 8.9430\n",
      "Epoch 241/500\n",
      "2/2 [==============================] - 0s 2ms/step - loss: 13.2577 - mae: 13.2577\n",
      "Epoch 242/500\n",
      "2/2 [==============================] - 0s 1ms/step - loss: 8.8544 - mae: 8.8544\n",
      "Epoch 243/500\n",
      "2/2 [==============================] - 0s 1ms/step - loss: 18.8972 - mae: 18.8972\n",
      "Epoch 244/500\n",
      "2/2 [==============================] - 0s 1ms/step - loss: 14.0501 - mae: 14.0501\n",
      "Epoch 245/500\n",
      "2/2 [==============================] - 0s 2ms/step - loss: 14.6787 - mae: 14.6787\n",
      "Epoch 246/500\n",
      "2/2 [==============================] - 0s 2ms/step - loss: 15.8107 - mae: 15.8107\n",
      "Epoch 247/500\n",
      "2/2 [==============================] - 0s 1ms/step - loss: 17.6882 - mae: 17.6882\n",
      "Epoch 248/500\n",
      "2/2 [==============================] - 0s 3ms/step - loss: 13.2449 - mae: 13.2449\n",
      "Epoch 249/500\n",
      "2/2 [==============================] - 0s 2ms/step - loss: 14.5210 - mae: 14.5210\n",
      "Epoch 250/500\n",
      "2/2 [==============================] - 0s 2ms/step - loss: 23.2424 - mae: 23.2424\n",
      "Epoch 251/500\n",
      "2/2 [==============================] - 0s 1ms/step - loss: 9.3335 - mae: 9.3335\n",
      "Epoch 252/500\n",
      "2/2 [==============================] - 0s 2ms/step - loss: 36.6235 - mae: 36.6235\n",
      "Epoch 253/500\n",
      "2/2 [==============================] - 0s 2ms/step - loss: 21.8069 - mae: 21.8069\n",
      "Epoch 254/500\n",
      "2/2 [==============================] - 0s 2ms/step - loss: 7.3149 - mae: 7.3149\n",
      "Epoch 255/500\n",
      "2/2 [==============================] - 0s 2ms/step - loss: 24.6757 - mae: 24.6757\n",
      "Epoch 256/500\n",
      "2/2 [==============================] - 0s 2ms/step - loss: 12.4304 - mae: 12.4304\n",
      "Epoch 257/500\n"
     ]
    },
    {
     "name": "stdout",
     "output_type": "stream",
     "text": [
      "2/2 [==============================] - 0s 999us/step - loss: 10.5936 - mae: 10.5936\n",
      "Epoch 258/500\n",
      "2/2 [==============================] - 0s 1ms/step - loss: 14.2084 - mae: 14.2084\n",
      "Epoch 259/500\n",
      "2/2 [==============================] - 0s 2ms/step - loss: 11.2697 - mae: 11.2697\n",
      "Epoch 260/500\n",
      "2/2 [==============================] - 0s 2ms/step - loss: 31.6111 - mae: 31.6111\n",
      "Epoch 261/500\n",
      "2/2 [==============================] - 0s 1ms/step - loss: 11.1938 - mae: 11.1938\n",
      "Epoch 262/500\n",
      "2/2 [==============================] - 0s 2ms/step - loss: 10.0478 - mae: 10.0478\n",
      "Epoch 263/500\n",
      "2/2 [==============================] - 0s 2ms/step - loss: 8.9594 - mae: 8.9594\n",
      "Epoch 264/500\n",
      "2/2 [==============================] - 0s 1ms/step - loss: 21.4976 - mae: 21.4976\n",
      "Epoch 265/500\n",
      "2/2 [==============================] - 0s 1000us/step - loss: 11.4512 - mae: 11.4512\n",
      "Epoch 266/500\n",
      "2/2 [==============================] - 0s 1ms/step - loss: 13.2897 - mae: 13.2897\n",
      "Epoch 267/500\n",
      "2/2 [==============================] - 0s 2ms/step - loss: 11.0834 - mae: 11.0834\n",
      "Epoch 268/500\n",
      "2/2 [==============================] - 0s 2ms/step - loss: 19.1553 - mae: 19.1553\n",
      "Epoch 269/500\n",
      "2/2 [==============================] - 0s 1ms/step - loss: 40.7131 - mae: 40.7131\n",
      "Epoch 270/500\n",
      "2/2 [==============================] - 0s 999us/step - loss: 12.9349 - mae: 12.9349\n",
      "Epoch 271/500\n",
      "2/2 [==============================] - 0s 1000us/step - loss: 14.7636 - mae: 14.7636\n",
      "Epoch 272/500\n",
      "2/2 [==============================] - 0s 3ms/step - loss: 28.5073 - mae: 28.5073\n",
      "Epoch 273/500\n",
      "2/2 [==============================] - 0s 1000us/step - loss: 7.3779 - mae: 7.3779\n",
      "Epoch 274/500\n",
      "2/2 [==============================] - 0s 1ms/step - loss: 6.3596 - mae: 6.3596\n",
      "Epoch 275/500\n",
      "2/2 [==============================] - 0s 2ms/step - loss: 36.9274 - mae: 36.9274\n",
      "Epoch 276/500\n",
      "2/2 [==============================] - 0s 2ms/step - loss: 8.2960 - mae: 8.2960\n",
      "Epoch 277/500\n",
      "2/2 [==============================] - 0s 2ms/step - loss: 27.7451 - mae: 27.7451\n",
      "Epoch 278/500\n",
      "2/2 [==============================] - 0s 2ms/step - loss: 10.6735 - mae: 10.6735\n",
      "Epoch 279/500\n",
      "2/2 [==============================] - 0s 2ms/step - loss: 16.1047 - mae: 16.1047\n",
      "Epoch 280/500\n",
      "2/2 [==============================] - 0s 2ms/step - loss: 21.2231 - mae: 21.2231\n",
      "Epoch 281/500\n",
      "2/2 [==============================] - 0s 2ms/step - loss: 23.8232 - mae: 23.8232\n",
      "Epoch 282/500\n",
      "2/2 [==============================] - 0s 3ms/step - loss: 8.2749 - mae: 8.2749\n",
      "Epoch 283/500\n",
      "2/2 [==============================] - 0s 2ms/step - loss: 8.4518 - mae: 8.4518\n",
      "Epoch 284/500\n",
      "2/2 [==============================] - 0s 2ms/step - loss: 26.6647 - mae: 26.6647\n",
      "Epoch 285/500\n",
      "2/2 [==============================] - 0s 2ms/step - loss: 14.2586 - mae: 14.2586\n",
      "Epoch 286/500\n",
      "2/2 [==============================] - 0s 999us/step - loss: 5.2652 - mae: 5.2652\n",
      "Epoch 287/500\n",
      "2/2 [==============================] - 0s 2ms/step - loss: 20.8012 - mae: 20.8012\n",
      "Epoch 288/500\n",
      "2/2 [==============================] - 0s 1ms/step - loss: 27.6633 - mae: 27.6633\n",
      "Epoch 289/500\n",
      "2/2 [==============================] - 0s 1ms/step - loss: 10.4222 - mae: 10.4222\n",
      "Epoch 290/500\n",
      "2/2 [==============================] - 0s 2ms/step - loss: 16.2950 - mae: 16.2950\n",
      "Epoch 291/500\n",
      "2/2 [==============================] - 0s 1000us/step - loss: 16.4780 - mae: 16.4780\n",
      "Epoch 292/500\n",
      "2/2 [==============================] - 0s 2ms/step - loss: 7.4234 - mae: 7.4234\n",
      "Epoch 293/500\n",
      "2/2 [==============================] - 0s 2ms/step - loss: 16.5377 - mae: 16.5377\n",
      "Epoch 294/500\n",
      "2/2 [==============================] - 0s 1ms/step - loss: 25.3146 - mae: 25.3146\n",
      "Epoch 295/500\n",
      "2/2 [==============================] - 0s 1ms/step - loss: 14.6234 - mae: 14.6234\n",
      "Epoch 296/500\n",
      "2/2 [==============================] - 0s 2ms/step - loss: 4.5173 - mae: 4.5173\n",
      "Epoch 297/500\n",
      "2/2 [==============================] - 0s 2ms/step - loss: 9.6866 - mae: 9.6866\n",
      "Epoch 298/500\n",
      "2/2 [==============================] - 0s 2ms/step - loss: 23.8195 - mae: 23.8195\n",
      "Epoch 299/500\n",
      "2/2 [==============================] - 0s 2ms/step - loss: 18.9268 - mae: 18.9268\n",
      "Epoch 300/500\n",
      "2/2 [==============================] - 0s 2ms/step - loss: 8.7770 - mae: 8.7770\n",
      "Epoch 301/500\n",
      "2/2 [==============================] - 0s 2ms/step - loss: 15.8025 - mae: 15.8025\n",
      "Epoch 302/500\n",
      "2/2 [==============================] - 0s 2ms/step - loss: 6.5916 - mae: 6.5916\n",
      "Epoch 303/500\n",
      "2/2 [==============================] - 0s 1ms/step - loss: 21.5731 - mae: 21.5731\n",
      "Epoch 304/500\n",
      "2/2 [==============================] - 0s 2ms/step - loss: 25.8926 - mae: 25.8926\n",
      "Epoch 305/500\n",
      "2/2 [==============================] - 0s 2ms/step - loss: 8.9996 - mae: 8.9996\n",
      "Epoch 306/500\n",
      "2/2 [==============================] - 0s 1ms/step - loss: 21.6466 - mae: 21.6466\n",
      "Epoch 307/500\n",
      "2/2 [==============================] - 0s 2ms/step - loss: 8.2832 - mae: 8.2832\n",
      "Epoch 308/500\n",
      "2/2 [==============================] - 0s 2ms/step - loss: 20.9686 - mae: 20.9686\n",
      "Epoch 309/500\n",
      "2/2 [==============================] - 0s 2ms/step - loss: 19.1728 - mae: 19.1728\n",
      "Epoch 310/500\n",
      "2/2 [==============================] - 0s 999us/step - loss: 5.9775 - mae: 5.9775\n",
      "Epoch 311/500\n",
      "2/2 [==============================] - 0s 2ms/step - loss: 8.8126 - mae: 8.8126\n",
      "Epoch 312/500\n",
      "2/2 [==============================] - 0s 2ms/step - loss: 29.8986 - mae: 29.8986\n",
      "Epoch 313/500\n",
      "2/2 [==============================] - 0s 1ms/step - loss: 7.7830 - mae: 7.7830\n",
      "Epoch 314/500\n",
      "2/2 [==============================] - 0s 1ms/step - loss: 9.8880 - mae: 9.8880\n",
      "Epoch 315/500\n",
      "2/2 [==============================] - 0s 2ms/step - loss: 23.6733 - mae: 23.6733\n",
      "Epoch 316/500\n",
      "2/2 [==============================] - 0s 2ms/step - loss: 14.2522 - mae: 14.2522\n",
      "Epoch 317/500\n",
      "2/2 [==============================] - 0s 2ms/step - loss: 19.7347 - mae: 19.7347\n",
      "Epoch 318/500\n",
      "2/2 [==============================] - 0s 2ms/step - loss: 7.9293 - mae: 7.9293\n",
      "Epoch 319/500\n",
      "2/2 [==============================] - 0s 2ms/step - loss: 17.8909 - mae: 17.8909\n",
      "Epoch 320/500\n",
      "2/2 [==============================] - 0s 999us/step - loss: 10.1962 - mae: 10.1962\n",
      "Epoch 321/500\n",
      "2/2 [==============================] - 0s 1ms/step - loss: 8.3087 - mae: 8.3087\n",
      "Epoch 322/500\n",
      "2/2 [==============================] - 0s 2ms/step - loss: 4.3678 - mae: 4.3678\n",
      "Epoch 323/500\n",
      "2/2 [==============================] - 0s 2ms/step - loss: 23.7495 - mae: 23.7495\n",
      "Epoch 324/500\n",
      "2/2 [==============================] - 0s 2ms/step - loss: 6.8963 - mae: 6.8963\n",
      "Epoch 325/500\n",
      "2/2 [==============================] - 0s 2ms/step - loss: 16.5635 - mae: 16.5635\n",
      "Epoch 326/500\n",
      "2/2 [==============================] - 0s 999us/step - loss: 7.5677 - mae: 7.5677\n",
      "Epoch 327/500\n",
      "2/2 [==============================] - 0s 1000us/step - loss: 20.2821 - mae: 20.2821\n",
      "Epoch 328/500\n",
      "2/2 [==============================] - 0s 2ms/step - loss: 13.7174 - mae: 13.7174\n",
      "Epoch 329/500\n",
      "2/2 [==============================] - 0s 2ms/step - loss: 16.7629 - mae: 16.7629\n",
      "Epoch 330/500\n",
      "2/2 [==============================] - 0s 1000us/step - loss: 7.1001 - mae: 7.1001\n",
      "Epoch 331/500\n",
      "2/2 [==============================] - 0s 2ms/step - loss: 21.6531 - mae: 21.6531\n",
      "Epoch 332/500\n",
      "2/2 [==============================] - 0s 2ms/step - loss: 12.7269 - mae: 12.7269\n",
      "Epoch 333/500\n",
      "2/2 [==============================] - 0s 2ms/step - loss: 9.0006 - mae: 9.0006\n",
      "Epoch 334/500\n",
      "2/2 [==============================] - 0s 2ms/step - loss: 9.7558 - mae: 9.7558\n",
      "Epoch 335/500\n",
      "2/2 [==============================] - 0s 1ms/step - loss: 5.9612 - mae: 5.9612\n",
      "Epoch 336/500\n",
      "2/2 [==============================] - 0s 2ms/step - loss: 31.7674 - mae: 31.7674\n",
      "Epoch 337/500\n",
      "2/2 [==============================] - 0s 2ms/step - loss: 9.1649 - mae: 9.1649\n",
      "Epoch 338/500\n",
      "2/2 [==============================] - 0s 2ms/step - loss: 19.5516 - mae: 19.5516\n",
      "Epoch 339/500\n",
      "2/2 [==============================] - 0s 2ms/step - loss: 35.4707 - mae: 35.4707\n",
      "Epoch 340/500\n",
      "2/2 [==============================] - 0s 2ms/step - loss: 10.5570 - mae: 10.5570\n",
      "Epoch 341/500\n",
      "2/2 [==============================] - 0s 2ms/step - loss: 10.1522 - mae: 10.1522\n",
      "Epoch 342/500\n"
     ]
    },
    {
     "name": "stdout",
     "output_type": "stream",
     "text": [
      "2/2 [==============================] - 0s 1000us/step - loss: 13.2713 - mae: 13.2713\n",
      "Epoch 343/500\n",
      "2/2 [==============================] - 0s 1ms/step - loss: 11.0181 - mae: 11.0181\n",
      "Epoch 344/500\n",
      "2/2 [==============================] - 0s 2ms/step - loss: 9.9100 - mae: 9.9100\n",
      "Epoch 345/500\n",
      "2/2 [==============================] - 0s 2ms/step - loss: 30.9880 - mae: 30.9880\n",
      "Epoch 346/500\n",
      "2/2 [==============================] - 0s 2ms/step - loss: 10.6683 - mae: 10.6683\n",
      "Epoch 347/500\n",
      "2/2 [==============================] - 0s 1000us/step - loss: 25.6632 - mae: 25.6632\n",
      "Epoch 348/500\n",
      "2/2 [==============================] - 0s 1ms/step - loss: 13.0321 - mae: 13.0321\n",
      "Epoch 349/500\n",
      "2/2 [==============================] - 0s 2ms/step - loss: 13.0952 - mae: 13.0952\n",
      "Epoch 350/500\n",
      "2/2 [==============================] - 0s 2ms/step - loss: 15.4092 - mae: 15.4092\n",
      "Epoch 351/500\n",
      "2/2 [==============================] - 0s 2ms/step - loss: 32.9235 - mae: 32.9235\n",
      "Epoch 352/500\n",
      "2/2 [==============================] - 0s 2ms/step - loss: 14.1373 - mae: 14.1373\n",
      "Epoch 353/500\n",
      "2/2 [==============================] - 0s 2ms/step - loss: 15.8667 - mae: 15.8667\n",
      "Epoch 354/500\n",
      "2/2 [==============================] - 0s 2ms/step - loss: 18.9767 - mae: 18.9767\n",
      "Epoch 355/500\n",
      "2/2 [==============================] - 0s 1ms/step - loss: 34.4283 - mae: 34.4283\n",
      "Epoch 356/500\n",
      "2/2 [==============================] - 0s 1ms/step - loss: 8.3011 - mae: 8.3011\n",
      "Epoch 357/500\n",
      "2/2 [==============================] - 0s 2ms/step - loss: 21.9224 - mae: 21.9224\n",
      "Epoch 358/500\n",
      "2/2 [==============================] - 0s 1ms/step - loss: 20.0612 - mae: 20.0612\n",
      "Epoch 359/500\n",
      "2/2 [==============================] - 0s 2ms/step - loss: 11.0229 - mae: 11.0229\n",
      "Epoch 360/500\n",
      "2/2 [==============================] - 0s 2ms/step - loss: 20.2465 - mae: 20.2465\n",
      "Epoch 361/500\n",
      "2/2 [==============================] - 0s 1ms/step - loss: 11.0388 - mae: 11.0388\n",
      "Epoch 362/500\n",
      "2/2 [==============================] - 0s 1ms/step - loss: 6.7983 - mae: 6.7983\n",
      "Epoch 363/500\n",
      "2/2 [==============================] - 0s 3ms/step - loss: 24.0631 - mae: 24.0631\n",
      "Epoch 364/500\n",
      "2/2 [==============================] - 0s 1000us/step - loss: 29.8464 - mae: 29.8464\n",
      "Epoch 365/500\n",
      "2/2 [==============================] - 0s 1ms/step - loss: 8.3557 - mae: 8.3557\n",
      "Epoch 366/500\n",
      "2/2 [==============================] - 0s 2ms/step - loss: 6.0681 - mae: 6.0681\n",
      "Epoch 367/500\n",
      "2/2 [==============================] - 0s 2ms/step - loss: 35.0533 - mae: 35.0533\n",
      "Epoch 368/500\n",
      "2/2 [==============================] - 0s 2ms/step - loss: 7.4107 - mae: 7.4107\n",
      "Epoch 369/500\n",
      "2/2 [==============================] - 0s 2ms/step - loss: 9.6487 - mae: 9.6487\n",
      "Epoch 370/500\n",
      "2/2 [==============================] - 0s 3ms/step - loss: 7.7624 - mae: 7.7624\n",
      "Epoch 371/500\n",
      "2/2 [==============================] - 0s 2ms/step - loss: 20.0219 - mae: 20.0219\n",
      "Epoch 372/500\n",
      "2/2 [==============================] - 0s 2ms/step - loss: 12.5231 - mae: 12.5231\n",
      "Epoch 373/500\n",
      "2/2 [==============================] - 0s 2ms/step - loss: 26.4383 - mae: 26.4383\n",
      "Epoch 374/500\n",
      "2/2 [==============================] - 0s 2ms/step - loss: 9.2169 - mae: 9.2169\n",
      "Epoch 375/500\n",
      "2/2 [==============================] - 0s 2ms/step - loss: 4.8652 - mae: 4.8652\n",
      "Epoch 376/500\n",
      "2/2 [==============================] - 0s 2ms/step - loss: 17.5978 - mae: 17.5978\n",
      "Epoch 377/500\n",
      "2/2 [==============================] - 0s 999us/step - loss: 14.2598 - mae: 14.2598\n",
      "Epoch 378/500\n",
      "2/2 [==============================] - 0s 2ms/step - loss: 15.9084 - mae: 15.9084\n",
      "Epoch 379/500\n",
      "2/2 [==============================] - 0s 2ms/step - loss: 19.9833 - mae: 19.9833\n",
      "Epoch 380/500\n",
      "2/2 [==============================] - 0s 1ms/step - loss: 36.1650 - mae: 36.1650\n",
      "Epoch 381/500\n",
      "2/2 [==============================] - 0s 2ms/step - loss: 10.5359 - mae: 10.5359\n",
      "Epoch 382/500\n",
      "2/2 [==============================] - 0s 2ms/step - loss: 7.8071 - mae: 7.8071\n",
      "Epoch 383/500\n",
      "2/2 [==============================] - 0s 3ms/step - loss: 18.4076 - mae: 18.4076\n",
      "Epoch 384/500\n",
      "2/2 [==============================] - 0s 1ms/step - loss: 7.9158 - mae: 7.9158\n",
      "Epoch 385/500\n",
      "2/2 [==============================] - 0s 2ms/step - loss: 9.9863 - mae: 9.9863\n",
      "Epoch 386/500\n",
      "2/2 [==============================] - 0s 2ms/step - loss: 19.5143 - mae: 19.5143\n",
      "Epoch 387/500\n",
      "2/2 [==============================] - 0s 1ms/step - loss: 25.6443 - mae: 25.6443\n",
      "Epoch 388/500\n",
      "2/2 [==============================] - 0s 1000us/step - loss: 9.3523 - mae: 9.3523\n",
      "Epoch 389/500\n",
      "2/2 [==============================] - 0s 2ms/step - loss: 5.4231 - mae: 5.4231\n",
      "Epoch 390/500\n",
      "2/2 [==============================] - 0s 2ms/step - loss: 21.2451 - mae: 21.2451\n",
      "Epoch 391/500\n",
      "2/2 [==============================] - 0s 2ms/step - loss: 5.6028 - mae: 5.6028\n",
      "Epoch 392/500\n",
      "2/2 [==============================] - 0s 1000us/step - loss: 16.4058 - mae: 16.4058\n",
      "Epoch 393/500\n",
      "2/2 [==============================] - 0s 2ms/step - loss: 9.1881 - mae: 9.1881\n",
      "Epoch 394/500\n",
      "2/2 [==============================] - 0s 1000us/step - loss: 14.0719 - mae: 14.0719\n",
      "Epoch 395/500\n",
      "2/2 [==============================] - 0s 1ms/step - loss: 28.4518 - mae: 28.4518\n",
      "Epoch 396/500\n",
      "2/2 [==============================] - 0s 2ms/step - loss: 8.4275 - mae: 8.4275\n",
      "Epoch 397/500\n",
      "2/2 [==============================] - 0s 2ms/step - loss: 11.2864 - mae: 11.2864\n",
      "Epoch 398/500\n",
      "2/2 [==============================] - 0s 2ms/step - loss: 6.8402 - mae: 6.8402\n",
      "Epoch 399/500\n",
      "2/2 [==============================] - 0s 2ms/step - loss: 14.1921 - mae: 14.1921\n",
      "Epoch 400/500\n",
      "2/2 [==============================] - 0s 1000us/step - loss: 6.6510 - mae: 6.6510\n",
      "Epoch 401/500\n",
      "2/2 [==============================] - 0s 1ms/step - loss: 8.3886 - mae: 8.3886\n",
      "Epoch 402/500\n",
      "2/2 [==============================] - 0s 1ms/step - loss: 14.9049 - mae: 14.9049\n",
      "Epoch 403/500\n",
      "2/2 [==============================] - 0s 2ms/step - loss: 12.2875 - mae: 12.2875\n",
      "Epoch 404/500\n",
      "2/2 [==============================] - 0s 2ms/step - loss: 22.8553 - mae: 22.8553\n",
      "Epoch 405/500\n",
      "2/2 [==============================] - 0s 1ms/step - loss: 18.2534 - mae: 18.2534\n",
      "Epoch 406/500\n",
      "2/2 [==============================] - 0s 2ms/step - loss: 7.0218 - mae: 7.0218\n",
      "Epoch 407/500\n",
      "2/2 [==============================] - 0s 999us/step - loss: 12.7433 - mae: 12.7433\n",
      "Epoch 408/500\n",
      "2/2 [==============================] - 0s 1ms/step - loss: 5.6005 - mae: 5.6005\n",
      "Epoch 409/500\n",
      "2/2 [==============================] - 0s 2ms/step - loss: 31.5441 - mae: 31.5441\n",
      "Epoch 410/500\n",
      "2/2 [==============================] - 0s 3ms/step - loss: 9.1426 - mae: 9.1426\n",
      "Epoch 411/500\n",
      "2/2 [==============================] - 0s 2ms/step - loss: 14.7925 - mae: 14.7925\n",
      "Epoch 412/500\n",
      "2/2 [==============================] - 0s 1ms/step - loss: 21.6370 - mae: 21.6370\n",
      "Epoch 413/500\n",
      "2/2 [==============================] - 0s 2ms/step - loss: 12.9381 - mae: 12.9381\n",
      "Epoch 414/500\n",
      "2/2 [==============================] - 0s 2ms/step - loss: 8.2973 - mae: 8.2973\n",
      "Epoch 415/500\n",
      "2/2 [==============================] - 0s 999us/step - loss: 11.7108 - mae: 11.7108\n",
      "Epoch 416/500\n",
      "2/2 [==============================] - 0s 2ms/step - loss: 25.6805 - mae: 25.6805\n",
      "Epoch 417/500\n",
      "2/2 [==============================] - 0s 1ms/step - loss: 15.5865 - mae: 15.5865\n",
      "Epoch 418/500\n",
      "2/2 [==============================] - 0s 3ms/step - loss: 12.6103 - mae: 12.6103\n",
      "Epoch 419/500\n",
      "2/2 [==============================] - 0s 2ms/step - loss: 15.7243 - mae: 15.7243\n",
      "Epoch 420/500\n",
      "2/2 [==============================] - 0s 2ms/step - loss: 24.4676 - mae: 24.4676\n",
      "Epoch 421/500\n",
      "2/2 [==============================] - 0s 2ms/step - loss: 18.1652 - mae: 18.1652\n",
      "Epoch 422/500\n",
      "2/2 [==============================] - 0s 2ms/step - loss: 8.5895 - mae: 8.5895\n",
      "Epoch 423/500\n",
      "2/2 [==============================] - 0s 1ms/step - loss: 24.6521 - mae: 24.6521\n",
      "Epoch 424/500\n",
      "2/2 [==============================] - 0s 1ms/step - loss: 16.8491 - mae: 16.8491\n",
      "Epoch 425/500\n",
      "2/2 [==============================] - 0s 2ms/step - loss: 7.2375 - mae: 7.2375\n",
      "Epoch 426/500\n",
      "2/2 [==============================] - 0s 2ms/step - loss: 21.0395 - mae: 21.0395\n",
      "Epoch 427/500\n"
     ]
    },
    {
     "name": "stdout",
     "output_type": "stream",
     "text": [
      "2/2 [==============================] - 0s 1ms/step - loss: 6.4344 - mae: 6.4344\n",
      "Epoch 428/500\n",
      "2/2 [==============================] - 0s 2ms/step - loss: 13.5165 - mae: 13.5165\n",
      "Epoch 429/500\n",
      "2/2 [==============================] - 0s 2ms/step - loss: 11.5002 - mae: 11.5002\n",
      "Epoch 430/500\n",
      "2/2 [==============================] - 0s 1ms/step - loss: 10.2537 - mae: 10.2537\n",
      "Epoch 431/500\n",
      "2/2 [==============================] - 0s 1000us/step - loss: 11.5421 - mae: 11.5421\n",
      "Epoch 432/500\n",
      "2/2 [==============================] - 0s 2ms/step - loss: 9.9476 - mae: 9.9476\n",
      "Epoch 433/500\n",
      "2/2 [==============================] - 0s 2ms/step - loss: 3.4855 - mae: 3.4855\n",
      "Epoch 434/500\n",
      "2/2 [==============================] - 0s 2ms/step - loss: 37.2906 - mae: 37.2906\n",
      "Epoch 435/500\n",
      "2/2 [==============================] - 0s 2ms/step - loss: 14.1289 - mae: 14.1289\n",
      "Epoch 436/500\n",
      "2/2 [==============================] - 0s 2ms/step - loss: 12.3347 - mae: 12.3347\n",
      "Epoch 437/500\n",
      "2/2 [==============================] - 0s 2ms/step - loss: 16.2545 - mae: 16.2545\n",
      "Epoch 438/500\n",
      "2/2 [==============================] - 0s 3ms/step - loss: 13.9289 - mae: 13.9289\n",
      "Epoch 439/500\n",
      "2/2 [==============================] - 0s 2ms/step - loss: 31.9888 - mae: 31.9888\n",
      "Epoch 440/500\n",
      "2/2 [==============================] - 0s 2ms/step - loss: 12.4703 - mae: 12.4703\n",
      "Epoch 441/500\n",
      "2/2 [==============================] - 0s 2ms/step - loss: 15.7594 - mae: 15.7594\n",
      "Epoch 442/500\n",
      "2/2 [==============================] - 0s 2ms/step - loss: 23.6823 - mae: 23.6823\n",
      "Epoch 443/500\n",
      "2/2 [==============================] - 0s 2ms/step - loss: 20.1632 - mae: 20.1632\n",
      "Epoch 444/500\n",
      "2/2 [==============================] - 0s 2ms/step - loss: 8.7908 - mae: 8.7908\n",
      "Epoch 445/500\n",
      "2/2 [==============================] - 0s 2ms/step - loss: 13.9937 - mae: 13.9937\n",
      "Epoch 446/500\n",
      "2/2 [==============================] - 0s 2ms/step - loss: 16.6588 - mae: 16.6588\n",
      "Epoch 447/500\n",
      "2/2 [==============================] - 0s 1ms/step - loss: 6.7644 - mae: 6.7644\n",
      "Epoch 448/500\n",
      "2/2 [==============================] - 0s 1ms/step - loss: 5.9974 - mae: 5.9974\n",
      "Epoch 449/500\n",
      "2/2 [==============================] - 0s 2ms/step - loss: 16.2219 - mae: 16.2219\n",
      "Epoch 450/500\n",
      "2/2 [==============================] - 0s 2ms/step - loss: 15.1430 - mae: 15.1430\n",
      "Epoch 451/500\n",
      "2/2 [==============================] - 0s 1ms/step - loss: 16.8062 - mae: 16.8062\n",
      "Epoch 452/500\n",
      "2/2 [==============================] - 0s 1000us/step - loss: 46.3319 - mae: 46.3319\n",
      "Epoch 453/500\n",
      "2/2 [==============================] - 0s 3ms/step - loss: 26.7304 - mae: 26.7304\n",
      "Epoch 454/500\n",
      "2/2 [==============================] - 0s 2ms/step - loss: 23.4064 - mae: 23.4064\n",
      "Epoch 455/500\n",
      "2/2 [==============================] - 0s 2ms/step - loss: 8.8117 - mae: 8.8117\n",
      "Epoch 456/500\n",
      "2/2 [==============================] - 0s 2ms/step - loss: 12.9275 - mae: 12.9275\n",
      "Epoch 457/500\n",
      "2/2 [==============================] - 0s 2ms/step - loss: 16.2093 - mae: 16.2093\n",
      "Epoch 458/500\n",
      "2/2 [==============================] - 0s 1ms/step - loss: 13.1330 - mae: 13.1330\n",
      "Epoch 459/500\n",
      "2/2 [==============================] - 0s 1ms/step - loss: 24.1919 - mae: 24.1919\n",
      "Epoch 460/500\n",
      "2/2 [==============================] - 0s 2ms/step - loss: 19.4737 - mae: 19.4737\n",
      "Epoch 461/500\n",
      "2/2 [==============================] - 0s 1ms/step - loss: 9.6723 - mae: 9.6723\n",
      "Epoch 462/500\n",
      "2/2 [==============================] - 0s 1ms/step - loss: 12.9511 - mae: 12.9511\n",
      "Epoch 463/500\n",
      "2/2 [==============================] - 0s 1ms/step - loss: 28.8215 - mae: 28.8215\n",
      "Epoch 464/500\n",
      "2/2 [==============================] - 0s 2ms/step - loss: 7.4849 - mae: 7.4849\n",
      "Epoch 465/500\n",
      "2/2 [==============================] - 0s 2ms/step - loss: 15.8021 - mae: 15.8021\n",
      "Epoch 466/500\n",
      "2/2 [==============================] - 0s 2ms/step - loss: 9.3110 - mae: 9.3110\n",
      "Epoch 467/500\n",
      "2/2 [==============================] - 0s 2ms/step - loss: 21.4367 - mae: 21.4367\n",
      "Epoch 468/500\n",
      "2/2 [==============================] - 0s 2ms/step - loss: 24.0330 - mae: 24.0330\n",
      "Epoch 469/500\n",
      "2/2 [==============================] - 0s 1000us/step - loss: 21.4717 - mae: 21.4717\n",
      "Epoch 470/500\n",
      "2/2 [==============================] - 0s 1000us/step - loss: 9.7160 - mae: 9.7160\n",
      "Epoch 471/500\n",
      "2/2 [==============================] - 0s 2ms/step - loss: 16.2657 - mae: 16.2657\n",
      "Epoch 472/500\n",
      "2/2 [==============================] - 0s 2ms/step - loss: 14.8565 - mae: 14.8565\n",
      "Epoch 473/500\n",
      "2/2 [==============================] - 0s 1000us/step - loss: 18.1377 - mae: 18.1377\n",
      "Epoch 474/500\n",
      "2/2 [==============================] - 0s 1ms/step - loss: 42.4284 - mae: 42.4284\n",
      "Epoch 475/500\n",
      "2/2 [==============================] - 0s 1000us/step - loss: 18.1261 - mae: 18.1261\n",
      "Epoch 476/500\n",
      "2/2 [==============================] - 0s 3ms/step - loss: 13.1632 - mae: 13.1632\n",
      "Epoch 477/500\n",
      "2/2 [==============================] - 0s 1ms/step - loss: 29.2136 - mae: 29.2136\n",
      "Epoch 478/500\n",
      "2/2 [==============================] - 0s 2ms/step - loss: 5.7918 - mae: 5.7918\n",
      "Epoch 479/500\n",
      "2/2 [==============================] - 0s 1000us/step - loss: 6.3484 - mae: 6.3484\n",
      "Epoch 480/500\n",
      "2/2 [==============================] - 0s 2ms/step - loss: 20.0199 - mae: 20.0199\n",
      "Epoch 481/500\n",
      "2/2 [==============================] - 0s 2ms/step - loss: 25.1286 - mae: 25.1286\n",
      "Epoch 482/500\n",
      "2/2 [==============================] - 0s 1000us/step - loss: 13.7012 - mae: 13.7012\n",
      "Epoch 483/500\n",
      "2/2 [==============================] - 0s 2ms/step - loss: 8.7333 - mae: 8.7333\n",
      "Epoch 484/500\n",
      "2/2 [==============================] - 0s 2ms/step - loss: 27.7793 - mae: 27.7793\n",
      "Epoch 485/500\n",
      "2/2 [==============================] - 0s 2ms/step - loss: 9.2581 - mae: 9.2581\n",
      "Epoch 486/500\n",
      "2/2 [==============================] - 0s 1ms/step - loss: 4.2778 - mae: 4.2778\n",
      "Epoch 487/500\n",
      "2/2 [==============================] - 0s 2ms/step - loss: 11.3823 - mae: 11.3823\n",
      "Epoch 488/500\n",
      "2/2 [==============================] - 0s 2ms/step - loss: 27.0984 - mae: 27.0984\n",
      "Epoch 489/500\n",
      "2/2 [==============================] - 0s 2ms/step - loss: 5.2158 - mae: 5.2158\n",
      "Epoch 490/500\n",
      "2/2 [==============================] - 0s 2ms/step - loss: 5.9881 - mae: 5.9881\n",
      "Epoch 491/500\n",
      "2/2 [==============================] - 0s 1ms/step - loss: 18.9388 - mae: 18.9388\n",
      "Epoch 492/500\n",
      "2/2 [==============================] - 0s 2ms/step - loss: 7.4018 - mae: 7.4018\n",
      "Epoch 493/500\n",
      "2/2 [==============================] - 0s 2ms/step - loss: 18.2780 - mae: 18.2780\n",
      "Epoch 494/500\n",
      "2/2 [==============================] - 0s 2ms/step - loss: 18.4778 - mae: 18.4778\n",
      "Epoch 495/500\n",
      "2/2 [==============================] - 0s 2ms/step - loss: 6.2904 - mae: 6.2904\n",
      "Epoch 496/500\n",
      "2/2 [==============================] - 0s 2ms/step - loss: 6.3582 - mae: 6.3582\n",
      "Epoch 497/500\n",
      "2/2 [==============================] - 0s 2ms/step - loss: 13.7646 - mae: 13.7646\n",
      "Epoch 498/500\n",
      "2/2 [==============================] - 0s 2ms/step - loss: 6.7267 - mae: 6.7267\n",
      "Epoch 499/500\n",
      "2/2 [==============================] - 0s 2ms/step - loss: 17.6626 - mae: 17.6626\n",
      "Epoch 500/500\n",
      "2/2 [==============================] - 0s 2ms/step - loss: 14.2464 - mae: 14.2464\n"
     ]
    },
    {
     "data": {
      "text/plain": [
       "<keras.callbacks.History at 0x1f7df6d7700>"
      ]
     },
     "execution_count": 120,
     "metadata": {},
     "output_type": "execute_result"
    }
   ],
   "source": [
    "# Build model 3\n",
    "\n",
    "model_3 = tf.keras.Sequential([\n",
    "    tf.keras.layers.Dense(100),\n",
    "    tf.keras.layers.Dense(1)\n",
    "])\n",
    "\n",
    "model_3.compile(loss = tf.keras.losses.mae,\n",
    "               optimizer = tf.keras.optimizers.SGD(),\n",
    "               metrics = ['mae'])\n",
    "\n",
    "model_3.fit(tf.expand_dims(X_train,axis=-1),y_train,epochs =500)"
   ]
  },
  {
   "cell_type": "code",
   "execution_count": 121,
   "id": "91c70f4a",
   "metadata": {},
   "outputs": [
    {
     "data": {
      "image/png": "[encoded data removed]",
      "text/plain": [
       "<Figure size 720x504 with 1 Axes>"
      ]
     },
     "metadata": {
      "needs_background": "light"
     },
     "output_type": "display_data"
    }
   ],
   "source": [
    "# Visualaztion\n",
    "\n",
    "y_pred_3 = model_3.predict(X_test)\n",
    "plot_predictions(predictions=y_pred_3)\n",
    "\n",
    "# OverFitting!!!"
   ]
  },
  {
   "cell_type": "code",
   "execution_count": 122,
   "id": "6ef00cd6",
   "metadata": {},
   "outputs": [
    {
     "data": {
      "text/plain": [
       "(<tf.Tensor: shape=(), dtype=float32, numpy=67.42992>,\n",
       " <tf.Tensor: shape=(), dtype=float32, numpy=4630.3647>)"
      ]
     },
     "execution_count": 122,
     "metadata": {},
     "output_type": "execute_result"
    }
   ],
   "source": [
    "# Evaluation\n",
    "\n",
    "mae_3 = mae(y_test,y_pred_3)\n",
    "mse_3 = mse(y_test,y_pred_3)\n",
    "\n",
    "mae_3,mse_3"
   ]
  },
  {
   "cell_type": "markdown",
   "id": "24b70078",
   "metadata": {},
   "source": [
    "# Comparing our Results"
   ]
  },
  {
   "cell_type": "code",
   "execution_count": 123,
   "id": "7c4b7125",
   "metadata": {},
   "outputs": [],
   "source": [
    "# Compare model's results using a pandas DataFrame\n",
    "\n",
    "import pandas as pd"
   ]
  },
  {
   "cell_type": "code",
   "execution_count": 126,
   "id": "47daf80e",
   "metadata": {},
   "outputs": [
    {
     "data": {
      "text/html": [
       "<div>\n",
       "<style scoped>\n",
       "    .dataframe tbody tr th:only-of-type {\n",
       "        vertical-align: middle;\n",
       "    }\n",
       "\n",
       "    .dataframe tbody tr th {\n",
       "        vertical-align: top;\n",
       "    }\n",
       "\n",
       "    .dataframe thead th {\n",
       "        text-align: right;\n",
       "    }\n",
       "</style>\n",
       "<table border=\"1\" class=\"dataframe\">\n",
       "  <thead>\n",
       "    <tr style=\"text-align: right;\">\n",
       "      <th></th>\n",
       "      <th>model</th>\n",
       "      <th>mae</th>\n",
       "      <th>mse</th>\n",
       "    </tr>\n",
       "  </thead>\n",
       "  <tbody>\n",
       "    <tr>\n",
       "      <th>0</th>\n",
       "      <td>model_1</td>\n",
       "      <td>18.745327</td>\n",
       "      <td>353.573364</td>\n",
       "    </tr>\n",
       "    <tr>\n",
       "      <th>1</th>\n",
       "      <td>model_2</td>\n",
       "      <td>2.001315</td>\n",
       "      <td>5.922986</td>\n",
       "    </tr>\n",
       "    <tr>\n",
       "      <th>2</th>\n",
       "      <td>model_3</td>\n",
       "      <td>67.429916</td>\n",
       "      <td>4630.364746</td>\n",
       "    </tr>\n",
       "  </tbody>\n",
       "</table>\n",
       "</div>"
      ],
      "text/plain": [
       "     model        mae          mse\n",
       "0  model_1  18.745327   353.573364\n",
       "1  model_2   2.001315     5.922986\n",
       "2  model_3  67.429916  4630.364746"
      ]
     },
     "execution_count": 126,
     "metadata": {},
     "output_type": "execute_result"
    }
   ],
   "source": [
    "model_results = [[\"model_1\",mae_1.numpy(),mse_1.numpy()],\n",
    "                [\"model_2\",mae_2.numpy(),mse_2.numpy()],\n",
    "                [\"model_3\",mae_3.numpy(),mse_3.numpy()]]\n",
    "\n",
    "all_results = pd.DataFrame(model_results,columns = [\"model\",\"mae\",\"mse\"])\n",
    "all_results"
   ]
  },
  {
   "cell_type": "code",
   "execution_count": 127,
   "id": "2d6ed965",
   "metadata": {},
   "outputs": [
    {
     "name": "stdout",
     "output_type": "stream",
     "text": [
      "Model: \"sequential_13\"\n",
      "_________________________________________________________________\n",
      " Layer (type)                Output Shape              Param #   \n",
      "=================================================================\n",
      " dense_17 (Dense)            (None, 100)               200       \n",
      "                                                                 \n",
      " dense_18 (Dense)            (None, 1)                 101       \n",
      "                                                                 \n",
      "=================================================================\n",
      "Total params: 301\n",
      "Trainable params: 301\n",
      "Non-trainable params: 0\n",
      "_________________________________________________________________\n"
     ]
    }
   ],
   "source": [
    "model_2.summary()"
   ]
  },
  {
   "cell_type": "markdown",
   "id": "04f0f8dd",
   "metadata": {},
   "source": [
    "**Main goal should be to minimize the time between the experiments, The more experiments, the more things will be figured out which don't work and in turn, get closer to figuring out what does work.**\n",
    "# Remember the ML practioner's motto : Experiment, Experiment, Experiment"
   ]
  },
  {
   "cell_type": "markdown",
   "id": "254110df",
   "metadata": {},
   "source": [
    "## Tracking the expeirments\n",
    "\n",
    "One really good habit in ML modeling is to track the results of experiments.\n",
    "\n",
    "\n",
    "And doing so, it can be tedious if we are running lots of experiments.\n",
    "\n",
    "Luckily, there are tool to help"
   ]
  },
  {
   "cell_type": "markdown",
   "id": "d0600318",
   "metadata": {},
   "source": [
    "**Resource:** As to build more models, to look into using:\n",
    "       \n",
    "* TensorBoard - a componenet of the TensorFlow libraray to help track modelling experiments\n",
    "* Weights & Biases -  a tool for tracking all of kinds of ML experiments (Plugs straight into TensorFlow)"
   ]
  },
  {
   "cell_type": "markdown",
   "id": "77f03782",
   "metadata": {},
   "source": [
    "# Saving Models\n",
    "\n",
    "Saving models allow us to use them outside of the Notebook itself. such as in a web application or a mobile app.\n",
    "\n",
    "\n",
    "There are two main formats to save model:\n",
    "    \n",
    "    1. The SaveModel format\n",
    "    2. The HDF5 format"
   ]
  },
  {
   "cell_type": "code",
   "execution_count": 128,
   "id": "e907368d",
   "metadata": {},
   "outputs": [
    {
     "name": "stdout",
     "output_type": "stream",
     "text": [
      "INFO:tensorflow:Assets written to: Day4_Model2_SaveModel_Format\\assets\n"
     ]
    }
   ],
   "source": [
    "# Save model using SaveModel Format\n",
    "\n",
    "model_2.save(\"Day4_Model2_SaveModel_Format\")"
   ]
  },
  {
   "cell_type": "code",
   "execution_count": 130,
   "id": "c46e45f0",
   "metadata": {},
   "outputs": [],
   "source": [
    "# Save model using the HDF5 format\n",
    "\n",
    "model_2.save(\"Day4_Model2_HDF5_Format.h5\")"
   ]
  },
  {
   "cell_type": "code",
   "execution_count": 132,
   "id": "8ec78fc2",
   "metadata": {},
   "outputs": [
    {
     "name": "stdout",
     "output_type": "stream",
     "text": [
      "Model: \"sequential_13\"\n",
      "_________________________________________________________________\n",
      " Layer (type)                Output Shape              Param #   \n",
      "=================================================================\n",
      " dense_17 (Dense)            (None, 100)               200       \n",
      "                                                                 \n",
      " dense_18 (Dense)            (None, 1)                 101       \n",
      "                                                                 \n",
      "=================================================================\n",
      "Total params: 301\n",
      "Trainable params: 301\n",
      "Non-trainable params: 0\n",
      "_________________________________________________________________\n"
     ]
    }
   ],
   "source": [
    "# Loading in a saved model\n",
    "\n",
    "\n",
    "Loaded_SavedModel_Model = tf.keras.models.load_model(\"./Day4_Model2_SaveModel_Format\")\n",
    "Loaded_SavedModel_Model.summary()"
   ]
  },
  {
   "cell_type": "code",
   "execution_count": 133,
   "id": "f6872112",
   "metadata": {},
   "outputs": [
    {
     "name": "stdout",
     "output_type": "stream",
     "text": [
      "Model: \"sequential_13\"\n",
      "_________________________________________________________________\n",
      " Layer (type)                Output Shape              Param #   \n",
      "=================================================================\n",
      " dense_17 (Dense)            (None, 100)               200       \n",
      "                                                                 \n",
      " dense_18 (Dense)            (None, 1)                 101       \n",
      "                                                                 \n",
      "=================================================================\n",
      "Total params: 301\n",
      "Trainable params: 301\n",
      "Non-trainable params: 0\n",
      "_________________________________________________________________\n"
     ]
    }
   ],
   "source": [
    "model_2.summary()"
   ]
  },
  {
   "cell_type": "code",
   "execution_count": 134,
   "id": "dc5fcb8f",
   "metadata": {},
   "outputs": [
    {
     "data": {
      "text/plain": [
       "array([[ True],\n",
       "       [ True],\n",
       "       [ True],\n",
       "       [ True],\n",
       "       [ True],\n",
       "       [ True],\n",
       "       [ True],\n",
       "       [ True],\n",
       "       [ True],\n",
       "       [ True]])"
      ]
     },
     "execution_count": 134,
     "metadata": {},
     "output_type": "execute_result"
    }
   ],
   "source": [
    "# Compare model_2 predictions with SavedModel format model predictions\n",
    "\n",
    "model_2_preds = model_2.predict(X_test)\n",
    "\n",
    "loaded_SavedModel_format_preds = Loaded_SavedModel_Model.predict(X_test)\n",
    "\n",
    "model_2_preds == loaded_SavedModel_format_preds"
   ]
  },
  {
   "cell_type": "markdown",
   "id": "9a1373b6",
   "metadata": {},
   "source": [
    "# A larger example"
   ]
  },
  {
   "cell_type": "code",
   "execution_count": 136,
   "id": "6142fa88",
   "metadata": {},
   "outputs": [],
   "source": [
    "# Import Required Libraries\n",
    "\n",
    "import tensorflow as tf\n",
    "\n",
    "import pandas as pd\n",
    "import matplotlib.pyplot as plt"
   ]
  },
  {
   "cell_type": "code",
   "execution_count": 138,
   "id": "eed84176",
   "metadata": {},
   "outputs": [
    {
     "data": {
      "text/html": [
       "<div>\n",
       "<style scoped>\n",
       "    .dataframe tbody tr th:only-of-type {\n",
       "        vertical-align: middle;\n",
       "    }\n",
       "\n",
       "    .dataframe tbody tr th {\n",
       "        vertical-align: top;\n",
       "    }\n",
       "\n",
       "    .dataframe thead th {\n",
       "        text-align: right;\n",
       "    }\n",
       "</style>\n",
       "<table border=\"1\" class=\"dataframe\">\n",
       "  <thead>\n",
       "    <tr style=\"text-align: right;\">\n",
       "      <th></th>\n",
       "      <th>age</th>\n",
       "      <th>sex</th>\n",
       "      <th>bmi</th>\n",
       "      <th>children</th>\n",
       "      <th>smoker</th>\n",
       "      <th>region</th>\n",
       "      <th>charges</th>\n",
       "    </tr>\n",
       "  </thead>\n",
       "  <tbody>\n",
       "    <tr>\n",
       "      <th>0</th>\n",
       "      <td>19</td>\n",
       "      <td>female</td>\n",
       "      <td>27.900</td>\n",
       "      <td>0</td>\n",
       "      <td>yes</td>\n",
       "      <td>southwest</td>\n",
       "      <td>16884.92400</td>\n",
       "    </tr>\n",
       "    <tr>\n",
       "      <th>1</th>\n",
       "      <td>18</td>\n",
       "      <td>male</td>\n",
       "      <td>33.770</td>\n",
       "      <td>1</td>\n",
       "      <td>no</td>\n",
       "      <td>southeast</td>\n",
       "      <td>1725.55230</td>\n",
       "    </tr>\n",
       "    <tr>\n",
       "      <th>2</th>\n",
       "      <td>28</td>\n",
       "      <td>male</td>\n",
       "      <td>33.000</td>\n",
       "      <td>3</td>\n",
       "      <td>no</td>\n",
       "      <td>southeast</td>\n",
       "      <td>4449.46200</td>\n",
       "    </tr>\n",
       "    <tr>\n",
       "      <th>3</th>\n",
       "      <td>33</td>\n",
       "      <td>male</td>\n",
       "      <td>22.705</td>\n",
       "      <td>0</td>\n",
       "      <td>no</td>\n",
       "      <td>northwest</td>\n",
       "      <td>21984.47061</td>\n",
       "    </tr>\n",
       "    <tr>\n",
       "      <th>4</th>\n",
       "      <td>32</td>\n",
       "      <td>male</td>\n",
       "      <td>28.880</td>\n",
       "      <td>0</td>\n",
       "      <td>no</td>\n",
       "      <td>northwest</td>\n",
       "      <td>3866.85520</td>\n",
       "    </tr>\n",
       "    <tr>\n",
       "      <th>...</th>\n",
       "      <td>...</td>\n",
       "      <td>...</td>\n",
       "      <td>...</td>\n",
       "      <td>...</td>\n",
       "      <td>...</td>\n",
       "      <td>...</td>\n",
       "      <td>...</td>\n",
       "    </tr>\n",
       "    <tr>\n",
       "      <th>1333</th>\n",
       "      <td>50</td>\n",
       "      <td>male</td>\n",
       "      <td>30.970</td>\n",
       "      <td>3</td>\n",
       "      <td>no</td>\n",
       "      <td>northwest</td>\n",
       "      <td>10600.54830</td>\n",
       "    </tr>\n",
       "    <tr>\n",
       "      <th>1334</th>\n",
       "      <td>18</td>\n",
       "      <td>female</td>\n",
       "      <td>31.920</td>\n",
       "      <td>0</td>\n",
       "      <td>no</td>\n",
       "      <td>northeast</td>\n",
       "      <td>2205.98080</td>\n",
       "    </tr>\n",
       "    <tr>\n",
       "      <th>1335</th>\n",
       "      <td>18</td>\n",
       "      <td>female</td>\n",
       "      <td>36.850</td>\n",
       "      <td>0</td>\n",
       "      <td>no</td>\n",
       "      <td>southeast</td>\n",
       "      <td>1629.83350</td>\n",
       "    </tr>\n",
       "    <tr>\n",
       "      <th>1336</th>\n",
       "      <td>21</td>\n",
       "      <td>female</td>\n",
       "      <td>25.800</td>\n",
       "      <td>0</td>\n",
       "      <td>no</td>\n",
       "      <td>southwest</td>\n",
       "      <td>2007.94500</td>\n",
       "    </tr>\n",
       "    <tr>\n",
       "      <th>1337</th>\n",
       "      <td>61</td>\n",
       "      <td>female</td>\n",
       "      <td>29.070</td>\n",
       "      <td>0</td>\n",
       "      <td>yes</td>\n",
       "      <td>northwest</td>\n",
       "      <td>29141.36030</td>\n",
       "    </tr>\n",
       "  </tbody>\n",
       "</table>\n",
       "<p>1338 rows × 7 columns</p>\n",
       "</div>"
      ],
      "text/plain": [
       "      age     sex     bmi  children smoker     region      charges\n",
       "0      19  female  27.900         0    yes  southwest  16884.92400\n",
       "1      18    male  33.770         1     no  southeast   1725.55230\n",
       "2      28    male  33.000         3     no  southeast   4449.46200\n",
       "3      33    male  22.705         0     no  northwest  21984.47061\n",
       "4      32    male  28.880         0     no  northwest   3866.85520\n",
       "...   ...     ...     ...       ...    ...        ...          ...\n",
       "1333   50    male  30.970         3     no  northwest  10600.54830\n",
       "1334   18  female  31.920         0     no  northeast   2205.98080\n",
       "1335   18  female  36.850         0     no  southeast   1629.83350\n",
       "1336   21  female  25.800         0     no  southwest   2007.94500\n",
       "1337   61  female  29.070         0    yes  northwest  29141.36030\n",
       "\n",
       "[1338 rows x 7 columns]"
      ]
     },
     "execution_count": 138,
     "metadata": {},
     "output_type": "execute_result"
    }
   ],
   "source": [
    "# Read in insuarnce diretly from github\n",
    "\n",
    "insurance = pd.read_csv(\"https://raw.githubusercontent.com/stedy/Machine-Learning-with-R-datasets/master/insurance.csv\")\n",
    "insurance"
   ]
  },
  {
   "cell_type": "code",
   "execution_count": 146,
   "id": "14ccd350",
   "metadata": {},
   "outputs": [],
   "source": [
    "# Let's try one_hot encode our DataFrame so it's all numbers\n",
    "\n",
    "insurance_onehot = pd.get_dummies(insurance)"
   ]
  },
  {
   "cell_type": "code",
   "execution_count": 142,
   "id": "e1cb4417",
   "metadata": {},
   "outputs": [],
   "source": [
    "# Create X& y values(features and labels)\n",
    "\n",
    "# Create Training and test Sets\n",
    "\n",
    "# Build a neural networks (sort of like model_2 above)"
   ]
  },
  {
   "cell_type": "code",
   "execution_count": 147,
   "id": "49cb3a26",
   "metadata": {},
   "outputs": [],
   "source": [
    "# Create X & y values\n",
    "y = insurance_onehot['charges']\n",
    "X = insurance_onehot.drop('charges',axis =1)"
   ]
  },
  {
   "cell_type": "code",
   "execution_count": 149,
   "id": "0a9f2ba5",
   "metadata": {},
   "outputs": [],
   "source": [
    "# Creating training and test set\n",
    "\n",
    "from sklearn.model_selection import train_test_split\n",
    "\n",
    "X_train, X_test, y_train, y_test = train_test_split(X,y, test_size = 0.2,random_state =42)"
   ]
  },
  {
   "cell_type": "code",
   "execution_count": 151,
   "id": "27571f09",
   "metadata": {},
   "outputs": [
    {
     "name": "stdout",
     "output_type": "stream",
     "text": [
      "Epoch 1/100\n",
      "34/34 [==============================] - 0s 606us/step - loss: 8637.0996 - mae: 8637.0996\n",
      "Epoch 2/100\n",
      "34/34 [==============================] - 0s 636us/step - loss: 7886.7769 - mae: 7886.7769\n",
      "Epoch 3/100\n",
      "34/34 [==============================] - 0s 637us/step - loss: 7558.1475 - mae: 7558.1475\n",
      "Epoch 4/100\n",
      "34/34 [==============================] - 0s 606us/step - loss: 7792.0220 - mae: 7792.0220\n",
      "Epoch 5/100\n",
      "34/34 [==============================] - 0s 606us/step - loss: 7748.3892 - mae: 7748.3892\n",
      "Epoch 6/100\n",
      "34/34 [==============================] - 0s 606us/step - loss: 7595.3940 - mae: 7595.3940\n",
      "Epoch 7/100\n",
      "34/34 [==============================] - 0s 606us/step - loss: 7589.9849 - mae: 7589.9849\n",
      "Epoch 8/100\n",
      "34/34 [==============================] - 0s 576us/step - loss: 7698.5591 - mae: 7698.5591\n",
      "Epoch 9/100\n",
      "34/34 [==============================] - 0s 636us/step - loss: 7496.7788 - mae: 7496.7788\n",
      "Epoch 10/100\n",
      "34/34 [==============================] - 0s 606us/step - loss: 7493.1743 - mae: 7493.1743\n",
      "Epoch 11/100\n",
      "34/34 [==============================] - 0s 606us/step - loss: 7769.7314 - mae: 7769.7314\n",
      "Epoch 12/100\n",
      "34/34 [==============================] - 0s 636us/step - loss: 7706.9033 - mae: 7706.9033\n",
      "Epoch 13/100\n",
      "34/34 [==============================] - 0s 576us/step - loss: 7687.7227 - mae: 7687.7227\n",
      "Epoch 14/100\n",
      "34/34 [==============================] - 0s 546us/step - loss: 7689.8999 - mae: 7689.8999\n",
      "Epoch 15/100\n",
      "34/34 [==============================] - 0s 606us/step - loss: 7393.5322 - mae: 7393.5322\n",
      "Epoch 16/100\n",
      "34/34 [==============================] - 0s 606us/step - loss: 7780.6982 - mae: 7780.6982\n",
      "Epoch 17/100\n",
      "34/34 [==============================] - 0s 636us/step - loss: 7578.5093 - mae: 7578.5093\n",
      "Epoch 18/100\n",
      "34/34 [==============================] - 0s 576us/step - loss: 7750.8350 - mae: 7750.8350\n",
      "Epoch 19/100\n",
      "34/34 [==============================] - 0s 576us/step - loss: 7739.2134 - mae: 7739.2134\n",
      "Epoch 20/100\n",
      "34/34 [==============================] - 0s 606us/step - loss: 7875.0635 - mae: 7875.0635\n",
      "Epoch 21/100\n",
      "34/34 [==============================] - 0s 636us/step - loss: 7466.6768 - mae: 7466.6768\n",
      "Epoch 22/100\n",
      "34/34 [==============================] - 0s 606us/step - loss: 7941.2310 - mae: 7941.2310\n",
      "Epoch 23/100\n",
      "34/34 [==============================] - 0s 636us/step - loss: 7640.2725 - mae: 7640.2725\n",
      "Epoch 24/100\n",
      "34/34 [==============================] - 0s 546us/step - loss: 7539.2656 - mae: 7539.2656\n",
      "Epoch 25/100\n",
      "34/34 [==============================] - 0s 606us/step - loss: 7619.9658 - mae: 7619.9658\n",
      "Epoch 26/100\n",
      "34/34 [==============================] - 0s 576us/step - loss: 7644.1709 - mae: 7644.1709\n",
      "Epoch 27/100\n",
      "34/34 [==============================] - 0s 576us/step - loss: 7709.0361 - mae: 7709.0361\n",
      "Epoch 28/100\n",
      "34/34 [==============================] - 0s 576us/step - loss: 7366.8662 - mae: 7366.8662\n",
      "Epoch 29/100\n",
      "34/34 [==============================] - 0s 606us/step - loss: 7444.3135 - mae: 7444.3135\n",
      "Epoch 30/100\n",
      "34/34 [==============================] - 0s 667us/step - loss: 7616.4087 - mae: 7616.4087\n",
      "Epoch 31/100\n",
      "34/34 [==============================] - 0s 637us/step - loss: 7686.3853 - mae: 7686.3853\n",
      "Epoch 32/100\n",
      "34/34 [==============================] - 0s 576us/step - loss: 7548.0981 - mae: 7548.0981\n",
      "Epoch 33/100\n",
      "34/34 [==============================] - 0s 606us/step - loss: 7501.5532 - mae: 7501.5532\n",
      "Epoch 34/100\n",
      "34/34 [==============================] - 0s 637us/step - loss: 7363.4155 - mae: 7363.4155\n",
      "Epoch 35/100\n",
      "34/34 [==============================] - 0s 546us/step - loss: 7295.4468 - mae: 7295.4468\n",
      "Epoch 36/100\n",
      "34/34 [==============================] - 0s 546us/step - loss: 7569.8813 - mae: 7569.8813\n",
      "Epoch 37/100\n",
      "34/34 [==============================] - 0s 576us/step - loss: 7548.2002 - mae: 7548.2002\n",
      "Epoch 38/100\n",
      "34/34 [==============================] - 0s 576us/step - loss: 7424.3979 - mae: 7424.3979\n",
      "Epoch 39/100\n",
      "34/34 [==============================] - 0s 667us/step - loss: 7529.7739 - mae: 7529.7739\n",
      "Epoch 40/100\n",
      "34/34 [==============================] - 0s 637us/step - loss: 7467.3232 - mae: 7467.3232\n",
      "Epoch 41/100\n",
      "34/34 [==============================] - 0s 576us/step - loss: 7635.9282 - mae: 7635.9282\n",
      "Epoch 42/100\n",
      "34/34 [==============================] - 0s 727us/step - loss: 7536.8398 - mae: 7536.8398\n",
      "Epoch 43/100\n",
      "34/34 [==============================] - 0s 667us/step - loss: 7616.5845 - mae: 7616.5845\n",
      "Epoch 44/100\n",
      "34/34 [==============================] - 0s 727us/step - loss: 7439.4932 - mae: 7439.4932\n",
      "Epoch 45/100\n",
      "34/34 [==============================] - 0s 697us/step - loss: 7538.0156 - mae: 7538.0156\n",
      "Epoch 46/100\n",
      "34/34 [==============================] - 0s 697us/step - loss: 7415.1460 - mae: 7415.1460\n",
      "Epoch 47/100\n",
      "34/34 [==============================] - 0s 667us/step - loss: 7420.6938 - mae: 7420.6938\n",
      "Epoch 48/100\n",
      "34/34 [==============================] - 0s 697us/step - loss: 7509.9829 - mae: 7509.9829\n",
      "Epoch 49/100\n",
      "34/34 [==============================] - 0s 697us/step - loss: 7541.1123 - mae: 7541.1123\n",
      "Epoch 50/100\n",
      "34/34 [==============================] - 0s 576us/step - loss: 7467.8633 - mae: 7467.8633\n",
      "Epoch 51/100\n",
      "34/34 [==============================] - 0s 576us/step - loss: 7389.3545 - mae: 7389.3545\n",
      "Epoch 52/100\n",
      "34/34 [==============================] - 0s 637us/step - loss: 7499.7749 - mae: 7499.7749\n",
      "Epoch 53/100\n",
      "34/34 [==============================] - 0s 576us/step - loss: 7523.9282 - mae: 7523.9282\n",
      "Epoch 54/100\n",
      "34/34 [==============================] - 0s 636us/step - loss: 7243.3120 - mae: 7243.3120\n",
      "Epoch 55/100\n",
      "34/34 [==============================] - 0s 667us/step - loss: 7429.5854 - mae: 7429.5854\n",
      "Epoch 56/100\n",
      "34/34 [==============================] - 0s 546us/step - loss: 7313.4004 - mae: 7313.4004\n",
      "Epoch 57/100\n",
      "34/34 [==============================] - 0s 546us/step - loss: 7526.3887 - mae: 7526.3887\n",
      "Epoch 58/100\n",
      "34/34 [==============================] - 0s 697us/step - loss: 7542.2661 - mae: 7542.2661\n",
      "Epoch 59/100\n",
      "34/34 [==============================] - 0s 758us/step - loss: 7576.9277 - mae: 7576.9277\n",
      "Epoch 60/100\n",
      "34/34 [==============================] - 0s 758us/step - loss: 7546.4058 - mae: 7546.4058\n",
      "Epoch 61/100\n",
      "34/34 [==============================] - 0s 727us/step - loss: 7351.2261 - mae: 7351.2261\n",
      "Epoch 62/100\n",
      "34/34 [==============================] - 0s 636us/step - loss: 7302.1436 - mae: 7302.1436\n",
      "Epoch 63/100\n",
      "34/34 [==============================] - 0s 637us/step - loss: 7393.0874 - mae: 7393.0874\n",
      "Epoch 64/100\n",
      "34/34 [==============================] - 0s 667us/step - loss: 7442.2886 - mae: 7442.2886\n",
      "Epoch 65/100\n",
      "34/34 [==============================] - 0s 637us/step - loss: 7492.6782 - mae: 7492.6782\n",
      "Epoch 66/100\n",
      "34/34 [==============================] - 0s 606us/step - loss: 7561.9165 - mae: 7561.9165\n",
      "Epoch 67/100\n",
      "34/34 [==============================] - 0s 576us/step - loss: 7340.5137 - mae: 7340.5137\n",
      "Epoch 68/100\n",
      "34/34 [==============================] - 0s 667us/step - loss: 7496.0850 - mae: 7496.0850\n",
      "Epoch 69/100\n",
      "34/34 [==============================] - 0s 667us/step - loss: 7617.0298 - mae: 7617.0298\n",
      "Epoch 70/100\n",
      "34/34 [==============================] - 0s 667us/step - loss: 7641.1958 - mae: 7641.1958\n",
      "Epoch 71/100\n",
      "34/34 [==============================] - 0s 667us/step - loss: 7084.2744 - mae: 7084.2744\n",
      "Epoch 72/100\n",
      "34/34 [==============================] - 0s 727us/step - loss: 7240.4907 - mae: 7240.4907\n",
      "Epoch 73/100\n",
      "34/34 [==============================] - 0s 667us/step - loss: 7283.4883 - mae: 7283.4883\n",
      "Epoch 74/100\n",
      "34/34 [==============================] - 0s 758us/step - loss: 7335.5063 - mae: 7335.5063\n",
      "Epoch 75/100\n",
      "34/34 [==============================] - 0s 788us/step - loss: 7275.6392 - mae: 7275.6392\n",
      "Epoch 76/100\n",
      "34/34 [==============================] - 0s 637us/step - loss: 7313.1855 - mae: 7313.1855\n",
      "Epoch 77/100\n",
      "34/34 [==============================] - 0s 758us/step - loss: 7485.7578 - mae: 7485.7578\n",
      "Epoch 78/100\n",
      "34/34 [==============================] - 0s 697us/step - loss: 7352.2798 - mae: 7352.2798\n",
      "Epoch 79/100\n",
      "34/34 [==============================] - 0s 637us/step - loss: 7520.5703 - mae: 7520.5703\n",
      "Epoch 80/100\n"
     ]
    },
    {
     "name": "stdout",
     "output_type": "stream",
     "text": [
      "34/34 [==============================] - 0s 758us/step - loss: 7279.3784 - mae: 7279.3784\n",
      "Epoch 81/100\n",
      "34/34 [==============================] - 0s 727us/step - loss: 7273.8477 - mae: 7273.8477\n",
      "Epoch 82/100\n",
      "34/34 [==============================] - 0s 727us/step - loss: 7176.5205 - mae: 7176.5205\n",
      "Epoch 83/100\n",
      "34/34 [==============================] - 0s 758us/step - loss: 7425.6289 - mae: 7425.6289\n",
      "Epoch 84/100\n",
      "34/34 [==============================] - 0s 667us/step - loss: 7403.1289 - mae: 7403.1289\n",
      "Epoch 85/100\n",
      "34/34 [==============================] - 0s 788us/step - loss: 7356.0093 - mae: 7356.0093\n",
      "Epoch 86/100\n",
      "34/34 [==============================] - 0s 637us/step - loss: 7484.7271 - mae: 7484.7271\n",
      "Epoch 87/100\n",
      "34/34 [==============================] - 0s 637us/step - loss: 7217.6079 - mae: 7217.6079\n",
      "Epoch 88/100\n",
      "34/34 [==============================] - 0s 637us/step - loss: 7261.0000 - mae: 7261.0000\n",
      "Epoch 89/100\n",
      "34/34 [==============================] - 0s 667us/step - loss: 7134.1553 - mae: 7134.1553\n",
      "Epoch 90/100\n",
      "34/34 [==============================] - 0s 697us/step - loss: 7083.4351 - mae: 7083.4351\n",
      "Epoch 91/100\n",
      "34/34 [==============================] - 0s 667us/step - loss: 7254.1782 - mae: 7254.1782\n",
      "Epoch 92/100\n",
      "34/34 [==============================] - 0s 667us/step - loss: 7268.7456 - mae: 7268.7456\n",
      "Epoch 93/100\n",
      "34/34 [==============================] - 0s 667us/step - loss: 7470.5225 - mae: 7470.5225\n",
      "Epoch 94/100\n",
      "34/34 [==============================] - 0s 637us/step - loss: 7210.9541 - mae: 7210.9541\n",
      "Epoch 95/100\n",
      "34/34 [==============================] - 0s 667us/step - loss: 7395.6807 - mae: 7395.6807\n",
      "Epoch 96/100\n",
      "34/34 [==============================] - 0s 576us/step - loss: 7328.0884 - mae: 7328.0884\n",
      "Epoch 97/100\n",
      "34/34 [==============================] - 0s 637us/step - loss: 7230.4375 - mae: 7230.4375\n",
      "Epoch 98/100\n",
      "34/34 [==============================] - 0s 667us/step - loss: 7261.3936 - mae: 7261.3936\n",
      "Epoch 99/100\n",
      "34/34 [==============================] - 0s 606us/step - loss: 7342.5684 - mae: 7342.5684\n",
      "Epoch 100/100\n",
      "34/34 [==============================] - 0s 667us/step - loss: 7106.1709 - mae: 7106.1709\n"
     ]
    },
    {
     "data": {
      "text/plain": [
       "<keras.callbacks.History at 0x1f7e29ee040>"
      ]
     },
     "execution_count": 151,
     "metadata": {},
     "output_type": "execute_result"
    }
   ],
   "source": [
    "# Build a model\n",
    "\n",
    "tf.random.set_seed(42)\n",
    "\n",
    "insurance_model = tf.keras.Sequential([\n",
    "    tf.keras.layers.Dense(10),\n",
    "    tf.keras.layers.Dense(1)\n",
    "])\n",
    "\n",
    "insurance_model.compile(loss = tf.keras.losses.mae,\n",
    "                       optimizer = tf.keras.optimizers.SGD(),\n",
    "                       metrics = [\"mae\"])\n",
    "\n",
    "\n",
    "insurance_model.fit(X_train,y_train,epochs = 100)"
   ]
  },
  {
   "cell_type": "code",
   "execution_count": 152,
   "id": "c29d28fb",
   "metadata": {},
   "outputs": [
    {
     "name": "stdout",
     "output_type": "stream",
     "text": [
      "9/9 [==============================] - 0s 857us/step - loss: 7023.3286 - mae: 7023.3286\n"
     ]
    },
    {
     "data": {
      "text/plain": [
       "[7023.32861328125, 7023.32861328125]"
      ]
     },
     "execution_count": 152,
     "metadata": {},
     "output_type": "execute_result"
    }
   ],
   "source": [
    "# Check the results of insurance model on the test data\n",
    "\n",
    "insurance_model.evaluate(X_test,y_test)"
   ]
  },
  {
   "cell_type": "code",
   "execution_count": 154,
   "id": "f00155a5",
   "metadata": {
    "scrolled": true
   },
   "outputs": [
    {
     "data": {
      "text/plain": [
       "(9575.4421, 13346.089736364489)"
      ]
     },
     "execution_count": 154,
     "metadata": {},
     "output_type": "execute_result"
    }
   ],
   "source": [
    "y_train.median(), y_train.mean()"
   ]
  },
  {
   "cell_type": "markdown",
   "id": "b3f943cf",
   "metadata": {},
   "source": [
    "## Right now it looks model isn't performing too well. Try to improve it\n",
    "\n",
    "To improve model, gonna run 2 experiments : \n",
    "\n",
    "1. Add an extra layer with more hidden units\n",
    "\n",
    "2. Train for longer\n",
    "\n",
    "3. Add learning rate."
   ]
  },
  {
   "cell_type": "code",
   "execution_count": 156,
   "id": "70574a9a",
   "metadata": {},
   "outputs": [],
   "source": [
    "# Set random seed\n",
    "tf.random.set_seed(42)"
   ]
  },
  {
   "cell_type": "code",
   "execution_count": null,
   "id": "67989d11",
   "metadata": {},
   "outputs": [],
   "source": []
  },
  {
   "cell_type": "code",
   "execution_count": 162,
   "id": "3d32df62",
   "metadata": {},
   "outputs": [
    {
     "name": "stdout",
     "output_type": "stream",
     "text": [
      "Epoch 1/100\n",
      "34/34 [==============================] - 0s 727us/step - loss: 13305.1455 - mae: 13305.1455\n",
      "Epoch 2/100\n",
      "34/34 [==============================] - 0s 697us/step - loss: 13140.1846 - mae: 13140.1846\n",
      "Epoch 3/100\n",
      "34/34 [==============================] - 0s 727us/step - loss: 12795.5068 - mae: 12795.5068\n",
      "Epoch 4/100\n",
      "34/34 [==============================] - 0s 667us/step - loss: 12116.7373 - mae: 12116.7373\n",
      "Epoch 5/100\n",
      "34/34 [==============================] - 0s 727us/step - loss: 10972.8496 - mae: 10972.8496\n",
      "Epoch 6/100\n",
      "34/34 [==============================] - 0s 727us/step - loss: 9500.0107 - mae: 9500.0107\n",
      "Epoch 7/100\n",
      "34/34 [==============================] - 0s 727us/step - loss: 8153.0093 - mae: 8153.0093\n",
      "Epoch 8/100\n",
      "34/34 [==============================] - 0s 727us/step - loss: 7510.5737 - mae: 7510.5737\n",
      "Epoch 9/100\n",
      "34/34 [==============================] - 0s 727us/step - loss: 7406.2988 - mae: 7406.2988\n",
      "Epoch 10/100\n",
      "34/34 [==============================] - 0s 1ms/step - loss: 7386.2871 - mae: 7386.2871\n",
      "Epoch 11/100\n",
      "34/34 [==============================] - 0s 727us/step - loss: 7367.3696 - mae: 7367.3696\n",
      "Epoch 12/100\n",
      "34/34 [==============================] - 0s 758us/step - loss: 7345.7212 - mae: 7345.7212\n",
      "Epoch 13/100\n",
      "34/34 [==============================] - 0s 758us/step - loss: 7325.5303 - mae: 7325.5303\n",
      "Epoch 14/100\n",
      "34/34 [==============================] - 0s 667us/step - loss: 7302.8970 - mae: 7302.8970\n",
      "Epoch 15/100\n",
      "34/34 [==============================] - 0s 758us/step - loss: 7283.9272 - mae: 7283.9272\n",
      "Epoch 16/100\n",
      "34/34 [==============================] - 0s 727us/step - loss: 7261.8589 - mae: 7261.8589\n",
      "Epoch 17/100\n",
      "34/34 [==============================] - 0s 758us/step - loss: 7240.1763 - mae: 7240.1763\n",
      "Epoch 18/100\n",
      "34/34 [==============================] - 0s 717us/step - loss: 7216.9619 - mae: 7216.9619\n",
      "Epoch 19/100\n",
      "34/34 [==============================] - 0s 727us/step - loss: 7193.7041 - mae: 7193.7041\n",
      "Epoch 20/100\n",
      "34/34 [==============================] - 0s 667us/step - loss: 7168.9829 - mae: 7168.9829\n",
      "Epoch 21/100\n",
      "34/34 [==============================] - 0s 697us/step - loss: 7148.6445 - mae: 7148.6445\n",
      "Epoch 22/100\n",
      "34/34 [==============================] - 0s 697us/step - loss: 7120.0596 - mae: 7120.0596\n",
      "Epoch 23/100\n",
      "34/34 [==============================] - 0s 758us/step - loss: 7094.2949 - mae: 7094.2949\n",
      "Epoch 24/100\n",
      "34/34 [==============================] - 0s 697us/step - loss: 7066.9854 - mae: 7066.9854\n",
      "Epoch 25/100\n",
      "34/34 [==============================] - 0s 758us/step - loss: 7046.1528 - mae: 7046.1528\n",
      "Epoch 26/100\n",
      "34/34 [==============================] - 0s 849us/step - loss: 7013.3301 - mae: 7013.3301\n",
      "Epoch 27/100\n",
      "34/34 [==============================] - 0s 788us/step - loss: 6983.5347 - mae: 6983.5347\n",
      "Epoch 28/100\n",
      "34/34 [==============================] - 0s 879us/step - loss: 6953.1250 - mae: 6953.1250\n",
      "Epoch 29/100\n",
      "34/34 [==============================] - 0s 788us/step - loss: 6922.0303 - mae: 6922.0303\n",
      "Epoch 30/100\n",
      "34/34 [==============================] - 0s 849us/step - loss: 6894.6763 - mae: 6894.6763\n",
      "Epoch 31/100\n",
      "34/34 [==============================] - 0s 879us/step - loss: 6860.6807 - mae: 6860.6807\n",
      "Epoch 32/100\n",
      "34/34 [==============================] - 0s 909us/step - loss: 6829.8589 - mae: 6829.8589\n",
      "Epoch 33/100\n",
      "34/34 [==============================] - 0s 727us/step - loss: 6795.2568 - mae: 6795.2568\n",
      "Epoch 34/100\n",
      "34/34 [==============================] - 0s 697us/step - loss: 6761.4248 - mae: 6761.4248\n",
      "Epoch 35/100\n",
      "34/34 [==============================] - 0s 727us/step - loss: 6725.3809 - mae: 6725.3809\n",
      "Epoch 36/100\n",
      "34/34 [==============================] - 0s 727us/step - loss: 6689.4941 - mae: 6689.4941\n",
      "Epoch 37/100\n",
      "34/34 [==============================] - 0s 697us/step - loss: 6653.0005 - mae: 6653.0005\n",
      "Epoch 38/100\n",
      "34/34 [==============================] - 0s 667us/step - loss: 6622.1860 - mae: 6622.1860\n",
      "Epoch 39/100\n",
      "34/34 [==============================] - 0s 697us/step - loss: 6585.0752 - mae: 6585.0752\n",
      "Epoch 40/100\n",
      "34/34 [==============================] - 0s 758us/step - loss: 6556.5620 - mae: 6556.5620\n",
      "Epoch 41/100\n",
      "34/34 [==============================] - 0s 758us/step - loss: 6533.8403 - mae: 6533.8403\n",
      "Epoch 42/100\n",
      "34/34 [==============================] - 0s 727us/step - loss: 6513.1089 - mae: 6513.1089\n",
      "Epoch 43/100\n",
      "34/34 [==============================] - 0s 788us/step - loss: 6494.3711 - mae: 6494.3711\n",
      "Epoch 44/100\n",
      "34/34 [==============================] - 0s 637us/step - loss: 6477.5903 - mae: 6477.5903\n",
      "Epoch 45/100\n",
      "34/34 [==============================] - 0s 758us/step - loss: 6467.5161 - mae: 6467.5161\n",
      "Epoch 46/100\n",
      "34/34 [==============================] - 0s 697us/step - loss: 6451.7886 - mae: 6451.7886\n",
      "Epoch 47/100\n",
      "34/34 [==============================] - 0s 727us/step - loss: 6436.1826 - mae: 6436.1826\n",
      "Epoch 48/100\n",
      "34/34 [==============================] - 0s 727us/step - loss: 6422.8638 - mae: 6422.8638\n",
      "Epoch 49/100\n",
      "34/34 [==============================] - 0s 667us/step - loss: 6412.2222 - mae: 6412.2222\n",
      "Epoch 50/100\n",
      "34/34 [==============================] - 0s 758us/step - loss: 6397.3726 - mae: 6397.3726\n",
      "Epoch 51/100\n",
      "34/34 [==============================] - 0s 667us/step - loss: 6384.2949 - mae: 6384.2949\n",
      "Epoch 52/100\n",
      "34/34 [==============================] - 0s 727us/step - loss: 6371.6958 - mae: 6371.6958\n",
      "Epoch 53/100\n",
      "34/34 [==============================] - 0s 788us/step - loss: 6357.6279 - mae: 6357.6279\n",
      "Epoch 54/100\n",
      "34/34 [==============================] - 0s 697us/step - loss: 6343.8745 - mae: 6343.8745\n",
      "Epoch 55/100\n",
      "34/34 [==============================] - 0s 849us/step - loss: 6329.5737 - mae: 6329.5737\n",
      "Epoch 56/100\n",
      "34/34 [==============================] - 0s 879us/step - loss: 6315.8496 - mae: 6315.8496\n",
      "Epoch 57/100\n",
      "34/34 [==============================] - 0s 758us/step - loss: 6302.2466 - mae: 6302.2466\n",
      "Epoch 58/100\n",
      "34/34 [==============================] - 0s 697us/step - loss: 6289.0132 - mae: 6289.0132\n",
      "Epoch 59/100\n",
      "34/34 [==============================] - 0s 788us/step - loss: 6272.1377 - mae: 6272.1377\n",
      "Epoch 60/100\n",
      "34/34 [==============================] - 0s 758us/step - loss: 6260.9634 - mae: 6260.9634\n",
      "Epoch 61/100\n",
      "34/34 [==============================] - 0s 697us/step - loss: 6240.4785 - mae: 6240.4785\n",
      "Epoch 62/100\n",
      "34/34 [==============================] - 0s 697us/step - loss: 6228.4492 - mae: 6228.4492\n",
      "Epoch 63/100\n",
      "34/34 [==============================] - 0s 697us/step - loss: 6210.0693 - mae: 6210.0693\n",
      "Epoch 64/100\n",
      "34/34 [==============================] - 0s 788us/step - loss: 6192.5327 - mae: 6192.5327\n",
      "Epoch 65/100\n",
      "34/34 [==============================] - 0s 667us/step - loss: 6174.6831 - mae: 6174.6831\n",
      "Epoch 66/100\n",
      "34/34 [==============================] - 0s 727us/step - loss: 6156.5801 - mae: 6156.5801\n",
      "Epoch 67/100\n",
      "34/34 [==============================] - 0s 727us/step - loss: 6144.3027 - mae: 6144.3027\n",
      "Epoch 68/100\n",
      "34/34 [==============================] - 0s 727us/step - loss: 6121.3662 - mae: 6121.3662\n",
      "Epoch 69/100\n",
      "34/34 [==============================] - 0s 727us/step - loss: 6103.3970 - mae: 6103.3970\n",
      "Epoch 70/100\n",
      "34/34 [==============================] - 0s 667us/step - loss: 6082.8521 - mae: 6082.8521\n",
      "Epoch 71/100\n",
      "34/34 [==============================] - 0s 697us/step - loss: 6062.2622 - mae: 6062.2622\n",
      "Epoch 72/100\n",
      "34/34 [==============================] - 0s 788us/step - loss: 6040.9961 - mae: 6040.9961\n",
      "Epoch 73/100\n",
      "34/34 [==============================] - 0s 727us/step - loss: 6027.4346 - mae: 6027.4346\n",
      "Epoch 74/100\n",
      "34/34 [==============================] - 0s 727us/step - loss: 5997.3379 - mae: 5997.3379\n",
      "Epoch 75/100\n",
      "34/34 [==============================] - 0s 727us/step - loss: 5976.4189 - mae: 5976.4189\n",
      "Epoch 76/100\n",
      "34/34 [==============================] - 0s 667us/step - loss: 5959.1709 - mae: 5959.1709\n",
      "Epoch 77/100\n",
      "34/34 [==============================] - 0s 758us/step - loss: 5926.0308 - mae: 5926.0308\n",
      "Epoch 78/100\n",
      "34/34 [==============================] - 0s 727us/step - loss: 5901.7998 - mae: 5901.7998\n",
      "Epoch 79/100\n",
      "34/34 [==============================] - 0s 697us/step - loss: 5876.1670 - mae: 5876.1670\n",
      "Epoch 80/100\n"
     ]
    },
    {
     "name": "stdout",
     "output_type": "stream",
     "text": [
      "34/34 [==============================] - 0s 697us/step - loss: 5846.8760 - mae: 5846.8760\n",
      "Epoch 81/100\n",
      "34/34 [==============================] - 0s 697us/step - loss: 5821.2178 - mae: 5821.2178\n",
      "Epoch 82/100\n",
      "34/34 [==============================] - 0s 818us/step - loss: 5789.9653 - mae: 5789.9653\n",
      "Epoch 83/100\n",
      "34/34 [==============================] - 0s 818us/step - loss: 5760.8730 - mae: 5760.8730\n",
      "Epoch 84/100\n",
      "34/34 [==============================] - 0s 727us/step - loss: 5725.9287 - mae: 5725.9287\n",
      "Epoch 85/100\n",
      "34/34 [==============================] - 0s 697us/step - loss: 5698.5562 - mae: 5698.5562\n",
      "Epoch 86/100\n",
      "34/34 [==============================] - 0s 697us/step - loss: 5663.7461 - mae: 5663.7461\n",
      "Epoch 87/100\n",
      "34/34 [==============================] - 0s 697us/step - loss: 5624.4399 - mae: 5624.4399\n",
      "Epoch 88/100\n",
      "34/34 [==============================] - 0s 813us/step - loss: 5587.8203 - mae: 5587.8203\n",
      "Epoch 89/100\n",
      "34/34 [==============================] - 0s 727us/step - loss: 5547.4019 - mae: 5547.4019\n",
      "Epoch 90/100\n",
      "34/34 [==============================] - 0s 727us/step - loss: 5504.0767 - mae: 5504.0767\n",
      "Epoch 91/100\n",
      "34/34 [==============================] - 0s 758us/step - loss: 5464.1987 - mae: 5464.1987\n",
      "Epoch 92/100\n",
      "34/34 [==============================] - 0s 727us/step - loss: 5415.7764 - mae: 5415.7764\n",
      "Epoch 93/100\n",
      "34/34 [==============================] - 0s 788us/step - loss: 5371.8828 - mae: 5371.8828\n",
      "Epoch 94/100\n",
      "34/34 [==============================] - 0s 758us/step - loss: 5322.8970 - mae: 5322.8970\n",
      "Epoch 95/100\n",
      "34/34 [==============================] - 0s 758us/step - loss: 5270.6553 - mae: 5270.6553\n",
      "Epoch 96/100\n",
      "34/34 [==============================] - 0s 788us/step - loss: 5222.5679 - mae: 5222.5679\n",
      "Epoch 97/100\n",
      "34/34 [==============================] - 0s 849us/step - loss: 5167.7485 - mae: 5167.7485\n",
      "Epoch 98/100\n",
      "34/34 [==============================] - 0s 758us/step - loss: 5103.9717 - mae: 5103.9717\n",
      "Epoch 99/100\n",
      "34/34 [==============================] - 0s 727us/step - loss: 5044.2256 - mae: 5044.2256\n",
      "Epoch 100/100\n",
      "34/34 [==============================] - 0s 727us/step - loss: 4988.3232 - mae: 4988.3232\n"
     ]
    },
    {
     "data": {
      "text/plain": [
       "<keras.callbacks.History at 0x1f7e3cd6e20>"
      ]
     },
     "execution_count": 162,
     "metadata": {},
     "output_type": "execute_result"
    }
   ],
   "source": [
    "insurance_model2 = tf.keras.Sequential([\n",
    "    tf.keras.layers.Dense(100),\n",
    "    tf.keras.layers.Dense(10),\n",
    "    tf.keras.layers.Dense(1)\n",
    "])\n",
    "\n",
    "insurance_model2.compile(loss = tf.keras.losses.mae,\n",
    "                        optimizer = tf.keras.optimizers.Adam(),\n",
    "                        metrics = [\"mae\"])\n",
    "\n",
    "insurance_model2.fit(X_train,y_train,epochs = 100, verbose = 1)"
   ]
  },
  {
   "cell_type": "code",
   "execution_count": 165,
   "id": "75b6f423",
   "metadata": {},
   "outputs": [
    {
     "name": "stdout",
     "output_type": "stream",
     "text": [
      "9/9 [==============================] - 0s 625us/step - loss: 4856.5981 - mae: 4856.5981\n"
     ]
    },
    {
     "data": {
      "text/plain": [
       "[4856.59814453125, 4856.59814453125]"
      ]
     },
     "execution_count": 165,
     "metadata": {},
     "output_type": "execute_result"
    }
   ],
   "source": [
    "# Evaluate the larger model\n",
    "\n",
    "insurance_model2.evaluate(X_test,y_test)"
   ]
  },
  {
   "cell_type": "code",
   "execution_count": 179,
   "id": "c48417a1",
   "metadata": {},
   "outputs": [
    {
     "name": "stdout",
     "output_type": "stream",
     "text": [
      "Epoch 1/200\n",
      "34/34 [==============================] - 0s 697us/step - loss: 13268.6797 - mae: 13268.6797\n",
      "Epoch 2/200\n",
      "34/34 [==============================] - 0s 727us/step - loss: 13080.8789 - mae: 13080.8789\n",
      "Epoch 3/200\n",
      "34/34 [==============================] - 0s 667us/step - loss: 12692.9014 - mae: 12692.9014\n",
      "Epoch 4/200\n",
      "34/34 [==============================] - 0s 788us/step - loss: 11953.6084 - mae: 11953.6084\n",
      "Epoch 5/200\n",
      "34/34 [==============================] - 0s 727us/step - loss: 10760.1182 - mae: 10760.1182\n",
      "Epoch 6/200\n",
      "34/34 [==============================] - 0s 697us/step - loss: 9303.1787 - mae: 9303.1787\n",
      "Epoch 7/200\n",
      "34/34 [==============================] - 0s 818us/step - loss: 8033.2671 - mae: 8033.2671\n",
      "Epoch 8/200\n",
      "34/34 [==============================] - 0s 697us/step - loss: 7493.6147 - mae: 7493.6147\n",
      "Epoch 9/200\n",
      "34/34 [==============================] - 0s 788us/step - loss: 7412.8853 - mae: 7412.8853\n",
      "Epoch 10/200\n",
      "34/34 [==============================] - 0s 758us/step - loss: 7393.4307 - mae: 7393.4307\n",
      "Epoch 11/200\n",
      "34/34 [==============================] - 0s 667us/step - loss: 7375.0732 - mae: 7375.0732\n",
      "Epoch 12/200\n",
      "34/34 [==============================] - 0s 727us/step - loss: 7353.6245 - mae: 7353.6245\n",
      "Epoch 13/200\n",
      "34/34 [==============================] - 0s 727us/step - loss: 7333.6274 - mae: 7333.6274\n",
      "Epoch 14/200\n",
      "34/34 [==============================] - 0s 727us/step - loss: 7311.7168 - mae: 7311.7168\n",
      "Epoch 15/200\n",
      "34/34 [==============================] - 0s 697us/step - loss: 7293.0869 - mae: 7293.0869\n",
      "Epoch 16/200\n",
      "34/34 [==============================] - 0s 758us/step - loss: 7271.2485 - mae: 7271.2485\n",
      "Epoch 17/200\n",
      "34/34 [==============================] - 0s 697us/step - loss: 7251.2861 - mae: 7251.2861\n",
      "Epoch 18/200\n",
      "34/34 [==============================] - 0s 727us/step - loss: 7228.4409 - mae: 7228.4409\n",
      "Epoch 19/200\n",
      "34/34 [==============================] - 0s 758us/step - loss: 7206.3794 - mae: 7206.3794\n",
      "Epoch 20/200\n",
      "34/34 [==============================] - 0s 697us/step - loss: 7183.1460 - mae: 7183.1460\n",
      "Epoch 21/200\n",
      "34/34 [==============================] - 0s 727us/step - loss: 7165.1914 - mae: 7165.1914\n",
      "Epoch 22/200\n",
      "34/34 [==============================] - 0s 697us/step - loss: 7136.7896 - mae: 7136.7896\n",
      "Epoch 23/200\n",
      "34/34 [==============================] - 0s 727us/step - loss: 7112.3281 - mae: 7112.3281\n",
      "Epoch 24/200\n",
      "34/34 [==============================] - 0s 697us/step - loss: 7087.3604 - mae: 7087.3604\n",
      "Epoch 25/200\n",
      "34/34 [==============================] - 0s 667us/step - loss: 7068.6362 - mae: 7068.6362\n",
      "Epoch 26/200\n",
      "34/34 [==============================] - 0s 727us/step - loss: 7037.9785 - mae: 7037.9785\n",
      "Epoch 27/200\n",
      "34/34 [==============================] - 0s 697us/step - loss: 7009.6509 - mae: 7009.6509\n",
      "Epoch 28/200\n",
      "34/34 [==============================] - 0s 727us/step - loss: 6981.7476 - mae: 6981.7476\n",
      "Epoch 29/200\n",
      "34/34 [==============================] - 0s 697us/step - loss: 6953.3813 - mae: 6953.3813\n",
      "Epoch 30/200\n",
      "34/34 [==============================] - 0s 758us/step - loss: 6926.3726 - mae: 6926.3726\n",
      "Epoch 31/200\n",
      "34/34 [==============================] - 0s 727us/step - loss: 6895.8091 - mae: 6895.8091\n",
      "Epoch 32/200\n",
      "34/34 [==============================] - 0s 727us/step - loss: 6868.2510 - mae: 6868.2510\n",
      "Epoch 33/200\n",
      "34/34 [==============================] - 0s 758us/step - loss: 6837.0308 - mae: 6837.0308\n",
      "Epoch 34/200\n",
      "34/34 [==============================] - 0s 667us/step - loss: 6804.9404 - mae: 6804.9404\n",
      "Epoch 35/200\n",
      "34/34 [==============================] - 0s 667us/step - loss: 6771.4341 - mae: 6771.4341\n",
      "Epoch 36/200\n",
      "34/34 [==============================] - 0s 788us/step - loss: 6736.9976 - mae: 6736.9976\n",
      "Epoch 37/200\n",
      "34/34 [==============================] - 0s 727us/step - loss: 6701.2505 - mae: 6701.2505\n",
      "Epoch 38/200\n",
      "34/34 [==============================] - 0s 667us/step - loss: 6670.6030 - mae: 6670.6030\n",
      "Epoch 39/200\n",
      "34/34 [==============================] - 0s 697us/step - loss: 6633.8594 - mae: 6633.8594\n",
      "Epoch 40/200\n",
      "34/34 [==============================] - 0s 697us/step - loss: 6599.2578 - mae: 6599.2578\n",
      "Epoch 41/200\n",
      "34/34 [==============================] - 0s 637us/step - loss: 6568.4629 - mae: 6568.4629\n",
      "Epoch 42/200\n",
      "34/34 [==============================] - 0s 697us/step - loss: 6545.3647 - mae: 6545.3647\n",
      "Epoch 43/200\n",
      "34/34 [==============================] - 0s 727us/step - loss: 6515.8745 - mae: 6515.8745\n",
      "Epoch 44/200\n",
      "34/34 [==============================] - 0s 667us/step - loss: 6494.5728 - mae: 6494.5728\n",
      "Epoch 45/200\n",
      "34/34 [==============================] - 0s 758us/step - loss: 6484.3716 - mae: 6484.3716\n",
      "Epoch 46/200\n",
      "34/34 [==============================] - 0s 727us/step - loss: 6465.8193 - mae: 6465.8193\n",
      "Epoch 47/200\n",
      "34/34 [==============================] - 0s 697us/step - loss: 6449.5552 - mae: 6449.5552\n",
      "Epoch 48/200\n",
      "34/34 [==============================] - 0s 697us/step - loss: 6435.9321 - mae: 6435.9321\n",
      "Epoch 49/200\n",
      "34/34 [==============================] - 0s 727us/step - loss: 6423.2568 - mae: 6423.2568\n",
      "Epoch 50/200\n",
      "34/34 [==============================] - 0s 788us/step - loss: 6409.3433 - mae: 6409.3433\n",
      "Epoch 51/200\n",
      "34/34 [==============================] - 0s 697us/step - loss: 6395.2666 - mae: 6395.2666\n",
      "Epoch 52/200\n",
      "34/34 [==============================] - 0s 727us/step - loss: 6383.7725 - mae: 6383.7725\n",
      "Epoch 53/200\n",
      "34/34 [==============================] - 0s 697us/step - loss: 6370.0488 - mae: 6370.0488\n",
      "Epoch 54/200\n",
      "34/34 [==============================] - 0s 697us/step - loss: 6356.6592 - mae: 6356.6592\n",
      "Epoch 55/200\n",
      "34/34 [==============================] - 0s 727us/step - loss: 6342.7012 - mae: 6342.7012\n",
      "Epoch 56/200\n",
      "34/34 [==============================] - 0s 879us/step - loss: 6328.7158 - mae: 6328.7158\n",
      "Epoch 57/200\n",
      "34/34 [==============================] - 0s 818us/step - loss: 6315.7910 - mae: 6315.7910\n",
      "Epoch 58/200\n",
      "34/34 [==============================] - 0s 758us/step - loss: 6301.4404 - mae: 6301.4404\n",
      "Epoch 59/200\n",
      "34/34 [==============================] - 0s 818us/step - loss: 6287.3574 - mae: 6287.3574\n",
      "Epoch 60/200\n",
      "34/34 [==============================] - 0s 818us/step - loss: 6275.9917 - mae: 6275.9917\n",
      "Epoch 61/200\n",
      "34/34 [==============================] - 0s 818us/step - loss: 6256.1733 - mae: 6256.1733\n",
      "Epoch 62/200\n",
      "34/34 [==============================] - 0s 849us/step - loss: 6244.0581 - mae: 6244.0581\n",
      "Epoch 63/200\n",
      "34/34 [==============================] - 0s 834us/step - loss: 6225.6367 - mae: 6225.6367\n",
      "Epoch 64/200\n",
      "34/34 [==============================] - 0s 909us/step - loss: 6208.8584 - mae: 6208.8584\n",
      "Epoch 65/200\n",
      "34/34 [==============================] - 0s 879us/step - loss: 6191.6006 - mae: 6191.6006\n",
      "Epoch 66/200\n",
      "34/34 [==============================] - 0s 1ms/step - loss: 6174.4663 - mae: 6174.4663\n",
      "Epoch 67/200\n",
      "34/34 [==============================] - 0s 849us/step - loss: 6161.2920 - mae: 6161.2920\n",
      "Epoch 68/200\n",
      "34/34 [==============================] - 0s 1ms/step - loss: 6139.1978 - mae: 6139.1978\n",
      "Epoch 69/200\n",
      "34/34 [==============================] - 0s 1ms/step - loss: 6122.6357 - mae: 6122.6357\n",
      "Epoch 70/200\n",
      "34/34 [==============================] - 0s 940us/step - loss: 6102.6982 - mae: 6102.6982\n",
      "Epoch 71/200\n",
      "34/34 [==============================] - 0s 788us/step - loss: 6082.9478 - mae: 6082.9478\n",
      "Epoch 72/200\n",
      "34/34 [==============================] - 0s 758us/step - loss: 6063.6870 - mae: 6063.6870\n",
      "Epoch 73/200\n",
      "34/34 [==============================] - 0s 727us/step - loss: 6049.1025 - mae: 6049.1025\n",
      "Epoch 74/200\n",
      "34/34 [==============================] - 0s 818us/step - loss: 6020.9482 - mae: 6020.9482\n",
      "Epoch 75/200\n",
      "34/34 [==============================] - 0s 758us/step - loss: 5999.4419 - mae: 5999.4419\n",
      "Epoch 76/200\n",
      "34/34 [==============================] - 0s 849us/step - loss: 5985.7163 - mae: 5985.7163\n",
      "Epoch 77/200\n",
      "34/34 [==============================] - 0s 909us/step - loss: 5952.3750 - mae: 5952.3750\n",
      "Epoch 78/200\n",
      "34/34 [==============================] - 0s 924us/step - loss: 5928.9028 - mae: 5928.9028\n",
      "Epoch 79/200\n",
      "34/34 [==============================] - 0s 879us/step - loss: 5904.5259 - mae: 5904.5259\n",
      "Epoch 80/200\n"
     ]
    },
    {
     "name": "stdout",
     "output_type": "stream",
     "text": [
      "34/34 [==============================] - 0s 909us/step - loss: 5876.6860 - mae: 5876.6860\n",
      "Epoch 81/200\n",
      "34/34 [==============================] - 0s 970us/step - loss: 5851.1655 - mae: 5851.1655\n",
      "Epoch 82/200\n",
      "34/34 [==============================] - 0s 849us/step - loss: 5822.6294 - mae: 5822.6294\n",
      "Epoch 83/200\n",
      "34/34 [==============================] - 0s 788us/step - loss: 5794.1997 - mae: 5794.1997\n",
      "Epoch 84/200\n",
      "34/34 [==============================] - 0s 868us/step - loss: 5760.2446 - mae: 5760.2446\n",
      "Epoch 85/200\n",
      "34/34 [==============================] - 0s 909us/step - loss: 5732.9004 - mae: 5732.9004\n",
      "Epoch 86/200\n",
      "34/34 [==============================] - 0s 909us/step - loss: 5699.1030 - mae: 5699.1030\n",
      "Epoch 87/200\n",
      "34/34 [==============================] - 0s 1ms/step - loss: 5662.2012 - mae: 5662.2012\n",
      "Epoch 88/200\n",
      "34/34 [==============================] - 0s 879us/step - loss: 5626.9375 - mae: 5626.9375\n",
      "Epoch 89/200\n",
      "34/34 [==============================] - 0s 818us/step - loss: 5588.0562 - mae: 5588.0562\n",
      "Epoch 90/200\n",
      "34/34 [==============================] - 0s 879us/step - loss: 5546.3691 - mae: 5546.3691\n",
      "Epoch 91/200\n",
      "34/34 [==============================] - 0s 849us/step - loss: 5509.9795 - mae: 5509.9795\n",
      "Epoch 92/200\n",
      "34/34 [==============================] - 0s 940us/step - loss: 5460.9639 - mae: 5460.9639\n",
      "Epoch 93/200\n",
      "34/34 [==============================] - 0s 909us/step - loss: 5417.7646 - mae: 5417.7646\n",
      "Epoch 94/200\n",
      "34/34 [==============================] - 0s 879us/step - loss: 5370.8242 - mae: 5370.8242\n",
      "Epoch 95/200\n",
      "34/34 [==============================] - 0s 849us/step - loss: 5319.4424 - mae: 5319.4424\n",
      "Epoch 96/200\n",
      "34/34 [==============================] - 0s 909us/step - loss: 5273.7261 - mae: 5273.7261\n",
      "Epoch 97/200\n",
      "34/34 [==============================] - 0s 879us/step - loss: 5219.6685 - mae: 5219.6685\n",
      "Epoch 98/200\n",
      "34/34 [==============================] - 0s 879us/step - loss: 5156.9492 - mae: 5156.9492\n",
      "Epoch 99/200\n",
      "34/34 [==============================] - 0s 758us/step - loss: 5098.7793 - mae: 5098.7793\n",
      "Epoch 100/200\n",
      "34/34 [==============================] - 0s 788us/step - loss: 5044.0078 - mae: 5044.0078\n",
      "Epoch 101/200\n",
      "34/34 [==============================] - 0s 758us/step - loss: 4972.1792 - mae: 4972.1792\n",
      "Epoch 102/200\n",
      "34/34 [==============================] - 0s 758us/step - loss: 4899.6016 - mae: 4899.6016\n",
      "Epoch 103/200\n",
      "34/34 [==============================] - 0s 788us/step - loss: 4831.8159 - mae: 4831.8159\n",
      "Epoch 104/200\n",
      "34/34 [==============================] - 0s 727us/step - loss: 4752.3945 - mae: 4752.3945\n",
      "Epoch 105/200\n",
      "34/34 [==============================] - 0s 667us/step - loss: 4668.3550 - mae: 4668.3550\n",
      "Epoch 106/200\n",
      "34/34 [==============================] - 0s 697us/step - loss: 4585.3647 - mae: 4585.3647\n",
      "Epoch 107/200\n",
      "34/34 [==============================] - 0s 727us/step - loss: 4499.7681 - mae: 4499.7681\n",
      "Epoch 108/200\n",
      "34/34 [==============================] - 0s 727us/step - loss: 4410.5010 - mae: 4410.5010\n",
      "Epoch 109/200\n",
      "34/34 [==============================] - 0s 697us/step - loss: 4328.1304 - mae: 4328.1304\n",
      "Epoch 110/200\n",
      "34/34 [==============================] - 0s 758us/step - loss: 4244.4771 - mae: 4244.4771\n",
      "Epoch 111/200\n",
      "34/34 [==============================] - 0s 727us/step - loss: 4164.4683 - mae: 4164.4683\n",
      "Epoch 112/200\n",
      "34/34 [==============================] - 0s 667us/step - loss: 4094.8584 - mae: 4094.8584\n",
      "Epoch 113/200\n",
      "34/34 [==============================] - 0s 758us/step - loss: 4027.5354 - mae: 4027.5354\n",
      "Epoch 114/200\n",
      "34/34 [==============================] - 0s 636us/step - loss: 3983.3711 - mae: 3983.3711\n",
      "Epoch 115/200\n",
      "34/34 [==============================] - 0s 727us/step - loss: 3941.8813 - mae: 3941.8813\n",
      "Epoch 116/200\n",
      "34/34 [==============================] - 0s 667us/step - loss: 3922.2664 - mae: 3922.2664\n",
      "Epoch 117/200\n",
      "34/34 [==============================] - 0s 727us/step - loss: 3896.2334 - mae: 3896.2334\n",
      "Epoch 118/200\n",
      "34/34 [==============================] - 0s 758us/step - loss: 3871.3843 - mae: 3871.3843\n",
      "Epoch 119/200\n",
      "34/34 [==============================] - 0s 818us/step - loss: 3853.1355 - mae: 3853.1355\n",
      "Epoch 120/200\n",
      "34/34 [==============================] - 0s 758us/step - loss: 3835.5952 - mae: 3835.5952\n",
      "Epoch 121/200\n",
      "34/34 [==============================] - 0s 758us/step - loss: 3827.7693 - mae: 3827.7693\n",
      "Epoch 122/200\n",
      "34/34 [==============================] - 0s 849us/step - loss: 3822.3921 - mae: 3822.3921\n",
      "Epoch 123/200\n",
      "34/34 [==============================] - 0s 849us/step - loss: 3815.4858 - mae: 3815.4858\n",
      "Epoch 124/200\n",
      "34/34 [==============================] - 0s 788us/step - loss: 3807.3396 - mae: 3807.3396\n",
      "Epoch 125/200\n",
      "34/34 [==============================] - 0s 758us/step - loss: 3797.8655 - mae: 3797.8655\n",
      "Epoch 126/200\n",
      "34/34 [==============================] - 0s 818us/step - loss: 3810.1611 - mae: 3810.1611\n",
      "Epoch 127/200\n",
      "34/34 [==============================] - 0s 970us/step - loss: 3799.5383 - mae: 3799.5383\n",
      "Epoch 128/200\n",
      "34/34 [==============================] - 0s 788us/step - loss: 3793.1035 - mae: 3793.1035\n",
      "Epoch 129/200\n",
      "34/34 [==============================] - 0s 758us/step - loss: 3803.3931 - mae: 3803.3931\n",
      "Epoch 130/200\n",
      "34/34 [==============================] - 0s 788us/step - loss: 3789.8667 - mae: 3789.8667\n",
      "Epoch 131/200\n",
      "34/34 [==============================] - 0s 727us/step - loss: 3782.4680 - mae: 3782.4680\n",
      "Epoch 132/200\n",
      "34/34 [==============================] - 0s 788us/step - loss: 3776.1211 - mae: 3776.1211\n",
      "Epoch 133/200\n",
      "34/34 [==============================] - 0s 788us/step - loss: 3771.9314 - mae: 3771.9314\n",
      "Epoch 134/200\n",
      "34/34 [==============================] - 0s 727us/step - loss: 3770.1060 - mae: 3770.1060\n",
      "Epoch 135/200\n",
      "34/34 [==============================] - 0s 788us/step - loss: 3768.0527 - mae: 3768.0527\n",
      "Epoch 136/200\n",
      "34/34 [==============================] - 0s 727us/step - loss: 3766.9690 - mae: 3766.9690\n",
      "Epoch 137/200\n",
      "34/34 [==============================] - 0s 727us/step - loss: 3775.8213 - mae: 3775.8213\n",
      "Epoch 138/200\n",
      "34/34 [==============================] - 0s 727us/step - loss: 3786.7532 - mae: 3786.7532\n",
      "Epoch 139/200\n",
      "34/34 [==============================] - 0s 758us/step - loss: 3762.3943 - mae: 3762.3943\n",
      "Epoch 140/200\n",
      "34/34 [==============================] - 0s 758us/step - loss: 3763.8987 - mae: 3763.8987\n",
      "Epoch 141/200\n",
      "34/34 [==============================] - 0s 727us/step - loss: 3764.7529 - mae: 3764.7529\n",
      "Epoch 142/200\n",
      "34/34 [==============================] - 0s 727us/step - loss: 3767.2488 - mae: 3767.2488\n",
      "Epoch 143/200\n",
      "34/34 [==============================] - 0s 727us/step - loss: 3755.3359 - mae: 3755.3359\n",
      "Epoch 144/200\n",
      "34/34 [==============================] - 0s 727us/step - loss: 3751.6494 - mae: 3751.6494\n",
      "Epoch 145/200\n",
      "34/34 [==============================] - 0s 637us/step - loss: 3751.8831 - mae: 3751.8831\n",
      "Epoch 146/200\n",
      "34/34 [==============================] - 0s 758us/step - loss: 3757.5918 - mae: 3757.5918\n",
      "Epoch 147/200\n",
      "34/34 [==============================] - 0s 697us/step - loss: 3752.6765 - mae: 3752.6765\n",
      "Epoch 148/200\n",
      "34/34 [==============================] - 0s 849us/step - loss: 3758.5000 - mae: 3758.5000\n",
      "Epoch 149/200\n",
      "34/34 [==============================] - 0s 909us/step - loss: 3744.4863 - mae: 3744.4863\n",
      "Epoch 150/200\n",
      "34/34 [==============================] - 0s 849us/step - loss: 3739.5042 - mae: 3739.5042\n",
      "Epoch 151/200\n",
      "34/34 [==============================] - 0s 788us/step - loss: 3742.4148 - mae: 3742.4148\n",
      "Epoch 152/200\n",
      "34/34 [==============================] - 0s 788us/step - loss: 3743.7363 - mae: 3743.7363\n",
      "Epoch 153/200\n",
      "34/34 [==============================] - 0s 788us/step - loss: 3744.5710 - mae: 3744.5710\n",
      "Epoch 154/200\n",
      "34/34 [==============================] - 0s 727us/step - loss: 3738.6218 - mae: 3738.6218\n",
      "Epoch 155/200\n",
      "34/34 [==============================] - 0s 697us/step - loss: 3741.2517 - mae: 3741.2517\n",
      "Epoch 156/200\n",
      "34/34 [==============================] - 0s 727us/step - loss: 3736.2458 - mae: 3736.2458\n",
      "Epoch 157/200\n",
      "34/34 [==============================] - 0s 667us/step - loss: 3734.5659 - mae: 3734.5659\n",
      "Epoch 158/200\n",
      "34/34 [==============================] - 0s 727us/step - loss: 3730.2029 - mae: 3730.2029\n",
      "Epoch 159/200\n"
     ]
    },
    {
     "name": "stdout",
     "output_type": "stream",
     "text": [
      "34/34 [==============================] - 0s 667us/step - loss: 3727.9597 - mae: 3727.9597\n",
      "Epoch 160/200\n",
      "34/34 [==============================] - 0s 758us/step - loss: 3734.1602 - mae: 3734.1602\n",
      "Epoch 161/200\n",
      "34/34 [==============================] - 0s 727us/step - loss: 3729.4597 - mae: 3729.4597\n",
      "Epoch 162/200\n",
      "34/34 [==============================] - 0s 727us/step - loss: 3725.9209 - mae: 3725.9209\n",
      "Epoch 163/200\n",
      "34/34 [==============================] - 0s 727us/step - loss: 3723.7231 - mae: 3723.7231\n",
      "Epoch 164/200\n",
      "34/34 [==============================] - 0s 818us/step - loss: 3728.7864 - mae: 3728.7864\n",
      "Epoch 165/200\n",
      "34/34 [==============================] - 0s 758us/step - loss: 3718.6160 - mae: 3718.6160\n",
      "Epoch 166/200\n",
      "34/34 [==============================] - 0s 727us/step - loss: 3721.6831 - mae: 3721.6831\n",
      "Epoch 167/200\n",
      "34/34 [==============================] - 0s 667us/step - loss: 3719.9658 - mae: 3719.9658\n",
      "Epoch 168/200\n",
      "34/34 [==============================] - 0s 758us/step - loss: 3715.6443 - mae: 3715.6443\n",
      "Epoch 169/200\n",
      "34/34 [==============================] - 0s 727us/step - loss: 3714.7812 - mae: 3714.7812\n",
      "Epoch 170/200\n",
      "34/34 [==============================] - 0s 727us/step - loss: 3709.5315 - mae: 3709.5315\n",
      "Epoch 171/200\n",
      "34/34 [==============================] - 0s 727us/step - loss: 3709.2219 - mae: 3709.2219\n",
      "Epoch 172/200\n",
      "34/34 [==============================] - 0s 667us/step - loss: 3710.6191 - mae: 3710.6191\n",
      "Epoch 173/200\n",
      "34/34 [==============================] - 0s 818us/step - loss: 3706.4780 - mae: 3706.4780\n",
      "Epoch 174/200\n",
      "34/34 [==============================] - 0s 697us/step - loss: 3711.1475 - mae: 3711.1475\n",
      "Epoch 175/200\n",
      "34/34 [==============================] - 0s 697us/step - loss: 3711.8479 - mae: 3711.8479\n",
      "Epoch 176/200\n",
      "34/34 [==============================] - 0s 879us/step - loss: 3707.0708 - mae: 3707.0708\n",
      "Epoch 177/200\n",
      "34/34 [==============================] - 0s 727us/step - loss: 3700.9119 - mae: 3700.9119\n",
      "Epoch 178/200\n",
      "34/34 [==============================] - 0s 697us/step - loss: 3700.0845 - mae: 3700.0845\n",
      "Epoch 179/200\n",
      "34/34 [==============================] - 0s 758us/step - loss: 3709.4587 - mae: 3709.4587\n",
      "Epoch 180/200\n",
      "34/34 [==============================] - 0s 697us/step - loss: 3710.4453 - mae: 3710.4453\n",
      "Epoch 181/200\n",
      "34/34 [==============================] - 0s 758us/step - loss: 3697.2388 - mae: 3697.2388\n",
      "Epoch 182/200\n",
      "34/34 [==============================] - 0s 788us/step - loss: 3694.9985 - mae: 3694.9985\n",
      "Epoch 183/200\n",
      "34/34 [==============================] - 0s 697us/step - loss: 3693.0923 - mae: 3693.0923\n",
      "Epoch 184/200\n",
      "34/34 [==============================] - 0s 758us/step - loss: 3699.7217 - mae: 3699.7217\n",
      "Epoch 185/200\n",
      "34/34 [==============================] - 0s 788us/step - loss: 3696.8777 - mae: 3696.8777\n",
      "Epoch 186/200\n",
      "34/34 [==============================] - 0s 667us/step - loss: 3698.9985 - mae: 3698.9985\n",
      "Epoch 187/200\n",
      "34/34 [==============================] - 0s 788us/step - loss: 3689.7427 - mae: 3689.7427\n",
      "Epoch 188/200\n",
      "34/34 [==============================] - 0s 667us/step - loss: 3696.2422 - mae: 3696.2422\n",
      "Epoch 189/200\n",
      "34/34 [==============================] - 0s 727us/step - loss: 3685.6699 - mae: 3685.6697\n",
      "Epoch 190/200\n",
      "34/34 [==============================] - 0s 637us/step - loss: 3683.5156 - mae: 3683.5156\n",
      "Epoch 191/200\n",
      "34/34 [==============================] - 0s 758us/step - loss: 3701.5852 - mae: 3701.5852\n",
      "Epoch 192/200\n",
      "34/34 [==============================] - 0s 727us/step - loss: 3685.3784 - mae: 3685.3784\n",
      "Epoch 193/200\n",
      "34/34 [==============================] - 0s 667us/step - loss: 3675.7742 - mae: 3675.7742\n",
      "Epoch 194/200\n",
      "34/34 [==============================] - 0s 818us/step - loss: 3676.7405 - mae: 3676.7405\n",
      "Epoch 195/200\n",
      "34/34 [==============================] - 0s 697us/step - loss: 3674.2444 - mae: 3674.2444\n",
      "Epoch 196/200\n",
      "34/34 [==============================] - 0s 667us/step - loss: 3682.6145 - mae: 3682.6145\n",
      "Epoch 197/200\n",
      "34/34 [==============================] - 0s 727us/step - loss: 3667.4001 - mae: 3667.4001\n",
      "Epoch 198/200\n",
      "34/34 [==============================] - 0s 667us/step - loss: 3674.0837 - mae: 3674.0837\n",
      "Epoch 199/200\n",
      "34/34 [==============================] - 0s 758us/step - loss: 3681.6096 - mae: 3681.6096\n",
      "Epoch 200/200\n",
      "34/34 [==============================] - 0s 697us/step - loss: 3668.5242 - mae: 3668.5242\n"
     ]
    }
   ],
   "source": [
    "insurance_model3 = tf.keras.Sequential([\n",
    "    tf.keras.layers.Dense(100),\n",
    "    tf.keras.layers.Dense(10),\n",
    "    tf.keras.layers.Dense(1)\n",
    "])\n",
    "\n",
    "insurance_model3.compile(loss = tf.keras.losses.mae,\n",
    "                        optimizer = tf.keras.optimizers.Adam(),\n",
    "                        metrics = [\"mae\"])\n",
    "\n",
    "history = insurance_model3.fit(X_train,y_train,epochs = 200)"
   ]
  },
  {
   "cell_type": "code",
   "execution_count": 180,
   "id": "337961f3",
   "metadata": {
    "scrolled": true
   },
   "outputs": [
    {
     "name": "stdout",
     "output_type": "stream",
     "text": [
      "9/9 [==============================] - 0s 750us/step - loss: 3494.0046 - mae: 3494.0046\n"
     ]
    },
    {
     "data": {
      "text/plain": [
       "[3494.004638671875, 3494.004638671875]"
      ]
     },
     "execution_count": 180,
     "metadata": {},
     "output_type": "execute_result"
    }
   ],
   "source": [
    "# Evaluate the longer model\n",
    "insurance_model3.evaluate(X_test,y_test)"
   ]
  },
  {
   "cell_type": "code",
   "execution_count": 181,
   "id": "26da1c3e",
   "metadata": {},
   "outputs": [
    {
     "data": {
      "text/plain": [
       "Text(0.5, 0, 'epochs')"
      ]
     },
     "execution_count": 181,
     "metadata": {},
     "output_type": "execute_result"
    },
    {
     "data": {
      "image/png": "[encoded data removed]",
      "text/plain": [
       "<Figure size 432x288 with 1 Axes>"
      ]
     },
     "metadata": {
      "needs_background": "light"
     },
     "output_type": "display_data"
    }
   ],
   "source": [
    "# Plot history (also known ans a loss curve or a training curve)\n",
    "pd.DataFrame(history.history).plot()\n",
    "plt.ylabel(\"loss\")\n",
    "plt.xlabel(\"epochs\")"
   ]
  },
  {
   "cell_type": "markdown",
   "id": "1fb2649b",
   "metadata": {},
   "source": [
    "**Question** How long should we train?\n",
    "\n",
    "\n",
    "It depends on what the model is working for\n",
    "\n",
    "However, many people asked this question before\n",
    "\n",
    "TensorFlow has a solution. \n",
    "\n",
    "# tensorflow early stopping callback\n",
    "\n",
    "which is a TensorFlow component can add to model to stop training once it stops improving certain method."
   ]
  },
  {
   "cell_type": "markdown",
   "id": "019218e4",
   "metadata": {},
   "source": [
    "# Preprocessing data (normalization and standardization)\n",
    "\n",
    "\n",
    "\n",
    "In terms of scaling values, neural networks tend to prefer normalization.\n",
    "\n",
    "If not sure what to use, could try both and see which performs better"
   ]
  },
  {
   "cell_type": "code",
   "execution_count": 183,
   "id": "1fd93525",
   "metadata": {},
   "outputs": [
    {
     "data": {
      "text/plain": [
       "<AxesSubplot:ylabel='Frequency'>"
      ]
     },
     "execution_count": 183,
     "metadata": {},
     "output_type": "execute_result"
    },
    {
     "data": {
      "image/png": "[encoded data removed]",
      "text/plain": [
       "<Figure size 432x288 with 1 Axes>"
      ]
     },
     "metadata": {
      "needs_background": "light"
     },
     "output_type": "display_data"
    }
   ],
   "source": [
    "X[\"age\"].plot(kind=\"hist\")"
   ]
  },
  {
   "cell_type": "code",
   "execution_count": 184,
   "id": "48aed18c",
   "metadata": {},
   "outputs": [
    {
     "data": {
      "text/plain": [
       "<AxesSubplot:ylabel='Frequency'>"
      ]
     },
     "execution_count": 184,
     "metadata": {},
     "output_type": "execute_result"
    },
    {
     "data": {
      "image/png": "[encoded data removed]",
      "text/plain": [
       "<Figure size 432x288 with 1 Axes>"
      ]
     },
     "metadata": {
      "needs_background": "light"
     },
     "output_type": "display_data"
    }
   ],
   "source": [
    "X[\"bmi\"].plot(kind=\"hist\")"
   ]
  },
  {
   "cell_type": "code",
   "execution_count": 185,
   "id": "1d09a820",
   "metadata": {},
   "outputs": [
    {
     "data": {
      "text/plain": [
       "0    574\n",
       "1    324\n",
       "2    240\n",
       "3    157\n",
       "4     25\n",
       "5     18\n",
       "Name: children, dtype: int64"
      ]
     },
     "execution_count": 185,
     "metadata": {},
     "output_type": "execute_result"
    }
   ],
   "source": [
    "X[\"children\"].value_counts()"
   ]
  },
  {
   "cell_type": "code",
   "execution_count": 187,
   "id": "03874976",
   "metadata": {},
   "outputs": [
    {
     "data": {
      "text/html": [
       "<div>\n",
       "<style scoped>\n",
       "    .dataframe tbody tr th:only-of-type {\n",
       "        vertical-align: middle;\n",
       "    }\n",
       "\n",
       "    .dataframe tbody tr th {\n",
       "        vertical-align: top;\n",
       "    }\n",
       "\n",
       "    .dataframe thead th {\n",
       "        text-align: right;\n",
       "    }\n",
       "</style>\n",
       "<table border=\"1\" class=\"dataframe\">\n",
       "  <thead>\n",
       "    <tr style=\"text-align: right;\">\n",
       "      <th></th>\n",
       "      <th>age</th>\n",
       "      <th>sex</th>\n",
       "      <th>bmi</th>\n",
       "      <th>children</th>\n",
       "      <th>smoker</th>\n",
       "      <th>region</th>\n",
       "      <th>charges</th>\n",
       "    </tr>\n",
       "  </thead>\n",
       "  <tbody>\n",
       "    <tr>\n",
       "      <th>0</th>\n",
       "      <td>19</td>\n",
       "      <td>female</td>\n",
       "      <td>27.900</td>\n",
       "      <td>0</td>\n",
       "      <td>yes</td>\n",
       "      <td>southwest</td>\n",
       "      <td>16884.92400</td>\n",
       "    </tr>\n",
       "    <tr>\n",
       "      <th>1</th>\n",
       "      <td>18</td>\n",
       "      <td>male</td>\n",
       "      <td>33.770</td>\n",
       "      <td>1</td>\n",
       "      <td>no</td>\n",
       "      <td>southeast</td>\n",
       "      <td>1725.55230</td>\n",
       "    </tr>\n",
       "    <tr>\n",
       "      <th>2</th>\n",
       "      <td>28</td>\n",
       "      <td>male</td>\n",
       "      <td>33.000</td>\n",
       "      <td>3</td>\n",
       "      <td>no</td>\n",
       "      <td>southeast</td>\n",
       "      <td>4449.46200</td>\n",
       "    </tr>\n",
       "    <tr>\n",
       "      <th>3</th>\n",
       "      <td>33</td>\n",
       "      <td>male</td>\n",
       "      <td>22.705</td>\n",
       "      <td>0</td>\n",
       "      <td>no</td>\n",
       "      <td>northwest</td>\n",
       "      <td>21984.47061</td>\n",
       "    </tr>\n",
       "    <tr>\n",
       "      <th>4</th>\n",
       "      <td>32</td>\n",
       "      <td>male</td>\n",
       "      <td>28.880</td>\n",
       "      <td>0</td>\n",
       "      <td>no</td>\n",
       "      <td>northwest</td>\n",
       "      <td>3866.85520</td>\n",
       "    </tr>\n",
       "    <tr>\n",
       "      <th>...</th>\n",
       "      <td>...</td>\n",
       "      <td>...</td>\n",
       "      <td>...</td>\n",
       "      <td>...</td>\n",
       "      <td>...</td>\n",
       "      <td>...</td>\n",
       "      <td>...</td>\n",
       "    </tr>\n",
       "    <tr>\n",
       "      <th>1333</th>\n",
       "      <td>50</td>\n",
       "      <td>male</td>\n",
       "      <td>30.970</td>\n",
       "      <td>3</td>\n",
       "      <td>no</td>\n",
       "      <td>northwest</td>\n",
       "      <td>10600.54830</td>\n",
       "    </tr>\n",
       "    <tr>\n",
       "      <th>1334</th>\n",
       "      <td>18</td>\n",
       "      <td>female</td>\n",
       "      <td>31.920</td>\n",
       "      <td>0</td>\n",
       "      <td>no</td>\n",
       "      <td>northeast</td>\n",
       "      <td>2205.98080</td>\n",
       "    </tr>\n",
       "    <tr>\n",
       "      <th>1335</th>\n",
       "      <td>18</td>\n",
       "      <td>female</td>\n",
       "      <td>36.850</td>\n",
       "      <td>0</td>\n",
       "      <td>no</td>\n",
       "      <td>southeast</td>\n",
       "      <td>1629.83350</td>\n",
       "    </tr>\n",
       "    <tr>\n",
       "      <th>1336</th>\n",
       "      <td>21</td>\n",
       "      <td>female</td>\n",
       "      <td>25.800</td>\n",
       "      <td>0</td>\n",
       "      <td>no</td>\n",
       "      <td>southwest</td>\n",
       "      <td>2007.94500</td>\n",
       "    </tr>\n",
       "    <tr>\n",
       "      <th>1337</th>\n",
       "      <td>61</td>\n",
       "      <td>female</td>\n",
       "      <td>29.070</td>\n",
       "      <td>0</td>\n",
       "      <td>yes</td>\n",
       "      <td>northwest</td>\n",
       "      <td>29141.36030</td>\n",
       "    </tr>\n",
       "  </tbody>\n",
       "</table>\n",
       "<p>1338 rows × 7 columns</p>\n",
       "</div>"
      ],
      "text/plain": [
       "      age     sex     bmi  children smoker     region      charges\n",
       "0      19  female  27.900         0    yes  southwest  16884.92400\n",
       "1      18    male  33.770         1     no  southeast   1725.55230\n",
       "2      28    male  33.000         3     no  southeast   4449.46200\n",
       "3      33    male  22.705         0     no  northwest  21984.47061\n",
       "4      32    male  28.880         0     no  northwest   3866.85520\n",
       "...   ...     ...     ...       ...    ...        ...          ...\n",
       "1333   50    male  30.970         3     no  northwest  10600.54830\n",
       "1334   18  female  31.920         0     no  northeast   2205.98080\n",
       "1335   18  female  36.850         0     no  southeast   1629.83350\n",
       "1336   21  female  25.800         0     no  southwest   2007.94500\n",
       "1337   61  female  29.070         0    yes  northwest  29141.36030\n",
       "\n",
       "[1338 rows x 7 columns]"
      ]
     },
     "execution_count": 187,
     "metadata": {},
     "output_type": "execute_result"
    }
   ],
   "source": [
    "insurance = pd.read_csv(\"https://raw.githubusercontent.com/stedy/Machine-Learning-with-R-datasets/master/insurance.csv\")\n",
    "insurance"
   ]
  },
  {
   "cell_type": "code",
   "execution_count": 189,
   "id": "d9608c77",
   "metadata": {},
   "outputs": [],
   "source": [
    "from sklearn.compose import make_column_transformer\n",
    "from sklearn.preprocessing import MinMaxScaler, OneHotEncoder\n",
    "from sklearn.model_selection import train_test_split"
   ]
  },
  {
   "cell_type": "code",
   "execution_count": 194,
   "id": "0b71bef3",
   "metadata": {},
   "outputs": [],
   "source": [
    "# Create a column transformer\n",
    "\n",
    "ct = make_column_transformer(\n",
    "    (MinMaxScaler(),[\"age\",\"bmi\",\"children\"]), # turn all values between 0 to 1\n",
    "    (OneHotEncoder(handle_unknown = \"ignore\"),[\"sex\",\"smoker\",\"region\"])\n",
    ")\n",
    "\n",
    "# Create X & y\n",
    "\n",
    "X = insurance.drop(\"charges\",axis=1)\n",
    "\n",
    "y = insurance[\"charges\"]\n",
    "\n",
    "# Split training test data\n",
    "\n",
    "X_train, X_test, y_train, y_test = train_test_split(X,y,test_size =0.2,random_state =42)\n",
    "\n",
    "# Fit the column transformer to our training data\n",
    "\n",
    "ct.fit(X_train)\n",
    "\n",
    "# Transform training and test data with normalization MinMaxScaler and OneHotEncoder\n",
    "\n",
    "X_train_normal = ct.transform(X_train)\n",
    "X_test_normal = ct.transform(X_test)"
   ]
  },
  {
   "cell_type": "code",
   "execution_count": 195,
   "id": "21957fdb",
   "metadata": {},
   "outputs": [
    {
     "data": {
      "text/plain": [
       "age                19\n",
       "sex            female\n",
       "bmi              27.9\n",
       "children            0\n",
       "smoker            yes\n",
       "region      southwest\n",
       "Name: 0, dtype: object"
      ]
     },
     "execution_count": 195,
     "metadata": {},
     "output_type": "execute_result"
    }
   ],
   "source": [
    "# What does our data look like\n",
    "X_train.loc[0]"
   ]
  },
  {
   "cell_type": "code",
   "execution_count": 196,
   "id": "31a84bc0",
   "metadata": {},
   "outputs": [
    {
     "data": {
      "text/plain": [
       "array([0.60869565, 0.10734463, 0.4       , 1.        , 0.        ,\n",
       "       1.        , 0.        , 0.        , 1.        , 0.        ,\n",
       "       0.        ])"
      ]
     },
     "execution_count": 196,
     "metadata": {},
     "output_type": "execute_result"
    }
   ],
   "source": [
    "X_train_normal[0]"
   ]
  },
  {
   "cell_type": "code",
   "execution_count": 197,
   "id": "5a2a34c0",
   "metadata": {},
   "outputs": [
    {
     "data": {
      "text/plain": [
       "((1070, 6), (1070, 11))"
      ]
     },
     "execution_count": 197,
     "metadata": {},
     "output_type": "execute_result"
    }
   ],
   "source": [
    "X_train.shape, X_train_normal.shape"
   ]
  },
  {
   "cell_type": "markdown",
   "id": "b783c319",
   "metadata": {},
   "source": [
    "Beautiful! Data has been normalized  and one hot encoded"
   ]
  },
  {
   "cell_type": "code",
   "execution_count": 200,
   "id": "6890e65d",
   "metadata": {},
   "outputs": [
    {
     "name": "stdout",
     "output_type": "stream",
     "text": [
      "Epoch 1/200\n",
      "34/34 [==============================] - 0s 758us/step - loss: 13342.6494 - mae: 13342.6494\n",
      "Epoch 2/200\n",
      "34/34 [==============================] - 0s 727us/step - loss: 13333.4785 - mae: 13333.4785\n",
      "Epoch 3/200\n",
      "34/34 [==============================] - 0s 697us/step - loss: 13312.0234 - mae: 13312.0234\n",
      "Epoch 4/200\n",
      "34/34 [==============================] - 0s 667us/step - loss: 13267.7930 - mae: 13267.7930\n",
      "Epoch 5/200\n",
      "34/34 [==============================] - 0s 743us/step - loss: 13189.5830 - mae: 13189.5830\n",
      "Epoch 6/200\n",
      "34/34 [==============================] - 0s 788us/step - loss: 13066.4502 - mae: 13066.4502\n",
      "Epoch 7/200\n",
      "34/34 [==============================] - 0s 727us/step - loss: 12888.1953 - mae: 12888.1953\n",
      "Epoch 8/200\n",
      "34/34 [==============================] - 0s 727us/step - loss: 12644.6523 - mae: 12644.6523\n",
      "Epoch 9/200\n",
      "34/34 [==============================] - ETA: 0s - loss: 14551.0498 - mae: 14551.049 - 0s 697us/step - loss: 12325.5469 - mae: 12325.5469\n",
      "Epoch 10/200\n",
      "34/34 [==============================] - 0s 727us/step - loss: 11925.9658 - mae: 11925.9658\n",
      "Epoch 11/200\n",
      "34/34 [==============================] - 0s 727us/step - loss: 11454.3350 - mae: 11454.3350\n",
      "Epoch 12/200\n",
      "34/34 [==============================] - 0s 706us/step - loss: 10949.8076 - mae: 10949.8076\n",
      "Epoch 13/200\n",
      "34/34 [==============================] - 0s 758us/step - loss: 10448.9404 - mae: 10448.9404\n",
      "Epoch 14/200\n",
      "34/34 [==============================] - 0s 758us/step - loss: 9951.6250 - mae: 9951.6250\n",
      "Epoch 15/200\n",
      "34/34 [==============================] - 0s 697us/step - loss: 9482.7422 - mae: 9482.7422\n",
      "Epoch 16/200\n",
      "34/34 [==============================] - 0s 775us/step - loss: 9066.7461 - mae: 9066.7461\n",
      "Epoch 17/200\n",
      "34/34 [==============================] - 0s 697us/step - loss: 8721.9854 - mae: 8721.9854\n",
      "Epoch 18/200\n",
      "34/34 [==============================] - 0s 697us/step - loss: 8441.2002 - mae: 8441.2002\n",
      "Epoch 19/200\n",
      "34/34 [==============================] - 0s 727us/step - loss: 8227.5117 - mae: 8227.5117\n",
      "Epoch 20/200\n",
      "34/34 [==============================] - 0s 697us/step - loss: 8081.9775 - mae: 8081.9775\n",
      "Epoch 21/200\n",
      "34/34 [==============================] - 0s 758us/step - loss: 7973.8945 - mae: 7973.8945\n",
      "Epoch 22/200\n",
      "34/34 [==============================] - 0s 697us/step - loss: 7899.1597 - mae: 7899.1597\n",
      "Epoch 23/200\n",
      "34/34 [==============================] - 0s 667us/step - loss: 7840.3906 - mae: 7840.3906\n",
      "Epoch 24/200\n",
      "34/34 [==============================] - 0s 697us/step - loss: 7787.9619 - mae: 7787.9619\n",
      "Epoch 25/200\n",
      "34/34 [==============================] - 0s 727us/step - loss: 7749.2622 - mae: 7749.2622\n",
      "Epoch 26/200\n",
      "34/34 [==============================] - 0s 667us/step - loss: 7697.9595 - mae: 7697.9595\n",
      "Epoch 27/200\n",
      "34/34 [==============================] - 0s 697us/step - loss: 7656.0269 - mae: 7656.0269\n",
      "Epoch 28/200\n",
      "34/34 [==============================] - 0s 727us/step - loss: 7613.4780 - mae: 7613.4780\n",
      "Epoch 29/200\n",
      "34/34 [==============================] - 0s 727us/step - loss: 7570.9482 - mae: 7570.9482\n",
      "Epoch 30/200\n",
      "34/34 [==============================] - 0s 758us/step - loss: 7527.4175 - mae: 7527.4175\n",
      "Epoch 31/200\n",
      "34/34 [==============================] - 0s 697us/step - loss: 7483.5947 - mae: 7483.5947\n",
      "Epoch 32/200\n",
      "34/34 [==============================] - 0s 637us/step - loss: 7439.4424 - mae: 7439.4424\n",
      "Epoch 33/200\n",
      "34/34 [==============================] - 0s 758us/step - loss: 7395.0552 - mae: 7395.0552\n",
      "Epoch 34/200\n",
      "34/34 [==============================] - 0s 727us/step - loss: 7346.8125 - mae: 7346.8125\n",
      "Epoch 35/200\n",
      "34/34 [==============================] - 0s 788us/step - loss: 7300.0488 - mae: 7300.0488\n",
      "Epoch 36/200\n",
      "34/34 [==============================] - 0s 667us/step - loss: 7249.8452 - mae: 7249.8452\n",
      "Epoch 37/200\n",
      "34/34 [==============================] - 0s 697us/step - loss: 7199.5303 - mae: 7199.5303\n",
      "Epoch 38/200\n",
      "34/34 [==============================] - 0s 727us/step - loss: 7148.4814 - mae: 7148.4814\n",
      "Epoch 39/200\n",
      "34/34 [==============================] - 0s 667us/step - loss: 7093.6660 - mae: 7093.6660\n",
      "Epoch 40/200\n",
      "34/34 [==============================] - 0s 697us/step - loss: 7038.1797 - mae: 7038.1797\n",
      "Epoch 41/200\n",
      "34/34 [==============================] - 0s 758us/step - loss: 6981.7393 - mae: 6981.7393\n",
      "Epoch 42/200\n",
      "34/34 [==============================] - 0s 697us/step - loss: 6922.7847 - mae: 6922.7847\n",
      "Epoch 43/200\n",
      "34/34 [==============================] - 0s 727us/step - loss: 6860.1729 - mae: 6860.1729\n",
      "Epoch 44/200\n",
      "34/34 [==============================] - 0s 697us/step - loss: 6793.7979 - mae: 6793.7979\n",
      "Epoch 45/200\n",
      "34/34 [==============================] - 0s 697us/step - loss: 6726.6201 - mae: 6726.6201\n",
      "Epoch 46/200\n",
      "34/34 [==============================] - 0s 697us/step - loss: 6657.4683 - mae: 6657.4683\n",
      "Epoch 47/200\n",
      "34/34 [==============================] - 0s 697us/step - loss: 6586.3086 - mae: 6586.3086\n",
      "Epoch 48/200\n",
      "34/34 [==============================] - 0s 758us/step - loss: 6507.5063 - mae: 6507.5063\n",
      "Epoch 49/200\n",
      "34/34 [==============================] - 0s 758us/step - loss: 6428.6025 - mae: 6428.6025\n",
      "Epoch 50/200\n",
      "34/34 [==============================] - 0s 818us/step - loss: 6342.7100 - mae: 6342.7100\n",
      "Epoch 51/200\n",
      "34/34 [==============================] - 0s 727us/step - loss: 6258.0718 - mae: 6258.0718\n",
      "Epoch 52/200\n",
      "34/34 [==============================] - 0s 818us/step - loss: 6164.7046 - mae: 6164.7046\n",
      "Epoch 53/200\n",
      "34/34 [==============================] - 0s 879us/step - loss: 6068.6758 - mae: 6068.6758\n",
      "Epoch 54/200\n",
      "34/34 [==============================] - 0s 879us/step - loss: 5970.0981 - mae: 5970.0981\n",
      "Epoch 55/200\n",
      "34/34 [==============================] - 0s 849us/step - loss: 5862.5625 - mae: 5862.5625\n",
      "Epoch 56/200\n",
      "34/34 [==============================] - 0s 849us/step - loss: 5753.9526 - mae: 5753.9526\n",
      "Epoch 57/200\n",
      "34/34 [==============================] - 0s 909us/step - loss: 5638.0947 - mae: 5638.0947\n",
      "Epoch 58/200\n",
      "34/34 [==============================] - 0s 879us/step - loss: 5519.8691 - mae: 5519.8691\n",
      "Epoch 59/200\n",
      "34/34 [==============================] - 0s 727us/step - loss: 5401.3198 - mae: 5401.3198\n",
      "Epoch 60/200\n",
      "34/34 [==============================] - 0s 727us/step - loss: 5277.3501 - mae: 5277.3501\n",
      "Epoch 61/200\n",
      "34/34 [==============================] - 0s 879us/step - loss: 5149.7642 - mae: 5149.7642\n",
      "Epoch 62/200\n",
      "34/34 [==============================] - 0s 909us/step - loss: 5019.3535 - mae: 5019.3535\n",
      "Epoch 63/200\n",
      "34/34 [==============================] - 0s 909us/step - loss: 4889.6865 - mae: 4889.6865\n",
      "Epoch 64/200\n",
      "34/34 [==============================] - 0s 879us/step - loss: 4756.8560 - mae: 4756.8560\n",
      "Epoch 65/200\n",
      "34/34 [==============================] - 0s 788us/step - loss: 4629.4370 - mae: 4629.4370\n",
      "Epoch 66/200\n",
      "34/34 [==============================] - 0s 788us/step - loss: 4503.5991 - mae: 4503.5991\n",
      "Epoch 67/200\n",
      "34/34 [==============================] - 0s 818us/step - loss: 4392.9922 - mae: 4392.9922\n",
      "Epoch 68/200\n",
      "34/34 [==============================] - 0s 788us/step - loss: 4284.3862 - mae: 4284.3862\n",
      "Epoch 69/200\n",
      "34/34 [==============================] - 0s 727us/step - loss: 4182.6182 - mae: 4182.6182\n",
      "Epoch 70/200\n",
      "34/34 [==============================] - 0s 727us/step - loss: 4089.5725 - mae: 4089.5725\n",
      "Epoch 71/200\n",
      "34/34 [==============================] - 0s 758us/step - loss: 4003.3901 - mae: 4003.3901\n",
      "Epoch 72/200\n",
      "34/34 [==============================] - 0s 727us/step - loss: 3929.0093 - mae: 3929.0093\n",
      "Epoch 73/200\n",
      "34/34 [==============================] - 0s 788us/step - loss: 3866.3110 - mae: 3866.3110\n",
      "Epoch 74/200\n",
      "34/34 [==============================] - 0s 788us/step - loss: 3813.7144 - mae: 3813.7144\n",
      "Epoch 75/200\n",
      "34/34 [==============================] - 0s 849us/step - loss: 3773.0317 - mae: 3773.0317\n",
      "Epoch 76/200\n",
      "34/34 [==============================] - 0s 727us/step - loss: 3744.1997 - mae: 3744.1997\n",
      "Epoch 77/200\n",
      "34/34 [==============================] - 0s 697us/step - loss: 3719.6870 - mae: 3719.6870\n",
      "Epoch 78/200\n",
      "34/34 [==============================] - 0s 727us/step - loss: 3702.9109 - mae: 3702.9109\n",
      "Epoch 79/200\n"
     ]
    },
    {
     "name": "stdout",
     "output_type": "stream",
     "text": [
      "34/34 [==============================] - 0s 727us/step - loss: 3691.8792 - mae: 3691.8792\n",
      "Epoch 80/200\n",
      "34/34 [==============================] - 0s 758us/step - loss: 3682.8350 - mae: 3682.8350\n",
      "Epoch 81/200\n",
      "34/34 [==============================] - 0s 667us/step - loss: 3676.9763 - mae: 3676.9763\n",
      "Epoch 82/200\n",
      "34/34 [==============================] - 0s 727us/step - loss: 3673.9495 - mae: 3673.9495\n",
      "Epoch 83/200\n",
      "34/34 [==============================] - 0s 758us/step - loss: 3667.8452 - mae: 3667.8452\n",
      "Epoch 84/200\n",
      "34/34 [==============================] - 0s 667us/step - loss: 3664.5759 - mae: 3664.5759\n",
      "Epoch 85/200\n",
      "34/34 [==============================] - 0s 758us/step - loss: 3661.8562 - mae: 3661.8562\n",
      "Epoch 86/200\n",
      "34/34 [==============================] - 0s 697us/step - loss: 3660.3049 - mae: 3660.3049\n",
      "Epoch 87/200\n",
      "34/34 [==============================] - 0s 727us/step - loss: 3657.5134 - mae: 3657.5134\n",
      "Epoch 88/200\n",
      "34/34 [==============================] - 0s 727us/step - loss: 3655.2200 - mae: 3655.2200\n",
      "Epoch 89/200\n",
      "34/34 [==============================] - 0s 697us/step - loss: 3653.8831 - mae: 3653.8831\n",
      "Epoch 90/200\n",
      "34/34 [==============================] - 0s 758us/step - loss: 3652.0200 - mae: 3652.0200\n",
      "Epoch 91/200\n",
      "34/34 [==============================] - 0s 636us/step - loss: 3648.9990 - mae: 3648.9990\n",
      "Epoch 92/200\n",
      "34/34 [==============================] - 0s 758us/step - loss: 3648.4463 - mae: 3648.4463\n",
      "Epoch 93/200\n",
      "34/34 [==============================] - 0s 697us/step - loss: 3646.2300 - mae: 3646.2300\n",
      "Epoch 94/200\n",
      "34/34 [==============================] - 0s 667us/step - loss: 3644.4375 - mae: 3644.4375\n",
      "Epoch 95/200\n",
      "34/34 [==============================] - 0s 788us/step - loss: 3645.8777 - mae: 3645.8777\n",
      "Epoch 96/200\n",
      "34/34 [==============================] - 0s 788us/step - loss: 3642.2576 - mae: 3642.2576\n",
      "Epoch 97/200\n",
      "34/34 [==============================] - 0s 758us/step - loss: 3640.1187 - mae: 3640.1187\n",
      "Epoch 98/200\n",
      "34/34 [==============================] - 0s 818us/step - loss: 3638.0652 - mae: 3638.0652\n",
      "Epoch 99/200\n",
      "34/34 [==============================] - 0s 788us/step - loss: 3637.2056 - mae: 3637.2056\n",
      "Epoch 100/200\n",
      "34/34 [==============================] - 0s 697us/step - loss: 3636.1709 - mae: 3636.1709\n",
      "Epoch 101/200\n",
      "34/34 [==============================] - 0s 727us/step - loss: 3633.0803 - mae: 3633.0803\n",
      "Epoch 102/200\n",
      "34/34 [==============================] - 0s 788us/step - loss: 3630.6155 - mae: 3630.6155\n",
      "Epoch 103/200\n",
      "34/34 [==============================] - 0s 727us/step - loss: 3629.4304 - mae: 3629.4304\n",
      "Epoch 104/200\n",
      "34/34 [==============================] - 0s 758us/step - loss: 3627.0291 - mae: 3627.0291\n",
      "Epoch 105/200\n",
      "34/34 [==============================] - 0s 788us/step - loss: 3625.3789 - mae: 3625.3789\n",
      "Epoch 106/200\n",
      "34/34 [==============================] - 0s 788us/step - loss: 3624.1892 - mae: 3624.1892\n",
      "Epoch 107/200\n",
      "34/34 [==============================] - 0s 727us/step - loss: 3623.4673 - mae: 3623.4673\n",
      "Epoch 108/200\n",
      "34/34 [==============================] - 0s 758us/step - loss: 3621.1238 - mae: 3621.1238\n",
      "Epoch 109/200\n",
      "34/34 [==============================] - ETA: 0s - loss: 5745.8379 - mae: 5745.837 - 0s 727us/step - loss: 3621.1899 - mae: 3621.1899\n",
      "Epoch 110/200\n",
      "34/34 [==============================] - 0s 727us/step - loss: 3618.2805 - mae: 3618.2805\n",
      "Epoch 111/200\n",
      "34/34 [==============================] - 0s 727us/step - loss: 3615.2793 - mae: 3615.2793\n",
      "Epoch 112/200\n",
      "34/34 [==============================] - 0s 667us/step - loss: 3613.2454 - mae: 3613.2454\n",
      "Epoch 113/200\n",
      "34/34 [==============================] - 0s 758us/step - loss: 3611.9092 - mae: 3611.9092\n",
      "Epoch 114/200\n",
      "34/34 [==============================] - 0s 818us/step - loss: 3610.8164 - mae: 3610.8164\n",
      "Epoch 115/200\n",
      "34/34 [==============================] - 0s 788us/step - loss: 3609.1033 - mae: 3609.1033\n",
      "Epoch 116/200\n",
      "34/34 [==============================] - 0s 849us/step - loss: 3607.6521 - mae: 3607.6521\n",
      "Epoch 117/200\n",
      "34/34 [==============================] - 0s 849us/step - loss: 3604.7561 - mae: 3604.7561\n",
      "Epoch 118/200\n",
      "34/34 [==============================] - 0s 849us/step - loss: 3600.8135 - mae: 3600.8135\n",
      "Epoch 119/200\n",
      "34/34 [==============================] - 0s 879us/step - loss: 3602.6384 - mae: 3602.6384\n",
      "Epoch 120/200\n",
      "34/34 [==============================] - 0s 909us/step - loss: 3600.3203 - mae: 3600.3203\n",
      "Epoch 121/200\n",
      "34/34 [==============================] - 0s 849us/step - loss: 3595.2522 - mae: 3595.2522\n",
      "Epoch 122/200\n",
      "34/34 [==============================] - 0s 879us/step - loss: 3594.6335 - mae: 3594.6335\n",
      "Epoch 123/200\n",
      "34/34 [==============================] - 0s 727us/step - loss: 3592.6138 - mae: 3592.6138\n",
      "Epoch 124/200\n",
      "34/34 [==============================] - 0s 788us/step - loss: 3590.3997 - mae: 3590.3997\n",
      "Epoch 125/200\n",
      "34/34 [==============================] - 0s 849us/step - loss: 3588.4041 - mae: 3588.4041\n",
      "Epoch 126/200\n",
      "34/34 [==============================] - 0s 758us/step - loss: 3587.5061 - mae: 3587.5061\n",
      "Epoch 127/200\n",
      "34/34 [==============================] - 0s 818us/step - loss: 3588.0410 - mae: 3588.0410\n",
      "Epoch 128/200\n",
      "34/34 [==============================] - 0s 758us/step - loss: 3584.1001 - mae: 3584.1001\n",
      "Epoch 129/200\n",
      "34/34 [==============================] - 0s 849us/step - loss: 3582.7319 - mae: 3582.7319\n",
      "Epoch 130/200\n",
      "34/34 [==============================] - 0s 825us/step - loss: 3579.1138 - mae: 3579.1138\n",
      "Epoch 131/200\n",
      "34/34 [==============================] - 0s 667us/step - loss: 3577.7139 - mae: 3577.7139\n",
      "Epoch 132/200\n",
      "34/34 [==============================] - 0s 697us/step - loss: 3574.9954 - mae: 3574.9954\n",
      "Epoch 133/200\n",
      "34/34 [==============================] - 0s 697us/step - loss: 3573.2952 - mae: 3573.2952\n",
      "Epoch 134/200\n",
      "34/34 [==============================] - 0s 667us/step - loss: 3571.3865 - mae: 3571.3865\n",
      "Epoch 135/200\n",
      "34/34 [==============================] - 0s 727us/step - loss: 3569.3606 - mae: 3569.3606\n",
      "Epoch 136/200\n",
      "34/34 [==============================] - 0s 697us/step - loss: 3568.0547 - mae: 3568.0547\n",
      "Epoch 137/200\n",
      "34/34 [==============================] - 0s 788us/step - loss: 3566.1060 - mae: 3566.1060\n",
      "Epoch 138/200\n",
      "34/34 [==============================] - 0s 727us/step - loss: 3563.9614 - mae: 3563.9614\n",
      "Epoch 139/200\n",
      "34/34 [==============================] - 0s 637us/step - loss: 3563.3354 - mae: 3563.3354\n",
      "Epoch 140/200\n",
      "34/34 [==============================] - 0s 758us/step - loss: 3561.2305 - mae: 3561.2305\n",
      "Epoch 141/200\n",
      "34/34 [==============================] - 0s 667us/step - loss: 3561.1245 - mae: 3561.1245\n",
      "Epoch 142/200\n",
      "34/34 [==============================] - 0s 727us/step - loss: 3558.0391 - mae: 3558.0391\n",
      "Epoch 143/200\n",
      "34/34 [==============================] - 0s 727us/step - loss: 3558.0337 - mae: 3558.0337\n",
      "Epoch 144/200\n",
      "34/34 [==============================] - 0s 788us/step - loss: 3555.1953 - mae: 3555.1953\n",
      "Epoch 145/200\n",
      "34/34 [==============================] - 0s 820us/step - loss: 3553.2444 - mae: 3553.2444\n",
      "Epoch 146/200\n",
      "34/34 [==============================] - 0s 940us/step - loss: 3553.4756 - mae: 3553.4756\n",
      "Epoch 147/200\n",
      "34/34 [==============================] - 0s 909us/step - loss: 3551.0720 - mae: 3551.0720\n",
      "Epoch 148/200\n",
      "34/34 [==============================] - 0s 879us/step - loss: 3549.7551 - mae: 3549.7551\n",
      "Epoch 149/200\n",
      "34/34 [==============================] - 0s 849us/step - loss: 3547.0063 - mae: 3547.0063\n",
      "Epoch 150/200\n",
      "34/34 [==============================] - 0s 818us/step - loss: 3546.9910 - mae: 3546.9910\n",
      "Epoch 151/200\n",
      "34/34 [==============================] - 0s 879us/step - loss: 3545.1938 - mae: 3545.1938\n",
      "Epoch 152/200\n",
      "34/34 [==============================] - 0s 788us/step - loss: 3543.3826 - mae: 3543.3826\n",
      "Epoch 153/200\n",
      "34/34 [==============================] - 0s 849us/step - loss: 3541.9121 - mae: 3541.9121\n",
      "Epoch 154/200\n",
      "34/34 [==============================] - 0s 727us/step - loss: 3543.1580 - mae: 3543.1580\n",
      "Epoch 155/200\n",
      "34/34 [==============================] - 0s 970us/step - loss: 3540.6167 - mae: 3540.6167\n",
      "Epoch 156/200\n",
      "34/34 [==============================] - 0s 849us/step - loss: 3538.9236 - mae: 3538.9236\n",
      "Epoch 157/200\n"
     ]
    },
    {
     "name": "stdout",
     "output_type": "stream",
     "text": [
      "34/34 [==============================] - 0s 849us/step - loss: 3537.4109 - mae: 3537.4109\n",
      "Epoch 158/200\n",
      "34/34 [==============================] - 0s 879us/step - loss: 3534.4919 - mae: 3534.4919\n",
      "Epoch 159/200\n",
      "34/34 [==============================] - 0s 879us/step - loss: 3532.9487 - mae: 3532.9487\n",
      "Epoch 160/200\n",
      "34/34 [==============================] - 0s 818us/step - loss: 3532.6985 - mae: 3532.6985\n",
      "Epoch 161/200\n",
      "34/34 [==============================] - 0s 879us/step - loss: 3529.6245 - mae: 3529.6245\n",
      "Epoch 162/200\n",
      "34/34 [==============================] - 0s 788us/step - loss: 3529.0967 - mae: 3529.0967\n",
      "Epoch 163/200\n",
      "34/34 [==============================] - 0s 758us/step - loss: 3527.5430 - mae: 3527.5430\n",
      "Epoch 164/200\n",
      "34/34 [==============================] - 0s 1ms/step - loss: 3526.2844 - mae: 3526.2844\n",
      "Epoch 165/200\n",
      "34/34 [==============================] - 0s 970us/step - loss: 3524.1592 - mae: 3524.1592\n",
      "Epoch 166/200\n",
      "34/34 [==============================] - 0s 970us/step - loss: 3522.7073 - mae: 3522.7073\n",
      "Epoch 167/200\n",
      "34/34 [==============================] - 0s 940us/step - loss: 3521.8071 - mae: 3521.8071\n",
      "Epoch 168/200\n",
      "34/34 [==============================] - 0s 909us/step - loss: 3520.5659 - mae: 3520.5659\n",
      "Epoch 169/200\n",
      "34/34 [==============================] - 0s 788us/step - loss: 3519.4631 - mae: 3519.4631\n",
      "Epoch 170/200\n",
      "34/34 [==============================] - 0s 818us/step - loss: 3518.0566 - mae: 3518.0566\n",
      "Epoch 171/200\n",
      "34/34 [==============================] - 0s 818us/step - loss: 3517.6174 - mae: 3517.6174\n",
      "Epoch 172/200\n",
      "34/34 [==============================] - 0s 758us/step - loss: 3516.0525 - mae: 3516.0525\n",
      "Epoch 173/200\n",
      "34/34 [==============================] - 0s 728us/step - loss: 3514.9304 - mae: 3514.9304\n",
      "Epoch 174/200\n",
      "34/34 [==============================] - 0s 788us/step - loss: 3513.6685 - mae: 3513.6685\n",
      "Epoch 175/200\n",
      "34/34 [==============================] - 0s 697us/step - loss: 3512.3582 - mae: 3512.3582\n",
      "Epoch 176/200\n",
      "34/34 [==============================] - 0s 727us/step - loss: 3512.1816 - mae: 3512.1816\n",
      "Epoch 177/200\n",
      "34/34 [==============================] - 0s 788us/step - loss: 3512.5046 - mae: 3512.5046\n",
      "Epoch 178/200\n",
      "34/34 [==============================] - 0s 697us/step - loss: 3510.2725 - mae: 3510.2725\n",
      "Epoch 179/200\n",
      "34/34 [==============================] - 0s 758us/step - loss: 3512.1846 - mae: 3512.1846\n",
      "Epoch 180/200\n",
      "34/34 [==============================] - 0s 796us/step - loss: 3507.1213 - mae: 3507.1213\n",
      "Epoch 181/200\n",
      "34/34 [==============================] - 0s 697us/step - loss: 3505.0271 - mae: 3505.0271\n",
      "Epoch 182/200\n",
      "34/34 [==============================] - 0s 818us/step - loss: 3504.4314 - mae: 3504.4314\n",
      "Epoch 183/200\n",
      "34/34 [==============================] - 0s 814us/step - loss: 3502.5486 - mae: 3502.5486\n",
      "Epoch 184/200\n",
      "34/34 [==============================] - 0s 849us/step - loss: 3501.8337 - mae: 3501.8337\n",
      "Epoch 185/200\n",
      "34/34 [==============================] - 0s 788us/step - loss: 3501.4792 - mae: 3501.4792\n",
      "Epoch 186/200\n",
      "34/34 [==============================] - 0s 788us/step - loss: 3498.9011 - mae: 3498.9011\n",
      "Epoch 187/200\n",
      "34/34 [==============================] - 0s 849us/step - loss: 3499.2842 - mae: 3499.2842\n",
      "Epoch 188/200\n",
      "34/34 [==============================] - 0s 788us/step - loss: 3496.6895 - mae: 3496.6895\n",
      "Epoch 189/200\n",
      "34/34 [==============================] - 0s 758us/step - loss: 3495.1074 - mae: 3495.1074\n",
      "Epoch 190/200\n",
      "34/34 [==============================] - 0s 663us/step - loss: 3496.6016 - mae: 3496.6016\n",
      "Epoch 191/200\n",
      "34/34 [==============================] - 0s 788us/step - loss: 3502.1326 - mae: 3502.1326\n",
      "Epoch 192/200\n",
      "34/34 [==============================] - 0s 879us/step - loss: 3491.8506 - mae: 3491.8506\n",
      "Epoch 193/200\n",
      "34/34 [==============================] - 0s 697us/step - loss: 3491.6604 - mae: 3491.6604\n",
      "Epoch 194/200\n",
      "34/34 [==============================] - 0s 818us/step - loss: 3488.8264 - mae: 3488.8264\n",
      "Epoch 195/200\n",
      "34/34 [==============================] - 0s 818us/step - loss: 3488.7261 - mae: 3488.7261\n",
      "Epoch 196/200\n",
      "34/34 [==============================] - 0s 758us/step - loss: 3489.5098 - mae: 3489.5098\n",
      "Epoch 197/200\n",
      "34/34 [==============================] - 0s 758us/step - loss: 3485.7686 - mae: 3485.7686\n",
      "Epoch 198/200\n",
      "34/34 [==============================] - 0s 727us/step - loss: 3484.7119 - mae: 3484.7119\n",
      "Epoch 199/200\n",
      "34/34 [==============================] - 0s 697us/step - loss: 3483.4468 - mae: 3483.4468\n",
      "Epoch 200/200\n",
      "34/34 [==============================] - 0s 697us/step - loss: 3484.3950 - mae: 3484.3950\n"
     ]
    },
    {
     "data": {
      "text/plain": [
       "<keras.callbacks.History at 0x1f7e097ed00>"
      ]
     },
     "execution_count": 200,
     "metadata": {},
     "output_type": "execute_result"
    }
   ],
   "source": [
    "# Build a neural network model to fit our data\n",
    "\n",
    "tf.random.set_seed(42)\n",
    "\n",
    "# Create model\n",
    "\n",
    "\n",
    "insurance_model4 = tf.keras.Sequential([\n",
    "    tf.keras.layers.Dense(100),\n",
    "    tf.keras.layers.Dense(10),\n",
    "    tf.keras.layers.Dense(1)\n",
    "])\n",
    "\n",
    "insurance_model4.compile(loss = tf.keras.losses.mae,\n",
    "                        optimizer = tf.keras.optimizers.Adam(),\n",
    "                        metrics = [\"mae\"])\n",
    "\n",
    "insurance_model4.fit(X_train_normal,y_train,epochs = 200)"
   ]
  },
  {
   "cell_type": "code",
   "execution_count": 201,
   "id": "572d681a",
   "metadata": {},
   "outputs": [
    {
     "name": "stdout",
     "output_type": "stream",
     "text": [
      "9/9 [==============================] - 0s 625us/step - loss: 3171.5774 - mae: 3171.5774\n"
     ]
    },
    {
     "data": {
      "text/plain": [
       "[3171.577392578125, 3171.577392578125]"
      ]
     },
     "execution_count": 201,
     "metadata": {},
     "output_type": "execute_result"
    }
   ],
   "source": [
    "# Evaluate our model with normalized data\n",
    "\n",
    "insurance_model4.evaluate(X_test_normal,y_test)"
   ]
  },
  {
   "cell_type": "code",
   "execution_count": null,
   "id": "a3dff96f",
   "metadata": {},
   "outputs": [],
   "source": []
  }
 ],
 "metadata": {
  "kernelspec": {
   "display_name": "Python 3 (ipykernel)",
   "language": "python",
   "name": "python3"
  },
  "language_info": {
   "codemirror_mode": {
    "name": "ipython",
    "version": 3
   },
   "file_extension": ".py",
   "mimetype": "text/x-python",
   "name": "python",
   "nbconvert_exporter": "python",
   "pygments_lexer": "ipython3",
   "version": "3.9.7"
  }
 },
 "nbformat": 4,
 "nbformat_minor": 5
}
